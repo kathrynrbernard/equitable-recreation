{
 "cells": [
  {
   "cell_type": "markdown",
   "metadata": {},
   "source": [
    "# Overview\n",
    "\n",
    "This notebook reads in all necessary datasources for the project and does some preliminary processing (clipping to the AOI, merging data layers)."
   ]
  },
  {
   "cell_type": "markdown",
   "metadata": {
    "heading_collapsed": true
   },
   "source": [
    "# Prerequisites"
   ]
  },
  {
   "cell_type": "markdown",
   "metadata": {
    "hidden": true
   },
   "source": [
    "## Necessary data files\n",
    "\n",
    "| Data | Source | Notes |\n",
    "| :- | -: | :-: |\n",
    "| TIGER roads | https://uw-mad.maps.arcgis.com/home/item.html?id=f42ecc08a3634182b8678514af35fac3 | Primary, secondary, and local\n",
    "| USFS roads | https://data.fs.usda.gov/geodata/edw/datasets.php?xmlKeyword=roads | Downloaded as geodatabase\n",
    "| AOI - San Gabriel Natl Monument | https://uw-mad.maps.arcgis.com/home/item.html?id=8ee200037f6d4f3c9d362878beed7e0e | Exported as CAD files\n",
    "| Visitor centers | https://data-usfs.hub.arcgis.com/datasets/usfs::recreation-opportunities-feature-layer/about/ & https://data-usfs.hub.arcgis.com/datasets/usfs::recreation-sites-feature-layer/about/| NA\n",
    "| Recreation data | https://uw-mad.maps.arcgis.com/home/item.html?id=3ad483aafe5c4e3289bb48dd0d7c2f61 | Trails, paddling, rock climbing\n",
    "| Recreation data | https://data-usfs.hub.arcgis.com/datasets/usfs::recreation-opportunities-feature-layer/about/ | Campsites, picnic areas \n",
    "| Race/ethnicity | https://www.arcgis.com/home/item.html?id=e3a7d2d3e5834b7eb6b1c2943141ced6 | Downloaded only California data\n",
    "| Education | https://data2.nhgis.org/main | Table B15003\n",
    "| Income | https://data2.nhgis.org/main | Table C17002"
   ]
  },
  {
   "cell_type": "markdown",
   "metadata": {
    "hidden": true
   },
   "source": [
    "All files were downloaded and stored in the /data/ folder of the project directory."
   ]
  },
  {
   "cell_type": "markdown",
   "metadata": {
    "heading_collapsed": true
   },
   "source": [
    "# Setup"
   ]
  },
  {
   "cell_type": "code",
   "execution_count": 1,
   "metadata": {
    "hidden": true
   },
   "outputs": [],
   "source": [
    "# Import libraries\n",
    "import arcpy, os"
   ]
  },
  {
   "cell_type": "code",
   "execution_count": 2,
   "metadata": {
    "hidden": true
   },
   "outputs": [],
   "source": [
    "# Set environment settings\n",
    "arcpy.env.overwriteOutput = True"
   ]
  },
  {
   "cell_type": "code",
   "execution_count": 3,
   "metadata": {
    "hidden": true
   },
   "outputs": [],
   "source": [
    "# Create file geodatabase to hold output\n",
    "gdb_path = r\"C:\\Users\\kathr\\Documents\\outdoor-alliance\\san-gabriel\\san-gabriel-analysis\\sg_output.gdb\"\n",
    "if not arcpy.Exists(gdb_path):\n",
    "    arcpy.management.CreateFileGDB(r\"C:\\Users\\kathr\\Documents\\outdoor-alliance\\san-gabriel\\san-gabriel-analysis\", \"sg_output.gdb\")\n",
    "    \n",
    "# Set workspace path\n",
    "arcpy.env.workspace = gdb_path"
   ]
  },
  {
   "cell_type": "markdown",
   "metadata": {
    "heading_collapsed": true
   },
   "source": [
    "# Read in Data"
   ]
  },
  {
   "cell_type": "code",
   "execution_count": 4,
   "metadata": {
    "hidden": true
   },
   "outputs": [],
   "source": [
    "# Set path to folder where all data files are stored\n",
    "data_folder = r\"C:\\Users\\kathr\\Documents\\outdoor-alliance\\san-gabriel\\data\""
   ]
  },
  {
   "cell_type": "markdown",
   "metadata": {
    "hidden": true
   },
   "source": [
    "## Convert data in CAD format to GDB"
   ]
  },
  {
   "cell_type": "code",
   "execution_count": 117,
   "metadata": {
    "hidden": true
   },
   "outputs": [
    {
     "name": "stdout",
     "output_type": "stream",
     "text": [
      "C:\\Users\\kathr\\Documents\\outdoor-alliance\\san-gabriel\\data\\cad-datasets\n"
     ]
    }
   ],
   "source": [
    "# Recreation and AOI data are in CAD format\n",
    "# They have been downloaded from OA ArcOnline portal and converted to CAD files already. CAD files are stored in the /data/ folder\n",
    "\n",
    "# https://pro.arcgis.com/en/pro-app/latest/tool-reference/conversion/cad-to-geodatabase.htm\n",
    "cad_data = os.path.join(data_folder, \"cad-datasets\")"
   ]
  },
  {
   "cell_type": "code",
   "execution_count": 111,
   "metadata": {
    "hidden": true
   },
   "outputs": [],
   "source": [
    "reference_scale = 1000 # default value from geoprocessing tool\n",
    "\n",
    "# For each CAD file in the directory, convert it to a geodatabase format\n",
    "for path, dirs, files in os.walk(cad_data):\n",
    "    for file in files:\n",
    "        if file.endswith(\"dwg\"): # CAD file\n",
    "            input_cad_dataset = os.path.join(cad_data, file)\n",
    "            # Set out_file_name to the name of the file with extension trimmed\n",
    "            out_file_name = os.path.splitext(file)[0]\n",
    "            # Call CADToGeodatabase and store in output gdb\n",
    "            arcpy.conversion.CADToGeodatabase(input_cad_dataset, gdb_path, out_file_name, reference_scale)"
   ]
  },
  {
   "cell_type": "markdown",
   "metadata": {
    "hidden": true
   },
   "source": [
    "## Roads"
   ]
  },
  {
   "cell_type": "markdown",
   "metadata": {
    "hidden": true
   },
   "source": [
    "TIGER road data was manually added to the geodatabase by dragging and dropping the layers from the original ArcGIS Project (downloaded from ArcGIS Online using link in Prerequisites section) to the current project."
   ]
  },
  {
   "cell_type": "markdown",
   "metadata": {
    "heading_collapsed": true
   },
   "source": [
    "# Buffer around AOI"
   ]
  },
  {
   "cell_type": "code",
   "execution_count": 112,
   "metadata": {
    "hidden": true
   },
   "outputs": [],
   "source": [
    "# Create a 90 mile buffer around the AOI\n",
    "# https://pro.arcgis.com/en/pro-app/latest/tool-reference/analysis/buffer.htm\n",
    "\n",
    "sg_expansion = r\"Prop_SG_Monument_Expansion\\Proposed_San_Gabriel_National_Monument_Expansion\"\n",
    "sg_expansion_buffer = \"sg_expansion_buffer_90mi\"\n",
    "buffer_dist = \"90 Miles\"\n",
    "dissolve_option = \"ALL\""
   ]
  },
  {
   "cell_type": "code",
   "execution_count": null,
   "metadata": {
    "hidden": true
   },
   "outputs": [],
   "source": [
    "arcpy.analysis.Buffer(in_features = sg_expansion,\n",
    "                      out_feature_class = sg_expansion_buffer,\n",
    "                      buffer_distance_or_field = buffer_dist,\n",
    "                      dissolve_option = dissolve_option)"
   ]
  },
  {
   "cell_type": "markdown",
   "metadata": {},
   "source": [
    "# Clip & Process Data Layers"
   ]
  },
  {
   "cell_type": "markdown",
   "metadata": {
    "heading_collapsed": true
   },
   "source": [
    "## Roads"
   ]
  },
  {
   "cell_type": "markdown",
   "metadata": {
    "hidden": true
   },
   "source": [
    "TIGER roads are manually clipped due to the drag/drop way of importing. Each layer (primary, secondary, and local) was clipped to the 90 mile buffer around the AOI."
   ]
  },
  {
   "cell_type": "code",
   "execution_count": 5,
   "metadata": {
    "hidden": true,
    "scrolled": true
   },
   "outputs": [],
   "source": [
    "# Clip USFS Roads to buffer around AOI\n",
    "usfs_roads = os.path.join(data_folder, \"S_USA.RoadCore_FS.gdb\\RoadCore_FS\")\n",
    "usfs_roads_clipped = \"usfs_roads_clipped\""
   ]
  },
  {
   "cell_type": "code",
   "execution_count": 6,
   "metadata": {
    "hidden": true
   },
   "outputs": [
    {
     "data": {
      "text/html": [
       "<div class='gpresult'><h2>Messages</h2><div id='messages' data-messages='[\"Start Time: Friday, June 9, 2023 2:21:13 PM\",\"Analyzing input features...\",\"Assembling Features...\",\"Reading Features...\",\"Cracking Features...\",\"Succeeded at Friday, June 9, 2023 2:21:16 PM (Elapsed Time: 3.18 seconds)\"]' data-show='true'><div id = 'default' /></div></div>"
      ],
      "text/plain": [
       "<Result 'C:\\\\Users\\\\kathr\\\\Documents\\\\outdoor-alliance\\\\san-gabriel\\\\san-gabriel-analysis\\\\sg_output.gdb\\\\usfs_roads_clipped'>"
      ]
     },
     "execution_count": 6,
     "metadata": {},
     "output_type": "execute_result"
    }
   ],
   "source": [
    "arcpy.analysis.Clip(usfs_roads, sg_expansion_buffer, usfs_roads_clipped)"
   ]
  },
  {
   "cell_type": "code",
   "execution_count": 48,
   "metadata": {
    "hidden": true
   },
   "outputs": [],
   "source": [
    "# Merge all TIGER roads\n",
    "# Because these layers come from the same data source, they have the same column names and don't need additional mapping\n",
    "primary_roads_clipped = \"primary_roads_200mi\"\n",
    "secondary_roads_clipped = \"secondary_roads_200mi\"\n",
    "local_roads_clipped = \"Local_Roads_90_mi\""
   ]
  },
  {
   "cell_type": "code",
   "execution_count": 61,
   "metadata": {
    "hidden": true
   },
   "outputs": [
    {
     "data": {
      "text/html": [
       "<div class='gpresult'><h2>Messages</h2><div id='messages' data-messages='[\"Start Time: Monday, June 12, 2023 9:33:58 AM\",\"Succeeded at Monday, June 12, 2023 9:33:59 AM (Elapsed Time: 0.14 seconds)\"]' data-show='true'><div id = 'default' /></div></div>"
      ],
      "text/plain": [
       "<Result 'C:\\\\Users\\\\kathr\\\\Documents\\\\outdoor-alliance\\\\san-gabriel\\\\san-gabriel-analysis\\\\sg_output.gdb\\\\sg_roads'>"
      ]
     },
     "execution_count": 61,
     "metadata": {},
     "output_type": "execute_result"
    }
   ],
   "source": [
    "# Create feature dataset to hold the new TIGER roads layer\n",
    "sr = arcpy.Describe(primary_roads_clipped).spatialReference # get coordinate reference system\n",
    "out_name = \"sg_roads\"\n",
    "arcpy.management.CreateFeatureDataset(gdb_path, out_name, sr)"
   ]
  },
  {
   "cell_type": "code",
   "execution_count": 50,
   "metadata": {
    "hidden": true
   },
   "outputs": [],
   "source": [
    "# Create feature class to hold the merge of TIGER roads and USFS roads\n",
    "all_roads_merge = os.path.join(gdb_path, r\"sg_roads\\all_roads_merge\")"
   ]
  },
  {
   "cell_type": "code",
   "execution_count": 55,
   "metadata": {
    "hidden": true
   },
   "outputs": [],
   "source": [
    "# Create field mapping object\n",
    "field_mappings = arcpy.FieldMappings()\n",
    "\n",
    "# Add input field for road name into new output field\n",
    "map_name = arcpy.FieldMap()\n",
    "map_name.addInputField(primary_roads_clipped, \"Name\")\n",
    "map_name.addInputField(secondary_roads_clipped, \"Name\")\n",
    "map_name.addInputField(local_roads_clipped, \"Name\")\n",
    "map_name.addInputField(usfs_roads_clipped, \"NAME\")\n",
    "\n",
    "# Set name of new output field for site name\n",
    "road_name = map_name.outputField\n",
    "road_name.name = \"Road_Name\"\n",
    "map_name.outputField = road_name\n",
    "\n",
    "# Add input field for road class into new output field\n",
    "map_class = arcpy.FieldMap()\n",
    "map_class.addInputField(primary_roads_clipped, \"MTFCC\")\n",
    "map_class.addInputField(secondary_roads_clipped, \"MTFCC\")\n",
    "map_class.addInputField(local_roads_clipped, \"MTFCC\")\n",
    "map_class.addInputField(usfs_roads_clipped, \"SYMBOL_CODE\")\n",
    "\n",
    "\n",
    "# Set name of new output field for site type\n",
    "road_class = map_class.outputField\n",
    "road_class.name = \"Road_Class\"\n",
    "map_class.outputField = road_class\n",
    "\n",
    "# Add output fields to field mappings object\n",
    "field_mappings.addFieldMap(map_name)\n",
    "field_mappings.addFieldMap(map_class)"
   ]
  },
  {
   "cell_type": "code",
   "execution_count": 56,
   "metadata": {
    "hidden": true,
    "scrolled": true
   },
   "outputs": [
    {
     "data": {
      "text/html": [
       "<div class='gpresult'><h2>Messages</h2><div id='messages' data-messages='[\"Start Time: Friday, June 9, 2023 3:57:04 PM\",\"Succeeded at Friday, June 9, 2023 3:57:12 PM (Elapsed Time: 7.98 seconds)\"]' data-show='true'><div id = 'default' /></div></div>"
      ],
      "text/plain": [
       "<Result 'C:\\\\Users\\\\kathr\\\\Documents\\\\outdoor-alliance\\\\san-gabriel\\\\san-gabriel-analysis\\\\sg_output.gdb\\\\all_roads_merge'>"
      ]
     },
     "execution_count": 56,
     "metadata": {},
     "output_type": "execute_result"
    }
   ],
   "source": [
    "# Merge TIGER and USFS roads together\n",
    "arcpy.management.Merge([primary_roads_clipped, secondary_roads_clipped, local_roads_clipped, usfs_roads_clipped], \n",
    "                       all_roads_merge, \n",
    "                       field_mappings,\n",
    "                      add_source = \"ADD_SOURCE_INFO\")"
   ]
  },
  {
   "cell_type": "markdown",
   "metadata": {
    "heading_collapsed": true
   },
   "source": [
    "## Visitors Centers"
   ]
  },
  {
   "cell_type": "code",
   "execution_count": 84,
   "metadata": {
    "hidden": true
   },
   "outputs": [],
   "source": [
    "# Recreation Opportunities: clip to buffer around AOI\n",
    "rec_ops = os.path.join(data_folder, \"Recreation_Opportunities_(Feature_Layer)\\Recreation_Opportunities_(Feature_Layer).shp\")\n",
    "rec_ops_clipped = \"rec_ops_clipped\""
   ]
  },
  {
   "cell_type": "code",
   "execution_count": 8,
   "metadata": {
    "hidden": true
   },
   "outputs": [
    {
     "data": {
      "text/html": [
       "<div class='gpresult'><h2>Messages</h2><div id='messages' data-messages='[\"Start Time: Friday, June 9, 2023 2:37:57 PM\",\"Analyzing input features...\",\"Dissolving clip features...\",\"Clipping input features...\",\"Succeeded at Friday, June 9, 2023 2:37:57 PM (Elapsed Time: 0.23 seconds)\"]' data-show='true'><div id = 'default' /></div></div>"
      ],
      "text/plain": [
       "<Result 'C:\\\\Users\\\\kathr\\\\Documents\\\\outdoor-alliance\\\\san-gabriel\\\\san-gabriel-analysis\\\\sg_output.gdb\\\\rec_ops_clipped'>"
      ]
     },
     "execution_count": 8,
     "metadata": {},
     "output_type": "execute_result"
    }
   ],
   "source": [
    "arcpy.analysis.Clip(rec_ops, sg_expansion_buffer, rec_ops_clipped)"
   ]
  },
  {
   "cell_type": "code",
   "execution_count": 23,
   "metadata": {
    "hidden": true
   },
   "outputs": [],
   "source": [
    "# Recreation Sites: clip to buffer around AOI\n",
    "rec_sites = os.path.join(data_folder, \"Recreation_Sites_(Feature_Layer)\\Recreation_Sites_(Feature_Layer).shp\")\n",
    "rec_sites_clipped = \"rec_sites_clipped\""
   ]
  },
  {
   "cell_type": "code",
   "execution_count": 10,
   "metadata": {
    "hidden": true
   },
   "outputs": [
    {
     "data": {
      "text/html": [
       "<div class='gpresult'><h2>Messages</h2><div id='messages' data-messages='[\"Start Time: Friday, June 9, 2023 2:39:16 PM\",\"Analyzing input features...\",\"Dissolving clip features...\",\"Clipping input features...\",\"Succeeded at Friday, June 9, 2023 2:39:17 PM (Elapsed Time: 0.47 seconds)\"]' data-show='true'><div id = 'default' /></div></div>"
      ],
      "text/plain": [
       "<Result 'C:\\\\Users\\\\kathr\\\\Documents\\\\outdoor-alliance\\\\san-gabriel\\\\san-gabriel-analysis\\\\sg_output.gdb\\\\rec_sites_clipped'>"
      ]
     },
     "execution_count": 10,
     "metadata": {},
     "output_type": "execute_result"
    }
   ],
   "source": [
    "arcpy.analysis.Clip(rec_sites, sg_expansion_buffer, rec_sites_clipped)"
   ]
  },
  {
   "cell_type": "code",
   "execution_count": 24,
   "metadata": {
    "hidden": true
   },
   "outputs": [],
   "source": [
    "# Recreation Sites: filter to within 100 m of the AOI\n",
    "# https://pro.arcgis.com/en/pro-app/latest/tool-reference/data-management/select-layer-by-location.htm\n",
    "in_layer = rec_sites_clipped\n",
    "overlap_type = \"WITHIN_A_DISTANCE\"\n",
    "search_distance = \"100 Meters\"\n",
    "selection_type = \"NEW_SELECTION\"\n",
    "selecting_features = r\"Prop_SG_Monument_Expansion\\Proposed_San_Gabriel_National_Monument_Expansion\"\n",
    "\n",
    "aoi_rec_sites = arcpy.management.SelectLayerByLocation(in_layer = in_layer, \n",
    "                                                       overlap_type = overlap_type, \n",
    "                                                       select_features = selecting_features,\n",
    "                                                       search_distance = search_distance,\n",
    "                                                       selection_type = selection_type)"
   ]
  },
  {
   "cell_type": "code",
   "execution_count": 25,
   "metadata": {
    "hidden": true
   },
   "outputs": [
    {
     "data": {
      "text/html": [
       "<div class='gpresult'><h2>Messages</h2><div id='messages' data-messages='[\"Start Time: Monday, June 12, 2023 2:48:39 PM\",\"Succeeded at Monday, June 12, 2023 2:48:39 PM (Elapsed Time: 0.01 seconds)\"]' data-show='true'><div id = 'default' /></div></div>"
      ],
      "text/plain": [
       "<Result 'rec_sites_clipped_Layer2'>"
      ]
     },
     "execution_count": 25,
     "metadata": {},
     "output_type": "execute_result"
    }
   ],
   "source": [
    "# Recreation Sites: further select relevant site types\n",
    "# https://pro.arcgis.com/en/pro-app/latest/tool-reference/data-management/select-layer-by-attribute.htm\n",
    "in_layer = aoi_rec_sites\n",
    "selection_type = \"SUBSET_SELECTION\"\n",
    "where_clause = \"SITE_SUBTY = 'INFO SITE/FEE STATION'\"\n",
    "\n",
    "arcpy.management.SelectLayerByAttribute(in_layer_or_view = in_layer, \n",
    "                                        selection_type = selection_type, \n",
    "                                        where_clause = where_clause)"
   ]
  },
  {
   "cell_type": "code",
   "execution_count": 26,
   "metadata": {
    "hidden": true
   },
   "outputs": [],
   "source": [
    "# Recreation Opportunities: filter to within 100 m of the AOI\n",
    "# https://pro.arcgis.com/en/pro-app/latest/tool-reference/data-management/select-layer-by-location.htm\n",
    "in_layer = rec_ops_clipped\n",
    "overlap_type = \"WITHIN_A_DISTANCE\"\n",
    "search_distance = \"100 Meters\"\n",
    "selection_type = \"NEW_SELECTION\"\n",
    "selecting_features = r\"Prop_SG_Monument_Expansion\\Proposed_San_Gabriel_National_Monument_Expansion\"\n",
    "\n",
    "aoi_rec_ops = arcpy.management.SelectLayerByLocation(in_layer = in_layer, \n",
    "                                                       overlap_type = overlap_type, \n",
    "                                                       select_features = selecting_features,\n",
    "                                                       search_distance = search_distance,\n",
    "                                                       selection_type = selection_type)"
   ]
  },
  {
   "cell_type": "code",
   "execution_count": 27,
   "metadata": {
    "hidden": true
   },
   "outputs": [
    {
     "data": {
      "text/html": [
       "<div class='gpresult'><h2>Messages</h2><div id='messages' data-messages='[\"Start Time: Monday, June 12, 2023 2:48:48 PM\",\"Succeeded at Monday, June 12, 2023 2:48:48 PM (Elapsed Time: 0.08 seconds)\"]' data-show='true'><div id = 'default' /></div></div>"
      ],
      "text/plain": [
       "<Result 'rec_ops_clipped_Layer5'>"
      ]
     },
     "execution_count": 27,
     "metadata": {},
     "output_type": "execute_result"
    }
   ],
   "source": [
    "# Recreation Opportunities: further select relevant site types\n",
    "# https://pro.arcgis.com/en/pro-app/latest/tool-reference/data-management/select-layer-by-attribute.htm\n",
    "in_layer = aoi_rec_ops\n",
    "selection_type = \"SUBSET_SELECTION\"\n",
    "where_clause = \"MARKERACTI = 'Visitor Centers' Or MARKERACTI = 'Visitor Programs'\"\n",
    "\n",
    "arcpy.management.SelectLayerByAttribute(in_layer_or_view = in_layer, \n",
    "                                        selection_type = selection_type, \n",
    "                                        where_clause = where_clause)"
   ]
  },
  {
   "cell_type": "code",
   "execution_count": 28,
   "metadata": {
    "hidden": true,
    "scrolled": true
   },
   "outputs": [
    {
     "data": {
      "text/html": [
       "<div class='gpresult'><h2>Messages</h2><div id='messages' data-messages='[\"Start Time: Monday, June 12, 2023 2:48:54 PM\",\"Succeeded at Monday, June 12, 2023 2:48:55 PM (Elapsed Time: 1.44 seconds)\"]' data-show='true'><div id = 'default' /></div></div>"
      ],
      "text/plain": [
       "<Result 'C:\\\\Users\\\\kathr\\\\Documents\\\\outdoor-alliance\\\\san-gabriel\\\\san-gabriel-analysis\\\\sg_output.gdb\\\\sg_rec_ops'>"
      ]
     },
     "execution_count": 28,
     "metadata": {},
     "output_type": "execute_result"
    }
   ],
   "source": [
    "# Create new layers\n",
    "# https://pro.arcgis.com/en/pro-app/latest/tool-reference/data-management/copy-features.htm\n",
    "sg_rec_sites = \"sg_rec_sites\"\n",
    "sg_rec_ops = \"sg_rec_ops\"\n",
    "\n",
    "arcpy.management.CopyFeatures(aoi_rec_sites, sg_rec_sites)\n",
    "arcpy.management.CopyFeatures(aoi_rec_ops, sg_rec_ops)"
   ]
  },
  {
   "cell_type": "code",
   "execution_count": 29,
   "metadata": {
    "hidden": true
   },
   "outputs": [],
   "source": [
    "# Merge all visitor centers together\n",
    "visitor_centers = \"visitor_centers\"\n",
    "\n",
    "# create field mapping object\n",
    "field_mappings = arcpy.FieldMappings()\n",
    "\n",
    "# Add input field for site name into new output field\n",
    "map_site_name = arcpy.FieldMap()\n",
    "map_site_name.addInputField(sg_rec_sites, \"SITE_NAME\")\n",
    "map_site_name.addInputField(sg_rec_ops, \"RECAREANAM\")\n",
    "\n",
    "# Set name of new output field for site name\n",
    "site_name = map_site_name.outputField\n",
    "site_name.name = \"Site_Name\"\n",
    "map_site_name.outputField = site_name\n",
    "\n",
    "# Add input field for site type into new output field\n",
    "map_site_type = arcpy.FieldMap()\n",
    "map_site_type.addInputField(sg_rec_sites, \"SITE_SUBTY\")\n",
    "map_site_type.addInputField(sg_rec_ops, \"MARKERACTI\")\n",
    "\n",
    "# Set name of new output field for site type\n",
    "site_type = map_site_type.outputField\n",
    "site_type.name = \"Site_Type\"\n",
    "map_site_type.outputField = site_type\n",
    "\n",
    "# add output fields to field mappings object\n",
    "field_mappings.addFieldMap(map_site_name)\n",
    "field_mappings.addFieldMap(map_site_type)"
   ]
  },
  {
   "cell_type": "code",
   "execution_count": 30,
   "metadata": {
    "hidden": true
   },
   "outputs": [
    {
     "data": {
      "text/html": [
       "<div class='gpresult'><h2>Messages</h2><div id='messages' data-messages='[\"Start Time: Monday, June 12, 2023 2:49:11 PM\",\"Succeeded at Monday, June 12, 2023 2:49:13 PM (Elapsed Time: 1.49 seconds)\"]' data-show='true'><div id = 'default' /></div></div>"
      ],
      "text/plain": [
       "<Result 'C:\\\\Users\\\\kathr\\\\Documents\\\\outdoor-alliance\\\\san-gabriel\\\\san-gabriel-analysis\\\\sg_output.gdb\\\\visitor_centers'>"
      ]
     },
     "execution_count": 30,
     "metadata": {},
     "output_type": "execute_result"
    }
   ],
   "source": [
    "arcpy.management.Merge([sg_rec_ops, sg_rec_sites], visitor_centers, field_mappings)"
   ]
  },
  {
   "cell_type": "markdown",
   "metadata": {},
   "source": [
    "## OA Recreation Data\n",
    "* Climbing\n",
    "* Whitewater paddling\n",
    "* Trails"
   ]
  },
  {
   "cell_type": "code",
   "execution_count": 5,
   "metadata": {},
   "outputs": [
    {
     "data": {
      "text/html": [
       "<div class='gpresult'><h2>Messages</h2><div id='messages' data-messages='[\"Start Time: Wednesday, July 19, 2023 1:21:55 PM\",\"Succeeded at Wednesday, July 19, 2023 1:21:56 PM (Elapsed Time: 0.65 seconds)\"]' data-show='true'><div id = 'default' /></div></div>"
      ],
      "text/plain": [
       "<Result 'C:\\\\Users\\\\kathr\\\\Documents\\\\outdoor-alliance\\\\san-gabriel\\\\san-gabriel-analysis\\\\sg_output.gdb\\\\sg_climbing'>"
      ]
     },
     "execution_count": 5,
     "metadata": {},
     "output_type": "execute_result"
    }
   ],
   "source": [
    "# Climbing: filter to within 100 m of the AOI\n",
    "in_layer = r\"Rock_Climbing\\Rock_Climbing_Site\"\n",
    "overlap_type = \"WITHIN_A_DISTANCE\"\n",
    "search_distance = \"100 Meters\"\n",
    "selection_type = \"NEW_SELECTION\"\n",
    "selecting_features = r\"Prop_SG_Monument_Expansion\\Proposed_San_Gabriel_National_Monument_Expansion\"\n",
    "\n",
    "aoi_climbing = arcpy.management.SelectLayerByLocation(in_layer = in_layer, \n",
    "                                                       overlap_type = overlap_type, \n",
    "                                                       select_features = selecting_features,\n",
    "                                                       search_distance = search_distance,\n",
    "                                                       selection_type = selection_type)\n",
    "\n",
    "# Create new layers\n",
    "# https://pro.arcgis.com/en/pro-app/latest/tool-reference/data-management/copy-features.htm\n",
    "sg_climbing = \"sg_climbing\"\n",
    "\n",
    "arcpy.management.CopyFeatures(aoi_climbing, sg_climbing)"
   ]
  },
  {
   "cell_type": "code",
   "execution_count": 6,
   "metadata": {},
   "outputs": [
    {
     "data": {
      "text/html": [
       "<div class='gpresult'><h2>Messages</h2><div id='messages' data-messages='[\"Start Time: Wednesday, July 19, 2023 1:23:10 PM\",\"Succeeded at Wednesday, July 19, 2023 1:23:10 PM (Elapsed Time: 0.55 seconds)\"]' data-show='true'><div id = 'default' /></div></div>"
      ],
      "text/plain": [
       "<Result 'C:\\\\Users\\\\kathr\\\\Documents\\\\outdoor-alliance\\\\san-gabriel\\\\san-gabriel-analysis\\\\sg_output.gdb\\\\sg_river_access'>"
      ]
     },
     "execution_count": 6,
     "metadata": {},
     "output_type": "execute_result"
    }
   ],
   "source": [
    "# River Access: filter to within 100 m of the AOI\n",
    "in_layer = r\"River_Access\\River_Access\"\n",
    "overlap_type = \"WITHIN_A_DISTANCE\"\n",
    "search_distance = \"100 Meters\"\n",
    "selection_type = \"NEW_SELECTION\"\n",
    "selecting_features = r\"Prop_SG_Monument_Expansion\\Proposed_San_Gabriel_National_Monument_Expansion\"\n",
    "\n",
    "aoi_river = arcpy.management.SelectLayerByLocation(in_layer = in_layer, \n",
    "                                                       overlap_type = overlap_type, \n",
    "                                                       select_features = selecting_features,\n",
    "                                                       search_distance = search_distance,\n",
    "                                                       selection_type = selection_type)\n",
    "\n",
    "# Create new layers\n",
    "# https://pro.arcgis.com/en/pro-app/latest/tool-reference/data-management/copy-features.htm\n",
    "sg_river_access = \"sg_river_access\"\n",
    "\n",
    "arcpy.management.CopyFeatures(aoi_river, sg_river_access)"
   ]
  },
  {
   "cell_type": "code",
   "execution_count": 7,
   "metadata": {},
   "outputs": [
    {
     "data": {
      "text/html": [
       "<div class='gpresult'><h2>Messages</h2><div id='messages' data-messages='[\"Start Time: Wednesday, July 19, 2023 1:26:38 PM\",\"Analyzing input features...\",\"Dissolving clip features...\",\"Clipping input features...\",\"Succeeded at Wednesday, July 19, 2023 1:26:38 PM (Elapsed Time: 0.57 seconds)\"]' data-show='true'><div id = 'default' /></div></div>"
      ],
      "text/plain": [
       "<Result 'C:\\\\Users\\\\kathr\\\\Documents\\\\outdoor-alliance\\\\san-gabriel\\\\san-gabriel-analysis\\\\sg_output.gdb\\\\sg_whitewater'>"
      ]
     },
     "execution_count": 7,
     "metadata": {},
     "output_type": "execute_result"
    }
   ],
   "source": [
    "# Whitewater paddling runs: clip\n",
    "aoi_ww = r\"Whitewater_Paddling\\Whitewater_Paddling\"\n",
    "sg_whitewater = \"sg_whitewater\"\n",
    "\n",
    "arcpy.analysis.Clip(aoi_ww, r\"Prop_SG_Monument_Expansion\\Proposed_San_Gabriel_National_Monument_Expansion\", sg_whitewater)"
   ]
  },
  {
   "cell_type": "code",
   "execution_count": 71,
   "metadata": {},
   "outputs": [
    {
     "data": {
      "text/html": [
       "<div class='gpresult'><h2>Messages</h2><div id='messages' data-messages='[\"Start Time: Wednesday, July 19, 2023 1:41:09 PM\",\"Succeeded at Wednesday, July 19, 2023 1:41:11 PM (Elapsed Time: 2.25 seconds)\"]' data-show='true'><div id = 'default' /></div></div>"
      ],
      "text/plain": [
       "<Result 'sg_whitewater'>"
      ]
     },
     "execution_count": 71,
     "metadata": {},
     "output_type": "execute_result"
    }
   ],
   "source": [
    "# Recalculate length field after clipping\n",
    "arcpy.management.CalculateGeometryAttributes(in_features = \"sg_whitewater\",\n",
    "                                             geometry_property = [[\"Length_Miles\", \"LENGTH\"]],\n",
    "                                             length_unit = \"MILES_INT\")"
   ]
  },
  {
   "cell_type": "code",
   "execution_count": 8,
   "metadata": {
    "scrolled": true
   },
   "outputs": [
    {
     "data": {
      "text/html": [
       "<div class='gpresult'><h2>Messages</h2><div id='messages' data-messages='[\"Start Time: Wednesday, July 19, 2023 1:27:42 PM\",\"Assembling Features...\",\"Reading Features...\",\"Cracking Features...\",\"Succeeded at Wednesday, July 19, 2023 1:27:42 PM (Elapsed Time: 0.88 seconds)\"]' data-show='true'><div id = 'default' /></div></div>"
      ],
      "text/plain": [
       "<Result 'C:\\\\Users\\\\kathr\\\\Documents\\\\outdoor-alliance\\\\san-gabriel\\\\san-gabriel-analysis\\\\sg_output.gdb\\\\sg_trails'>"
      ]
     },
     "execution_count": 8,
     "metadata": {},
     "output_type": "execute_result"
    }
   ],
   "source": [
    "# Trails: clip\n",
    "aoi_trails = r\"Trails\\Trails\"\n",
    "sg_trails = \"sg_trails\"\n",
    "\n",
    "arcpy.analysis.Clip(aoi_trails, r\"Prop_SG_Monument_Expansion\\Proposed_San_Gabriel_National_Monument_Expansion\", sg_trails)"
   ]
  },
  {
   "cell_type": "code",
   "execution_count": 66,
   "metadata": {},
   "outputs": [
    {
     "data": {
      "text/html": [
       "<div class='gpresult'><h2>Messages</h2><div id='messages' data-messages='[\"Start Time: Wednesday, July 19, 2023 1:40:38 PM\",\"Succeeded at Wednesday, July 19, 2023 1:40:41 PM (Elapsed Time: 2.26 seconds)\"]' data-show='true'><div id = 'default' /></div></div>"
      ],
      "text/plain": [
       "<Result 'sg_trails'>"
      ]
     },
     "execution_count": 66,
     "metadata": {},
     "output_type": "execute_result"
    }
   ],
   "source": [
    "# Recalculate length field after clipping\n",
    "arcpy.management.CalculateGeometryAttributes(in_features = \"sg_trails\",\n",
    "                                             geometry_property = [[\"Length_Miles\", \"LENGTH\"]],\n",
    "                                             length_unit = \"MILES_INT\")"
   ]
  },
  {
   "cell_type": "markdown",
   "metadata": {},
   "source": [
    "## Picnic"
   ]
  },
  {
   "cell_type": "code",
   "execution_count": 174,
   "metadata": {},
   "outputs": [],
   "source": [
    "# Recreation Opportunities: filter to within 100 m of the AOI\n",
    "# https://pro.arcgis.com/en/pro-app/latest/tool-reference/data-management/select-layer-by-location.htm\n",
    "in_layer = rec_ops_clipped\n",
    "overlap_type = \"WITHIN_A_DISTANCE\"\n",
    "search_distance = \"100 Meters\"\n",
    "selection_type = \"NEW_SELECTION\"\n",
    "selecting_features = r\"Prop_SG_Monument_Expansion\\Proposed_San_Gabriel_National_Monument_Expansion\"\n",
    "\n",
    "aoi_rec_ops = arcpy.management.SelectLayerByLocation(in_layer = in_layer, \n",
    "                                                       overlap_type = overlap_type, \n",
    "                                                       select_features = selecting_features,\n",
    "                                                       search_distance = search_distance,\n",
    "                                                       selection_type = selection_type)"
   ]
  },
  {
   "cell_type": "code",
   "execution_count": 175,
   "metadata": {},
   "outputs": [
    {
     "data": {
      "text/html": [
       "<div class='gpresult'><h2>Messages</h2><div id='messages' data-messages='[\"Start Time: Tuesday, June 13, 2023 11:16:08 AM\",\"Succeeded at Tuesday, June 13, 2023 11:16:08 AM (Elapsed Time: 0.01 seconds)\"]' data-show='true'><div id = 'default' /></div></div>"
      ],
      "text/plain": [
       "<Result 'rec_ops_clipped_Layer2'>"
      ]
     },
     "execution_count": 175,
     "metadata": {},
     "output_type": "execute_result"
    }
   ],
   "source": [
    "# Recreation Opportunities: further select relevant site types\n",
    "# https://pro.arcgis.com/en/pro-app/latest/tool-reference/data-management/select-layer-by-attribute.htm\n",
    "in_layer = aoi_rec_ops\n",
    "selection_type = \"SUBSET_SELECTION\"\n",
    "where_clause = \"MARKERACTI = 'Picnicking'\"\n",
    "\n",
    "arcpy.management.SelectLayerByAttribute(in_layer_or_view = in_layer, \n",
    "                                        selection_type = selection_type, \n",
    "                                        where_clause = where_clause)"
   ]
  },
  {
   "cell_type": "code",
   "execution_count": 176,
   "metadata": {},
   "outputs": [
    {
     "data": {
      "text/html": [
       "<div class='gpresult'><h2>Messages</h2><div id='messages' data-messages='[\"Start Time: Tuesday, June 13, 2023 11:16:12 AM\",\"Succeeded at Tuesday, June 13, 2023 11:16:13 AM (Elapsed Time: 0.79 seconds)\"]' data-show='true'><div id = 'default' /></div></div>"
      ],
      "text/plain": [
       "<Result 'C:\\\\Users\\\\kathr\\\\Documents\\\\outdoor-alliance\\\\san-gabriel\\\\san-gabriel-analysis\\\\sg_output.gdb\\\\sg_picnic'>"
      ]
     },
     "execution_count": 176,
     "metadata": {},
     "output_type": "execute_result"
    }
   ],
   "source": [
    "# Create new layers\n",
    "# https://pro.arcgis.com/en/pro-app/latest/tool-reference/data-management/copy-features.htm\n",
    "sg_picnic = \"sg_picnic\"\n",
    "\n",
    "arcpy.management.CopyFeatures(aoi_rec_ops, sg_picnic)"
   ]
  },
  {
   "cell_type": "markdown",
   "metadata": {},
   "source": [
    "## Camping"
   ]
  },
  {
   "cell_type": "code",
   "execution_count": 177,
   "metadata": {},
   "outputs": [],
   "source": [
    "# Recreation Opportunities: filter to within 100 m of the AOI\n",
    "# https://pro.arcgis.com/en/pro-app/latest/tool-reference/data-management/select-layer-by-location.htm\n",
    "in_layer = rec_ops_clipped\n",
    "overlap_type = \"WITHIN_A_DISTANCE\"\n",
    "search_distance = \"100 Meters\"\n",
    "selection_type = \"NEW_SELECTION\"\n",
    "selecting_features = r\"Prop_SG_Monument_Expansion\\Proposed_San_Gabriel_National_Monument_Expansion\"\n",
    "\n",
    "aoi_rec_ops = arcpy.management.SelectLayerByLocation(in_layer = in_layer, \n",
    "                                                       overlap_type = overlap_type, \n",
    "                                                       select_features = selecting_features,\n",
    "                                                       search_distance = search_distance,\n",
    "                                                       selection_type = selection_type)"
   ]
  },
  {
   "cell_type": "code",
   "execution_count": 179,
   "metadata": {},
   "outputs": [
    {
     "data": {
      "text/html": [
       "<div class='gpresult'><h2>Messages</h2><div id='messages' data-messages='[\"Start Time: Tuesday, June 13, 2023 11:19:22 AM\",\"Succeeded at Tuesday, June 13, 2023 11:19:22 AM (Elapsed Time: 0.02 seconds)\"]' data-show='true'><div id = 'default' /></div></div>"
      ],
      "text/plain": [
       "<Result 'rec_ops_clipped_Layer5'>"
      ]
     },
     "execution_count": 179,
     "metadata": {},
     "output_type": "execute_result"
    }
   ],
   "source": [
    "# Recreation Opportunities: further select relevant site types\n",
    "# https://pro.arcgis.com/en/pro-app/latest/tool-reference/data-management/select-layer-by-attribute.htm\n",
    "in_layer = aoi_rec_ops\n",
    "selection_type = \"SUBSET_SELECTION\"\n",
    "where_clause = \"MARKERAC_1 = 'Camping & Cabins'\"\n",
    "\n",
    "arcpy.management.SelectLayerByAttribute(in_layer_or_view = in_layer, \n",
    "                                        selection_type = selection_type, \n",
    "                                        where_clause = where_clause)"
   ]
  },
  {
   "cell_type": "code",
   "execution_count": 180,
   "metadata": {},
   "outputs": [
    {
     "data": {
      "text/html": [
       "<div class='gpresult'><h2>Messages</h2><div id='messages' data-messages='[\"Start Time: Tuesday, June 13, 2023 11:19:33 AM\",\"Succeeded at Tuesday, June 13, 2023 11:19:34 AM (Elapsed Time: 0.89 seconds)\"]' data-show='true'><div id = 'default' /></div></div>"
      ],
      "text/plain": [
       "<Result 'C:\\\\Users\\\\kathr\\\\Documents\\\\outdoor-alliance\\\\san-gabriel\\\\san-gabriel-analysis\\\\sg_output.gdb\\\\sg_camping'>"
      ]
     },
     "execution_count": 180,
     "metadata": {},
     "output_type": "execute_result"
    }
   ],
   "source": [
    "# Create new layers\n",
    "# https://pro.arcgis.com/en/pro-app/latest/tool-reference/data-management/copy-features.htm\n",
    "sg_camping = \"sg_camping\"\n",
    "\n",
    "arcpy.management.CopyFeatures(aoi_rec_ops, sg_camping)"
   ]
  },
  {
   "cell_type": "markdown",
   "metadata": {},
   "source": [
    "## Census"
   ]
  },
  {
   "cell_type": "markdown",
   "metadata": {},
   "source": [
    "### 2020 Redistricting Tracts (Racial Data)"
   ]
  },
  {
   "cell_type": "code",
   "execution_count": 72,
   "metadata": {},
   "outputs": [],
   "source": [
    "# Clip census to buffer around AOI\n",
    "census = os.path.join(data_folder, r\"Census\\Default.gdb\\ca_census_2020\")\n",
    "census_clipped = \"census_clipped\""
   ]
  },
  {
   "cell_type": "code",
   "execution_count": 45,
   "metadata": {},
   "outputs": [
    {
     "data": {
      "text/html": [
       "<div class='gpresult'><h2>Messages</h2><div id='messages' data-messages='[\"Start Time: Friday, June 9, 2023 3:36:24 PM\",\"Reading Features...\",\"Cracking Features...\",\"Assembling Features...\",\"Succeeded at Friday, June 9, 2023 3:36:28 PM (Elapsed Time: 3.95 seconds)\"]' data-show='true'><div id = 'default' /></div></div>"
      ],
      "text/plain": [
       "<Result 'C:\\\\Users\\\\kathr\\\\Documents\\\\outdoor-alliance\\\\san-gabriel\\\\san-gabriel-analysis\\\\sg_output.gdb\\\\census_clipped'>"
      ]
     },
     "execution_count": 45,
     "metadata": {},
     "output_type": "execute_result"
    }
   ],
   "source": [
    "arcpy.analysis.Clip(census, sg_expansion_buffer, census_clipped)"
   ]
  },
  {
   "cell_type": "code",
   "execution_count": 74,
   "metadata": {},
   "outputs": [
    {
     "data": {
      "text/html": [
       "<div class='gpresult'><h2>Messages</h2><div id='messages' data-messages='[\"Start Time: Tuesday, June 20, 2023 9:45:23 AM\",\"Succeeded at Tuesday, June 20, 2023 9:45:27 AM (Elapsed Time: 4.07 seconds)\"]' data-show='true'><div id = 'default' /></div></div>"
      ],
      "text/plain": [
       "<Result 'C:\\\\Users\\\\kathr\\\\Documents\\\\outdoor-alliance\\\\san-gabriel\\\\san-gabriel-analysis\\\\sg_output.gdb\\\\ca_census'>"
      ]
     },
     "execution_count": 74,
     "metadata": {},
     "output_type": "execute_result"
    }
   ],
   "source": [
    "# Import census for entire state of CA\n",
    "ca_census = \"ca_census\"\n",
    "arcpy.management.Copy(in_data = census,\n",
    "                      out_data = ca_census,\n",
    "                      data_type = \"FeatureClass\")"
   ]
  }
 ],
 "metadata": {
  "kernelspec": {
   "display_name": "ArcGISPro",
   "language": "Python",
   "name": "python3"
  },
  "language_info": {
   "file_extension": ".py",
   "name": "python",
   "version": "3"
  }
 },
 "nbformat": 4,
 "nbformat_minor": 2
}
