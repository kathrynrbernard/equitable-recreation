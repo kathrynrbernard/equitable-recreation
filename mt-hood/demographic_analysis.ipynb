{
 "cells": [
  {
   "cell_type": "markdown",
   "metadata": {},
   "source": [
    "# Overview\n",
    "\n",
    "This notebook processes and visualizes the demographic (census) data for each of the three service areas around the Mount Hood and Columbia River Gorge Recreation Area."
   ]
  },
  {
   "cell_type": "markdown",
   "metadata": {},
   "source": [
    "# Setup"
   ]
  },
  {
   "cell_type": "code",
   "execution_count": 1,
   "metadata": {},
   "outputs": [],
   "source": [
    "# Import libraries\n",
    "import arcpy, pandas as pd, numpy as np, arcgis, os\n",
    "import matplotlib.pyplot as plt, seaborn as sns\n",
    "from arcgis.features import GeoAccessor, GeoSeriesAccessor"
   ]
  },
  {
   "cell_type": "code",
   "execution_count": 45,
   "metadata": {},
   "outputs": [],
   "source": [
    "# Magic commands\n",
    "%matplotlib inline"
   ]
  },
  {
   "cell_type": "code",
   "execution_count": 2,
   "metadata": {},
   "outputs": [],
   "source": [
    "# Set workspace settings\n",
    "arcpy.env.workspace  =  r\"C:\\Users\\kathr\\Documents\\outdoor-alliance\\mt-hood\\mt-hood-analysis\\mh_output.gdb\"\n",
    "arcpy.env.overwriteOutput = True"
   ]
  },
  {
   "cell_type": "code",
   "execution_count": 3,
   "metadata": {},
   "outputs": [],
   "source": [
    "# Set gdb path\n",
    "gdb_path =  r\"C:\\Users\\kathr\\Documents\\outdoor-alliance\\mt-hood\\mt-hood-analysis\\mh_output.gdb\"\n",
    "\n",
    "# Set visualization folder\n",
    "viz_path = r\"C:\\Users\\kathr\\Documents\\outdoor-alliance\\mt-hood\\viz\""
   ]
  },
  {
   "cell_type": "markdown",
   "metadata": {},
   "source": [
    "# Service Area with Rings\n",
    "\n",
    "\"Rings\" means that the inner service areas are not included in the outer service areas. For example, the 5-30 mile service area does not include the 0-5 mile service area."
   ]
  },
  {
   "cell_type": "markdown",
   "metadata": {},
   "source": [
    "## Demographic Profiles - Race/Ethnicity"
   ]
  },
  {
   "cell_type": "markdown",
   "metadata": {},
   "source": [
    "### 0 - 5 mile service area"
   ]
  },
  {
   "cell_type": "code",
   "execution_count": 201,
   "metadata": {},
   "outputs": [],
   "source": [
    "# Create pandas dataframe from feature class\n",
    "sa_1_census_df = pd.DataFrame.spatial.from_featureclass(\"combined_census_sa_1_rings\")"
   ]
  },
  {
   "cell_type": "code",
   "execution_count": 202,
   "metadata": {},
   "outputs": [
    {
     "data": {
      "text/html": [
       "<div>\n",
       "<style scoped>\n",
       "    .dataframe tbody tr th:only-of-type {\n",
       "        vertical-align: middle;\n",
       "    }\n",
       "\n",
       "    .dataframe tbody tr th {\n",
       "        vertical-align: top;\n",
       "    }\n",
       "\n",
       "    .dataframe thead th {\n",
       "        text-align: right;\n",
       "    }\n",
       "</style>\n",
       "<table border=\"1\" class=\"dataframe\">\n",
       "  <thead>\n",
       "    <tr style=\"text-align: right;\">\n",
       "      <th></th>\n",
       "      <th>OBJECTID</th>\n",
       "      <th>GEOID</th>\n",
       "      <th>NAME</th>\n",
       "      <th>County_Name</th>\n",
       "      <th>State_Name</th>\n",
       "      <th>P0010001</th>\n",
       "      <th>P0010002</th>\n",
       "      <th>P0010003</th>\n",
       "      <th>P0010004</th>\n",
       "      <th>P0010005</th>\n",
       "      <th>P0010006</th>\n",
       "      <th>P0010007</th>\n",
       "      <th>P0010008</th>\n",
       "      <th>P0010009</th>\n",
       "      <th>P0010010</th>\n",
       "      <th>P0010011</th>\n",
       "      <th>P0010012</th>\n",
       "      <th>P0010013</th>\n",
       "      <th>P0010014</th>\n",
       "      <th>P0010015</th>\n",
       "      <th>P0010016</th>\n",
       "      <th>P0010017</th>\n",
       "      <th>P0010018</th>\n",
       "      <th>P0010019</th>\n",
       "      <th>P0010020</th>\n",
       "      <th>P0010021</th>\n",
       "      <th>P0010022</th>\n",
       "      <th>P0010023</th>\n",
       "      <th>P0010024</th>\n",
       "      <th>P0010025</th>\n",
       "      <th>P0010026</th>\n",
       "      <th>P0010027</th>\n",
       "      <th>P0010028</th>\n",
       "      <th>P0010029</th>\n",
       "      <th>P0010030</th>\n",
       "      <th>P0010031</th>\n",
       "      <th>P0010032</th>\n",
       "      <th>P0010033</th>\n",
       "      <th>P0010034</th>\n",
       "      <th>P0010035</th>\n",
       "      <th>...</th>\n",
       "      <th>NMEMI</th>\n",
       "      <th>CNECTA</th>\n",
       "      <th>NECTADIV</th>\n",
       "      <th>CBSAPCI</th>\n",
       "      <th>NECTAPCI</th>\n",
       "      <th>UA</th>\n",
       "      <th>UATYPE</th>\n",
       "      <th>UR</th>\n",
       "      <th>CD116</th>\n",
       "      <th>SLDU18</th>\n",
       "      <th>SLDL18</th>\n",
       "      <th>VTD</th>\n",
       "      <th>VTDI</th>\n",
       "      <th>ZCTA</th>\n",
       "      <th>SDELM</th>\n",
       "      <th>SDSEC</th>\n",
       "      <th>SDUNI</th>\n",
       "      <th>PUMA</th>\n",
       "      <th>AREALAND</th>\n",
       "      <th>AREAWATR</th>\n",
       "      <th>AWATER</th>\n",
       "      <th>ALAND</th>\n",
       "      <th>INTPTLON</th>\n",
       "      <th>INTPTLAT</th>\n",
       "      <th>BASENAME</th>\n",
       "      <th>FUNCSTAT</th>\n",
       "      <th>GCUNI</th>\n",
       "      <th>POP100</th>\n",
       "      <th>HU100</th>\n",
       "      <th>PARTFLAG</th>\n",
       "      <th>UGA</th>\n",
       "      <th>AMRZE001</th>\n",
       "      <th>AMRZE022</th>\n",
       "      <th>AMRZE023</th>\n",
       "      <th>AMRZE024</th>\n",
       "      <th>AMRZE025</th>\n",
       "      <th>AMZME001</th>\n",
       "      <th>AMZME002</th>\n",
       "      <th>AMZME003</th>\n",
       "      <th>SHAPE</th>\n",
       "    </tr>\n",
       "  </thead>\n",
       "  <tbody>\n",
       "    <tr>\n",
       "      <th>0</th>\n",
       "      <td>1</td>\n",
       "      <td>4.102795e+10</td>\n",
       "      <td>Census Tract 9501</td>\n",
       "      <td>Hood River County</td>\n",
       "      <td>Oregon</td>\n",
       "      <td>147.188297</td>\n",
       "      <td>125.717134</td>\n",
       "      <td>101.566211</td>\n",
       "      <td>0.198501</td>\n",
       "      <td>2.249675</td>\n",
       "      <td>1.687256</td>\n",
       "      <td>0.297751</td>\n",
       "      <td>19.717740</td>\n",
       "      <td>21.471163</td>\n",
       "      <td>20.908744</td>\n",
       "      <td>0.794003</td>\n",
       "      <td>3.705347</td>\n",
       "      <td>0.926337</td>\n",
       "      <td>0.165417</td>\n",
       "      <td>15.086056</td>\n",
       "      <td>0.000000</td>\n",
       "      <td>0.000000</td>\n",
       "      <td>0.000000</td>\n",
       "      <td>0.066167</td>\n",
       "      <td>0.000000</td>\n",
       "      <td>0.033083</td>\n",
       "      <td>0.033083</td>\n",
       "      <td>0.099250</td>\n",
       "      <td>0.0</td>\n",
       "      <td>0.0</td>\n",
       "      <td>0.496252</td>\n",
       "      <td>0.000000</td>\n",
       "      <td>0.000000</td>\n",
       "      <td>0.000000</td>\n",
       "      <td>0.000000</td>\n",
       "      <td>0.066167</td>\n",
       "      <td>0.033083</td>\n",
       "      <td>0.330835</td>\n",
       "      <td>0.000000</td>\n",
       "      <td>0.000000</td>\n",
       "      <td>...</td>\n",
       "      <td>None</td>\n",
       "      <td>None</td>\n",
       "      <td>None</td>\n",
       "      <td>None</td>\n",
       "      <td>None</td>\n",
       "      <td>None</td>\n",
       "      <td>None</td>\n",
       "      <td>None</td>\n",
       "      <td>None</td>\n",
       "      <td>None</td>\n",
       "      <td>None</td>\n",
       "      <td>None</td>\n",
       "      <td>None</td>\n",
       "      <td>None</td>\n",
       "      <td>None</td>\n",
       "      <td>None</td>\n",
       "      <td>None</td>\n",
       "      <td>None</td>\n",
       "      <td>1080381908</td>\n",
       "      <td>18046053</td>\n",
       "      <td>5.970258e+05</td>\n",
       "      <td>3.574277e+07</td>\n",
       "      <td>-121.6818391</td>\n",
       "      <td>+45.4966594</td>\n",
       "      <td>9501</td>\n",
       "      <td>S</td>\n",
       "      <td>None</td>\n",
       "      <td>4449</td>\n",
       "      <td>1963</td>\n",
       "      <td>None</td>\n",
       "      <td>None</td>\n",
       "      <td>104.014387</td>\n",
       "      <td>15.052973</td>\n",
       "      <td>5.061769</td>\n",
       "      <td>1.720340</td>\n",
       "      <td>0.463168</td>\n",
       "      <td>153.804989</td>\n",
       "      <td>3.936931</td>\n",
       "      <td>14.722138</td>\n",
       "      <td>{\"rings\": [[[-13572297.1728, 5722769.774300002...</td>\n",
       "    </tr>\n",
       "    <tr>\n",
       "      <th>1</th>\n",
       "      <td>2</td>\n",
       "      <td>4.105101e+10</td>\n",
       "      <td>Census Tract 105</td>\n",
       "      <td>Multnomah County</td>\n",
       "      <td>Oregon</td>\n",
       "      <td>374.220839</td>\n",
       "      <td>346.346269</td>\n",
       "      <td>331.081624</td>\n",
       "      <td>1.896229</td>\n",
       "      <td>1.137738</td>\n",
       "      <td>5.404253</td>\n",
       "      <td>1.137738</td>\n",
       "      <td>5.688688</td>\n",
       "      <td>27.874570</td>\n",
       "      <td>26.357586</td>\n",
       "      <td>1.611795</td>\n",
       "      <td>8.627843</td>\n",
       "      <td>5.404253</td>\n",
       "      <td>0.568869</td>\n",
       "      <td>9.860392</td>\n",
       "      <td>0.189623</td>\n",
       "      <td>0.000000</td>\n",
       "      <td>0.000000</td>\n",
       "      <td>0.000000</td>\n",
       "      <td>0.000000</td>\n",
       "      <td>0.094811</td>\n",
       "      <td>0.000000</td>\n",
       "      <td>0.000000</td>\n",
       "      <td>0.0</td>\n",
       "      <td>0.0</td>\n",
       "      <td>1.516983</td>\n",
       "      <td>0.094811</td>\n",
       "      <td>0.189623</td>\n",
       "      <td>0.094811</td>\n",
       "      <td>0.094811</td>\n",
       "      <td>0.189623</td>\n",
       "      <td>0.000000</td>\n",
       "      <td>0.568869</td>\n",
       "      <td>0.094811</td>\n",
       "      <td>0.094811</td>\n",
       "      <td>...</td>\n",
       "      <td>None</td>\n",
       "      <td>None</td>\n",
       "      <td>None</td>\n",
       "      <td>None</td>\n",
       "      <td>None</td>\n",
       "      <td>None</td>\n",
       "      <td>None</td>\n",
       "      <td>None</td>\n",
       "      <td>None</td>\n",
       "      <td>None</td>\n",
       "      <td>None</td>\n",
       "      <td>None</td>\n",
       "      <td>None</td>\n",
       "      <td>None</td>\n",
       "      <td>None</td>\n",
       "      <td>None</td>\n",
       "      <td>None</td>\n",
       "      <td>None</td>\n",
       "      <td>471839859</td>\n",
       "      <td>25556898</td>\n",
       "      <td>2.423087e+06</td>\n",
       "      <td>4.473583e+07</td>\n",
       "      <td>-122.0852690</td>\n",
       "      <td>+45.5281048</td>\n",
       "      <td>105</td>\n",
       "      <td>S</td>\n",
       "      <td>None</td>\n",
       "      <td>3947</td>\n",
       "      <td>1548</td>\n",
       "      <td>None</td>\n",
       "      <td>None</td>\n",
       "      <td>273.341444</td>\n",
       "      <td>79.262382</td>\n",
       "      <td>26.262775</td>\n",
       "      <td>6.636802</td>\n",
       "      <td>6.447179</td>\n",
       "      <td>392.519451</td>\n",
       "      <td>19.531161</td>\n",
       "      <td>7.490105</td>\n",
       "      <td>{\"rings\": [[[-13584172.1728, 5718059.774300002...</td>\n",
       "    </tr>\n",
       "    <tr>\n",
       "      <th>2</th>\n",
       "      <td>3</td>\n",
       "      <td>4.106597e+10</td>\n",
       "      <td>Census Tract 9701</td>\n",
       "      <td>Wasco County</td>\n",
       "      <td>Oregon</td>\n",
       "      <td>0.970772</td>\n",
       "      <td>0.859801</td>\n",
       "      <td>0.752268</td>\n",
       "      <td>0.004127</td>\n",
       "      <td>0.013757</td>\n",
       "      <td>0.014215</td>\n",
       "      <td>0.005961</td>\n",
       "      <td>0.069472</td>\n",
       "      <td>0.110972</td>\n",
       "      <td>0.108220</td>\n",
       "      <td>0.004127</td>\n",
       "      <td>0.021094</td>\n",
       "      <td>0.005273</td>\n",
       "      <td>0.001834</td>\n",
       "      <td>0.074057</td>\n",
       "      <td>0.000000</td>\n",
       "      <td>0.000000</td>\n",
       "      <td>0.000459</td>\n",
       "      <td>0.000000</td>\n",
       "      <td>0.000000</td>\n",
       "      <td>0.000000</td>\n",
       "      <td>0.000917</td>\n",
       "      <td>0.000459</td>\n",
       "      <td>0.0</td>\n",
       "      <td>0.0</td>\n",
       "      <td>0.002064</td>\n",
       "      <td>0.000000</td>\n",
       "      <td>0.000000</td>\n",
       "      <td>0.000000</td>\n",
       "      <td>0.000000</td>\n",
       "      <td>0.000000</td>\n",
       "      <td>0.000688</td>\n",
       "      <td>0.000459</td>\n",
       "      <td>0.000229</td>\n",
       "      <td>0.000688</td>\n",
       "      <td>...</td>\n",
       "      <td>None</td>\n",
       "      <td>None</td>\n",
       "      <td>None</td>\n",
       "      <td>None</td>\n",
       "      <td>None</td>\n",
       "      <td>None</td>\n",
       "      <td>None</td>\n",
       "      <td>None</td>\n",
       "      <td>None</td>\n",
       "      <td>None</td>\n",
       "      <td>None</td>\n",
       "      <td>None</td>\n",
       "      <td>None</td>\n",
       "      <td>None</td>\n",
       "      <td>None</td>\n",
       "      <td>None</td>\n",
       "      <td>None</td>\n",
       "      <td>None</td>\n",
       "      <td>10531266</td>\n",
       "      <td>1517829</td>\n",
       "      <td>3.480081e+02</td>\n",
       "      <td>2.414610e+03</td>\n",
       "      <td>-121.1448017</td>\n",
       "      <td>+45.5958291</td>\n",
       "      <td>9701</td>\n",
       "      <td>S</td>\n",
       "      <td>None</td>\n",
       "      <td>4234</td>\n",
       "      <td>1745</td>\n",
       "      <td>None</td>\n",
       "      <td>None</td>\n",
       "      <td>0.634877</td>\n",
       "      <td>0.118996</td>\n",
       "      <td>0.039665</td>\n",
       "      <td>0.014674</td>\n",
       "      <td>0.023157</td>\n",
       "      <td>0.797895</td>\n",
       "      <td>0.018342</td>\n",
       "      <td>0.042417</td>\n",
       "      <td>{\"rings\": [[[-13488789.188900001, 5715998.3081...</td>\n",
       "    </tr>\n",
       "    <tr>\n",
       "      <th>3</th>\n",
       "      <td>4</td>\n",
       "      <td>4.106597e+10</td>\n",
       "      <td>Census Tract 9702</td>\n",
       "      <td>Wasco County</td>\n",
       "      <td>Oregon</td>\n",
       "      <td>1723.533755</td>\n",
       "      <td>1478.824219</td>\n",
       "      <td>1251.911740</td>\n",
       "      <td>11.123161</td>\n",
       "      <td>21.690163</td>\n",
       "      <td>24.470954</td>\n",
       "      <td>25.583270</td>\n",
       "      <td>144.044931</td>\n",
       "      <td>244.709536</td>\n",
       "      <td>233.030217</td>\n",
       "      <td>11.679319</td>\n",
       "      <td>58.952752</td>\n",
       "      <td>12.791635</td>\n",
       "      <td>7.786213</td>\n",
       "      <td>135.702561</td>\n",
       "      <td>0.000000</td>\n",
       "      <td>0.000000</td>\n",
       "      <td>0.000000</td>\n",
       "      <td>1.668474</td>\n",
       "      <td>0.000000</td>\n",
       "      <td>0.000000</td>\n",
       "      <td>2.780790</td>\n",
       "      <td>1.668474</td>\n",
       "      <td>0.0</td>\n",
       "      <td>0.0</td>\n",
       "      <td>7.230054</td>\n",
       "      <td>0.556158</td>\n",
       "      <td>0.000000</td>\n",
       "      <td>0.000000</td>\n",
       "      <td>0.000000</td>\n",
       "      <td>1.668474</td>\n",
       "      <td>0.000000</td>\n",
       "      <td>2.780790</td>\n",
       "      <td>1.112316</td>\n",
       "      <td>0.000000</td>\n",
       "      <td>...</td>\n",
       "      <td>None</td>\n",
       "      <td>None</td>\n",
       "      <td>None</td>\n",
       "      <td>None</td>\n",
       "      <td>None</td>\n",
       "      <td>None</td>\n",
       "      <td>None</td>\n",
       "      <td>None</td>\n",
       "      <td>None</td>\n",
       "      <td>None</td>\n",
       "      <td>None</td>\n",
       "      <td>None</td>\n",
       "      <td>None</td>\n",
       "      <td>None</td>\n",
       "      <td>None</td>\n",
       "      <td>None</td>\n",
       "      <td>None</td>\n",
       "      <td>None</td>\n",
       "      <td>1962428</td>\n",
       "      <td>157042</td>\n",
       "      <td>8.734017e+04</td>\n",
       "      <td>1.091420e+06</td>\n",
       "      <td>-121.1808395</td>\n",
       "      <td>+45.5980619</td>\n",
       "      <td>9702</td>\n",
       "      <td>S</td>\n",
       "      <td>None</td>\n",
       "      <td>3099</td>\n",
       "      <td>1309</td>\n",
       "      <td>None</td>\n",
       "      <td>None</td>\n",
       "      <td>1001.640624</td>\n",
       "      <td>92.878392</td>\n",
       "      <td>37.818746</td>\n",
       "      <td>8.342371</td>\n",
       "      <td>8.342371</td>\n",
       "      <td>1566.141031</td>\n",
       "      <td>34.481798</td>\n",
       "      <td>158.505040</td>\n",
       "      <td>{\"rings\": [[[-13489913.5971, 5717197.855400003...</td>\n",
       "    </tr>\n",
       "    <tr>\n",
       "      <th>4</th>\n",
       "      <td>5</td>\n",
       "      <td>4.106597e+10</td>\n",
       "      <td>Census Tract 9703</td>\n",
       "      <td>Wasco County</td>\n",
       "      <td>Oregon</td>\n",
       "      <td>1117.077226</td>\n",
       "      <td>984.490979</td>\n",
       "      <td>887.718259</td>\n",
       "      <td>5.714924</td>\n",
       "      <td>11.810844</td>\n",
       "      <td>12.191839</td>\n",
       "      <td>3.047960</td>\n",
       "      <td>64.007153</td>\n",
       "      <td>132.586246</td>\n",
       "      <td>125.728337</td>\n",
       "      <td>8.000894</td>\n",
       "      <td>19.430743</td>\n",
       "      <td>6.095919</td>\n",
       "      <td>4.190945</td>\n",
       "      <td>86.104861</td>\n",
       "      <td>0.000000</td>\n",
       "      <td>0.380995</td>\n",
       "      <td>0.000000</td>\n",
       "      <td>0.380995</td>\n",
       "      <td>0.380995</td>\n",
       "      <td>0.000000</td>\n",
       "      <td>0.761990</td>\n",
       "      <td>0.000000</td>\n",
       "      <td>0.0</td>\n",
       "      <td>0.0</td>\n",
       "      <td>5.714924</td>\n",
       "      <td>0.000000</td>\n",
       "      <td>0.000000</td>\n",
       "      <td>0.380995</td>\n",
       "      <td>0.000000</td>\n",
       "      <td>1.142985</td>\n",
       "      <td>0.380995</td>\n",
       "      <td>1.904975</td>\n",
       "      <td>0.380995</td>\n",
       "      <td>0.761990</td>\n",
       "      <td>...</td>\n",
       "      <td>None</td>\n",
       "      <td>None</td>\n",
       "      <td>None</td>\n",
       "      <td>None</td>\n",
       "      <td>None</td>\n",
       "      <td>None</td>\n",
       "      <td>None</td>\n",
       "      <td>None</td>\n",
       "      <td>None</td>\n",
       "      <td>None</td>\n",
       "      <td>None</td>\n",
       "      <td>None</td>\n",
       "      <td>None</td>\n",
       "      <td>None</td>\n",
       "      <td>None</td>\n",
       "      <td>None</td>\n",
       "      <td>None</td>\n",
       "      <td>None</td>\n",
       "      <td>3981958</td>\n",
       "      <td>0</td>\n",
       "      <td>0.000000e+00</td>\n",
       "      <td>1.517106e+06</td>\n",
       "      <td>-121.1918496</td>\n",
       "      <td>+45.5878834</td>\n",
       "      <td>9703</td>\n",
       "      <td>S</td>\n",
       "      <td>None</td>\n",
       "      <td>2932</td>\n",
       "      <td>1185</td>\n",
       "      <td>None</td>\n",
       "      <td>None</td>\n",
       "      <td>817.234191</td>\n",
       "      <td>123.823362</td>\n",
       "      <td>53.720289</td>\n",
       "      <td>12.953829</td>\n",
       "      <td>21.716713</td>\n",
       "      <td>1252.330437</td>\n",
       "      <td>29.717607</td>\n",
       "      <td>16.001788</td>\n",
       "      <td>{\"rings\": [[[-13490961.292100001, 5716220.4143...</td>\n",
       "    </tr>\n",
       "  </tbody>\n",
       "</table>\n",
       "<p>5 rows × 397 columns</p>\n",
       "</div>"
      ],
      "text/plain": [
       "   OBJECTID  ...                                              SHAPE\n",
       "0         1  ...  {\"rings\": [[[-13572297.1728, 5722769.774300002...\n",
       "1         2  ...  {\"rings\": [[[-13584172.1728, 5718059.774300002...\n",
       "2         3  ...  {\"rings\": [[[-13488789.188900001, 5715998.3081...\n",
       "3         4  ...  {\"rings\": [[[-13489913.5971, 5717197.855400003...\n",
       "4         5  ...  {\"rings\": [[[-13490961.292100001, 5716220.4143...\n",
       "\n",
       "[5 rows x 397 columns]"
      ]
     },
     "execution_count": 202,
     "metadata": {},
     "output_type": "execute_result"
    }
   ],
   "source": [
    "# View the dataframe\n",
    "sa_1_census_df.head()"
   ]
  },
  {
   "cell_type": "code",
   "execution_count": 203,
   "metadata": {},
   "outputs": [],
   "source": [
    "# Caculate percentages of each race for each census tract\n",
    "sa_1_census_df[\"PCT_P0020002\"] = np.round(100 * (sa_1_census_df[\"P0020002\"] / sa_1_census_df[\"P0010001\"]), 2) # pct hispanic or latino\n",
    "sa_1_census_df[\"PCT_P0020005\"] = np.round(100 * (sa_1_census_df[\"P0020005\"] / sa_1_census_df[\"P0010001\"]), 2) # pct white\n",
    "sa_1_census_df[\"PCT_P0020006\"] = np.round(100 * (sa_1_census_df[\"P0020006\"] / sa_1_census_df[\"P0010001\"]), 2) # pct Black\n",
    "sa_1_census_df[\"PCT_P0020007\"] = np.round(100 * (sa_1_census_df[\"P0020007\"] / sa_1_census_df[\"P0010001\"]), 2) # pct american indian/alaska native\n",
    "sa_1_census_df[\"PCT_P0020008\"] = np.round(100 * (sa_1_census_df[\"P0020008\"] / sa_1_census_df[\"P0010001\"]), 2) # pct asian\n",
    "sa_1_census_df[\"PCT_P0020009\"] = np.round(100 * (sa_1_census_df[\"P0020009\"] / sa_1_census_df[\"P0010001\"]), 2) # pct native hawaiian/pacific islander\n",
    "sa_1_census_df[\"PCT_P0020010\"] = np.round(100 * (sa_1_census_df[\"P0020010\"] / sa_1_census_df[\"P0010001\"]), 2) # pct other\n",
    "sa_1_census_df[\"PCT_P0020011\"] = np.round(100 * (sa_1_census_df[\"P0020011\"] / sa_1_census_df[\"P0010001\"]), 2) # pct two+ races"
   ]
  },
  {
   "cell_type": "code",
   "execution_count": 204,
   "metadata": {},
   "outputs": [],
   "source": [
    "# Calculate total pct of each race for the entire service area\n",
    "cols = [\"P0020002\", # hispanic/latino - not included in the remaining categories\n",
    "        \"P0020005\", # white\n",
    "        \"P0020006\", # Black\n",
    "        \"P0020007\", # american indian/alaska native\n",
    "        \"P0020008\", # asian\n",
    "        \"P0020009\", # native hawaiian\n",
    "        \"P0020010\", # other\n",
    "        \"P0020011\"] # two+ races\n",
    "col_names = [\"Hispanic/Latino\",\n",
    "            \"White\",\n",
    "            \"Black\",\n",
    "            \"American Indian/Alaska Native\",\n",
    "            \"Asian\",\n",
    "            \"Native Hawaiian/Pacific Islander\",\n",
    "            \"Other Race\",\n",
    "            \"Multiracial (2+ Races)\"]\n",
    "\n",
    "summary_df = pd.DataFrame()\n",
    "summary_df[\"Race\"] = col_names\n",
    "\n",
    "total_pop = sum(sa_1_census_df[\"P0010001\"])\n",
    "summary_df[\"PCT_SA_1\"] = [np.round(100 * (sum(sa_1_census_df[col])/total_pop), 2) for col in cols]"
   ]
  },
  {
   "cell_type": "code",
   "execution_count": 205,
   "metadata": {},
   "outputs": [],
   "source": [
    "# Most prevalent race/ethnic group\n",
    "# https://www.census.gov/newsroom/blogs/random-samplings/2021/08/measuring-racial-ethnic-diversity-2020-census.html\n",
    "\n",
    "pct_cols = [\"PCT_P0020002\", # hispanic/latino - not included in the remaining categories\n",
    "        \"PCT_P0020005\", # white\n",
    "        \"PCT_P0020006\", # Black\n",
    "        \"PCT_P0020007\", # american indian/alaska native\n",
    "        \"PCT_P0020008\", # asian\n",
    "        \"PCT_P0020009\", # native hawaiian\n",
    "        \"PCT_P0020010\", # other\n",
    "        \"PCT_P0020011\"] # two+ races\n",
    "\n",
    "max_cols = sa_1_census_df[pct_cols].idxmax(axis=1)\n",
    "\n",
    "# Replace column names with readable values\n",
    "max_cols = max_cols.replace(\"PCT_P0020002\", \"Hispanic/Latino\")\n",
    "max_cols = max_cols.replace(\"PCT_P0020005\", \"White\")\n",
    "max_cols = max_cols.replace(\"PCT_P0020006\", \"Black\")\n",
    "max_cols = max_cols.replace(\"PCT_P0020007\", \"American Indian/Alaska Native\")\n",
    "max_cols = max_cols.replace(\"PCT_P0020008\", \"Asian\")\n",
    "max_cols = max_cols.replace(\"PCT_P0020009\", \"Native Hawaiian/Pacific Islander\")\n",
    "max_cols = max_cols.replace(\"PCT_P0020010\", \"Other Race\")\n",
    "max_cols = max_cols.replace(\"PCT_P0020011\", \"Two or More Races\")"
   ]
  },
  {
   "cell_type": "code",
   "execution_count": 206,
   "metadata": {},
   "outputs": [],
   "source": [
    "# Add column to original census df for most prevalent race/ethnicity\n",
    "sa_1_census_df[\"Prevalent_Race\"] = max_cols"
   ]
  },
  {
   "cell_type": "markdown",
   "metadata": {},
   "source": [
    "### 5 - 30 mile service area"
   ]
  },
  {
   "cell_type": "code",
   "execution_count": 207,
   "metadata": {},
   "outputs": [],
   "source": [
    "# Create pandas dataframe from feature class\n",
    "sa_2_census_df = pd.DataFrame.spatial.from_featureclass(\"combined_census_sa_2_rings\")"
   ]
  },
  {
   "cell_type": "code",
   "execution_count": 208,
   "metadata": {},
   "outputs": [],
   "source": [
    "# Caculate percentages of each race for each census tract\n",
    "sa_2_census_df[\"PCT_P0020002\"] = np.round(100 * (sa_2_census_df[\"P0020002\"] / sa_2_census_df[\"P0010001\"]), 2) # pct hispanic or latino\n",
    "sa_2_census_df[\"PCT_P0020005\"] = np.round(100 * (sa_2_census_df[\"P0020005\"] / sa_2_census_df[\"P0010001\"]), 2) # pct white\n",
    "sa_2_census_df[\"PCT_P0020006\"] = np.round(100 * (sa_2_census_df[\"P0020006\"] / sa_2_census_df[\"P0010001\"]), 2) # pct Black\n",
    "sa_2_census_df[\"PCT_P0020007\"] = np.round(100 * (sa_2_census_df[\"P0020007\"] / sa_2_census_df[\"P0010001\"]), 2) # pct american indian/alaska native\n",
    "sa_2_census_df[\"PCT_P0020008\"] = np.round(100 * (sa_2_census_df[\"P0020008\"] / sa_2_census_df[\"P0010001\"]), 2) # pct asian\n",
    "sa_2_census_df[\"PCT_P0020009\"] = np.round(100 * (sa_2_census_df[\"P0020009\"] / sa_2_census_df[\"P0010001\"]), 2) # pct native hawaiian/pacific islander\n",
    "sa_2_census_df[\"PCT_P0020010\"] = np.round(100 * (sa_2_census_df[\"P0020010\"] / sa_2_census_df[\"P0010001\"]), 2) # pct other\n",
    "sa_2_census_df[\"PCT_P0020011\"] = np.round(100 * (sa_2_census_df[\"P0020011\"] / sa_2_census_df[\"P0010001\"]), 2) # pct two+ races"
   ]
  },
  {
   "cell_type": "code",
   "execution_count": 209,
   "metadata": {},
   "outputs": [],
   "source": [
    "# Calculate total pct of each race for the entire service area\n",
    "total_pop = sum(sa_2_census_df[\"P0010001\"])\n",
    "\n",
    "summary_df[\"PCT_SA_2\"] = [np.round(100 * (sum(sa_2_census_df[col])/total_pop), 2) for col in cols]"
   ]
  },
  {
   "cell_type": "code",
   "execution_count": 210,
   "metadata": {},
   "outputs": [],
   "source": [
    "# Most prevalent race/ethnic group\n",
    "# https://www.census.gov/newsroom/blogs/random-samplings/2021/08/measuring-racial-ethnic-diversity-2020-census.html\n",
    "\n",
    "max_cols = sa_2_census_df[pct_cols].idxmax(axis=1)\n",
    "\n",
    "# Replace column names with readable values\n",
    "max_cols = max_cols.replace(\"PCT_P0020002\", \"Hispanic/Latino\")\n",
    "max_cols = max_cols.replace(\"PCT_P0020005\", \"White\")\n",
    "max_cols = max_cols.replace(\"PCT_P0020006\", \"Black\")\n",
    "max_cols = max_cols.replace(\"PCT_P0020007\", \"American Indian/Alaska Native\")\n",
    "max_cols = max_cols.replace(\"PCT_P0020008\", \"Asian\")\n",
    "max_cols = max_cols.replace(\"PCT_P0020009\", \"Native Hawaiian/Pacific Islander\")\n",
    "max_cols = max_cols.replace(\"PCT_P0020010\", \"Other Race\")\n",
    "max_cols = max_cols.replace(\"PCT_P0020011\", \"Two or More Races\")"
   ]
  },
  {
   "cell_type": "code",
   "execution_count": 211,
   "metadata": {},
   "outputs": [],
   "source": [
    "# Add column to original census df for most prevalent race/ethnicity\n",
    "sa_2_census_df[\"Prevalent_Race\"] = max_cols"
   ]
  },
  {
   "cell_type": "markdown",
   "metadata": {},
   "source": [
    "### 30 - 90 mile service area"
   ]
  },
  {
   "cell_type": "code",
   "execution_count": 212,
   "metadata": {},
   "outputs": [],
   "source": [
    "# Create pandas dataframe from feature class\n",
    "sa_3_census_df = pd.DataFrame.spatial.from_featureclass(\"combined_census_sa_3_rings\") "
   ]
  },
  {
   "cell_type": "code",
   "execution_count": 213,
   "metadata": {},
   "outputs": [],
   "source": [
    "# Caculate percentages of each race for each census tract\n",
    "sa_3_census_df[\"PCT_P0020002\"] = np.round(100 * (sa_3_census_df[\"P0020002\"] / sa_3_census_df[\"P0010001\"]), 2) # pct hispanic or latino\n",
    "sa_3_census_df[\"PCT_P0020005\"] = np.round(100 * (sa_3_census_df[\"P0020005\"] / sa_3_census_df[\"P0010001\"]), 2) # pct white\n",
    "sa_3_census_df[\"PCT_P0020006\"] = np.round(100 * (sa_3_census_df[\"P0020006\"] / sa_3_census_df[\"P0010001\"]), 2) # pct Black\n",
    "sa_3_census_df[\"PCT_P0020007\"] = np.round(100 * (sa_3_census_df[\"P0020007\"] / sa_3_census_df[\"P0010001\"]), 2) # pct american indian/alaska native\n",
    "sa_3_census_df[\"PCT_P0020008\"] = np.round(100 * (sa_3_census_df[\"P0020008\"] / sa_3_census_df[\"P0010001\"]), 2) # pct asian\n",
    "sa_3_census_df[\"PCT_P0020009\"] = np.round(100 * (sa_3_census_df[\"P0020009\"] / sa_3_census_df[\"P0010001\"]), 2) # pct native hawaiian/pacific islander\n",
    "sa_3_census_df[\"PCT_P0020010\"] = np.round(100 * (sa_3_census_df[\"P0020010\"] / sa_3_census_df[\"P0010001\"]), 2) # pct other\n",
    "sa_3_census_df[\"PCT_P0020011\"] = np.round(100 * (sa_3_census_df[\"P0020011\"] / sa_3_census_df[\"P0010001\"]), 2) # pct two+ races"
   ]
  },
  {
   "cell_type": "code",
   "execution_count": 214,
   "metadata": {},
   "outputs": [],
   "source": [
    "# Calculate total pct of each race for the entire service area\n",
    "total_pop = sum(sa_3_census_df[\"P0010001\"])\n",
    "\n",
    "summary_df[\"PCT_SA_3\"] = [np.round(100 * (sum(sa_3_census_df[col])/total_pop), 2) for col in cols]"
   ]
  },
  {
   "cell_type": "code",
   "execution_count": 215,
   "metadata": {},
   "outputs": [],
   "source": [
    "# Most prevalent race/ethnic group\n",
    "# https://www.census.gov/newsroom/blogs/random-samplings/2021/08/measuring-racial-ethnic-diversity-2020-census.html\n",
    "\n",
    "max_cols = sa_3_census_df[pct_cols].idxmax(axis=1)\n",
    "\n",
    "# Replace column names with readable values\n",
    "max_cols = max_cols.replace(\"PCT_P0020002\", \"Hispanic/Latino\")\n",
    "max_cols = max_cols.replace(\"PCT_P0020005\", \"White\")\n",
    "max_cols = max_cols.replace(\"PCT_P0020006\", \"Black\")\n",
    "max_cols = max_cols.replace(\"PCT_P0020007\", \"American Indian/Alaska Native\")\n",
    "max_cols = max_cols.replace(\"PCT_P0020008\", \"Asian\")\n",
    "max_cols = max_cols.replace(\"PCT_P0020009\", \"Native Hawaiian/Pacific Islander\")\n",
    "max_cols = max_cols.replace(\"PCT_P0020010\", \"Other Race\")\n",
    "max_cols = max_cols.replace(\"PCT_P0020011\", \"Two or More Races\")"
   ]
  },
  {
   "cell_type": "code",
   "execution_count": 216,
   "metadata": {},
   "outputs": [],
   "source": [
    "# Add column to original census df for most prevalent race/ethnicity\n",
    "sa_3_census_df[\"Prevalent_Race\"] = max_cols"
   ]
  },
  {
   "cell_type": "markdown",
   "metadata": {},
   "source": [
    "### Entire states of WA and OR"
   ]
  },
  {
   "cell_type": "code",
   "execution_count": 217,
   "metadata": {},
   "outputs": [],
   "source": [
    "# Create pandas dataframe from feature class\n",
    "wa_or_census_df = pd.DataFrame.spatial.from_featureclass(\"wa_or_census\")"
   ]
  },
  {
   "cell_type": "code",
   "execution_count": 218,
   "metadata": {},
   "outputs": [],
   "source": [
    "# Caculate percentages of each race for each census tract\n",
    "wa_or_census_df[\"PCT_P0020002\"] = np.round(100 * (wa_or_census_df[\"P0020002\"] / wa_or_census_df[\"P0010001\"]), 2) # pct hispanic or latino\n",
    "wa_or_census_df[\"PCT_P0020005\"] = np.round(100 * (wa_or_census_df[\"P0020005\"] / wa_or_census_df[\"P0010001\"]), 2) # pct white\n",
    "wa_or_census_df[\"PCT_P0020006\"] = np.round(100 * (wa_or_census_df[\"P0020006\"] / wa_or_census_df[\"P0010001\"]), 2) # pct Black\n",
    "wa_or_census_df[\"PCT_P0020007\"] = np.round(100 * (wa_or_census_df[\"P0020007\"] / wa_or_census_df[\"P0010001\"]), 2) # pct american indian/alaska native\n",
    "wa_or_census_df[\"PCT_P0020008\"] = np.round(100 * (wa_or_census_df[\"P0020008\"] / wa_or_census_df[\"P0010001\"]), 2) # pct asian\n",
    "wa_or_census_df[\"PCT_P0020009\"] = np.round(100 * (wa_or_census_df[\"P0020009\"] / wa_or_census_df[\"P0010001\"]), 2) # pct native hawaiian/pacific islander\n",
    "wa_or_census_df[\"PCT_P0020010\"] = np.round(100 * (wa_or_census_df[\"P0020010\"] / wa_or_census_df[\"P0010001\"]), 2) # pct other\n",
    "wa_or_census_df[\"PCT_P0020011\"] = np.round(100 * (wa_or_census_df[\"P0020011\"] / wa_or_census_df[\"P0010001\"]), 2) # pct two+ races"
   ]
  },
  {
   "cell_type": "code",
   "execution_count": 219,
   "metadata": {},
   "outputs": [],
   "source": [
    "# Calculate total pct of each race for the entire state\n",
    "total_pop = sum(wa_or_census_df[\"P0010001\"])\n",
    "\n",
    "summary_df[\"PCT_WA/OR\"] = [np.round(100 * (sum(wa_or_census_df[col])/total_pop), 2) for col in cols]"
   ]
  },
  {
   "cell_type": "code",
   "execution_count": 220,
   "metadata": {},
   "outputs": [
    {
     "data": {
      "text/html": [
       "<div>\n",
       "<style scoped>\n",
       "    .dataframe tbody tr th:only-of-type {\n",
       "        vertical-align: middle;\n",
       "    }\n",
       "\n",
       "    .dataframe tbody tr th {\n",
       "        vertical-align: top;\n",
       "    }\n",
       "\n",
       "    .dataframe thead th {\n",
       "        text-align: right;\n",
       "    }\n",
       "</style>\n",
       "<table border=\"1\" class=\"dataframe\">\n",
       "  <thead>\n",
       "    <tr style=\"text-align: right;\">\n",
       "      <th></th>\n",
       "      <th>Race</th>\n",
       "      <th>PCT_SA_1</th>\n",
       "      <th>PCT_SA_2</th>\n",
       "      <th>PCT_SA_3</th>\n",
       "      <th>PCT_WA/OR</th>\n",
       "    </tr>\n",
       "  </thead>\n",
       "  <tbody>\n",
       "    <tr>\n",
       "      <th>0</th>\n",
       "      <td>Hispanic/Latino</td>\n",
       "      <td>22.10</td>\n",
       "      <td>13.59</td>\n",
       "      <td>16.33</td>\n",
       "      <td>13.80</td>\n",
       "    </tr>\n",
       "    <tr>\n",
       "      <th>1</th>\n",
       "      <td>White</td>\n",
       "      <td>69.03</td>\n",
       "      <td>66.02</td>\n",
       "      <td>68.97</td>\n",
       "      <td>66.61</td>\n",
       "    </tr>\n",
       "    <tr>\n",
       "      <th>2</th>\n",
       "      <td>Black</td>\n",
       "      <td>0.45</td>\n",
       "      <td>4.46</td>\n",
       "      <td>1.49</td>\n",
       "      <td>3.14</td>\n",
       "    </tr>\n",
       "    <tr>\n",
       "      <th>3</th>\n",
       "      <td>American Indian/Alaska Native</td>\n",
       "      <td>1.22</td>\n",
       "      <td>0.70</td>\n",
       "      <td>1.14</td>\n",
       "      <td>1.12</td>\n",
       "    </tr>\n",
       "    <tr>\n",
       "      <th>4</th>\n",
       "      <td>Asian</td>\n",
       "      <td>0.96</td>\n",
       "      <td>7.31</td>\n",
       "      <td>5.11</td>\n",
       "      <td>7.66</td>\n",
       "    </tr>\n",
       "    <tr>\n",
       "      <th>5</th>\n",
       "      <td>Native Hawaiian/Pacific Islander</td>\n",
       "      <td>1.03</td>\n",
       "      <td>0.81</td>\n",
       "      <td>0.52</td>\n",
       "      <td>0.68</td>\n",
       "    </tr>\n",
       "    <tr>\n",
       "      <th>6</th>\n",
       "      <td>Other Race</td>\n",
       "      <td>0.33</td>\n",
       "      <td>0.55</td>\n",
       "      <td>0.51</td>\n",
       "      <td>0.55</td>\n",
       "    </tr>\n",
       "    <tr>\n",
       "      <th>7</th>\n",
       "      <td>Multiracial (2+ Races)</td>\n",
       "      <td>4.88</td>\n",
       "      <td>6.54</td>\n",
       "      <td>5.92</td>\n",
       "      <td>6.45</td>\n",
       "    </tr>\n",
       "  </tbody>\n",
       "</table>\n",
       "</div>"
      ],
      "text/plain": [
       "                               Race  PCT_SA_1  PCT_SA_2  PCT_SA_3  PCT_WA/OR\n",
       "0                   Hispanic/Latino     22.10     13.59     16.33      13.80\n",
       "1                             White     69.03     66.02     68.97      66.61\n",
       "2                             Black      0.45      4.46      1.49       3.14\n",
       "3     American Indian/Alaska Native      1.22      0.70      1.14       1.12\n",
       "4                             Asian      0.96      7.31      5.11       7.66\n",
       "5  Native Hawaiian/Pacific Islander      1.03      0.81      0.52       0.68\n",
       "6                        Other Race      0.33      0.55      0.51       0.55\n",
       "7            Multiracial (2+ Races)      4.88      6.54      5.92       6.45"
      ]
     },
     "execution_count": 220,
     "metadata": {},
     "output_type": "execute_result"
    }
   ],
   "source": [
    "# View the summary dataframe\n",
    "summary_df"
   ]
  },
  {
   "cell_type": "markdown",
   "metadata": {},
   "source": [
    "### Plots"
   ]
  },
  {
   "cell_type": "code",
   "execution_count": 221,
   "metadata": {},
   "outputs": [
    {
     "data": {
      "text/html": [
       "<div>\n",
       "<style scoped>\n",
       "    .dataframe tbody tr th:only-of-type {\n",
       "        vertical-align: middle;\n",
       "    }\n",
       "\n",
       "    .dataframe tbody tr th {\n",
       "        vertical-align: top;\n",
       "    }\n",
       "\n",
       "    .dataframe thead th {\n",
       "        text-align: right;\n",
       "    }\n",
       "</style>\n",
       "<table border=\"1\" class=\"dataframe\">\n",
       "  <thead>\n",
       "    <tr style=\"text-align: right;\">\n",
       "      <th></th>\n",
       "      <th>Race</th>\n",
       "      <th>variable</th>\n",
       "      <th>value</th>\n",
       "    </tr>\n",
       "  </thead>\n",
       "  <tbody>\n",
       "    <tr>\n",
       "      <th>0</th>\n",
       "      <td>Hispanic/Latino</td>\n",
       "      <td>PCT_SA_1</td>\n",
       "      <td>22.10</td>\n",
       "    </tr>\n",
       "    <tr>\n",
       "      <th>1</th>\n",
       "      <td>White</td>\n",
       "      <td>PCT_SA_1</td>\n",
       "      <td>69.03</td>\n",
       "    </tr>\n",
       "    <tr>\n",
       "      <th>2</th>\n",
       "      <td>Black</td>\n",
       "      <td>PCT_SA_1</td>\n",
       "      <td>0.45</td>\n",
       "    </tr>\n",
       "    <tr>\n",
       "      <th>3</th>\n",
       "      <td>American Indian/Alaska Native</td>\n",
       "      <td>PCT_SA_1</td>\n",
       "      <td>1.22</td>\n",
       "    </tr>\n",
       "    <tr>\n",
       "      <th>4</th>\n",
       "      <td>Asian</td>\n",
       "      <td>PCT_SA_1</td>\n",
       "      <td>0.96</td>\n",
       "    </tr>\n",
       "  </tbody>\n",
       "</table>\n",
       "</div>"
      ],
      "text/plain": [
       "                            Race  variable  value\n",
       "0                Hispanic/Latino  PCT_SA_1  22.10\n",
       "1                          White  PCT_SA_1  69.03\n",
       "2                          Black  PCT_SA_1   0.45\n",
       "3  American Indian/Alaska Native  PCT_SA_1   1.22\n",
       "4                          Asian  PCT_SA_1   0.96"
      ]
     },
     "execution_count": 221,
     "metadata": {},
     "output_type": "execute_result"
    }
   ],
   "source": [
    "# Reshape summary_df to long format\n",
    "summary_long = pd.melt(summary_df, id_vars = [\"Race\"])\n",
    "summary_long.head()"
   ]
  },
  {
   "cell_type": "code",
   "execution_count": 222,
   "metadata": {},
   "outputs": [],
   "source": [
    "# Sort dataframe to get the correct plotting order\n",
    "summary_sorted = summary_df.sort_values(by = \"PCT_SA_1\", ascending = False)"
   ]
  },
  {
   "cell_type": "code",
   "execution_count": 223,
   "metadata": {
    "scrolled": true
   },
   "outputs": [
    {
     "data": {
      "image/png": "[encoded data removed]",
      "text/plain": [
       "<Figure size 2000x500 with 4 Axes>"
      ]
     },
     "metadata": {},
     "output_type": "display_data"
    }
   ],
   "source": [
    "# Plot pct of each race for each service area - summary_df\n",
    "\n",
    "# Create plot\n",
    "p = sns.catplot(data = summary_long,\n",
    "                x = \"value\",\n",
    "                y = \"Race\",\n",
    "                col = \"variable\",\n",
    "                kind = \"bar\",\n",
    "                palette = \"Set2\",\n",
    "                order = summary_sorted[\"Race\"].values) # most prevalent at the top\n",
    "\n",
    "# Change individual plot titles\n",
    "axes = p.axes.flatten()\n",
    "axes[0].set_title(\"0-5 Miles\")\n",
    "axes[1].set_title(\"5-30 Miles\")\n",
    "axes[2].set_title(\"30-90 Miles\")\n",
    "axes[3].set_title(\"States of \\nWashington/Oregon\")\n",
    "\n",
    "# Change axis labels\n",
    "p.set_axis_labels(x_var = \"\", # or Percent\n",
    "                 y_var = \"\")\n",
    "\n",
    "# Export plot\n",
    "plt.savefig(os.path.join(viz_path, \"race_pct.png\"))"
   ]
  },
  {
   "cell_type": "markdown",
   "metadata": {},
   "source": [
    "### Write updated dfs back to feature classes"
   ]
  },
  {
   "cell_type": "code",
   "execution_count": 165,
   "metadata": {},
   "outputs": [
    {
     "data": {
      "text/plain": [
       "'C:\\\\Users\\\\kathr\\\\Documents\\\\outdoor-alliance\\\\mt-hood\\\\mt-hood-analysis\\\\mh_output.gdb\\\\updated_sa_3_rings_census'"
      ]
     },
     "execution_count": 165,
     "metadata": {},
     "output_type": "execute_result"
    }
   ],
   "source": [
    "# Write dataframes back to feature class so the updated columns can be mapped\n",
    "sa_1_census_df.copy().spatial.to_featureclass(location=os.path.join(gdb_path, \"updated_sa_1_rings_census\"), \n",
    "                                        sanitize_columns=False)\n",
    "sa_2_census_df.copy().spatial.to_featureclass(location=os.path.join(gdb_path, \"updated_sa_2_rings_census\"), \n",
    "                                        sanitize_columns=False)\n",
    "sa_3_census_df.copy().spatial.to_featureclass(location=os.path.join(gdb_path, \"updated_sa_3_rings_census\"), \n",
    "                                        sanitize_columns=False)"
   ]
  },
  {
   "cell_type": "markdown",
   "metadata": {},
   "source": [
    "## Demographic Profiles - Education"
   ]
  },
  {
   "cell_type": "markdown",
   "metadata": {},
   "source": [
    "### Summary Table"
   ]
  },
  {
   "cell_type": "code",
   "execution_count": 224,
   "metadata": {},
   "outputs": [],
   "source": [
    "# Create dataframes from feature classes\n",
    "sa_1_census_df = pd.DataFrame.spatial.from_featureclass(\"updated_sa_1_rings_census\")\n",
    "sa_2_census_df = pd.DataFrame.spatial.from_featureclass(\"updated_sa_2_rings_census\")\n",
    "sa_3_census_df = pd.DataFrame.spatial.from_featureclass(\"updated_sa_3_rings_census\")\n",
    "wa_or_census_df = pd.DataFrame.spatial.from_featureclass(\"combined_wa_or_census\")"
   ]
  },
  {
   "cell_type": "code",
   "execution_count": 225,
   "metadata": {},
   "outputs": [],
   "source": [
    "# Create empty dataframe to hold summary information\n",
    "summary_df = pd.DataFrame()"
   ]
  },
  {
   "cell_type": "code",
   "execution_count": 226,
   "metadata": {},
   "outputs": [],
   "source": [
    "edu_cols = [\"AMRZE022\", # Bachelor's degree \n",
    "            \"AMRZE023\", # Master's degree \n",
    "            \"AMRZE024\", # Professional school degree \n",
    "            \"AMRZE025\"] # Doctorate degree "
   ]
  },
  {
   "cell_type": "code",
   "execution_count": 227,
   "metadata": {},
   "outputs": [],
   "source": [
    "sa_1_census_df[\"Bach_Higher_Count\"] = sa_1_census_df[edu_cols].sum(axis = 1)\n",
    "sa_2_census_df[\"Bach_Higher_Count\"] = sa_2_census_df[edu_cols].sum(axis = 1)\n",
    "sa_3_census_df[\"Bach_Higher_Count\"] = sa_3_census_df[edu_cols].sum(axis = 1)\n",
    "wa_or_census_df[\"Bach_Higher_Count\"] = wa_or_census_df[edu_cols].sum(axis = 1)"
   ]
  },
  {
   "cell_type": "code",
   "execution_count": 228,
   "metadata": {},
   "outputs": [],
   "source": [
    "sa_1_census_df[\"Bach_Higher_Pct\"] = 100 * (sa_1_census_df[\"Bach_Higher_Count\"] / sa_1_census_df[\"AMRZE001\"])\n",
    "sa_2_census_df[\"Bach_Higher_Pct\"] = 100 * (sa_2_census_df[\"Bach_Higher_Count\"] / sa_2_census_df[\"AMRZE001\"])\n",
    "sa_3_census_df[\"Bach_Higher_Pct\"] = 100 * (sa_3_census_df[\"Bach_Higher_Count\"] / sa_3_census_df[\"AMRZE001\"])"
   ]
  },
  {
   "cell_type": "code",
   "execution_count": 229,
   "metadata": {},
   "outputs": [],
   "source": [
    "summary_df[\"PCT_SA_1\"] = [np.round(100 * (sum(sa_1_census_df[\"Bach_Higher_Count\"])/sum(sa_1_census_df[\"AMRZE001\"])), 2)]\n",
    "summary_df[\"PCT_SA_2\"] = [np.round(100 * (sum(sa_2_census_df[\"Bach_Higher_Count\"])/sum(sa_2_census_df[\"AMRZE001\"])), 2)]\n",
    "summary_df[\"PCT_SA_3\"] = [np.round(100 * (sum(sa_3_census_df[\"Bach_Higher_Count\"])/sum(sa_3_census_df[\"AMRZE001\"])), 2)]\n",
    "summary_df[\"PCT_WA/OR\"] = [np.round(100 * (sum(wa_or_census_df[\"Bach_Higher_Count\"])/sum(wa_or_census_df[\"AMRZE001\"])), 2)]"
   ]
  },
  {
   "cell_type": "code",
   "execution_count": 144,
   "metadata": {},
   "outputs": [
    {
     "data": {
      "text/html": [
       "<div>\n",
       "<style scoped>\n",
       "    .dataframe tbody tr th:only-of-type {\n",
       "        vertical-align: middle;\n",
       "    }\n",
       "\n",
       "    .dataframe tbody tr th {\n",
       "        vertical-align: top;\n",
       "    }\n",
       "\n",
       "    .dataframe thead th {\n",
       "        text-align: right;\n",
       "    }\n",
       "</style>\n",
       "<table border=\"1\" class=\"dataframe\">\n",
       "  <thead>\n",
       "    <tr style=\"text-align: right;\">\n",
       "      <th></th>\n",
       "      <th>PCT_SA_1</th>\n",
       "      <th>PCT_SA_2</th>\n",
       "      <th>PCT_SA_3</th>\n",
       "      <th>PCT_WA/OR</th>\n",
       "    </tr>\n",
       "  </thead>\n",
       "  <tbody>\n",
       "    <tr>\n",
       "      <th>0</th>\n",
       "      <td>19.16</td>\n",
       "      <td>38.89</td>\n",
       "      <td>35.48</td>\n",
       "      <td>35.86</td>\n",
       "    </tr>\n",
       "  </tbody>\n",
       "</table>\n",
       "</div>"
      ],
      "text/plain": [
       "   PCT_SA_1  PCT_SA_2  PCT_SA_3  PCT_WA/OR\n",
       "0     19.16     38.89     35.48      35.86"
      ]
     },
     "execution_count": 144,
     "metadata": {},
     "output_type": "execute_result"
    }
   ],
   "source": [
    "summary_df"
   ]
  },
  {
   "cell_type": "markdown",
   "metadata": {},
   "source": [
    "### Plots"
   ]
  },
  {
   "cell_type": "code",
   "execution_count": 230,
   "metadata": {},
   "outputs": [
    {
     "data": {
      "text/html": [
       "<div>\n",
       "<style scoped>\n",
       "    .dataframe tbody tr th:only-of-type {\n",
       "        vertical-align: middle;\n",
       "    }\n",
       "\n",
       "    .dataframe tbody tr th {\n",
       "        vertical-align: top;\n",
       "    }\n",
       "\n",
       "    .dataframe thead th {\n",
       "        text-align: right;\n",
       "    }\n",
       "</style>\n",
       "<table border=\"1\" class=\"dataframe\">\n",
       "  <thead>\n",
       "    <tr style=\"text-align: right;\">\n",
       "      <th></th>\n",
       "      <th>variable</th>\n",
       "      <th>value</th>\n",
       "    </tr>\n",
       "  </thead>\n",
       "  <tbody>\n",
       "    <tr>\n",
       "      <th>0</th>\n",
       "      <td>PCT_SA_1</td>\n",
       "      <td>19.16</td>\n",
       "    </tr>\n",
       "    <tr>\n",
       "      <th>1</th>\n",
       "      <td>PCT_SA_2</td>\n",
       "      <td>38.89</td>\n",
       "    </tr>\n",
       "    <tr>\n",
       "      <th>2</th>\n",
       "      <td>PCT_SA_3</td>\n",
       "      <td>35.48</td>\n",
       "    </tr>\n",
       "    <tr>\n",
       "      <th>3</th>\n",
       "      <td>PCT_WA/OR</td>\n",
       "      <td>35.86</td>\n",
       "    </tr>\n",
       "  </tbody>\n",
       "</table>\n",
       "</div>"
      ],
      "text/plain": [
       "    variable  value\n",
       "0   PCT_SA_1  19.16\n",
       "1   PCT_SA_2  38.89\n",
       "2   PCT_SA_3  35.48\n",
       "3  PCT_WA/OR  35.86"
      ]
     },
     "execution_count": 230,
     "metadata": {},
     "output_type": "execute_result"
    }
   ],
   "source": [
    "# Reshape summary_df to long format\n",
    "summary_long = pd.melt(summary_df)\n",
    "summary_long.head()"
   ]
  },
  {
   "cell_type": "code",
   "execution_count": 231,
   "metadata": {
    "scrolled": true
   },
   "outputs": [
    {
     "data": {
      "image/png": "[encoded data removed]",
      "text/plain": [
       "<Figure size 640x480 with 1 Axes>"
      ]
     },
     "metadata": {},
     "output_type": "display_data"
    }
   ],
   "source": [
    "# Create barplot\n",
    "p = sns.barplot(data = summary_long,\n",
    "           x = \"variable\",\n",
    "           y = \"value\",\n",
    "           palette = \"Set2\")\n",
    "\n",
    "# Change axis labels\n",
    "p.set_xlabel(\"\")\n",
    "p.set_ylabel(\"Percent Population with Bachelors or Higher\")\n",
    "\n",
    "# Change tick labels\n",
    "p.set_xticklabels([\"0-5 Miles\", \"5-30 Miles\", \"30-90 Miles\", \"States of \\nWashington/Oregon\"])\n",
    "\n",
    "# Export plot\n",
    "plt.savefig(os.path.join(viz_path, \"edu_pct.png\"))"
   ]
  },
  {
   "cell_type": "markdown",
   "metadata": {},
   "source": [
    "### Write updated dfs back to feature classes"
   ]
  },
  {
   "cell_type": "code",
   "execution_count": 41,
   "metadata": {},
   "outputs": [
    {
     "data": {
      "text/plain": [
       "'C:\\\\Users\\\\kathr\\\\Documents\\\\outdoor-alliance\\\\mt-hood\\\\mt-hood-analysis\\\\mh_output.gdb\\\\updated_sa_3_rings_census'"
      ]
     },
     "execution_count": 41,
     "metadata": {},
     "output_type": "execute_result"
    }
   ],
   "source": [
    "# Write dataframes back to feature class so the updated columns can be mapped\n",
    "sa_1_census_df.copy().spatial.to_featureclass(location=os.path.join(gdb_path, \"updated_sa_1_rings_census\"), \n",
    "                                        sanitize_columns=False)\n",
    "sa_2_census_df.copy().spatial.to_featureclass(location=os.path.join(gdb_path, \"updated_sa_2_rings_census\"), \n",
    "                                        sanitize_columns=False)\n",
    "sa_3_census_df.copy().spatial.to_featureclass(location=os.path.join(gdb_path, \"updated_sa_3_rings_census\"), \n",
    "                                        sanitize_columns=False)"
   ]
  },
  {
   "cell_type": "markdown",
   "metadata": {},
   "source": [
    "## Demographic Profiles - Income"
   ]
  },
  {
   "cell_type": "markdown",
   "metadata": {},
   "source": [
    "### Summary Table"
   ]
  },
  {
   "cell_type": "code",
   "execution_count": 232,
   "metadata": {},
   "outputs": [],
   "source": [
    "# Create dataframes from feature classes\n",
    "sa_1_census_df = pd.DataFrame.spatial.from_featureclass(\"updated_sa_1_rings_census\")\n",
    "sa_2_census_df = pd.DataFrame.spatial.from_featureclass(\"updated_sa_2_rings_census\")\n",
    "sa_3_census_df = pd.DataFrame.spatial.from_featureclass(\"updated_sa_3_rings_census\")\n",
    "wa_or_census_df = pd.DataFrame.spatial.from_featureclass(\"combined_wa_or_census\")"
   ]
  },
  {
   "cell_type": "code",
   "execution_count": 233,
   "metadata": {},
   "outputs": [],
   "source": [
    "# Create empty dataframe to hold summary information\n",
    "summary_df = pd.DataFrame()"
   ]
  },
  {
   "cell_type": "code",
   "execution_count": 234,
   "metadata": {},
   "outputs": [],
   "source": [
    "inc_cols = [\"AMZME002\", # Under .50\n",
    "            \"AMZME003\"] # .50 - .99 "
   ]
  },
  {
   "cell_type": "code",
   "execution_count": 235,
   "metadata": {},
   "outputs": [],
   "source": [
    "sa_1_census_df[\"Below_Pov_Line_Count\"] = sa_1_census_df[inc_cols].sum(axis = 1)\n",
    "sa_2_census_df[\"Below_Pov_Line_Count\"] = sa_2_census_df[inc_cols].sum(axis = 1)\n",
    "sa_3_census_df[\"Below_Pov_Line_Count\"] = sa_3_census_df[inc_cols].sum(axis = 1)\n",
    "wa_or_census_df[\"Below_Pov_Line_Count\"] = wa_or_census_df[inc_cols].sum(axis = 1)"
   ]
  },
  {
   "cell_type": "code",
   "execution_count": 236,
   "metadata": {},
   "outputs": [],
   "source": [
    "sa_1_census_df[\"Below_Pov_Line_Pct\"] = 100 * (sa_1_census_df[\"Below_Pov_Line_Count\"] / sa_1_census_df[\"AMZME001\"])\n",
    "sa_2_census_df[\"Below_Pov_Line_Pct\"] = 100 * (sa_2_census_df[\"Below_Pov_Line_Count\"] / sa_2_census_df[\"AMZME001\"])\n",
    "sa_3_census_df[\"Below_Pov_Line_Pct\"] = 100 * (sa_3_census_df[\"Below_Pov_Line_Count\"] / sa_3_census_df[\"AMZME001\"])"
   ]
  },
  {
   "cell_type": "code",
   "execution_count": 237,
   "metadata": {},
   "outputs": [],
   "source": [
    "summary_df[\"PCT_SA_1\"] = [np.round(100 * (sum(sa_1_census_df[\"Below_Pov_Line_Count\"])/sum(sa_1_census_df[\"AMZME001\"])), 2)]\n",
    "summary_df[\"PCT_SA_2\"] = [np.round(100 * (sum(sa_2_census_df[\"Below_Pov_Line_Count\"])/sum(sa_2_census_df[\"AMZME001\"])), 2)]\n",
    "summary_df[\"PCT_SA_3\"] = [np.round(100 * (sum(sa_3_census_df[\"Below_Pov_Line_Count\"])/sum(sa_3_census_df[\"AMZME001\"])), 2)]\n",
    "summary_df[\"PCT_WA/OR\"] = [np.round(100 * (sum(wa_or_census_df[\"Below_Pov_Line_Count\"])/sum(wa_or_census_df[\"AMZME001\"])), 2)]"
   ]
  },
  {
   "cell_type": "code",
   "execution_count": 238,
   "metadata": {},
   "outputs": [
    {
     "data": {
      "text/html": [
       "<div>\n",
       "<style scoped>\n",
       "    .dataframe tbody tr th:only-of-type {\n",
       "        vertical-align: middle;\n",
       "    }\n",
       "\n",
       "    .dataframe tbody tr th {\n",
       "        vertical-align: top;\n",
       "    }\n",
       "\n",
       "    .dataframe thead th {\n",
       "        text-align: right;\n",
       "    }\n",
       "</style>\n",
       "<table border=\"1\" class=\"dataframe\">\n",
       "  <thead>\n",
       "    <tr style=\"text-align: right;\">\n",
       "      <th></th>\n",
       "      <th>PCT_SA_1</th>\n",
       "      <th>PCT_SA_2</th>\n",
       "      <th>PCT_SA_3</th>\n",
       "      <th>PCT_WA/OR</th>\n",
       "    </tr>\n",
       "  </thead>\n",
       "  <tbody>\n",
       "    <tr>\n",
       "      <th>0</th>\n",
       "      <td>13.54</td>\n",
       "      <td>12.42</td>\n",
       "      <td>10.04</td>\n",
       "      <td>10.97</td>\n",
       "    </tr>\n",
       "  </tbody>\n",
       "</table>\n",
       "</div>"
      ],
      "text/plain": [
       "   PCT_SA_1  PCT_SA_2  PCT_SA_3  PCT_WA/OR\n",
       "0     13.54     12.42     10.04      10.97"
      ]
     },
     "execution_count": 238,
     "metadata": {},
     "output_type": "execute_result"
    }
   ],
   "source": [
    "summary_df"
   ]
  },
  {
   "cell_type": "markdown",
   "metadata": {},
   "source": [
    "### Plots"
   ]
  },
  {
   "cell_type": "code",
   "execution_count": 239,
   "metadata": {},
   "outputs": [
    {
     "data": {
      "text/html": [
       "<div>\n",
       "<style scoped>\n",
       "    .dataframe tbody tr th:only-of-type {\n",
       "        vertical-align: middle;\n",
       "    }\n",
       "\n",
       "    .dataframe tbody tr th {\n",
       "        vertical-align: top;\n",
       "    }\n",
       "\n",
       "    .dataframe thead th {\n",
       "        text-align: right;\n",
       "    }\n",
       "</style>\n",
       "<table border=\"1\" class=\"dataframe\">\n",
       "  <thead>\n",
       "    <tr style=\"text-align: right;\">\n",
       "      <th></th>\n",
       "      <th>variable</th>\n",
       "      <th>value</th>\n",
       "    </tr>\n",
       "  </thead>\n",
       "  <tbody>\n",
       "    <tr>\n",
       "      <th>0</th>\n",
       "      <td>PCT_SA_1</td>\n",
       "      <td>13.54</td>\n",
       "    </tr>\n",
       "    <tr>\n",
       "      <th>1</th>\n",
       "      <td>PCT_SA_2</td>\n",
       "      <td>12.42</td>\n",
       "    </tr>\n",
       "    <tr>\n",
       "      <th>2</th>\n",
       "      <td>PCT_SA_3</td>\n",
       "      <td>10.04</td>\n",
       "    </tr>\n",
       "    <tr>\n",
       "      <th>3</th>\n",
       "      <td>PCT_WA/OR</td>\n",
       "      <td>10.97</td>\n",
       "    </tr>\n",
       "  </tbody>\n",
       "</table>\n",
       "</div>"
      ],
      "text/plain": [
       "    variable  value\n",
       "0   PCT_SA_1  13.54\n",
       "1   PCT_SA_2  12.42\n",
       "2   PCT_SA_3  10.04\n",
       "3  PCT_WA/OR  10.97"
      ]
     },
     "execution_count": 239,
     "metadata": {},
     "output_type": "execute_result"
    }
   ],
   "source": [
    "# Reshape summary_df to long format\n",
    "summary_long = pd.melt(summary_df)\n",
    "summary_long.head()"
   ]
  },
  {
   "cell_type": "code",
   "execution_count": 240,
   "metadata": {},
   "outputs": [
    {
     "data": {
      "image/png": "[encoded data removed]",
      "text/plain": [
       "<Figure size 640x480 with 1 Axes>"
      ]
     },
     "metadata": {},
     "output_type": "display_data"
    }
   ],
   "source": [
    "# Create barplot\n",
    "p = sns.barplot(data = summary_long,\n",
    "           x = \"variable\",\n",
    "           y = \"value\",\n",
    "           palette = \"Set2\")\n",
    "\n",
    "# Change axis labels\n",
    "p.set_xlabel(\"\")\n",
    "p.set_ylabel(\"Percent Population Below Poverty Level\")\n",
    "\n",
    "# Change tick labels\n",
    "p.set_xticklabels([\"0-5 Miles\", \"5-30 Miles\", \"30-90 Miles\", \"States of \\nWashington/Oregon\"])\n",
    "\n",
    "# Export plot\n",
    "plt.savefig(os.path.join(viz_path, \"inc_pct.png\"))"
   ]
  },
  {
   "cell_type": "markdown",
   "metadata": {},
   "source": [
    "### Write updated dfs back to feature class"
   ]
  },
  {
   "cell_type": "code",
   "execution_count": 49,
   "metadata": {},
   "outputs": [
    {
     "data": {
      "text/plain": [
       "'C:\\\\Users\\\\kathr\\\\Documents\\\\outdoor-alliance\\\\mt-hood\\\\mt-hood-analysis\\\\mh_output.gdb\\\\updated_sa_3_rings_census'"
      ]
     },
     "execution_count": 49,
     "metadata": {},
     "output_type": "execute_result"
    }
   ],
   "source": [
    "# Write dataframes back to feature class so the updated columns can be mapped\n",
    "sa_1_census_df.copy().spatial.to_featureclass(location=os.path.join(gdb_path, \"updated_sa_1_rings_census\"), \n",
    "                                        sanitize_columns=False)\n",
    "sa_2_census_df.copy().spatial.to_featureclass(location=os.path.join(gdb_path, \"updated_sa_2_rings_census\"), \n",
    "                                        sanitize_columns=False)\n",
    "sa_3_census_df.copy().spatial.to_featureclass(location=os.path.join(gdb_path, \"updated_sa_3_rings_census\"), \n",
    "                                        sanitize_columns=False)"
   ]
  },
  {
   "cell_type": "markdown",
   "metadata": {},
   "source": [
    "# Maps"
   ]
  },
  {
   "cell_type": "markdown",
   "metadata": {},
   "source": [
    "## Race/Ethnicity"
   ]
  },
  {
   "cell_type": "code",
   "execution_count": 50,
   "metadata": {},
   "outputs": [],
   "source": [
    "# Set up environment\n",
    "aprx = arcpy.mp.ArcGISProject(\"CURRENT\")\n",
    "aprx.defaultGeodatabase = gdb_path"
   ]
  },
  {
   "cell_type": "markdown",
   "metadata": {},
   "source": [
    "### Most Prevalent Race for Each Census Tract"
   ]
  },
  {
   "cell_type": "code",
   "execution_count": 51,
   "metadata": {},
   "outputs": [],
   "source": [
    "# Create map\n",
    "# https://pro.arcgis.com/en/pro-app/latest/arcpy/mapping/arcgisproject-class.htm\n",
    "prev_race = aprx.createMap(name = \"Most Prevalent Race\", \n",
    "                           map_type = \"MAP\")\n",
    "prev_race = aprx.listMaps(\"Most Prevalent Race\")[0]"
   ]
  },
  {
   "cell_type": "code",
   "execution_count": 52,
   "metadata": {},
   "outputs": [
    {
     "data": {
      "text/plain": [
       "<arcpy._mp.Layer object at 0x0000016474CC4190>"
      ]
     },
     "execution_count": 52,
     "metadata": {},
     "output_type": "execute_result"
    }
   ],
   "source": [
    "# Add updated census data for all 3 service areas\n",
    "prev_race.addDataFromPath(os.path.join(gdb_path, \"updated_sa_1_rings_census\"))\n",
    "prev_race.addDataFromPath(os.path.join(gdb_path, \"updated_sa_2_rings_census\"))\n",
    "prev_race.addDataFromPath(os.path.join(gdb_path, \"updated_sa_3_rings_census\"))"
   ]
  },
  {
   "cell_type": "code",
   "execution_count": 53,
   "metadata": {},
   "outputs": [],
   "source": [
    "# Get layers on map\n",
    "sa_1 = prev_race.listLayers(\"updated_sa_1_rings_census\")[0]\n",
    "sa_2 = prev_race.listLayers(\"updated_sa_2_rings_census\")[0]\n",
    "sa_3 = prev_race.listLayers(\"updated_sa_3_rings_census\")[0]\n",
    "all_sa = [sa_1, sa_2, sa_3]"
   ]
  },
  {
   "cell_type": "code",
   "execution_count": 54,
   "metadata": {},
   "outputs": [],
   "source": [
    "# Map all service areas with same alpha\n",
    "for lyr in all_sa:\n",
    "    sym = lyr.symbology\n",
    "    sym.updateRenderer(\"UniqueValueRenderer\") \n",
    "    sym.renderer.fields = [\"Prevalent_Race\"]\n",
    "\n",
    "    for grp in sym.renderer.groups:\n",
    "        for itm in grp.items:\n",
    "            myVal = itm.values[0][0]\n",
    "            #print(\"myVal: {0}\".format(myVal))\n",
    "            # RGB values taken from colors in the Set 2 (8 classes) color ramp\n",
    "            # https://colorbrewer2.org/#type=qualitative&scheme=Set2&n=8\n",
    "            if myVal == \"Hispanic/Latino\":\n",
    "                itm.symbol.color = {\"RGB\": [252, 141, 98, 100]} \n",
    "            elif myVal == \"White\":\n",
    "                itm.symbol.color = {\"RGB\": [141, 160, 203, 100]} \n",
    "            elif myVal == \"Asian\":\n",
    "                itm.symbol.color = {\"RGB\": [166, 216, 84, 100]} \n",
    "            elif myVal == \"Black\":\n",
    "                itm.symbol.color = {\"RGB\": [255, 217, 47, 100]} \n",
    "            elif myVal == \"Two or More Races\":\n",
    "                itm.symbol.color = {\"RGB\": [213, 138, 195, 100]} \n",
    "            elif myVal == \"American Indian/Alaska Native\":\n",
    "                itm.symbol.color = {\"RGB\": [102, 194, 165, 100]} \n",
    "            elif myVal == \"Native Hawaiian/Pacific Islander\":\n",
    "                itm.symbol.color = {\"RGB\": [229, 196, 148, 100]}\n",
    "            elif myVal == \"Other Race\":\n",
    "                itm.symbol.color = {\"RGB\": [179, 179, 179, 100]}\n",
    "            elif myVal == \"<Null>\":\n",
    "                itm.symbol.color = {\"RGB\": [0, 0, 0, 0]}\n",
    "            \n",
    "            lyr.symbology = sym"
   ]
  },
  {
   "cell_type": "code",
   "execution_count": null,
   "metadata": {},
   "outputs": [],
   "source": [
    "# Mapping with different alphas to emphasize different service areas"
   ]
  },
  {
   "cell_type": "code",
   "execution_count": 55,
   "metadata": {},
   "outputs": [],
   "source": [
    "# Define list of maps to create\n",
    "map_names = [\"SA1 Prev Race\", \"SA2 Prev Race\", \"SA3 Prev Race\"]\n",
    "\n",
    "# Create each map\n",
    "for name in map_names:\n",
    "    aprx.createMap(name = name,\n",
    "                  map_type = \"MAP\")"
   ]
  },
  {
   "cell_type": "code",
   "execution_count": 64,
   "metadata": {},
   "outputs": [],
   "source": [
    "# Define which map to update\n",
    "#prev_race = aprx.listMaps(\"SA1 Prev Race\")[0]\n",
    "#prev_race = aprx.listMaps(\"SA2 Prev Race\")[0]\n",
    "prev_race = aprx.listMaps(\"SA3 Prev Race\")[0]"
   ]
  },
  {
   "cell_type": "code",
   "execution_count": 65,
   "metadata": {},
   "outputs": [
    {
     "data": {
      "text/plain": [
       "<arcpy._mp.Layer object at 0x00000164B401DF40>"
      ]
     },
     "execution_count": 65,
     "metadata": {},
     "output_type": "execute_result"
    }
   ],
   "source": [
    "# Add updated census data for all 3 service areas\n",
    "prev_race.addDataFromPath(os.path.join(gdb_path, \"updated_sa_1_rings_census\"))\n",
    "prev_race.addDataFromPath(os.path.join(gdb_path, \"updated_sa_2_rings_census\"))\n",
    "prev_race.addDataFromPath(os.path.join(gdb_path, \"updated_sa_3_rings_census\"))"
   ]
  },
  {
   "cell_type": "code",
   "execution_count": 66,
   "metadata": {},
   "outputs": [],
   "source": [
    "# Get layers on map\n",
    "sa_1 = prev_race.listLayers(\"updated_sa_1_rings_census\")[0]\n",
    "sa_2 = prev_race.listLayers(\"updated_sa_2_rings_census\")[0]\n",
    "sa_3 = prev_race.listLayers(\"updated_sa_3_rings_census\")[0]\n",
    "all_sa = [sa_1, sa_2, sa_3]"
   ]
  },
  {
   "cell_type": "code",
   "execution_count": 67,
   "metadata": {},
   "outputs": [],
   "source": [
    "# Iterate through the three service areas and add each to the map with updated symbology\n",
    "for lyr in all_sa:\n",
    "    alpha = 30\n",
    "    # Update alpha for the service area that is being highlighted\n",
    "    #if lyr.name == \"updated_sa_1_rings_census\":\n",
    "    #if lyr.name == \"updated_sa_2_rings_census\":\n",
    "    if lyr.name == \"updated_sa_3_rings_census\":\n",
    "        alpha = 100\n",
    "    sym = lyr.symbology\n",
    "    sym.updateRenderer(\"UniqueValueRenderer\")\n",
    "    sym.renderer.fields = [\"Prevalent_Race\"]\n",
    "\n",
    "    for grp in sym.renderer.groups:\n",
    "        for itm in grp.items:\n",
    "            myVal = itm.values[0][0]\n",
    "            #print(\"myVal: {0}\".format(myVal))\n",
    "            # RGB values taken from colors in the Set 2 (8 classes) color ramp\n",
    "            # https://colorbrewer2.org/#type=qualitative&scheme=Set2&n=8\n",
    "            if myVal == \"Hispanic/Latino\":\n",
    "                itm.symbol.color = {\"RGB\": [252, 141, 98, alpha]} \n",
    "            elif myVal == \"White\":\n",
    "                itm.symbol.color = {\"RGB\": [141, 160, 203, alpha]} \n",
    "            elif myVal == \"Asian\":\n",
    "                itm.symbol.color = {\"RGB\": [166, 216, 84, alpha]} \n",
    "            elif myVal == \"Black\":\n",
    "                itm.symbol.color = {\"RGB\": [255, 217, 47, alpha]} \n",
    "            elif myVal == \"Two or More Races\":\n",
    "                itm.symbol.color = {\"RGB\": [213, 138, 195, alpha]} \n",
    "            elif myVal == \"American Indian/Alaska Native\":\n",
    "                itm.symbol.color = {\"RGB\": [102, 194, 165, alpha]} \n",
    "            elif myVal == \"Native Hawaiian/Pacific Islander\":\n",
    "                itm.symbol.color = {\"RGB\": [229, 196, 148, alpha]}\n",
    "            elif myVal == \"Other Race\":\n",
    "                itm.symbol.color = {\"RGB\": [179, 179, 179, alpha]}\n",
    "            elif myVal == \"<Null>\":\n",
    "                itm.symbol.color = {\"RGB\": [0, 0, 0, 0]}\n",
    "            \n",
    "            lyr.symbology = sym"
   ]
  },
  {
   "cell_type": "markdown",
   "metadata": {},
   "source": [
    "### Race densities"
   ]
  },
  {
   "cell_type": "code",
   "execution_count": 68,
   "metadata": {},
   "outputs": [],
   "source": [
    "# Define list of maps to create\n",
    "map_names = [\"Pct Hispanic or Latino\",\n",
    "            \"Pct White\",\n",
    "            \"Pct Black\",\n",
    "            \"Pct American Indian or Alaska Native\",\n",
    "            \"Pct Asian\", \n",
    "            \"Pct Native Hawaiian or Pacific Islander\",\n",
    "            \"Pct Other\",\n",
    "            \"Pct Two+\"]\n",
    "\n",
    "# Create each map\n",
    "for name in map_names:\n",
    "    aprx.createMap(name = name,\n",
    "                  map_type = \"MAP\")"
   ]
  },
  {
   "cell_type": "code",
   "execution_count": 69,
   "metadata": {},
   "outputs": [],
   "source": [
    "# Define columns to use for mapping\n",
    "pct_cols = [\"PCT_P0020002\", # hispanic/latino\n",
    "        \"PCT_P0020005\", # white\n",
    "        \"PCT_P0020006\", # Black\n",
    "        \"PCT_P0020007\", # american indian/alaska native\n",
    "        \"PCT_P0020008\", # asian\n",
    "        \"PCT_P0020009\", # native hawaiian\n",
    "        \"PCT_P0020010\", # other\n",
    "        \"PCT_P0020011\"] # two+ races"
   ]
  },
  {
   "cell_type": "code",
   "execution_count": 70,
   "metadata": {},
   "outputs": [],
   "source": [
    "# Map with Graduated Colors / manually specified breaks\n",
    "# Iterate over all maps and symbolize based on each racial/ethnic group one by one\n",
    "for i in range(len(map_names)):\n",
    "    # Get the current map\n",
    "    cur_map = aprx.listMaps(map_names[i])[0]\n",
    "    \n",
    "    # Add census data to the map\n",
    "    cur_map.addDataFromPath(os.path.join(gdb_path, \"nd_rings_census\"))\n",
    "    \n",
    "    # Get the map layer\n",
    "    lyr = cur_map.listLayers(\"nd_rings_census\")[0]\n",
    "    \n",
    "    # Update symbology\n",
    "    sym = lyr.symbology\n",
    "    sym.updateRenderer(\"GraduatedColorsRenderer\")\n",
    "    sym.renderer.classificationField = pct_cols[i] \n",
    "    sym.renderer.breakCount = 5\n",
    "    sym.renderer.colorRamp = aprx.listColorRamps(\"Viridis\")[0]\n",
    "\n",
    "    break_val = 20\n",
    "    for brk in sym.renderer.classBreaks:\n",
    "        brk.upperBound = break_val\n",
    "        brk.label = str(break_val - 20) + \" - \" + str(break_val)\n",
    "        break_val += 20\n",
    "\n",
    "    lyr.symbology = sym"
   ]
  },
  {
   "cell_type": "code",
   "execution_count": 71,
   "metadata": {},
   "outputs": [],
   "source": [
    "# Map with Unclassed Colors\n",
    "# Iterate over all maps and symbolize based on each racial/ethnic group one by one\n",
    "for i in range(len(map_names)):\n",
    "    # Get the current map\n",
    "    cur_map = aprx.listMaps(map_names[i])[0]\n",
    "    \n",
    "    # Add census data to the map\n",
    "    cur_map.addDataFromPath(os.path.join(gdb_path, \"nd_rings_census\"))\n",
    "    \n",
    "    # Get the map layer\n",
    "    lyr = cur_map.listLayers(\"nd_rings_census\")[0]\n",
    "    \n",
    "    # Update symbology\n",
    "    sym = lyr.symbology\n",
    "    sym.updateRenderer(\"UnclassedColorsRenderer\")\n",
    "    sym.renderer.field = pct_cols[i] \n",
    "    sym.renderer.colorRamp = aprx.listColorRamps(\"Viridis\")[0]\n",
    "\n",
    "    lyr.symbology = sym"
   ]
  },
  {
   "cell_type": "markdown",
   "metadata": {},
   "source": [
    "## Education"
   ]
  },
  {
   "cell_type": "code",
   "execution_count": 72,
   "metadata": {},
   "outputs": [
    {
     "data": {
      "text/plain": [
       "<arcpy._mp.Layer object at 0x00000163FB7A0F70>"
      ]
     },
     "execution_count": 72,
     "metadata": {},
     "output_type": "execute_result"
    }
   ],
   "source": [
    "# Define map\n",
    "edu = aprx.createMap(name = \"Education\",\n",
    "                    map_type = \"MAP\")\n",
    "edu = aprx.listMaps(\"Education\")[0] \n",
    "\n",
    "# Add education census data for all 3 service areas\n",
    "edu.addDataFromPath(os.path.join(gdb_path, \"updated_sa_1_rings_census\"))\n",
    "edu.addDataFromPath(os.path.join(gdb_path, \"updated_sa_2_rings_census\"))\n",
    "edu.addDataFromPath(os.path.join(gdb_path, \"updated_sa_3_rings_census\"))"
   ]
  },
  {
   "cell_type": "code",
   "execution_count": 73,
   "metadata": {},
   "outputs": [],
   "source": [
    "# Get layers on map\n",
    "sa_1 = edu.listLayers(\"updated_sa_1_rings_census\")[0]\n",
    "sa_2 = edu.listLayers(\"updated_sa_2_rings_census\")[0]\n",
    "sa_3 = edu.listLayers(\"updated_sa_3_rings_census\")[0]\n",
    "\n",
    "all_sa = [sa_1, sa_2, sa_3]"
   ]
  },
  {
   "cell_type": "code",
   "execution_count": 74,
   "metadata": {},
   "outputs": [],
   "source": [
    "# Map with unclassed colors to see data range\n",
    "for lyr in all_sa:\n",
    "    sym = lyr.symbology\n",
    "    sym.updateRenderer(\"UnclassedColorsRenderer\")\n",
    "    sym.renderer.field = \"Bach_Higher_Pct\"\n",
    "    sym.renderer.colorRamp = aprx.listColorRamps(\"Viridis\")[0]\n",
    "            \n",
    "    lyr.symbology = sym\n",
    "    \n",
    "# SA 1 1-43\n",
    "# SA2 4-84\n",
    "# SA3 0-87"
   ]
  },
  {
   "cell_type": "code",
   "execution_count": 75,
   "metadata": {},
   "outputs": [],
   "source": [
    "# Mapping with all the same alpha\n",
    "for lyr in all_sa:\n",
    "    sym = lyr.symbology\n",
    "    sym.updateRenderer(\"GraduatedColorsRenderer\")\n",
    "    sym.renderer.classificationField = \"Bach_Higher_Pct\"\n",
    "    sym.renderer.breakCount = 5\n",
    "    sym.renderer.colorRamp = aprx.listColorRamps(\"Viridis\")[0]\n",
    "    \n",
    "    break_val = 18\n",
    "    i = 0\n",
    "    for brk in sym.renderer.classBreaks:\n",
    "        brk.upperBound = break_val\n",
    "        brk.label = str(break_val - 18) + \" - \" + str(break_val)\n",
    "        break_val += 18\n",
    "            \n",
    "    lyr.symbology = sym"
   ]
  },
  {
   "cell_type": "code",
   "execution_count": null,
   "metadata": {},
   "outputs": [],
   "source": [
    "# Mapping with different alphas to emphasize different service areas"
   ]
  },
  {
   "cell_type": "code",
   "execution_count": 76,
   "metadata": {},
   "outputs": [],
   "source": [
    "# Define list of maps to create\n",
    "map_names = [\"SA1 Education\", \"SA2 Education\", \"SA3 Education\"]\n",
    "\n",
    "# Create each map\n",
    "for name in map_names:\n",
    "    aprx.createMap(name = name,\n",
    "                  map_type = \"MAP\")"
   ]
  },
  {
   "cell_type": "code",
   "execution_count": 87,
   "metadata": {},
   "outputs": [],
   "source": [
    "# Define which map to update\n",
    "#edu = aprx.listMaps(\"SA1 Education\")[0]\n",
    "#edu = aprx.listMaps(\"SA2 Education\")[0]\n",
    "edu = aprx.listMaps(\"SA3 Education\")[0]"
   ]
  },
  {
   "cell_type": "code",
   "execution_count": 88,
   "metadata": {},
   "outputs": [
    {
     "data": {
      "text/plain": [
       "<arcpy._mp.Layer object at 0x00000164885F2FA0>"
      ]
     },
     "execution_count": 88,
     "metadata": {},
     "output_type": "execute_result"
    }
   ],
   "source": [
    "# Add census data to the map\n",
    "edu.addDataFromPath(os.path.join(gdb_path, \"updated_sa_1_rings_census\"))\n",
    "edu.addDataFromPath(os.path.join(gdb_path, \"updated_sa_2_rings_census\"))\n",
    "edu.addDataFromPath(os.path.join(gdb_path, \"updated_sa_3_rings_census\"))"
   ]
  },
  {
   "cell_type": "code",
   "execution_count": 89,
   "metadata": {},
   "outputs": [],
   "source": [
    "# Get layers from map\n",
    "sa_1 = edu.listLayers(\"updated_sa_1_rings_census\")[0]\n",
    "sa_2 = edu.listLayers(\"updated_sa_2_rings_census\")[0]\n",
    "sa_3 = edu.listLayers(\"updated_sa_3_rings_census\")[0]\n",
    "all_sa = [sa_1, sa_2, sa_3]"
   ]
  },
  {
   "cell_type": "code",
   "execution_count": 90,
   "metadata": {},
   "outputs": [],
   "source": [
    "# Manually specify colors from breaking the Viridis color ramp into 5 blocks\n",
    "colors = [[68, 1, 84], # purple\n",
    "          [59, 82, 140], # dark blue\n",
    "          [33, 145, 141], # teal\n",
    "          [93, 201, 99], # green\n",
    "          [254, 232, 37] # yellow\n",
    "         ]"
   ]
  },
  {
   "cell_type": "code",
   "execution_count": 91,
   "metadata": {},
   "outputs": [],
   "source": [
    "# Iterate through the three service areas and add each to the map with updated symbology\n",
    "for lyr in all_sa:\n",
    "    alpha = 30\n",
    "    # Update alpha for the service area that is being highlighted\n",
    "    #if lyr.name == \"updated_sa_1_rings_census\":\n",
    "    #if lyr.name == \"updated_sa_2_rings_census\":\n",
    "    if lyr.name == \"updated_sa_3_rings_census\":\n",
    "        alpha = 100\n",
    "    sym = lyr.symbology\n",
    "    sym.updateRenderer(\"GraduatedColorsRenderer\") \n",
    "    sym.renderer.classificationField = \"Bach_Higher_Pct\"\n",
    "    sym.renderer.breakCount = 5\n",
    "    \n",
    "    break_val = 18\n",
    "    i = 0\n",
    "    for brk in sym.renderer.classBreaks:\n",
    "        brk.upperBound = break_val\n",
    "        brk.label = str(break_val - 18) + \" - \" + str(break_val)\n",
    "        break_val += 18\n",
    "        brk.symbol.color = {\"RGB\" : [colors[i][0], colors[i][1], colors[i][2], alpha]}\n",
    "        i += 1\n",
    "            \n",
    "    lyr.symbology = sym"
   ]
  },
  {
   "cell_type": "markdown",
   "metadata": {},
   "source": [
    "## Income"
   ]
  },
  {
   "cell_type": "code",
   "execution_count": 92,
   "metadata": {},
   "outputs": [
    {
     "data": {
      "text/plain": [
       "<arcpy._mp.Layer object at 0x00000164885F59D0>"
      ]
     },
     "execution_count": 92,
     "metadata": {},
     "output_type": "execute_result"
    }
   ],
   "source": [
    "# Define map\n",
    "income = aprx.createMap(name = \"Income\",\n",
    "                    map_type = \"MAP\")\n",
    "income = aprx.listMaps(\"Income\")[0]\n",
    "\n",
    "# Add census data to the map\n",
    "income.addDataFromPath(os.path.join(gdb_path, \"updated_sa_1_rings_census\"))\n",
    "income.addDataFromPath(os.path.join(gdb_path, \"updated_sa_2_rings_census\"))\n",
    "income.addDataFromPath(os.path.join(gdb_path, \"updated_sa_3_rings_census\"))"
   ]
  },
  {
   "cell_type": "code",
   "execution_count": 93,
   "metadata": {},
   "outputs": [],
   "source": [
    "# Get layers on map\n",
    "sa_1 = income.listLayers(\"updated_sa_1_rings_census\")[0]\n",
    "sa_2 = income.listLayers(\"updated_sa_2_rings_census\")[0]\n",
    "sa_3 = income.listLayers(\"updated_sa_3_rings_census\")[0]\n",
    "\n",
    "all_sa = [sa_1, sa_2, sa_3]"
   ]
  },
  {
   "cell_type": "code",
   "execution_count": 94,
   "metadata": {},
   "outputs": [],
   "source": [
    "# Map entire service area with unclassed colors to see the range of the data\n",
    "for lyr in all_sa:\n",
    "    sym = lyr.symbology\n",
    "    sym.updateRenderer(\"UnclassedColorsRenderer\")\n",
    "    sym.renderer.field = \"Below_Pov_Line_Pct\"\n",
    "    sym.renderer.colorRamp = aprx.listColorRamps(\"Viridis\")[0]\n",
    "    lyr.symbology = sym\n",
    "\n",
    "# SA1 3-20\n",
    "# SA2 0-57\n",
    "# SA3 0-57"
   ]
  },
  {
   "cell_type": "code",
   "execution_count": 95,
   "metadata": {},
   "outputs": [],
   "source": [
    "# Mapping with all the same alpha\n",
    "for lyr in all_sa:\n",
    "    sym = lyr.symbology\n",
    "    sym.updateRenderer(\"GraduatedColorsRenderer\")\n",
    "    sym.renderer.classificationField = \"Below_Pov_Line_Pct\"\n",
    "    sym.renderer.breakCount = 5\n",
    "    sym.renderer.colorRamp = aprx.listColorRamps(\"Viridis\")[0]\n",
    "    \n",
    "    break_val = 12\n",
    "    i = 0\n",
    "    for brk in sym.renderer.classBreaks:\n",
    "        brk.upperBound = break_val\n",
    "        brk.label = str(break_val - 12) + \" - \" + str(break_val)\n",
    "        break_val += 12\n",
    "            \n",
    "    lyr.symbology = sym"
   ]
  },
  {
   "cell_type": "code",
   "execution_count": null,
   "metadata": {},
   "outputs": [],
   "source": [
    "# Mapping with different alphas to emphasize different service areas"
   ]
  },
  {
   "cell_type": "code",
   "execution_count": 96,
   "metadata": {},
   "outputs": [],
   "source": [
    "# Define list of maps to create\n",
    "map_names = [\"SA1 Income\", \"SA2 Income\", \"SA3 Income\"]\n",
    "\n",
    "# Create each map\n",
    "for name in map_names:\n",
    "    aprx.createMap(name = name,\n",
    "                  map_type = \"MAP\")"
   ]
  },
  {
   "cell_type": "code",
   "execution_count": 107,
   "metadata": {},
   "outputs": [],
   "source": [
    "# Define which map to update\n",
    "#income = aprx.listMaps(\"SA1 Income\")[0]\n",
    "#income = aprx.listMaps(\"SA2 Income\")[0]\n",
    "income = aprx.listMaps(\"SA3 Income\")[0]"
   ]
  },
  {
   "cell_type": "code",
   "execution_count": 108,
   "metadata": {},
   "outputs": [
    {
     "data": {
      "text/plain": [
       "<arcpy._mp.Layer object at 0x00000164885F5640>"
      ]
     },
     "execution_count": 108,
     "metadata": {},
     "output_type": "execute_result"
    }
   ],
   "source": [
    "# Add census data to the map\n",
    "income.addDataFromPath(os.path.join(gdb_path, \"updated_sa_1_rings_census\"))\n",
    "income.addDataFromPath(os.path.join(gdb_path, \"updated_sa_2_rings_census\"))\n",
    "income.addDataFromPath(os.path.join(gdb_path, \"updated_sa_3_rings_census\"))"
   ]
  },
  {
   "cell_type": "code",
   "execution_count": 109,
   "metadata": {},
   "outputs": [],
   "source": [
    "# Get layers from map\n",
    "sa_1 = income.listLayers(\"updated_sa_1_rings_census\")[0]\n",
    "sa_2 = income.listLayers(\"updated_sa_2_rings_census\")[0]\n",
    "sa_3 = income.listLayers(\"updated_sa_3_rings_census\")[0]\n",
    "\n",
    "all_sa = [sa_1, sa_2, sa_3]"
   ]
  },
  {
   "cell_type": "code",
   "execution_count": 110,
   "metadata": {},
   "outputs": [],
   "source": [
    "# Manually specify colors from breaking the Viridis color ramp into 5 blocks\n",
    "colors = [[68, 1, 84], # purple\n",
    "          [59, 82, 140], # dark blue\n",
    "          [33, 145, 141], # teal\n",
    "          [93, 201, 99], # green\n",
    "          [254, 232, 37] # yellow\n",
    "         ]"
   ]
  },
  {
   "cell_type": "code",
   "execution_count": 111,
   "metadata": {},
   "outputs": [],
   "source": [
    "# Iterate through the three service areas and add each to the map with updated symbology\n",
    "for lyr in all_sa:\n",
    "    alpha = 30\n",
    "    # Update alpha for the service area that is being highlighted\n",
    "    #if lyr.name == \"updated_sa_1_rings_census\":\n",
    "    #if lyr.name == \"updated_sa_2_rings_census\":\n",
    "    if lyr.name == \"updated_sa_3_rings_census\":\n",
    "        alpha = 100\n",
    "    sym = lyr.symbology\n",
    "    sym.updateRenderer(\"GraduatedColorsRenderer\") \n",
    "    sym.renderer.classificationField = \"Below_Pov_Line_Pct\"\n",
    "    sym.renderer.breakCount = 5\n",
    "    \n",
    "    break_val = 12\n",
    "    i = 0\n",
    "    for brk in sym.renderer.classBreaks:\n",
    "        brk.upperBound = break_val\n",
    "        brk.label = str(break_val - 12) + \" - \" + str(break_val)\n",
    "        break_val += 12\n",
    "        brk.symbol.color = {\"RGB\" : [colors[i][0], colors[i][1], colors[i][2], alpha]}\n",
    "        i += 1\n",
    "            \n",
    "    lyr.symbology = sym"
   ]
  },
  {
   "cell_type": "markdown",
   "metadata": {},
   "source": [
    "# Service Area with Disks\n",
    "\n",
    "\"Disks\" means that the inner service areas are included in the outer service areas. For example, the 30 mile service area includes the 0-5 mile service area and the 5-30 mile service area."
   ]
  },
  {
   "cell_type": "markdown",
   "metadata": {},
   "source": [
    "## Demographic Profiles - Race/Ethnicity"
   ]
  },
  {
   "cell_type": "markdown",
   "metadata": {},
   "source": [
    "### 5 mile service area"
   ]
  },
  {
   "cell_type": "code",
   "execution_count": null,
   "metadata": {},
   "outputs": [],
   "source": [
    "# Create pandas dataframe from feature class\n",
    "sa_1_census_df = pd.DataFrame.spatial.from_featureclass(\"combined_census_sa_1_disks\")"
   ]
  },
  {
   "cell_type": "code",
   "execution_count": null,
   "metadata": {},
   "outputs": [],
   "source": [
    "# Caculate percentages of each race for each census tract\n",
    "sa_1_census_df[\"PCT_P0020002\"] = np.round(100 * (sa_1_census_df[\"P0020002\"] / sa_1_census_df[\"P0010001\"]), 2) # pct hispanic or latino\n",
    "sa_1_census_df[\"PCT_P0020005\"] = np.round(100 * (sa_1_census_df[\"P0020005\"] / sa_1_census_df[\"P0010001\"]), 2) # pct white\n",
    "sa_1_census_df[\"PCT_P0020006\"] = np.round(100 * (sa_1_census_df[\"P0020006\"] / sa_1_census_df[\"P0010001\"]), 2) # pct Black\n",
    "sa_1_census_df[\"PCT_P0020007\"] = np.round(100 * (sa_1_census_df[\"P0020007\"] / sa_1_census_df[\"P0010001\"]), 2) # pct american indian/alaska native\n",
    "sa_1_census_df[\"PCT_P0020008\"] = np.round(100 * (sa_1_census_df[\"P0020008\"] / sa_1_census_df[\"P0010001\"]), 2) # pct asian\n",
    "sa_1_census_df[\"PCT_P0020009\"] = np.round(100 * (sa_1_census_df[\"P0020009\"] / sa_1_census_df[\"P0010001\"]), 2) # pct native hawaiian/pacific islander\n",
    "sa_1_census_df[\"PCT_P0020010\"] = np.round(100 * (sa_1_census_df[\"P0020010\"] / sa_1_census_df[\"P0010001\"]), 2) # pct other\n",
    "sa_1_census_df[\"PCT_P0020011\"] = np.round(100 * (sa_1_census_df[\"P0020011\"] / sa_1_census_df[\"P0010001\"]), 2) # pct two+ races"
   ]
  },
  {
   "cell_type": "code",
   "execution_count": null,
   "metadata": {},
   "outputs": [],
   "source": [
    "# Calculate total pct of each race for the entire service area\n",
    "cols = [\"P0020002\", # hispanic/latino - not included in the remaining categories\n",
    "        \"P0020005\", # white\n",
    "        \"P0020006\", # Black\n",
    "        \"P0020007\", # american indian/alaska native\n",
    "        \"P0020008\", # asian\n",
    "        \"P0020009\", # native hawaiian\n",
    "        \"P0020010\", # other\n",
    "        \"P0020011\"] # two+ races\n",
    "col_names = [\"Hispanic/Latino\",\n",
    "            \"White\",\n",
    "            \"Black\",\n",
    "            \"American Indian/Alaska Native\",\n",
    "            \"Asian\",\n",
    "            \"Native Hawaiian/Pacific Islander\",\n",
    "            \"Other Race\",\n",
    "            \"Multiracial (2+ Races)\"]\n",
    "\n",
    "summary_df = pd.DataFrame()\n",
    "summary_df[\"Race\"] = col_names\n",
    "\n",
    "total_pop = sum(sa_1_census_df[\"P0010001\"])\n",
    "summary_df[\"PCT_SA_1\"] = [np.round(100 * (sum(sa_1_census_df[col])/total_pop), 2) for col in cols]"
   ]
  },
  {
   "cell_type": "markdown",
   "metadata": {},
   "source": [
    "### 30 mile service area"
   ]
  },
  {
   "cell_type": "code",
   "execution_count": null,
   "metadata": {},
   "outputs": [],
   "source": [
    "# Create pandas dataframe from feature class\n",
    "sa_2_census_df = pd.DataFrame.spatial.from_featureclass(\"sa_2_disks_census\")"
   ]
  },
  {
   "cell_type": "code",
   "execution_count": null,
   "metadata": {},
   "outputs": [],
   "source": [
    "# Caculate percentages of each race for each census tract\n",
    "sa_2_census_df[\"PCT_P0020002\"] = np.round(100 * (sa_2_census_df[\"P0020002\"] / sa_2_census_df[\"P0010001\"]), 2) # pct hispanic or latino\n",
    "sa_2_census_df[\"PCT_P0020005\"] = np.round(100 * (sa_2_census_df[\"P0020005\"] / sa_2_census_df[\"P0010001\"]), 2) # pct white\n",
    "sa_2_census_df[\"PCT_P0020006\"] = np.round(100 * (sa_2_census_df[\"P0020006\"] / sa_2_census_df[\"P0010001\"]), 2) # pct Black\n",
    "sa_2_census_df[\"PCT_P0020007\"] = np.round(100 * (sa_2_census_df[\"P0020007\"] / sa_2_census_df[\"P0010001\"]), 2) # pct american indian/alaska native\n",
    "sa_2_census_df[\"PCT_P0020008\"] = np.round(100 * (sa_2_census_df[\"P0020008\"] / sa_2_census_df[\"P0010001\"]), 2) # pct asian\n",
    "sa_2_census_df[\"PCT_P0020009\"] = np.round(100 * (sa_2_census_df[\"P0020009\"] / sa_2_census_df[\"P0010001\"]), 2) # pct native hawaiian/pacific islander\n",
    "sa_2_census_df[\"PCT_P0020010\"] = np.round(100 * (sa_2_census_df[\"P0020010\"] / sa_2_census_df[\"P0010001\"]), 2) # pct other\n",
    "sa_2_census_df[\"PCT_P0020011\"] = np.round(100 * (sa_2_census_df[\"P0020011\"] / sa_2_census_df[\"P0010001\"]), 2) # pct two+ races"
   ]
  },
  {
   "cell_type": "code",
   "execution_count": null,
   "metadata": {},
   "outputs": [],
   "source": [
    "# Calculate total pct of each race for the entire service area\n",
    "total_pop = sum(sa_2_census_df[\"P0010001\"])\n",
    "\n",
    "summary_df[\"PCT_SA_2\"] = [np.round(100 * (sum(sa_2_census_df[col])/total_pop), 2) for col in cols]"
   ]
  },
  {
   "cell_type": "markdown",
   "metadata": {},
   "source": [
    "### 90 mile service area"
   ]
  },
  {
   "cell_type": "code",
   "execution_count": null,
   "metadata": {},
   "outputs": [],
   "source": [
    "# Create pandas dataframe from feature class\n",
    "sa_3_census_df = pd.DataFrame.spatial.from_featureclass(\"sa_3_disks_census\") "
   ]
  },
  {
   "cell_type": "code",
   "execution_count": null,
   "metadata": {},
   "outputs": [],
   "source": [
    "# Caculate percentages of each race for each census tract\n",
    "sa_3_census_df[\"PCT_P0020002\"] = np.round(100 * (sa_3_census_df[\"P0020002\"] / sa_3_census_df[\"P0010001\"]), 2) # pct hispanic or latino\n",
    "sa_3_census_df[\"PCT_P0020005\"] = np.round(100 * (sa_3_census_df[\"P0020005\"] / sa_3_census_df[\"P0010001\"]), 2) # pct white\n",
    "sa_3_census_df[\"PCT_P0020006\"] = np.round(100 * (sa_3_census_df[\"P0020006\"] / sa_3_census_df[\"P0010001\"]), 2) # pct Black\n",
    "sa_3_census_df[\"PCT_P0020007\"] = np.round(100 * (sa_3_census_df[\"P0020007\"] / sa_3_census_df[\"P0010001\"]), 2) # pct american indian/alaska native\n",
    "sa_3_census_df[\"PCT_P0020008\"] = np.round(100 * (sa_3_census_df[\"P0020008\"] / sa_3_census_df[\"P0010001\"]), 2) # pct asian\n",
    "sa_3_census_df[\"PCT_P0020009\"] = np.round(100 * (sa_3_census_df[\"P0020009\"] / sa_3_census_df[\"P0010001\"]), 2) # pct native hawaiian/pacific islander\n",
    "sa_3_census_df[\"PCT_P0020010\"] = np.round(100 * (sa_3_census_df[\"P0020010\"] / sa_3_census_df[\"P0010001\"]), 2) # pct other\n",
    "sa_3_census_df[\"PCT_P0020011\"] = np.round(100 * (sa_3_census_df[\"P0020011\"] / sa_3_census_df[\"P0010001\"]), 2) # pct two+ races"
   ]
  },
  {
   "cell_type": "code",
   "execution_count": null,
   "metadata": {},
   "outputs": [],
   "source": [
    "# Calculate total pct of each race for the entire service area\n",
    "total_pop = sum(sa_3_census_df[\"P0010001\"])\n",
    "\n",
    "summary_df[\"PCT_SA_3\"] = [np.round(100 * (sum(sa_3_census_df[col])/total_pop), 2) for col in cols]"
   ]
  },
  {
   "cell_type": "markdown",
   "metadata": {},
   "source": [
    "### Entire state of CA"
   ]
  },
  {
   "cell_type": "code",
   "execution_count": null,
   "metadata": {},
   "outputs": [],
   "source": [
    "# Create pandas dataframe from feature class\n",
    "ca_census_df = pd.DataFrame.spatial.from_featureclass(\"ca_census\")"
   ]
  },
  {
   "cell_type": "code",
   "execution_count": null,
   "metadata": {},
   "outputs": [],
   "source": [
    "# Caculate percentages of each race for each census tract\n",
    "ca_census_df[\"PCT_P0020002\"] = np.round(100 * (ca_census_df[\"P0020002\"] / ca_census_df[\"P0010001\"]), 2) # pct hispanic or latino\n",
    "ca_census_df[\"PCT_P0020005\"] = np.round(100 * (ca_census_df[\"P0020005\"] / ca_census_df[\"P0010001\"]), 2) # pct white\n",
    "ca_census_df[\"PCT_P0020006\"] = np.round(100 * (ca_census_df[\"P0020006\"] / ca_census_df[\"P0010001\"]), 2) # pct Black\n",
    "ca_census_df[\"PCT_P0020007\"] = np.round(100 * (ca_census_df[\"P0020007\"] / ca_census_df[\"P0010001\"]), 2) # pct american indian/alaska native\n",
    "ca_census_df[\"PCT_P0020008\"] = np.round(100 * (ca_census_df[\"P0020008\"] / ca_census_df[\"P0010001\"]), 2) # pct asian\n",
    "ca_census_df[\"PCT_P0020009\"] = np.round(100 * (ca_census_df[\"P0020009\"] / ca_census_df[\"P0010001\"]), 2) # pct native hawaiian/pacific islander\n",
    "ca_census_df[\"PCT_P0020010\"] = np.round(100 * (ca_census_df[\"P0020010\"] / ca_census_df[\"P0010001\"]), 2) # pct other\n",
    "ca_census_df[\"PCT_P0020011\"] = np.round(100 * (ca_census_df[\"P0020011\"] / ca_census_df[\"P0010001\"]), 2) # pct two+ races"
   ]
  },
  {
   "cell_type": "code",
   "execution_count": null,
   "metadata": {},
   "outputs": [],
   "source": [
    "# Calculate total pct of each race for the entire state\n",
    "total_pop = sum(ca_census_df[\"P0010001\"])\n",
    "\n",
    "summary_df[\"PCT_CA\"] = [np.round(100 * (sum(ca_census_df[col])/total_pop), 2) for col in cols]"
   ]
  },
  {
   "cell_type": "code",
   "execution_count": null,
   "metadata": {},
   "outputs": [],
   "source": [
    "# View summary dataframe\n",
    "summary_df"
   ]
  },
  {
   "cell_type": "markdown",
   "metadata": {},
   "source": [
    "## Demographic Profiles - Education"
   ]
  },
  {
   "cell_type": "code",
   "execution_count": null,
   "metadata": {},
   "outputs": [],
   "source": [
    "# Create dataframes from feature classes\n",
    "sa_1_census_df = pd.DataFrame.spatial.from_featureclass(\"combined_census_sa_1_disks\")\n",
    "sa_2_census_df = pd.DataFrame.spatial.from_featureclass(\"combined_census_sa_2_disks\")\n",
    "sa_3_census_df = pd.DataFrame.spatial.from_featureclass(\"combined_census_sa_3_disks\")\n",
    "ca_census_df = pd.DataFrame.spatial.from_featureclass(\"combined_ca_census\")"
   ]
  },
  {
   "cell_type": "code",
   "execution_count": null,
   "metadata": {},
   "outputs": [],
   "source": [
    "# Create empty dataframe to hold summary information\n",
    "summary_df = pd.DataFrame()"
   ]
  },
  {
   "cell_type": "code",
   "execution_count": null,
   "metadata": {},
   "outputs": [],
   "source": [
    "edu_cols = [\"AMRZE022\", # Bachelor's degree \n",
    "            \"AMRZE023\", # Master's degree \n",
    "            \"AMRZE024\", # Professional school degree \n",
    "            \"AMRZE025\"] # Doctorate degree "
   ]
  },
  {
   "cell_type": "code",
   "execution_count": null,
   "metadata": {},
   "outputs": [],
   "source": [
    "sa_1_census_df[\"Bach_Higher_Count\"] = sa_1_census_df[edu_cols].sum(axis = 1)\n",
    "sa_2_census_df[\"Bach_Higher_Count\"] = sa_2_census_df[edu_cols].sum(axis = 1)\n",
    "sa_3_census_df[\"Bach_Higher_Count\"] = sa_3_census_df[edu_cols].sum(axis = 1)\n",
    "ca_census_df[\"Bach_Higher_Count\"] = ca_census_df[edu_cols].sum(axis = 1)"
   ]
  },
  {
   "cell_type": "code",
   "execution_count": null,
   "metadata": {},
   "outputs": [],
   "source": [
    "summary_df[\"PCT_SA_1\"] = [np.round(100 * (sum(sa_1_census_df[\"Bach_Higher_Count\"])/sum(sa_1_census_df[\"AMRZE001\"])), 2)]\n",
    "summary_df[\"PCT_SA_2\"] = [np.round(100 * (sum(sa_2_census_df[\"Bach_Higher_Count\"])/sum(sa_2_census_df[\"AMRZE001\"])), 2)]\n",
    "summary_df[\"PCT_SA_3\"] = [np.round(100 * (sum(sa_3_census_df[\"Bach_Higher_Count\"])/sum(sa_3_census_df[\"AMRZE001\"])), 2)]\n",
    "summary_df[\"PCT_CA\"] = [np.round(100 * (sum(ca_census_df[\"Bach_Higher_Count\"])/sum(ca_census_df[\"AMRZE001\"])), 2)]"
   ]
  },
  {
   "cell_type": "code",
   "execution_count": null,
   "metadata": {},
   "outputs": [],
   "source": [
    "summary_df"
   ]
  },
  {
   "cell_type": "markdown",
   "metadata": {},
   "source": [
    "## Demographic Profiles - Income"
   ]
  },
  {
   "cell_type": "code",
   "execution_count": null,
   "metadata": {},
   "outputs": [],
   "source": [
    "# Create dataframes from feature classes\n",
    "sa_1_census_df = pd.DataFrame.spatial.from_featureclass(\"combined_census_sa_1_disks\")\n",
    "sa_2_census_df = pd.DataFrame.spatial.from_featureclass(\"combined_census_sa_2_disks\")\n",
    "sa_3_census_df = pd.DataFrame.spatial.from_featureclass(\"combined_census_sa_3_disks\")\n",
    "ca_census_df = pd.DataFrame.spatial.from_featureclass(\"combined_ca_census\")"
   ]
  },
  {
   "cell_type": "code",
   "execution_count": null,
   "metadata": {},
   "outputs": [],
   "source": [
    "# Create empty dataframe to hold summary information\n",
    "summary_df = pd.DataFrame()"
   ]
  },
  {
   "cell_type": "code",
   "execution_count": null,
   "metadata": {},
   "outputs": [],
   "source": [
    "inc_cols = [\"AMZME002\", # Under .50\n",
    "            \"AMZME003\"] # .50 - .99 "
   ]
  },
  {
   "cell_type": "code",
   "execution_count": null,
   "metadata": {},
   "outputs": [],
   "source": [
    "sa_1_census_df[\"Below_Pov_Line_Count\"] = sa_1_census_df[inc_cols].sum(axis = 1)\n",
    "sa_2_census_df[\"Below_Pov_Line_Count\"] = sa_2_census_df[inc_cols].sum(axis = 1)\n",
    "sa_3_census_df[\"Below_Pov_Line_Count\"] = sa_3_census_df[inc_cols].sum(axis = 1)\n",
    "ca_census_df[\"Below_Pov_Line_Count\"] = ca_census_df[inc_cols].sum(axis = 1)"
   ]
  },
  {
   "cell_type": "code",
   "execution_count": null,
   "metadata": {},
   "outputs": [],
   "source": [
    "sa_1_census_df[\"Below_Pov_Line_Pct\"] = 100 * (sa_1_census_df[\"Below_Pov_Line_Count\"] / sa_1_census_df[\"AMZME001\"])\n",
    "sa_2_census_df[\"Below_Pov_Line_Pct\"] = 100 * (sa_2_census_df[\"Below_Pov_Line_Count\"] / sa_2_census_df[\"AMZME001\"])\n",
    "sa_3_census_df[\"Below_Pov_Line_Pct\"] = 100 * (sa_3_census_df[\"Below_Pov_Line_Count\"] / sa_3_census_df[\"AMZME001\"])"
   ]
  },
  {
   "cell_type": "code",
   "execution_count": null,
   "metadata": {},
   "outputs": [],
   "source": [
    "summary_df[\"PCT_SA_1\"] = [np.round(100 * (sum(sa_1_census_df[\"Below_Pov_Line_Count\"])/sum(sa_1_census_df[\"AMZME001\"])), 2)]\n",
    "summary_df[\"PCT_SA_2\"] = [np.round(100 * (sum(sa_2_census_df[\"Below_Pov_Line_Count\"])/sum(sa_2_census_df[\"AMZME001\"])), 2)]\n",
    "summary_df[\"PCT_SA_3\"] = [np.round(100 * (sum(sa_3_census_df[\"Below_Pov_Line_Count\"])/sum(sa_3_census_df[\"AMZME001\"])), 2)]\n",
    "summary_df[\"PCT_CA\"] = [np.round(100 * (sum(ca_census_df[\"Below_Pov_Line_Count\"])/sum(ca_census_df[\"AMZME001\"])), 2)]"
   ]
  },
  {
   "cell_type": "code",
   "execution_count": null,
   "metadata": {},
   "outputs": [],
   "source": [
    "summary_df"
   ]
  }
 ],
 "metadata": {
  "kernelspec": {
   "display_name": "ArcGISPro",
   "language": "Python",
   "name": "python3"
  },
  "language_info": {
   "file_extension": ".py",
   "name": "python",
   "version": "3"
  }
 },
 "nbformat": 4,
 "nbformat_minor": 2
}
