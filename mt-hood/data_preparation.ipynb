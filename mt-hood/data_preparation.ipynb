{
 "cells": [
  {
   "cell_type": "markdown",
   "metadata": {},
   "source": [
    "# Overview\n",
    "\n",
    "This notebook reads in all necessary datasources for the project and does some preliminary processing (clipping to the AOI, merging data layers)."
   ]
  },
  {
   "cell_type": "markdown",
   "metadata": {},
   "source": [
    "# Prerequisites"
   ]
  },
  {
   "cell_type": "markdown",
   "metadata": {},
   "source": [
    "## Necessary data files\n",
    "\n",
    "| Data | Source | Notes |\n",
    "| :- | -: | :-: |\n",
    "| TIGER roads | https://uw-mad.maps.arcgis.com/home/item.html?id=f42ecc08a3634182b8678514af35fac3 | Primary, secondary, and local\n",
    "| USFS roads | https://data.fs.usda.gov/geodata/edw/datasets.php?xmlKeyword=roads | Downloaded as geodatabase\n",
    "| AOI - Mt Hood and Columbia River Gorge rec area | https://uw-mad.maps.arcgis.com/home/item.html?id=c0c7bdd467b94de2906e67f39b7cf529 | Exported as CAD files\n",
    "| Visitor centers | https://data-usfs.hub.arcgis.com/datasets/usfs::recreation-opportunities-feature-layer/about/ & https://data-usfs.hub.arcgis.com/datasets/usfs::recreation-sites-feature-layer/about/| \n",
    "| Recreation data | https://uw-mad.maps.arcgis.com/home/item.html?id=c0c7bdd467b94de2906e67f39b7cf529 | Trailheads, campsites, picnic areas, ski use, paddling\n",
    "| Recreation data | https://data-usfs.hub.arcgis.com/datasets/usfs::recreation-opportunities-feature-layer/about/ | Campsites, picnic areas \n",
    "| Recreation data | https://apps.nationalmap.gov/downloader/ | Trails\n",
    "| Recreation data | https://github.com/openbeta/climbing-data | Climbing\n",
    "| Race/ethnicity | https://www.arcgis.com/home/item.html?id=e3a7d2d3e5834b7eb6b1c2943141ced6 | \n",
    "| Education | https://data2.nhgis.org/main | Table B15003\n",
    "| Income | https://data2.nhgis.org/main | Table C17002"
   ]
  },
  {
   "cell_type": "markdown",
   "metadata": {},
   "source": [
    "All files were downloaded and stored in the /data/ folder of the project directory."
   ]
  },
  {
   "cell_type": "markdown",
   "metadata": {},
   "source": [
    "# Setup"
   ]
  },
  {
   "cell_type": "code",
   "execution_count": 1,
   "metadata": {},
   "outputs": [],
   "source": [
    "# Import libraries\n",
    "import arcpy, os, pandas as pd\n",
    "from arcgis.features import GeoAccessor, GeoSeriesAccessor"
   ]
  },
  {
   "cell_type": "code",
   "execution_count": 2,
   "metadata": {},
   "outputs": [],
   "source": [
    "# Set environment settings\n",
    "arcpy.env.overwriteOutput = True"
   ]
  },
  {
   "cell_type": "code",
   "execution_count": 3,
   "metadata": {},
   "outputs": [],
   "source": [
    "# Create file geodatabase to hold output\n",
    "gdb_path = r\"C:\\Users\\kathr\\Documents\\outdoor-alliance\\mt-hood\\mt-hood-analysis\\mh_output.gdb\"\n",
    "if not arcpy.Exists(gdb_path):\n",
    "    arcpy.management.CreateFileGDB(r\"C:\\Users\\kathr\\Documents\\outdoor-alliance\\mt-hood\\mt-hood-analysis\", \"mh_output.gdb\")\n",
    "    \n",
    "# Set workspace path\n",
    "arcpy.env.workspace = gdb_path"
   ]
  },
  {
   "cell_type": "markdown",
   "metadata": {},
   "source": [
    "# Read in Data"
   ]
  },
  {
   "cell_type": "code",
   "execution_count": 4,
   "metadata": {},
   "outputs": [],
   "source": [
    "# Set path to folder where all data files are stored\n",
    "data_folder = r\"C:\\Users\\kathr\\Documents\\outdoor-alliance\\mt-hood\\data\""
   ]
  },
  {
   "cell_type": "markdown",
   "metadata": {},
   "source": [
    "## Convert data in CAD format to GDB"
   ]
  },
  {
   "cell_type": "code",
   "execution_count": 6,
   "metadata": {},
   "outputs": [],
   "source": [
    "# Recreation and AOI data are in CAD format\n",
    "# They have been downloaded from OA ArcOnline portal and converted to CAD files already. CAD files are stored in the /data/ folder\n",
    "\n",
    "# https://pro.arcgis.com/en/pro-app/latest/tool-reference/conversion/cad-to-geodatabase.htm\n",
    "cad_data = os.path.join(data_folder, \"cad-datasets\")"
   ]
  },
  {
   "cell_type": "code",
   "execution_count": 7,
   "metadata": {},
   "outputs": [],
   "source": [
    "reference_scale = 1000 # default value from geoprocessing tool\n",
    "\n",
    "# For each CAD file in the directory, convert it to a geodatabase format\n",
    "for path, dirs, files in os.walk(cad_data):\n",
    "    for file in files:\n",
    "        if file.endswith(\"dwg\"): # CAD file\n",
    "            input_cad_dataset = os.path.join(cad_data, file)\n",
    "            # Set out_file_name to the name of the file with extension trimmed\n",
    "            out_file_name = os.path.splitext(file)[0]\n",
    "            # Call CADToGeodatabase and store in output gdb\n",
    "            arcpy.conversion.CADToGeodatabase(input_cad_dataset, gdb_path, out_file_name, reference_scale)"
   ]
  },
  {
   "cell_type": "markdown",
   "metadata": {},
   "source": [
    "## Roads"
   ]
  },
  {
   "cell_type": "markdown",
   "metadata": {},
   "source": [
    "TIGER road data was manually added to the geodatabase by dragging and dropping the layers from the original ArcGIS Project (downloaded from ArcGIS Online using link in Prerequisites section) to the current project."
   ]
  },
  {
   "cell_type": "markdown",
   "metadata": {},
   "source": [
    "# Merge current and proposed AOI boundaries into one layer"
   ]
  },
  {
   "cell_type": "code",
   "execution_count": 5,
   "metadata": {},
   "outputs": [],
   "source": [
    "# Define current layer names\n",
    "cur_scenic_area = r\"Current_Scenic_Area\\Columbia_River_Gorge_National_Scenic_Area\"\n",
    "cur_wild_area = r\"Current_Wildnerness_Area\\Wilderness_Area__Designated__copy_\"\n",
    "cur_rec_area = r\"Current_Rec_Area\\National_Recreation_Area__Designated_2009__copy_\"\n",
    "prop_wild_area = r\"Prop_Wilderness_Addition\\Proposed_Wilderness_Addition\"\n",
    "prop_rec_area = r\"Prop_Rec_Area_Addition\\Proposed_National_Recreation_Area_Expansion\" # manually split using Split tool to get 2 polygons - one overlaps with wilderness and one is new protected area\n",
    "\n",
    "# Define layer name to hold merged layers\n",
    "mh_aoi = \"mh_aoi\""
   ]
  },
  {
   "cell_type": "code",
   "execution_count": 18,
   "metadata": {},
   "outputs": [],
   "source": [
    "# Create field mapping object\n",
    "field_mappings = arcpy.FieldMappings()\n",
    "\n",
    "# Add input field for area name into new output field\n",
    "map_name = arcpy.FieldMap()\n",
    "map_name.addInputField(cur_scenic_area, \"Layer\")\n",
    "map_name.addInputField(cur_wild_area, \"Layer\")\n",
    "map_name.addInputField(cur_rec_area, \"AREATYPE\")\n",
    "map_name.addInputField(prop_wild_area, \"DocName\")\n",
    "map_name.addInputField(prop_rec_area, \"Layer\")\n",
    "\n",
    "# Set name of new output field for site name\n",
    "area_name = map_name.outputField\n",
    "area_name.name = \"Area_Name\"\n",
    "map_name.outputField = area_name\n",
    "\n",
    "# Add output fields to field mappings object\n",
    "field_mappings.addFieldMap(map_name)"
   ]
  },
  {
   "cell_type": "code",
   "execution_count": 19,
   "metadata": {
    "scrolled": true
   },
   "outputs": [
    {
     "data": {
      "text/html": [
       "<div class='gpresult'><h2>Messages</h2><div id='messages' data-messages='[\"Start Time: Thursday, July 6, 2023 3:27:10 PM\",\"Succeeded at Thursday, July 6, 2023 3:27:12 PM (Elapsed Time: 1.71 seconds)\"]' data-show='true'><div id = 'default' /></div></div>"
      ],
      "text/plain": [
       "<Result 'C:\\\\Users\\\\kathr\\\\Documents\\\\outdoor-alliance\\\\mt-hood\\\\mt-hood-analysis\\\\mh_output.gdb\\\\mh_aoi'>"
      ]
     },
     "execution_count": 19,
     "metadata": {},
     "output_type": "execute_result"
    }
   ],
   "source": [
    "# Merge all current/proposed AOI boundaries together\n",
    "arcpy.management.Merge([cur_scenic_area, cur_wild_area, cur_rec_area, prop_wild_area, prop_rec_area], \n",
    "                       mh_aoi, \n",
    "                       field_mappings,\n",
    "                      add_source = \"ADD_SOURCE_INFO\")"
   ]
  },
  {
   "cell_type": "markdown",
   "metadata": {},
   "source": [
    "# Buffer around AOI"
   ]
  },
  {
   "cell_type": "code",
   "execution_count": 19,
   "metadata": {},
   "outputs": [],
   "source": [
    "# Create a 90 mile buffer around the AOI\n",
    "# https://pro.arcgis.com/en/pro-app/latest/tool-reference/analysis/buffer.htm\n",
    "\n",
    "mh_expansion_buffer = \"mh_expansion_buffer_90mi\"\n",
    "buffer_dist = \"90 Miles\"\n",
    "dissolve_option = \"ALL\""
   ]
  },
  {
   "cell_type": "code",
   "execution_count": 14,
   "metadata": {},
   "outputs": [
    {
     "data": {
      "text/html": [
       "<div class='gpresult'><h2>Messages</h2><div id='messages' data-messages='[\"Start Time: Monday, June 26, 2023 10:31:58 AM\",\"Succeeded at Monday, June 26, 2023 10:32:01 AM (Elapsed Time: 2.87 seconds)\"]' data-show='true'><div id = 'default' /></div></div>"
      ],
      "text/plain": [
       "<Result 'C:\\\\Users\\\\kathr\\\\Documents\\\\outdoor-alliance\\\\mt-hood\\\\mt-hood-analysis\\\\mh_output.gdb\\\\mh_expansion_buffer_90mi'>"
      ]
     },
     "execution_count": 14,
     "metadata": {},
     "output_type": "execute_result"
    }
   ],
   "source": [
    "# Run the buffer tool\n",
    "arcpy.analysis.Buffer(in_features = mh_aoi,\n",
    "                      out_feature_class = mh_expansion_buffer,\n",
    "                      buffer_distance_or_field = buffer_dist,\n",
    "                      dissolve_option = dissolve_option)"
   ]
  },
  {
   "cell_type": "markdown",
   "metadata": {},
   "source": [
    "# Clip & Process Data Layers"
   ]
  },
  {
   "cell_type": "markdown",
   "metadata": {},
   "source": [
    "## Roads"
   ]
  },
  {
   "cell_type": "markdown",
   "metadata": {},
   "source": [
    "TIGER roads are manually clipped due to the drag/drop way of importing. Each layer (primary, secondary, and local) was clipped to the 90 mile buffer around the AOI.\n"
   ]
  },
  {
   "cell_type": "code",
   "execution_count": 17,
   "metadata": {
    "scrolled": true
   },
   "outputs": [],
   "source": [
    "# Clip USFS Roads to buffer around AOI\n",
    "usfs_roads = os.path.join(data_folder, \"S_USA.RoadCore_FS.gdb\\RoadCore_FS\")\n",
    "usfs_roads_clipped = \"usfs_roads_clipped\""
   ]
  },
  {
   "cell_type": "code",
   "execution_count": 19,
   "metadata": {},
   "outputs": [
    {
     "data": {
      "text/html": [
       "<div class='gpresult'><h2>Messages</h2><div id='messages' data-messages='[\"Start Time: Monday, June 26, 2023 12:16:22 PM\",\"Analyzing input features...\",\"Assembling Features...\",\"Reading Features...\",\"Cracking Features...\",\"Succeeded at Monday, June 26, 2023 12:16:40 PM (Elapsed Time: 17.52 seconds)\"]' data-show='true'><div id = 'default' /></div></div>"
      ],
      "text/plain": [
       "<Result 'C:\\\\Users\\\\kathr\\\\Documents\\\\outdoor-alliance\\\\mt-hood\\\\mt-hood-analysis\\\\mh_output.gdb\\\\usfs_roads_clipped'>"
      ]
     },
     "execution_count": 19,
     "metadata": {},
     "output_type": "execute_result"
    }
   ],
   "source": [
    "arcpy.analysis.Clip(usfs_roads, mh_expansion_buffer, usfs_roads_clipped)"
   ]
  },
  {
   "cell_type": "code",
   "execution_count": 80,
   "metadata": {},
   "outputs": [],
   "source": [
    "# Merge all TIGER roads\n",
    "# Because these layers come from the same data source, they have the same column names and don't need additional mapping\n",
    "primary_roads_clipped = \"primary_roads_90mi\"\n",
    "secondary_roads_clipped = \"secondary_roads_90mi\"\n",
    "local_roads_clipped = \"local_roads_90mi\""
   ]
  },
  {
   "cell_type": "code",
   "execution_count": 16,
   "metadata": {},
   "outputs": [
    {
     "data": {
      "text/html": [
       "<div class='gpresult'><h2>Messages</h2><div id='messages' data-messages='[\"Start Time: Monday, June 26, 2023 12:14:24 PM\",\"Succeeded at Monday, June 26, 2023 12:14:24 PM (Elapsed Time: 0.35 seconds)\"]' data-show='true'><div id = 'default' /></div></div>"
      ],
      "text/plain": [
       "<Result 'C:\\\\Users\\\\kathr\\\\Documents\\\\outdoor-alliance\\\\mt-hood\\\\mt-hood-analysis\\\\mh_output.gdb\\\\mh_roads'>"
      ]
     },
     "execution_count": 16,
     "metadata": {},
     "output_type": "execute_result"
    }
   ],
   "source": [
    "# Create feature dataset to hold the new TIGER roads layer\n",
    "sr = arcpy.Describe(primary_roads_clipped).spatialReference # get coordinate reference system\n",
    "out_name = \"mh_roads\"\n",
    "arcpy.management.CreateFeatureDataset(gdb_path, out_name, sr)"
   ]
  },
  {
   "cell_type": "code",
   "execution_count": 23,
   "metadata": {},
   "outputs": [],
   "source": [
    "# Create feature class to hold the merge of TIGER roads and USFS roads\n",
    "all_roads_merge = os.path.join(gdb_path, r\"mh_roads\\all_roads_merge\")"
   ]
  },
  {
   "cell_type": "code",
   "execution_count": 24,
   "metadata": {},
   "outputs": [],
   "source": [
    "# Create field mapping object\n",
    "field_mappings = arcpy.FieldMappings()\n",
    "\n",
    "# Add input field for road name into new output field\n",
    "map_name = arcpy.FieldMap()\n",
    "map_name.addInputField(primary_roads_clipped, \"Name\")\n",
    "map_name.addInputField(secondary_roads_clipped, \"Name\")\n",
    "map_name.addInputField(local_roads_clipped, \"Name\")\n",
    "map_name.addInputField(usfs_roads_clipped, \"NAME\")\n",
    "\n",
    "# Set name of new output field for site name\n",
    "road_name = map_name.outputField\n",
    "road_name.name = \"Road_Name\"\n",
    "map_name.outputField = road_name\n",
    "\n",
    "# Add input field for road class into new output field\n",
    "map_class = arcpy.FieldMap()\n",
    "map_class.addInputField(primary_roads_clipped, \"MTFCC\")\n",
    "map_class.addInputField(secondary_roads_clipped, \"MTFCC\")\n",
    "map_class.addInputField(local_roads_clipped, \"MTFCC\")\n",
    "map_class.addInputField(usfs_roads_clipped, \"SYMBOL_CODE\")\n",
    "\n",
    "\n",
    "# Set name of new output field for site type\n",
    "road_class = map_class.outputField\n",
    "road_class.name = \"Road_Class\"\n",
    "map_class.outputField = road_class\n",
    "\n",
    "# Add output fields to field mappings object\n",
    "field_mappings.addFieldMap(map_name)\n",
    "field_mappings.addFieldMap(map_class)"
   ]
  },
  {
   "cell_type": "code",
   "execution_count": 25,
   "metadata": {
    "scrolled": true
   },
   "outputs": [
    {
     "data": {
      "text/html": [
       "<div class='gpresult'><h2>Messages</h2><div id='messages' data-messages='[\"Start Time: Monday, June 26, 2023 12:18:07 PM\",\"Succeeded at Monday, June 26, 2023 12:18:19 PM (Elapsed Time: 11.25 seconds)\"]' data-show='true'><div id = 'default' /></div></div>"
      ],
      "text/plain": [
       "<Result 'C:\\\\Users\\\\kathr\\\\Documents\\\\outdoor-alliance\\\\mt-hood\\\\mt-hood-analysis\\\\mh_output.gdb\\\\mh_roads\\\\all_roads_merge'>"
      ]
     },
     "execution_count": 25,
     "metadata": {},
     "output_type": "execute_result"
    }
   ],
   "source": [
    "# Merge TIGER and USFS roads together\n",
    "arcpy.management.Merge([primary_roads_clipped, secondary_roads_clipped, local_roads_clipped, usfs_roads_clipped], \n",
    "                       all_roads_merge, \n",
    "                       field_mappings,\n",
    "                      add_source = \"ADD_SOURCE_INFO\")"
   ]
  },
  {
   "cell_type": "markdown",
   "metadata": {},
   "source": [
    "## Visitors Centers"
   ]
  },
  {
   "cell_type": "code",
   "execution_count": 82,
   "metadata": {},
   "outputs": [],
   "source": [
    "# Recreation Opportunities: clip to buffer around AOI\n",
    "rec_ops = os.path.join(data_folder, \"Recreation_Opportunities_(Feature_Layer)\\Recreation_Opportunities_(Feature_Layer).shp\")\n",
    "rec_ops_clipped = \"rec_ops_clipped\""
   ]
  },
  {
   "cell_type": "code",
   "execution_count": 28,
   "metadata": {},
   "outputs": [
    {
     "data": {
      "text/html": [
       "<div class='gpresult'><h2>Messages</h2><div id='messages' data-messages='[\"Start Time: Monday, June 26, 2023 12:18:54 PM\",\"Analyzing input features...\",\"Reading Features...\",\"Cracking Features...\",\"Assembling Features...\",\"Succeeded at Monday, June 26, 2023 12:18:55 PM (Elapsed Time: 0.70 seconds)\"]' data-show='true'><div id = 'default' /></div></div>"
      ],
      "text/plain": [
       "<Result 'C:\\\\Users\\\\kathr\\\\Documents\\\\outdoor-alliance\\\\mt-hood\\\\mt-hood-analysis\\\\mh_output.gdb\\\\rec_ops_clipped'>"
      ]
     },
     "execution_count": 28,
     "metadata": {},
     "output_type": "execute_result"
    }
   ],
   "source": [
    "arcpy.analysis.Clip(rec_ops, mh_expansion_buffer, rec_ops_clipped)"
   ]
  },
  {
   "cell_type": "code",
   "execution_count": 6,
   "metadata": {},
   "outputs": [],
   "source": [
    "# Recreation Sites: clip to buffer around AOI\n",
    "rec_sites = os.path.join(data_folder, \"Recreation_Sites_(Feature_Layer)\\Recreation_Sites_(Feature_Layer).shp\")\n",
    "rec_sites_clipped = \"rec_sites_clipped\""
   ]
  },
  {
   "cell_type": "code",
   "execution_count": 30,
   "metadata": {},
   "outputs": [
    {
     "data": {
      "text/html": [
       "<div class='gpresult'><h2>Messages</h2><div id='messages' data-messages='[\"Start Time: Monday, June 26, 2023 12:19:00 PM\",\"Analyzing input features...\",\"Reading Features...\",\"Cracking Features...\",\"Assembling Features...\",\"Succeeded at Monday, June 26, 2023 12:19:02 PM (Elapsed Time: 1.25 seconds)\"]' data-show='true'><div id = 'default' /></div></div>"
      ],
      "text/plain": [
       "<Result 'C:\\\\Users\\\\kathr\\\\Documents\\\\outdoor-alliance\\\\mt-hood\\\\mt-hood-analysis\\\\mh_output.gdb\\\\rec_sites_clipped'>"
      ]
     },
     "execution_count": 30,
     "metadata": {},
     "output_type": "execute_result"
    }
   ],
   "source": [
    "arcpy.analysis.Clip(rec_sites, mh_expansion_buffer, rec_sites_clipped)"
   ]
  },
  {
   "cell_type": "code",
   "execution_count": 31,
   "metadata": {},
   "outputs": [],
   "source": [
    "# Recreation Sites: filter to within 100 m of the AOI\n",
    "# https://pro.arcgis.com/en/pro-app/latest/tool-reference/data-management/select-layer-by-location.htm\n",
    "in_layer = rec_sites_clipped\n",
    "overlap_type = \"WITHIN_A_DISTANCE\"\n",
    "search_distance = \"100 Meters\"\n",
    "selection_type = \"NEW_SELECTION\"\n",
    "selecting_features = mh_aoi\n",
    "\n",
    "aoi_rec_sites = arcpy.management.SelectLayerByLocation(in_layer = in_layer, \n",
    "                                                       overlap_type = overlap_type, \n",
    "                                                       select_features = selecting_features,\n",
    "                                                       search_distance = search_distance,\n",
    "                                                       selection_type = selection_type)"
   ]
  },
  {
   "cell_type": "code",
   "execution_count": 32,
   "metadata": {},
   "outputs": [
    {
     "data": {
      "text/html": [
       "<div class='gpresult'><h2>Messages</h2><div id='messages' data-messages='[\"Start Time: Monday, June 26, 2023 12:19:51 PM\",\"Succeeded at Monday, June 26, 2023 12:19:51 PM (Elapsed Time: 0.02 seconds)\"]' data-show='true'><div id = 'default' /></div></div>"
      ],
      "text/plain": [
       "<Result 'rec_sites_clipped'>"
      ]
     },
     "execution_count": 32,
     "metadata": {},
     "output_type": "execute_result"
    }
   ],
   "source": [
    "# Recreation Sites: further select relevant site types\n",
    "# https://pro.arcgis.com/en/pro-app/latest/tool-reference/data-management/select-layer-by-attribute.htm\n",
    "in_layer = aoi_rec_sites\n",
    "selection_type = \"SUBSET_SELECTION\"\n",
    "where_clause = \"SITE_SUBTY = 'INFO SITE/FEE STATION'\"\n",
    "\n",
    "arcpy.management.SelectLayerByAttribute(in_layer_or_view = in_layer, \n",
    "                                        selection_type = selection_type, \n",
    "                                        where_clause = where_clause)"
   ]
  },
  {
   "cell_type": "code",
   "execution_count": 33,
   "metadata": {},
   "outputs": [],
   "source": [
    "# Recreation Opportunities: filter to within 100 m of the AOI\n",
    "# https://pro.arcgis.com/en/pro-app/latest/tool-reference/data-management/select-layer-by-location.htm\n",
    "in_layer = rec_ops_clipped\n",
    "overlap_type = \"WITHIN_A_DISTANCE\"\n",
    "search_distance = \"100 Meters\"\n",
    "selection_type = \"NEW_SELECTION\"\n",
    "selecting_features = mh_aoi\n",
    "\n",
    "aoi_rec_ops = arcpy.management.SelectLayerByLocation(in_layer = in_layer, \n",
    "                                                       overlap_type = overlap_type, \n",
    "                                                       select_features = selecting_features,\n",
    "                                                       search_distance = search_distance,\n",
    "                                                       selection_type = selection_type)"
   ]
  },
  {
   "cell_type": "code",
   "execution_count": 34,
   "metadata": {},
   "outputs": [
    {
     "data": {
      "text/html": [
       "<div class='gpresult'><h2>Messages</h2><div id='messages' data-messages='[\"Start Time: Monday, June 26, 2023 12:20:13 PM\",\"Succeeded at Monday, June 26, 2023 12:20:13 PM (Elapsed Time: 0.02 seconds)\"]' data-show='true'><div id = 'default' /></div></div>"
      ],
      "text/plain": [
       "<Result 'rec_ops_clipped'>"
      ]
     },
     "execution_count": 34,
     "metadata": {},
     "output_type": "execute_result"
    }
   ],
   "source": [
    "# Recreation Opportunities: further select relevant site types\n",
    "# https://pro.arcgis.com/en/pro-app/latest/tool-reference/data-management/select-layer-by-attribute.htm\n",
    "in_layer = aoi_rec_ops\n",
    "selection_type = \"SUBSET_SELECTION\"\n",
    "where_clause = \"MARKERACTI = 'Visitor Centers' Or MARKERACTI = 'Visitor Programs'\"\n",
    "\n",
    "arcpy.management.SelectLayerByAttribute(in_layer_or_view = in_layer, \n",
    "                                        selection_type = selection_type, \n",
    "                                        where_clause = where_clause)"
   ]
  },
  {
   "cell_type": "code",
   "execution_count": 35,
   "metadata": {
    "scrolled": true
   },
   "outputs": [
    {
     "data": {
      "text/html": [
       "<div class='gpresult'><h2>Messages</h2><div id='messages' data-messages='[\"Start Time: Monday, June 26, 2023 12:20:52 PM\",\"Succeeded at Monday, June 26, 2023 12:20:52 PM (Elapsed Time: 0.59 seconds)\"]' data-show='true'><div id = 'default' /></div></div>"
      ],
      "text/plain": [
       "<Result 'C:\\\\Users\\\\kathr\\\\Documents\\\\outdoor-alliance\\\\mt-hood\\\\mt-hood-analysis\\\\mh_output.gdb\\\\mh_rec_ops'>"
      ]
     },
     "execution_count": 35,
     "metadata": {},
     "output_type": "execute_result"
    }
   ],
   "source": [
    "# Create new layers\n",
    "# https://pro.arcgis.com/en/pro-app/latest/tool-reference/data-management/copy-features.htm\n",
    "mh_rec_sites = \"mh_rec_sites\"\n",
    "mh_rec_ops = \"mh_rec_ops\"\n",
    "\n",
    "arcpy.management.CopyFeatures(aoi_rec_sites, mh_rec_sites)\n",
    "arcpy.management.CopyFeatures(aoi_rec_ops, mh_rec_ops)"
   ]
  },
  {
   "cell_type": "code",
   "execution_count": 37,
   "metadata": {},
   "outputs": [],
   "source": [
    "# Merge all visitor centers together\n",
    "visitor_centers = \"visitor_centers\"\n",
    "\n",
    "# create field mapping object\n",
    "field_mappings = arcpy.FieldMappings()\n",
    "\n",
    "# Add input field for site name into new output field\n",
    "map_site_name = arcpy.FieldMap()\n",
    "map_site_name.addInputField(mh_rec_sites, \"SITE_NAME\")\n",
    "map_site_name.addInputField(mh_rec_ops, \"RECAREANAM\")\n",
    "\n",
    "# Set name of new output field for site name\n",
    "site_name = map_site_name.outputField\n",
    "site_name.name = \"Site_Name\"\n",
    "map_site_name.outputField = site_name\n",
    "\n",
    "# Add input field for site type into new output field\n",
    "map_site_type = arcpy.FieldMap()\n",
    "map_site_type.addInputField(mh_rec_sites, \"SITE_SUBTY\")\n",
    "map_site_type.addInputField(mh_rec_ops, \"MARKERACTI\")\n",
    "\n",
    "# Set name of new output field for site type\n",
    "site_type = map_site_type.outputField\n",
    "site_type.name = \"Site_Type\"\n",
    "map_site_type.outputField = site_type\n",
    "\n",
    "# add output fields to field mappings object\n",
    "field_mappings.addFieldMap(map_site_name)\n",
    "field_mappings.addFieldMap(map_site_type)"
   ]
  },
  {
   "cell_type": "code",
   "execution_count": 38,
   "metadata": {},
   "outputs": [
    {
     "data": {
      "text/html": [
       "<div class='gpresult'><h2>Messages</h2><div id='messages' data-messages='[\"Start Time: Monday, June 26, 2023 12:21:49 PM\",\"Succeeded at Monday, June 26, 2023 12:21:50 PM (Elapsed Time: 0.70 seconds)\"]' data-show='true'><div id = 'default' /></div></div>"
      ],
      "text/plain": [
       "<Result 'C:\\\\Users\\\\kathr\\\\Documents\\\\outdoor-alliance\\\\mt-hood\\\\mt-hood-analysis\\\\mh_output.gdb\\\\visitor_centers'>"
      ]
     },
     "execution_count": 38,
     "metadata": {},
     "output_type": "execute_result"
    }
   ],
   "source": [
    "arcpy.management.Merge([mh_rec_ops, mh_rec_sites], visitor_centers, field_mappings)"
   ]
  },
  {
   "cell_type": "markdown",
   "metadata": {},
   "source": [
    "## Trails"
   ]
  },
  {
   "cell_type": "code",
   "execution_count": 16,
   "metadata": {},
   "outputs": [
    {
     "data": {
      "text/html": [
       "<div class='gpresult'><h2>Messages</h2><div id='messages' data-messages='[\"Start Time: Wednesday, June 28, 2023 10:30:26 AM\",\"Succeeded at Wednesday, June 28, 2023 10:30:28 AM (Elapsed Time: 1.78 seconds)\"]' data-show='true'><div id = 'default' /></div></div>"
      ],
      "text/plain": [
       "<Result 'C:\\\\Users\\\\kathr\\\\Documents\\\\outdoor-alliance\\\\mt-hood\\\\mt-hood-analysis\\\\mh_output.gdb\\\\or_trails'>"
      ]
     },
     "execution_count": 16,
     "metadata": {},
     "output_type": "execute_result"
    }
   ],
   "source": [
    "# USGS trails data\n",
    "\n",
    "# Oregon\n",
    "or_transportation = os.path.join(data_folder, r\"TRAN_Oregon_State_GDB\\TRAN_Oregon_State_GDB.gdb\\Transportation\\Trans_TrailSegment\")\n",
    "or_trails = \"or_trails\"\n",
    "arcpy.management.CopyFeatures(or_transportation, or_trails)"
   ]
  },
  {
   "cell_type": "code",
   "execution_count": 17,
   "metadata": {},
   "outputs": [
    {
     "data": {
      "text/html": [
       "<div class='gpresult'><h2>Messages</h2><div id='messages' data-messages='[\"Start Time: Wednesday, June 28, 2023 10:30:32 AM\",\"Succeeded at Wednesday, June 28, 2023 10:30:34 AM (Elapsed Time: 1.65 seconds)\"]' data-show='true'><div id = 'default' /></div></div>"
      ],
      "text/plain": [
       "<Result 'C:\\\\Users\\\\kathr\\\\Documents\\\\outdoor-alliance\\\\mt-hood\\\\mt-hood-analysis\\\\mh_output.gdb\\\\wa_trails'>"
      ]
     },
     "execution_count": 17,
     "metadata": {},
     "output_type": "execute_result"
    }
   ],
   "source": [
    "# Washington\n",
    "wa_transportation = os.path.join(data_folder, r\"TRAN_Washington_State_GDB\\TRAN_Washington_State_GDB.gdb\\Transportation\\Trans_TrailSegment\")\n",
    "wa_trails = \"wa_trails\"\n",
    "arcpy.management.CopyFeatures(wa_transportation, wa_trails)"
   ]
  },
  {
   "cell_type": "code",
   "execution_count": 10,
   "metadata": {},
   "outputs": [],
   "source": [
    "# Merge into one trails dataset\n",
    "wa_or_trails = \"wa_or_trails\"\n",
    "arcpy.management.Merge([wa_trails, or_trails], wa_or_trails)"
   ]
  },
  {
   "cell_type": "code",
   "execution_count": 11,
   "metadata": {},
   "outputs": [
    {
     "data": {
      "text/html": [
       "<div class='gpresult'><h2>Messages</h2><div id='messages' data-messages='[\"Start Time: Thursday, June 29, 2023 9:17:29 AM\",\"Assembling Features...\",\"Reading Features...\",\"Cracking Features...\",\"Succeeded at Thursday, June 29, 2023 9:17:36 AM (Elapsed Time: 7.30 seconds)\"]' data-show='true'><div id = 'default' /></div></div>"
      ],
      "text/plain": [
       "<Result 'C:\\\\Users\\\\kathr\\\\Documents\\\\outdoor-alliance\\\\mt-hood\\\\mt-hood-analysis\\\\mh_output.gdb\\\\trails_clipped'>"
      ]
     },
     "execution_count": 11,
     "metadata": {},
     "output_type": "execute_result"
    }
   ],
   "source": [
    "# Clip to AOI\n",
    "trails_clipped = \"trails_clipped\"\n",
    "arcpy.analysis.Clip(wa_or_trails, mh_aoi, trails_clipped)"
   ]
  },
  {
   "cell_type": "code",
   "execution_count": 13,
   "metadata": {},
   "outputs": [
    {
     "data": {
      "text/html": [
       "<div class='gpresult'><h2>Messages</h2><div id='messages' data-messages='[\"Start Time: Wednesday, July 19, 2023 2:19:18 PM\",\"Succeeded at Wednesday, July 19, 2023 2:19:20 PM (Elapsed Time: 2.02 seconds)\"]' data-show='true'><div id = 'default' /></div></div>"
      ],
      "text/plain": [
       "<Result 'trails_clipped'>"
      ]
     },
     "execution_count": 13,
     "metadata": {},
     "output_type": "execute_result"
    }
   ],
   "source": [
    "# Recalculate length after clipping\n",
    "arcpy.management.CalculateGeometryAttributes(in_features = \"trails_clipped\",\n",
    "                                             geometry_property = [[\"Length_Miles\", \"LENGTH_GEODESIC\"]],\n",
    "                                             length_unit = \"MILES_INT\")"
   ]
  },
  {
   "cell_type": "markdown",
   "metadata": {},
   "source": [
    "## Whitewater paddling"
   ]
  },
  {
   "cell_type": "code",
   "execution_count": 38,
   "metadata": {
    "scrolled": true
   },
   "outputs": [
    {
     "data": {
      "text/html": [
       "<div class='gpresult'><h2>Messages</h2><div id='messages' data-messages='[\"Start Time: Wednesday, July 19, 2023 2:35:17 PM\",\"Succeeded at Wednesday, July 19, 2023 2:35:18 PM (Elapsed Time: 1.53 seconds)\"]' data-show='true'><div id = 'default' /></div></div>"
      ],
      "text/plain": [
       "<Result 'mh_whitewater'>"
      ]
     },
     "execution_count": 38,
     "metadata": {},
     "output_type": "execute_result"
    }
   ],
   "source": [
    "# Clip\n",
    "ww = r\"Whitewater_Paddling\\Whitewater_Paddling\"\n",
    "arcpy.analysis.Clip(ww, mh_aoi, \"mh_whitewater\") \n",
    "# Recalculate length\n",
    "arcpy.management.CalculateGeometryAttributes(in_features = \"mh_whitewater\",\n",
    "                                             geometry_property = [[\"Length_Miles\", \"LENGTH_GEODESIC\"]],\n",
    "                                             length_unit = \"MILES_INT\")"
   ]
  },
  {
   "cell_type": "code",
   "execution_count": 41,
   "metadata": {},
   "outputs": [
    {
     "data": {
      "text/html": [
       "<div class='gpresult'><h2>Messages</h2><div id='messages' data-messages='[\"Start Time: Wednesday, July 19, 2023 2:39:46 PM\",\"Analyzing input features...\",\"Dissolving clip features...\",\"Clipping input features...\",\"Succeeded at Wednesday, July 19, 2023 2:39:47 PM (Elapsed Time: 1.06 seconds)\"]' data-show='true'><div id = 'default' /></div></div>"
      ],
      "text/plain": [
       "<Result 'C:\\\\Users\\\\kathr\\\\Documents\\\\outdoor-alliance\\\\mt-hood\\\\mt-hood-analysis\\\\mh_output.gdb\\\\mh_river_access'>"
      ]
     },
     "execution_count": 41,
     "metadata": {},
     "output_type": "execute_result"
    }
   ],
   "source": [
    "# River Access: filter to within 100 m of the AOI\n",
    "river_access = r\"River_Access\\River_Access\"\n",
    "arcpy.analysis.Clip(river_access, mh_aoi, \"mh_river_access\")"
   ]
  },
  {
   "cell_type": "markdown",
   "metadata": {},
   "source": [
    "## Rock climbing"
   ]
  },
  {
   "cell_type": "code",
   "execution_count": 10,
   "metadata": {},
   "outputs": [],
   "source": [
    "# Read in OpenBeta data\n",
    "or_areas_df = pd.read_json(os.path.join(data_folder, r\"openbeta-routes-westcoast\\or-areas.jsonlines\"), lines=True)\n",
    "or_routes_df = pd.read_json(os.path.join(data_folder, r\"openbeta-routes-westcoast\\or-routes.jsonlines\"), lines=True)\n",
    "wa_areas_df = pd.read_json(os.path.join(data_folder, r\"openbeta-routes-westcoast\\wa-areas.jsonlines\"), lines=True)\n",
    "wa_routes_df = pd.read_json(os.path.join(data_folder, r\"openbeta-routes-westcoast\\wa-routes.jsonlines\"), lines=True)"
   ]
  },
  {
   "cell_type": "code",
   "execution_count": 11,
   "metadata": {},
   "outputs": [
    {
     "data": {
      "text/html": [
       "<div>\n",
       "<style scoped>\n",
       "    .dataframe tbody tr th:only-of-type {\n",
       "        vertical-align: middle;\n",
       "    }\n",
       "\n",
       "    .dataframe tbody tr th {\n",
       "        vertical-align: top;\n",
       "    }\n",
       "\n",
       "    .dataframe thead th {\n",
       "        text-align: right;\n",
       "    }\n",
       "</style>\n",
       "<table border=\"1\" class=\"dataframe\">\n",
       "  <thead>\n",
       "    <tr style=\"text-align: right;\">\n",
       "      <th></th>\n",
       "      <th>area_name</th>\n",
       "      <th>description</th>\n",
       "      <th>location</th>\n",
       "      <th>path</th>\n",
       "      <th>us_state</th>\n",
       "      <th>url</th>\n",
       "      <th>lnglat</th>\n",
       "      <th>metadata</th>\n",
       "    </tr>\n",
       "  </thead>\n",
       "  <tbody>\n",
       "    <tr>\n",
       "      <th>0</th>\n",
       "      <td>Shepard's Tower</td>\n",
       "      <td>[A unique tower near the Metolius river.]</td>\n",
       "      <td>[Take HW20 to Camp Sherman turn 2 mi west of B...</td>\n",
       "      <td>Central Oregon|Shepard's Tower</td>\n",
       "      <td>Oregon</td>\n",
       "      <td>https://www.mountainproject.com/area/105843033...</td>\n",
       "      <td>[-121.6113, 44.64581]</td>\n",
       "      <td>{'lnglat_from_parent': False}</td>\n",
       "    </tr>\n",
       "    <tr>\n",
       "      <th>1</th>\n",
       "      <td>Prineville Reservoir State Park</td>\n",
       "      <td>[This area is mostly state park with some BLM....</td>\n",
       "      <td>[Once you are in Prineville turn south onto Co...</td>\n",
       "      <td>Central Oregon|Prineville Reservoir State Park</td>\n",
       "      <td>Oregon</td>\n",
       "      <td>https://www.mountainproject.com/area/121477640...</td>\n",
       "      <td>[-120.73117, 44.13346]</td>\n",
       "      <td>{'lnglat_from_parent': False}</td>\n",
       "    </tr>\n",
       "    <tr>\n",
       "      <th>2</th>\n",
       "      <td>Power Lines</td>\n",
       "      <td>[A small but worthwhile climbing area to check...</td>\n",
       "      <td>[Located about 15 minutes from Bend, drive out...</td>\n",
       "      <td>Central Oregon|Power Lines</td>\n",
       "      <td>Oregon</td>\n",
       "      <td>https://www.mountainproject.com/area/106867426...</td>\n",
       "      <td>[-121.46742, 44.04393]</td>\n",
       "      <td>{'lnglat_from_parent': False}</td>\n",
       "    </tr>\n",
       "    <tr>\n",
       "      <th>3</th>\n",
       "      <td>Meadow Camp</td>\n",
       "      <td>[This is a short south and east facing basalt ...</td>\n",
       "      <td>[Head out of Bend on Cascade Lakes Highway. Ta...</td>\n",
       "      <td>Central Oregon|Meadow Camp</td>\n",
       "      <td>Oregon</td>\n",
       "      <td>https://www.mountainproject.com/area/109756477...</td>\n",
       "      <td>[-121.37788, 44.00144]</td>\n",
       "      <td>{'lnglat_from_parent': False}</td>\n",
       "    </tr>\n",
       "    <tr>\n",
       "      <th>4</th>\n",
       "      <td>Youtlkut Pillars</td>\n",
       "      <td>[Youtlkut (Yu klut) Pillars is a 180-foot high...</td>\n",
       "      <td>[From Roseburg take Hwy 138 to Glide, right on...</td>\n",
       "      <td>Southwest Oregon|Youtlkut Pillars</td>\n",
       "      <td>Oregon</td>\n",
       "      <td>https://www.mountainproject.com/area/113991218...</td>\n",
       "      <td>[-122.6696, 43.22539]</td>\n",
       "      <td>{'lnglat_from_parent': False}</td>\n",
       "    </tr>\n",
       "  </tbody>\n",
       "</table>\n",
       "</div>"
      ],
      "text/plain": [
       "                         area_name  ...                       metadata\n",
       "0                  Shepard's Tower  ...  {'lnglat_from_parent': False}\n",
       "1  Prineville Reservoir State Park  ...  {'lnglat_from_parent': False}\n",
       "2                      Power Lines  ...  {'lnglat_from_parent': False}\n",
       "3                      Meadow Camp  ...  {'lnglat_from_parent': False}\n",
       "4                 Youtlkut Pillars  ...  {'lnglat_from_parent': False}\n",
       "\n",
       "[5 rows x 8 columns]"
      ]
     },
     "execution_count": 11,
     "metadata": {},
     "output_type": "execute_result"
    }
   ],
   "source": [
    "or_areas_df.head()"
   ]
  },
  {
   "cell_type": "code",
   "execution_count": 15,
   "metadata": {},
   "outputs": [
    {
     "data": {
      "text/html": [
       "<div>\n",
       "<style scoped>\n",
       "    .dataframe tbody tr th:only-of-type {\n",
       "        vertical-align: middle;\n",
       "    }\n",
       "\n",
       "    .dataframe tbody tr th {\n",
       "        vertical-align: top;\n",
       "    }\n",
       "\n",
       "    .dataframe thead th {\n",
       "        text-align: right;\n",
       "    }\n",
       "</style>\n",
       "<table border=\"1\" class=\"dataframe\">\n",
       "  <thead>\n",
       "    <tr style=\"text-align: right;\">\n",
       "      <th></th>\n",
       "      <th>route_name</th>\n",
       "      <th>grade</th>\n",
       "      <th>safety</th>\n",
       "      <th>type</th>\n",
       "      <th>fa</th>\n",
       "      <th>description</th>\n",
       "      <th>location</th>\n",
       "      <th>protection</th>\n",
       "      <th>metadata</th>\n",
       "    </tr>\n",
       "  </thead>\n",
       "  <tbody>\n",
       "    <tr>\n",
       "      <th>0</th>\n",
       "      <td>Tetris</td>\n",
       "      <td>{'YDS': '5.11-', 'French': '6c', 'Ewbanks': '2...</td>\n",
       "      <td></td>\n",
       "      <td>{'sport': True, 'tr': True}</td>\n",
       "      <td>Kevin Piarulli, May 2018</td>\n",
       "      <td>[Great position and perfect rock, Begin by ste...</td>\n",
       "      <td>[South face of the tower, left side.]</td>\n",
       "      <td>[6 bolts, chain anchor.]</td>\n",
       "      <td>{'left_right_seq': '2', 'parent_lnglat': [-121...</td>\n",
       "    </tr>\n",
       "    <tr>\n",
       "      <th>1</th>\n",
       "      <td>Atlantis</td>\n",
       "      <td>{'YDS': 'V1-2', 'Font': '5'}</td>\n",
       "      <td></td>\n",
       "      <td>{'boulder': True}</td>\n",
       "      <td>Andrew Evans</td>\n",
       "      <td>[This rock is underwater when the reservoir is...</td>\n",
       "      <td>[From the pull-off headed toward the swim beac...</td>\n",
       "      <td>[Pads]</td>\n",
       "      <td>{'left_right_seq': '999999', 'parent_lnglat': ...</td>\n",
       "    </tr>\n",
       "    <tr>\n",
       "      <th>2</th>\n",
       "      <td>Unknown crack</td>\n",
       "      <td>{'YDS': '5.9', 'French': '5c', 'Ewbanks': '17'...</td>\n",
       "      <td></td>\n",
       "      <td>{'trad': True, 'tr': True}</td>\n",
       "      <td>unknown</td>\n",
       "      <td>[I don't know the history of this climb.  I ju...</td>\n",
       "      <td>[Obvious crack left of hand crack, in the same...</td>\n",
       "      <td>[Trad or top rope]</td>\n",
       "      <td>{'left_right_seq': '4', 'parent_lnglat': [-121...</td>\n",
       "    </tr>\n",
       "    <tr>\n",
       "      <th>3</th>\n",
       "      <td>Wide Jam</td>\n",
       "      <td>{'YDS': '5.10a', 'French': '6a', 'Ewbanks': '1...</td>\n",
       "      <td></td>\n",
       "      <td>{'trad': True, 'tr': True}</td>\n",
       "      <td>unknown</td>\n",
       "      <td>[Nice thin hands to an awkward crux where the ...</td>\n",
       "      <td>[Obvious hand crack when you first get to the ...</td>\n",
       "      <td>[TR from bolts]</td>\n",
       "      <td>{'left_right_seq': '5', 'parent_lnglat': [-121...</td>\n",
       "    </tr>\n",
       "    <tr>\n",
       "      <th>4</th>\n",
       "      <td>Twin Sister</td>\n",
       "      <td>{'YDS': '5.9', 'French': '5c', 'Ewbanks': '17'...</td>\n",
       "      <td></td>\n",
       "      <td>{'trad': True, 'tr': True}</td>\n",
       "      <td>David Campbell and David Vanslyke, 1994.</td>\n",
       "      <td>[A face climb using two columns, finishing on ...</td>\n",
       "      <td>[Center left of the columns.]</td>\n",
       "      <td>[trad gear or top anchor bolts.]</td>\n",
       "      <td>{'left_right_seq': '3', 'parent_lnglat': [-122...</td>\n",
       "    </tr>\n",
       "  </tbody>\n",
       "</table>\n",
       "</div>"
      ],
      "text/plain": [
       "      route_name  ...                                           metadata\n",
       "0         Tetris  ...  {'left_right_seq': '2', 'parent_lnglat': [-121...\n",
       "1       Atlantis  ...  {'left_right_seq': '999999', 'parent_lnglat': ...\n",
       "2  Unknown crack  ...  {'left_right_seq': '4', 'parent_lnglat': [-121...\n",
       "3       Wide Jam  ...  {'left_right_seq': '5', 'parent_lnglat': [-121...\n",
       "4    Twin Sister  ...  {'left_right_seq': '3', 'parent_lnglat': [-122...\n",
       "\n",
       "[5 rows x 9 columns]"
      ]
     },
     "execution_count": 15,
     "metadata": {},
     "output_type": "execute_result"
    }
   ],
   "source": [
    "or_routes_df.head()"
   ]
  },
  {
   "cell_type": "code",
   "execution_count": 16,
   "metadata": {},
   "outputs": [],
   "source": [
    "# Split longitude and latitude values into separate columns\n",
    "or_areas_df[\"Longitude\"] = or_areas_df[\"lnglat\"].str[0]\n",
    "or_areas_df[\"Latitude\"] = or_areas_df[\"lnglat\"].str[1]\n",
    "\n",
    "wa_areas_df[\"Longitude\"] = wa_areas_df[\"lnglat\"].str[0]\n",
    "wa_areas_df[\"Latitude\"] = wa_areas_df[\"lnglat\"].str[1]"
   ]
  },
  {
   "cell_type": "code",
   "execution_count": 18,
   "metadata": {},
   "outputs": [],
   "source": [
    "# Merge the areas dataframes together\n",
    "wa_or_climbing_areas = pd.concat([or_areas_df, wa_areas_df])"
   ]
  },
  {
   "cell_type": "code",
   "execution_count": 20,
   "metadata": {
    "scrolled": true
   },
   "outputs": [],
   "source": [
    "# Create spatial dataframe\n",
    "wa_or_spatial = pd.DataFrame.spatial.from_xy(df = wa_or_climbing_areas,\n",
    "                                               x_column = \"Longitude\",\n",
    "                                               y_column = \"Latitude\",\n",
    "                                               sr = 4326)"
   ]
  },
  {
   "cell_type": "code",
   "execution_count": 21,
   "metadata": {},
   "outputs": [
    {
     "name": "stdout",
     "output_type": "stream",
     "text": [
      "<da.funcInfo object at 0x000001EA9C9F4330> returned NULL without setting an error\n"
     ]
    },
    {
     "data": {
      "text/plain": [
       "'C:\\\\Users\\\\kathr\\\\Documents\\\\outdoor-alliance\\\\mt-hood\\\\mt-hood-analysis\\\\mh_output.gdb\\\\wa_or_climbing'"
      ]
     },
     "execution_count": 21,
     "metadata": {},
     "output_type": "execute_result"
    }
   ],
   "source": [
    "# Write combined climbing dataframes back into one feature class\n",
    "wa_or_spatial.copy().spatial.to_featureclass(location = os.path.join(gdb_path, \"wa_or_climbing\"), \n",
    "                                        sanitize_columns = False)"
   ]
  },
  {
   "cell_type": "code",
   "execution_count": 29,
   "metadata": {},
   "outputs": [
    {
     "data": {
      "text/html": [
       "<div class='gpresult'><h2>Messages</h2><div id='messages' data-messages='[\"Start Time: Thursday, June 29, 2023 11:17:21 AM\",\"Analyzing input features...\",\"Dissolving clip features...\",\"Clipping input features...\",\"Succeeded at Thursday, June 29, 2023 11:17:22 AM (Elapsed Time: 0.51 seconds)\"]' data-show='true'><div id = 'default' /></div></div>"
      ],
      "text/plain": [
       "<Result 'C:\\\\Users\\\\kathr\\\\Documents\\\\outdoor-alliance\\\\mt-hood\\\\mt-hood-analysis\\\\mh_output.gdb\\\\climbing_clipped'>"
      ]
     },
     "execution_count": 29,
     "metadata": {},
     "output_type": "execute_result"
    }
   ],
   "source": [
    "# Clip to AOI\n",
    "wa_or_climbing = \"wa_or_climbing\"\n",
    "climbing_clipped = \"climbing_clipped\"\n",
    "arcpy.analysis.Clip(wa_or_climbing, mh_aoi, climbing_clipped)"
   ]
  },
  {
   "cell_type": "markdown",
   "metadata": {},
   "source": [
    "## Picnic"
   ]
  },
  {
   "cell_type": "code",
   "execution_count": 9,
   "metadata": {},
   "outputs": [],
   "source": [
    "# Recreation Opportunities: filter to within 100 m of the AOI\n",
    "# https://pro.arcgis.com/en/pro-app/latest/tool-reference/data-management/select-layer-by-location.htm\n",
    "in_layer = rec_ops_clipped\n",
    "overlap_type = \"WITHIN_A_DISTANCE\"\n",
    "search_distance = \"100 Meters\"\n",
    "selection_type = \"NEW_SELECTION\"\n",
    "selecting_features = mh_aoi\n",
    "\n",
    "aoi_rec_ops = arcpy.management.SelectLayerByLocation(in_layer = in_layer, \n",
    "                                                       overlap_type = overlap_type, \n",
    "                                                       select_features = selecting_features,\n",
    "                                                       search_distance = search_distance,\n",
    "                                                       selection_type = selection_type)"
   ]
  },
  {
   "cell_type": "code",
   "execution_count": 10,
   "metadata": {},
   "outputs": [
    {
     "data": {
      "text/html": [
       "<div class='gpresult'><h2>Messages</h2><div id='messages' data-messages='[\"Start Time: Wednesday, June 28, 2023 10:01:08 AM\",\"Succeeded at Wednesday, June 28, 2023 10:01:08 AM (Elapsed Time: 0.02 seconds)\"]' data-show='true'><div id = 'default' /></div></div>"
      ],
      "text/plain": [
       "<Result 'rec_ops_clipped_Layer1'>"
      ]
     },
     "execution_count": 10,
     "metadata": {},
     "output_type": "execute_result"
    }
   ],
   "source": [
    "# Recreation Opportunities: further select relevant site types\n",
    "# https://pro.arcgis.com/en/pro-app/latest/tool-reference/data-management/select-layer-by-attribute.htm\n",
    "in_layer = aoi_rec_ops\n",
    "selection_type = \"SUBSET_SELECTION\"\n",
    "where_clause = \"MARKERACTI = 'Picnicking'\"\n",
    "\n",
    "arcpy.management.SelectLayerByAttribute(in_layer_or_view = in_layer, \n",
    "                                        selection_type = selection_type, \n",
    "                                        where_clause = where_clause)"
   ]
  },
  {
   "cell_type": "code",
   "execution_count": 11,
   "metadata": {},
   "outputs": [
    {
     "data": {
      "text/html": [
       "<div class='gpresult'><h2>Messages</h2><div id='messages' data-messages='[\"Start Time: Wednesday, June 28, 2023 10:01:13 AM\",\"Succeeded at Wednesday, June 28, 2023 10:01:14 AM (Elapsed Time: 0.48 seconds)\"]' data-show='true'><div id = 'default' /></div></div>"
      ],
      "text/plain": [
       "<Result 'C:\\\\Users\\\\kathr\\\\Documents\\\\outdoor-alliance\\\\mt-hood\\\\mt-hood-analysis\\\\mh_output.gdb\\\\mh_picnic'>"
      ]
     },
     "execution_count": 11,
     "metadata": {},
     "output_type": "execute_result"
    }
   ],
   "source": [
    "# Create new layers\n",
    "# https://pro.arcgis.com/en/pro-app/latest/tool-reference/data-management/copy-features.htm\n",
    "mh_picnic =\"mh_picnic\"\n",
    "\n",
    "arcpy.management.CopyFeatures(aoi_rec_ops, mh_picnic)"
   ]
  },
  {
   "cell_type": "markdown",
   "metadata": {},
   "source": [
    "## Camping"
   ]
  },
  {
   "cell_type": "code",
   "execution_count": 83,
   "metadata": {},
   "outputs": [],
   "source": [
    "# Recreation Opportunities: filter to within 100 m of the AOI\n",
    "# https://pro.arcgis.com/en/pro-app/latest/tool-reference/data-management/select-layer-by-location.htm\n",
    "in_layer = rec_ops_clipped\n",
    "overlap_type = \"WITHIN_A_DISTANCE\"\n",
    "search_distance = \"10 Meters\"\n",
    "selection_type = \"NEW_SELECTION\"\n",
    "selecting_features = mh_aoi\n",
    "\n",
    "aoi_rec_ops = arcpy.management.SelectLayerByLocation(in_layer = in_layer, \n",
    "                                                       overlap_type = overlap_type, \n",
    "                                                       select_features = selecting_features,\n",
    "                                                       search_distance = search_distance,\n",
    "                                                       selection_type = selection_type)"
   ]
  },
  {
   "cell_type": "code",
   "execution_count": 84,
   "metadata": {},
   "outputs": [
    {
     "data": {
      "text/html": [
       "<div class='gpresult'><h2>Messages</h2><div id='messages' data-messages='[\"Start Time: Wednesday, July 19, 2023 2:48:17 PM\",\"Succeeded at Wednesday, July 19, 2023 2:48:17 PM (Elapsed Time: 0.02 seconds)\"]' data-show='true'><div id = 'default' /></div></div>"
      ],
      "text/plain": [
       "<Result 'rec_ops_clipped_Layer1'>"
      ]
     },
     "execution_count": 84,
     "metadata": {},
     "output_type": "execute_result"
    }
   ],
   "source": [
    "# Recreation Opportunities: further select relevant site types\n",
    "# https://pro.arcgis.com/en/pro-app/latest/tool-reference/data-management/select-layer-by-attribute.htm\n",
    "in_layer = aoi_rec_ops\n",
    "selection_type = \"SUBSET_SELECTION\"\n",
    "where_clause = \"MARKERAC_1 = 'Camping & Cabins'\"\n",
    "\n",
    "arcpy.management.SelectLayerByAttribute(in_layer_or_view = in_layer, \n",
    "                                        selection_type = selection_type, \n",
    "                                        where_clause = where_clause)"
   ]
  },
  {
   "cell_type": "code",
   "execution_count": 85,
   "metadata": {},
   "outputs": [
    {
     "data": {
      "text/html": [
       "<div class='gpresult'><h2>Messages</h2><div id='messages' data-messages='[\"Start Time: Wednesday, July 19, 2023 2:48:17 PM\",\"Succeeded at Wednesday, July 19, 2023 2:48:19 PM (Elapsed Time: 1.72 seconds)\"]' data-show='true'><div id = 'default' /></div></div>"
      ],
      "text/plain": [
       "<Result 'C:\\\\Users\\\\kathr\\\\Documents\\\\outdoor-alliance\\\\mt-hood\\\\mt-hood-analysis\\\\mh_output.gdb\\\\mh_camping'>"
      ]
     },
     "execution_count": 85,
     "metadata": {},
     "output_type": "execute_result"
    }
   ],
   "source": [
    "# Create new layers\n",
    "# https://pro.arcgis.com/en/pro-app/latest/tool-reference/data-management/copy-features.htm\n",
    "mh_camping = \"mh_camping\"\n",
    "\n",
    "arcpy.management.CopyFeatures(aoi_rec_ops, mh_camping)"
   ]
  },
  {
   "cell_type": "markdown",
   "metadata": {},
   "source": [
    "## Census"
   ]
  },
  {
   "cell_type": "markdown",
   "metadata": {},
   "source": [
    "### 2020 Redistricting Tracts (Racial Data)"
   ]
  },
  {
   "cell_type": "code",
   "execution_count": 39,
   "metadata": {},
   "outputs": [],
   "source": [
    "# Clip census to buffer around AOI\n",
    "census = os.path.join(data_folder, r\"Census\\Default.gdb\\census_2020\")\n",
    "census_clipped = \"census_clipped\""
   ]
  },
  {
   "cell_type": "code",
   "execution_count": 40,
   "metadata": {},
   "outputs": [
    {
     "data": {
      "text/html": [
       "<div class='gpresult'><h2>Messages</h2><div id='messages' data-messages='[\"Start Time: Monday, June 26, 2023 12:29:48 PM\",\"Reading Features...\",\"Cracking Features...\",\"Assembling Features...\",\"Succeeded at Monday, June 26, 2023 12:29:51 PM (Elapsed Time: 3.37 seconds)\"]' data-show='true'><div id = 'default' /></div></div>"
      ],
      "text/plain": [
       "<Result 'C:\\\\Users\\\\kathr\\\\Documents\\\\outdoor-alliance\\\\mt-hood\\\\mt-hood-analysis\\\\mh_output.gdb\\\\census_clipped'>"
      ]
     },
     "execution_count": 40,
     "metadata": {},
     "output_type": "execute_result"
    }
   ],
   "source": [
    "arcpy.analysis.Clip(census, mh_expansion_buffer, census_clipped)"
   ]
  },
  {
   "cell_type": "code",
   "execution_count": 41,
   "metadata": {
    "scrolled": true
   },
   "outputs": [
    {
     "data": {
      "text/html": [
       "<div class='gpresult'><h2>Messages</h2><div id='messages' data-messages='[\"Start Time: Monday, June 26, 2023 12:33:23 PM\",\"Succeeded at Monday, June 26, 2023 12:33:24 PM (Elapsed Time: 0.42 seconds)\"]' data-show='true'><div id = 'default' /></div></div>"
      ],
      "text/plain": [
       "<Result 'census_2020_Layer1'>"
      ]
     },
     "execution_count": 41,
     "metadata": {},
     "output_type": "execute_result"
    }
   ],
   "source": [
    "# Select census data for states of WA/OR\n",
    "in_layer = census\n",
    "selection_type = \"NEW_SELECTION\"\n",
    "where_clause = \"State_Name = 'Oregon' or State_Name = 'Washington'\"\n",
    "\n",
    "arcpy.management.SelectLayerByAttribute(in_layer_or_view = in_layer, \n",
    "                                        selection_type = selection_type, \n",
    "                                        where_clause = where_clause)\n",
    "\n",
    "# This creates a temporary layer on the map (but not in the gdb) called \"census_2020_Layer1\""
   ]
  },
  {
   "cell_type": "code",
   "execution_count": 44,
   "metadata": {},
   "outputs": [
    {
     "data": {
      "text/html": [
       "<div class='gpresult'><h2>Messages</h2><div id='messages' data-messages='[\"Start Time: Monday, June 26, 2023 12:34:44 PM\",\"Succeeded at Monday, June 26, 2023 12:34:46 PM (Elapsed Time: 1.68 seconds)\"]' data-show='true'><div id = 'default' /></div></div>"
      ],
      "text/plain": [
       "<Result 'C:\\\\Users\\\\kathr\\\\Documents\\\\outdoor-alliance\\\\mt-hood\\\\mt-hood-analysis\\\\mh_output.gdb\\\\wa_or_census'>"
      ]
     },
     "execution_count": 44,
     "metadata": {},
     "output_type": "execute_result"
    }
   ],
   "source": [
    "# Create new layers\n",
    "# https://pro.arcgis.com/en/pro-app/latest/tool-reference/data-management/copy-features.htm\n",
    "wa_or_census = \"wa_or_census\"\n",
    "\n",
    "arcpy.management.CopyFeatures(\"census_2020_Layer1\", \"wa_or_census\")"
   ]
  }
 ],
 "metadata": {
  "kernelspec": {
   "display_name": "ArcGISPro",
   "language": "Python",
   "name": "python3"
  },
  "language_info": {
   "file_extension": ".py",
   "name": "python",
   "version": "3"
  }
 },
 "nbformat": 4,
 "nbformat_minor": 2
}
