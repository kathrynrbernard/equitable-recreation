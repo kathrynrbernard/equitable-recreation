{
 "cells": [
  {
   "cell_type": "markdown",
   "metadata": {},
   "source": [
    "# Overview\n",
    "\n",
    "This notebook processes and visualizes the recreation data for the San Gabriel National Monument."
   ]
  },
  {
   "cell_type": "markdown",
   "metadata": {},
   "source": [
    "# Setup"
   ]
  },
  {
   "cell_type": "code",
   "execution_count": 108,
   "metadata": {},
   "outputs": [],
   "source": [
    "# Import libraries\n",
    "import arcpy, pandas as pd, numpy as np, arcgis, os\n",
    "from arcgis.features import GeoAccessor, GeoSeriesAccessor"
   ]
  },
  {
   "cell_type": "code",
   "execution_count": 109,
   "metadata": {},
   "outputs": [],
   "source": [
    "# Set up workspace\n",
    "arcpy.env.workspace  = r\"C:\\Users\\kathr\\Documents\\outdoor-alliance\\mt-hood\\mt-hood-analysis\\mh_output.gdb\"\n",
    "arcpy.env.overwriteOutput = True"
   ]
  },
  {
   "cell_type": "code",
   "execution_count": 110,
   "metadata": {},
   "outputs": [],
   "source": [
    "# Set gdb path\n",
    "gdb_path = r\"C:\\Users\\kathr\\Documents\\outdoor-alliance\\mt-hood\\mt-hood-analysis\\mh_output.gdb\""
   ]
  },
  {
   "cell_type": "markdown",
   "metadata": {},
   "source": [
    "# Trails"
   ]
  },
  {
   "cell_type": "code",
   "execution_count": 14,
   "metadata": {},
   "outputs": [],
   "source": [
    "# Create pandas dataframe from feature class\n",
    "trails_df = pd.DataFrame.spatial.from_featureclass(\"trails_clipped\")"
   ]
  },
  {
   "cell_type": "code",
   "execution_count": 15,
   "metadata": {},
   "outputs": [
    {
     "data": {
      "text/html": [
       "<div>\n",
       "<style scoped>\n",
       "    .dataframe tbody tr th:only-of-type {\n",
       "        vertical-align: middle;\n",
       "    }\n",
       "\n",
       "    .dataframe tbody tr th {\n",
       "        vertical-align: top;\n",
       "    }\n",
       "\n",
       "    .dataframe thead th {\n",
       "        text-align: right;\n",
       "    }\n",
       "</style>\n",
       "<table border=\"1\" class=\"dataframe\">\n",
       "  <thead>\n",
       "    <tr style=\"text-align: right;\">\n",
       "      <th></th>\n",
       "      <th>OBJECTID</th>\n",
       "      <th>permanentidentifier</th>\n",
       "      <th>name</th>\n",
       "      <th>namealternate</th>\n",
       "      <th>trailnumber</th>\n",
       "      <th>trailnumberalternate</th>\n",
       "      <th>sourcefeatureid</th>\n",
       "      <th>sourcedatasetid</th>\n",
       "      <th>sourcedatadecscription</th>\n",
       "      <th>sourceoriginator</th>\n",
       "      <th>loaddate</th>\n",
       "      <th>trailtype</th>\n",
       "      <th>hikerpedestrian</th>\n",
       "      <th>bicycle</th>\n",
       "      <th>packsaddle</th>\n",
       "      <th>atv</th>\n",
       "      <th>motorcycle</th>\n",
       "      <th>ohvover50inches</th>\n",
       "      <th>snowshoe</th>\n",
       "      <th>crosscountryski</th>\n",
       "      <th>dogsled</th>\n",
       "      <th>snowmobile</th>\n",
       "      <th>nonmotorizedwatercraft</th>\n",
       "      <th>motorizedwatercraft</th>\n",
       "      <th>primarytrailmaintainer</th>\n",
       "      <th>nationaltraildesignation</th>\n",
       "      <th>lengthmiles</th>\n",
       "      <th>networklength</th>\n",
       "      <th>Length_Miles</th>\n",
       "      <th>SHAPE</th>\n",
       "    </tr>\n",
       "  </thead>\n",
       "  <tbody>\n",
       "    <tr>\n",
       "      <th>0</th>\n",
       "      <td>1</td>\n",
       "      <td>29a6416a-d9b6-4ce8-8a3b-395bc17b44a3</td>\n",
       "      <td>Mt. Defiance Tie</td>\n",
       "      <td>None</td>\n",
       "      <td>413B</td>\n",
       "      <td>None</td>\n",
       "      <td>1572223010602</td>\n",
       "      <td>{FCB8819D-5F52-4371-91AC-879EB080369D}</td>\n",
       "      <td>USFS Trails 12/2019</td>\n",
       "      <td>U.S. Forest Service</td>\n",
       "      <td>2022-01-19 06:48:08</td>\n",
       "      <td>Terra Trail</td>\n",
       "      <td>Y</td>\n",
       "      <td>None</td>\n",
       "      <td>None</td>\n",
       "      <td>None</td>\n",
       "      <td>None</td>\n",
       "      <td>None</td>\n",
       "      <td>None</td>\n",
       "      <td>None</td>\n",
       "      <td>None</td>\n",
       "      <td>None</td>\n",
       "      <td>None</td>\n",
       "      <td>None</td>\n",
       "      <td>FS</td>\n",
       "      <td>None</td>\n",
       "      <td>0.633631</td>\n",
       "      <td>11178.672020</td>\n",
       "      <td>0.095197</td>\n",
       "      <td>{\"hasZ\": true, \"hasM\": true, \"paths\": [[[-121....</td>\n",
       "    </tr>\n",
       "    <tr>\n",
       "      <th>1</th>\n",
       "      <td>2</td>\n",
       "      <td>e9769317-8c36-43a1-9b12-42775f7b1b85</td>\n",
       "      <td>Bottle Prairie</td>\n",
       "      <td>EIGHTMILE LOOP</td>\n",
       "      <td>455</td>\n",
       "      <td>496</td>\n",
       "      <td>6487.004571</td>\n",
       "      <td>{FCB8819D-5F52-4371-91AC-879EB080369D}</td>\n",
       "      <td>USFS Trails 12/2019</td>\n",
       "      <td>U.S. Forest Service</td>\n",
       "      <td>2022-01-19 06:48:08</td>\n",
       "      <td>Terra Trail</td>\n",
       "      <td>Y</td>\n",
       "      <td>None</td>\n",
       "      <td>None</td>\n",
       "      <td>None</td>\n",
       "      <td>None</td>\n",
       "      <td>None</td>\n",
       "      <td>None</td>\n",
       "      <td>None</td>\n",
       "      <td>None</td>\n",
       "      <td>None</td>\n",
       "      <td>None</td>\n",
       "      <td>None</td>\n",
       "      <td>FS</td>\n",
       "      <td>None</td>\n",
       "      <td>0.424867</td>\n",
       "      <td>80.352574</td>\n",
       "      <td>0.424868</td>\n",
       "      <td>{\"hasZ\": true, \"hasM\": true, \"paths\": [[[-121....</td>\n",
       "    </tr>\n",
       "    <tr>\n",
       "      <th>2</th>\n",
       "      <td>3</td>\n",
       "      <td>431b2da6-2085-4080-b627-b58d3e3869dc</td>\n",
       "      <td>Big Hollow</td>\n",
       "      <td>None</td>\n",
       "      <td>158</td>\n",
       "      <td>None</td>\n",
       "      <td>5937.004571</td>\n",
       "      <td>{FCB8819D-5F52-4371-91AC-879EB080369D}</td>\n",
       "      <td>USFS Trails 12/2019</td>\n",
       "      <td>U.S. Forest Service</td>\n",
       "      <td>2022-01-19 06:48:08</td>\n",
       "      <td>Terra Trail</td>\n",
       "      <td>Y</td>\n",
       "      <td>None</td>\n",
       "      <td>None</td>\n",
       "      <td>None</td>\n",
       "      <td>None</td>\n",
       "      <td>None</td>\n",
       "      <td>None</td>\n",
       "      <td>None</td>\n",
       "      <td>None</td>\n",
       "      <td>None</td>\n",
       "      <td>None</td>\n",
       "      <td>None</td>\n",
       "      <td>FS</td>\n",
       "      <td>None</td>\n",
       "      <td>3.067201</td>\n",
       "      <td>35.371833</td>\n",
       "      <td>0.021891</td>\n",
       "      <td>{\"hasZ\": true, \"hasM\": true, \"paths\": [[[-122....</td>\n",
       "    </tr>\n",
       "    <tr>\n",
       "      <th>3</th>\n",
       "      <td>4</td>\n",
       "      <td>9d92d354-fe20-4149-b553-8c22431a633b</td>\n",
       "      <td>Three Mile South Fork</td>\n",
       "      <td>None</td>\n",
       "      <td>466.1</td>\n",
       "      <td>None</td>\n",
       "      <td>1872016010602</td>\n",
       "      <td>{FCB8819D-5F52-4371-91AC-879EB080369D}</td>\n",
       "      <td>USFS Trails 12/2019</td>\n",
       "      <td>U.S. Forest Service</td>\n",
       "      <td>2022-01-19 06:48:08</td>\n",
       "      <td>Terra Trail</td>\n",
       "      <td>Y</td>\n",
       "      <td>None</td>\n",
       "      <td>None</td>\n",
       "      <td>None</td>\n",
       "      <td>None</td>\n",
       "      <td>None</td>\n",
       "      <td>None</td>\n",
       "      <td>None</td>\n",
       "      <td>None</td>\n",
       "      <td>None</td>\n",
       "      <td>None</td>\n",
       "      <td>None</td>\n",
       "      <td>FS</td>\n",
       "      <td>None</td>\n",
       "      <td>0.970692</td>\n",
       "      <td>78.035939</td>\n",
       "      <td>0.073422</td>\n",
       "      <td>{\"hasZ\": true, \"hasM\": true, \"paths\": [[[-121....</td>\n",
       "    </tr>\n",
       "    <tr>\n",
       "      <th>4</th>\n",
       "      <td>5</td>\n",
       "      <td>0df1c82d-3120-49a6-ac0c-d01e3d1b7375</td>\n",
       "      <td>Tilly Jane Ski</td>\n",
       "      <td>None</td>\n",
       "      <td>643</td>\n",
       "      <td>SNO-643</td>\n",
       "      <td>5027.004901</td>\n",
       "      <td>{FCB8819D-5F52-4371-91AC-879EB080369D}</td>\n",
       "      <td>USFS Trails 12/2019</td>\n",
       "      <td>U.S. Forest Service</td>\n",
       "      <td>2022-01-19 06:48:08</td>\n",
       "      <td>Terra Trail</td>\n",
       "      <td>Y</td>\n",
       "      <td>None</td>\n",
       "      <td>None</td>\n",
       "      <td>None</td>\n",
       "      <td>None</td>\n",
       "      <td>None</td>\n",
       "      <td>None</td>\n",
       "      <td>Y</td>\n",
       "      <td>None</td>\n",
       "      <td>None</td>\n",
       "      <td>None</td>\n",
       "      <td>None</td>\n",
       "      <td>FS</td>\n",
       "      <td>None</td>\n",
       "      <td>2.696591</td>\n",
       "      <td>11178.672020</td>\n",
       "      <td>2.696597</td>\n",
       "      <td>{\"hasZ\": true, \"hasM\": true, \"paths\": [[[-121....</td>\n",
       "    </tr>\n",
       "  </tbody>\n",
       "</table>\n",
       "</div>"
      ],
      "text/plain": [
       "   OBJECTID  ...                                              SHAPE\n",
       "0         1  ...  {\"hasZ\": true, \"hasM\": true, \"paths\": [[[-121....\n",
       "1         2  ...  {\"hasZ\": true, \"hasM\": true, \"paths\": [[[-121....\n",
       "2         3  ...  {\"hasZ\": true, \"hasM\": true, \"paths\": [[[-122....\n",
       "3         4  ...  {\"hasZ\": true, \"hasM\": true, \"paths\": [[[-121....\n",
       "4         5  ...  {\"hasZ\": true, \"hasM\": true, \"paths\": [[[-121....\n",
       "\n",
       "[5 rows x 30 columns]"
      ]
     },
     "execution_count": 15,
     "metadata": {},
     "output_type": "execute_result"
    }
   ],
   "source": [
    "# View the dataframe\n",
    "trails_df.head()"
   ]
  },
  {
   "cell_type": "code",
   "execution_count": 16,
   "metadata": {},
   "outputs": [
    {
     "data": {
      "text/plain": [
       "990"
      ]
     },
     "execution_count": 16,
     "metadata": {},
     "output_type": "execute_result"
    }
   ],
   "source": [
    "# Total number of trails - all uses\n",
    "trails_df.shape[0]"
   ]
  },
  {
   "cell_type": "code",
   "execution_count": 20,
   "metadata": {},
   "outputs": [
    {
     "data": {
      "text/plain": [
       "1384.1604817618913"
      ]
     },
     "execution_count": 20,
     "metadata": {},
     "output_type": "execute_result"
    }
   ],
   "source": [
    "# Total miles of trails - all uses\n",
    "np.sum(trails_df[\"Length_Miles\"])"
   ]
  },
  {
   "cell_type": "code",
   "execution_count": 9,
   "metadata": {},
   "outputs": [],
   "source": [
    "# Possible uses for trails:\n",
    "# Bicycle\n",
    "# Packsaddle\n",
    "# ATV\n",
    "# Motorcycle\n",
    "# ohvover50inches\n",
    "# Snowshoe\n",
    "# XC Ski\n",
    "# Dogsled\n",
    "# Snowmobile\n",
    "# Hiker/pedestrian"
   ]
  },
  {
   "cell_type": "markdown",
   "metadata": {},
   "source": [
    "## Biking Trails"
   ]
  },
  {
   "cell_type": "code",
   "execution_count": 21,
   "metadata": {},
   "outputs": [
    {
     "data": {
      "text/plain": [
       "array([None, 'N', 'Y'], dtype=object)"
      ]
     },
     "execution_count": 21,
     "metadata": {},
     "output_type": "execute_result"
    }
   ],
   "source": [
    "# Find possible values for bike column\n",
    "trails_df[\"bicycle\"].unique()"
   ]
  },
  {
   "cell_type": "code",
   "execution_count": 22,
   "metadata": {},
   "outputs": [],
   "source": [
    "# Subset to all trails that allow biking\n",
    "mtb_trails = trails_df[trails_df[\"bicycle\"] == \"Y\"]"
   ]
  },
  {
   "cell_type": "code",
   "execution_count": 25,
   "metadata": {},
   "outputs": [
    {
     "data": {
      "text/plain": [
       "36.72272904653071"
      ]
     },
     "execution_count": 25,
     "metadata": {},
     "output_type": "execute_result"
    }
   ],
   "source": [
    "# Total miles of trails - mtb (multi-use)\n",
    "np.sum(mtb_trails[\"Length_Miles\"])"
   ]
  },
  {
   "cell_type": "code",
   "execution_count": 26,
   "metadata": {},
   "outputs": [
    {
     "data": {
      "text/plain": [
       "53"
      ]
     },
     "execution_count": 26,
     "metadata": {},
     "output_type": "execute_result"
    }
   ],
   "source": [
    "# Total number of trails - mtb (multi-use)\n",
    "mtb_trails.shape[0]"
   ]
  },
  {
   "cell_type": "markdown",
   "metadata": {},
   "source": [
    "## Hiking Trails"
   ]
  },
  {
   "cell_type": "code",
   "execution_count": 27,
   "metadata": {},
   "outputs": [
    {
     "data": {
      "text/plain": [
       "array(['Y', None], dtype=object)"
      ]
     },
     "execution_count": 27,
     "metadata": {},
     "output_type": "execute_result"
    }
   ],
   "source": [
    "# Find possible values for hiking column\n",
    "trails_df[\"hikerpedestrian\"].unique()"
   ]
  },
  {
   "cell_type": "code",
   "execution_count": 28,
   "metadata": {},
   "outputs": [],
   "source": [
    "# Subset to all trails that allow hiking\n",
    "hiking_trails = trails_df[trails_df[\"hikerpedestrian\"] == \"Y\"]"
   ]
  },
  {
   "cell_type": "code",
   "execution_count": 29,
   "metadata": {},
   "outputs": [
    {
     "data": {
      "text/plain": [
       "1337.790302250798"
      ]
     },
     "execution_count": 29,
     "metadata": {},
     "output_type": "execute_result"
    }
   ],
   "source": [
    "# Total miles of trails - hiking (multi-use)\n",
    "np.sum(hiking_trails[\"Length_Miles\"])"
   ]
  },
  {
   "cell_type": "code",
   "execution_count": 30,
   "metadata": {},
   "outputs": [
    {
     "data": {
      "text/plain": [
       "977"
      ]
     },
     "execution_count": 30,
     "metadata": {},
     "output_type": "execute_result"
    }
   ],
   "source": [
    "# Total number of trails - hiking (multi-use)\n",
    "hiking_trails.shape[0]"
   ]
  },
  {
   "cell_type": "code",
   "execution_count": 31,
   "metadata": {},
   "outputs": [],
   "source": [
    "# Subset to trails that are only hiking, no other activities\n",
    "hike_only = hiking_trails[(hiking_trails[\"bicycle\"] != \"Y\") & (hiking_trails[\"packsaddle\"] != \"Y\") & (hiking_trails[\"atv\"] != \"Y\") & (hiking_trails[\"motorcycle\"] != \"Y\") & (hiking_trails[\"ohvover50inches\"] != \"Y\") & (hiking_trails[\"dogsled\"] != \"Y\") & (hiking_trails[\"snowmobile\"] != \"Y\")]"
   ]
  },
  {
   "cell_type": "code",
   "execution_count": 32,
   "metadata": {},
   "outputs": [
    {
     "data": {
      "text/plain": [
       "1044.4332127510943"
      ]
     },
     "execution_count": 32,
     "metadata": {},
     "output_type": "execute_result"
    }
   ],
   "source": [
    "# Total miles of trails - hiking (hiking only)\n",
    "np.sum(hike_only[\"Length_Miles\"])"
   ]
  },
  {
   "cell_type": "code",
   "execution_count": 33,
   "metadata": {},
   "outputs": [
    {
     "data": {
      "text/plain": [
       "782"
      ]
     },
     "execution_count": 33,
     "metadata": {},
     "output_type": "execute_result"
    }
   ],
   "source": [
    "# Total number of trails - hiking (hiking only)\n",
    "hike_only.shape[0]"
   ]
  },
  {
   "cell_type": "markdown",
   "metadata": {},
   "source": [
    "## Equestrian Trails"
   ]
  },
  {
   "cell_type": "code",
   "execution_count": 34,
   "metadata": {},
   "outputs": [],
   "source": [
    "# Subset to all trails that allow equestrian use\n",
    "eq_trails = trails_df[trails_df[\"packsaddle\"] == \"Y\"]"
   ]
  },
  {
   "cell_type": "code",
   "execution_count": 35,
   "metadata": {},
   "outputs": [
    {
     "data": {
      "text/plain": [
       "289.1529758873576"
      ]
     },
     "execution_count": 35,
     "metadata": {},
     "output_type": "execute_result"
    }
   ],
   "source": [
    "# Total miles of trails - equestrian (multi-use)\n",
    "np.sum(eq_trails[\"Length_Miles\"])"
   ]
  },
  {
   "cell_type": "code",
   "execution_count": 36,
   "metadata": {},
   "outputs": [
    {
     "data": {
      "text/plain": [
       "194"
      ]
     },
     "execution_count": 36,
     "metadata": {},
     "output_type": "execute_result"
    }
   ],
   "source": [
    "# Total number of trails - equestrian (multi-use)\n",
    "eq_trails.shape[0]"
   ]
  },
  {
   "cell_type": "markdown",
   "metadata": {},
   "source": [
    "# Paddling"
   ]
  },
  {
   "cell_type": "markdown",
   "metadata": {},
   "source": [
    "## River Access Sites"
   ]
  },
  {
   "cell_type": "code",
   "execution_count": 42,
   "metadata": {},
   "outputs": [],
   "source": [
    "# Create pandas dataframe from feature class\n",
    "river_access_df = pd.DataFrame.spatial.from_featureclass(\"mh_river_access\")"
   ]
  },
  {
   "cell_type": "code",
   "execution_count": 43,
   "metadata": {},
   "outputs": [
    {
     "data": {
      "text/plain": [
       "36"
      ]
     },
     "execution_count": 43,
     "metadata": {},
     "output_type": "execute_result"
    }
   ],
   "source": [
    "# Number of access sites\n",
    "river_access_df.shape[0]"
   ]
  },
  {
   "cell_type": "markdown",
   "metadata": {},
   "source": [
    "## Waterways"
   ]
  },
  {
   "cell_type": "code",
   "execution_count": 39,
   "metadata": {},
   "outputs": [],
   "source": [
    "# Create pandas dataframe from feature class\n",
    "paddle_df = pd.DataFrame.spatial.from_featureclass(\"mh_whitewater\")"
   ]
  },
  {
   "cell_type": "code",
   "execution_count": 40,
   "metadata": {
    "scrolled": true
   },
   "outputs": [
    {
     "data": {
      "text/plain": [
       "82.38676926037283"
      ]
     },
     "execution_count": 40,
     "metadata": {},
     "output_type": "execute_result"
    }
   ],
   "source": [
    "# Total number of miles of whitewater paddling\n",
    "np.sum(paddle_df[\"Length_Miles\"])"
   ]
  },
  {
   "cell_type": "markdown",
   "metadata": {},
   "source": [
    "# Rock Climbing"
   ]
  },
  {
   "cell_type": "code",
   "execution_count": 30,
   "metadata": {},
   "outputs": [],
   "source": [
    "# Create pandas dataframe from feature class\n",
    "climbing_df = pd.DataFrame.spatial.from_featureclass(\"climbing_clipped\")"
   ]
  },
  {
   "cell_type": "code",
   "execution_count": 31,
   "metadata": {},
   "outputs": [
    {
     "data": {
      "text/plain": [
       "164"
      ]
     },
     "execution_count": 31,
     "metadata": {},
     "output_type": "execute_result"
    }
   ],
   "source": [
    "# Total number of climbing sites\n",
    "len(climbing_df[\"area_name\"].unique())"
   ]
  },
  {
   "cell_type": "markdown",
   "metadata": {},
   "source": [
    "# Picnic Areas"
   ]
  },
  {
   "cell_type": "code",
   "execution_count": 32,
   "metadata": {},
   "outputs": [],
   "source": [
    "# Create pandas dataframe from feature class\n",
    "picnic_df = pd.DataFrame.spatial.from_featureclass(\"mh_picnic\")"
   ]
  },
  {
   "cell_type": "code",
   "execution_count": 33,
   "metadata": {},
   "outputs": [
    {
     "data": {
      "text/plain": [
       "9"
      ]
     },
     "execution_count": 33,
     "metadata": {},
     "output_type": "execute_result"
    }
   ],
   "source": [
    "# Total number of picnic sites\n",
    "len(picnic_df[\"RECAREANAM\"].unique())"
   ]
  },
  {
   "cell_type": "markdown",
   "metadata": {},
   "source": [
    "# Camping"
   ]
  },
  {
   "cell_type": "code",
   "execution_count": 111,
   "metadata": {},
   "outputs": [],
   "source": [
    "# Create pandas dataframe from feature class\n",
    "camping_df = pd.DataFrame.spatial.from_featureclass(\"mh_camping\")"
   ]
  },
  {
   "cell_type": "code",
   "execution_count": 112,
   "metadata": {},
   "outputs": [
    {
     "data": {
      "text/plain": [
       "40"
      ]
     },
     "execution_count": 112,
     "metadata": {},
     "output_type": "execute_result"
    }
   ],
   "source": [
    "# Total number of camping sites\n",
    "len(camping_df[\"RECAREANAM\"].unique())"
   ]
  },
  {
   "cell_type": "markdown",
   "metadata": {},
   "source": [
    "# Impact of Expansion"
   ]
  },
  {
   "cell_type": "markdown",
   "metadata": {},
   "source": [
    "## Current Rec"
   ]
  },
  {
   "cell_type": "code",
   "execution_count": 116,
   "metadata": {},
   "outputs": [],
   "source": [
    "# Select AOI by attribute: Status = Designated\n",
    "# https://pro.arcgis.com/en/pro-app/latest/tool-reference/data-management/select-layer-by-attribute.htm\n",
    "in_layer = \"mh_aoi\"\n",
    "selection_type = \"NEW_SELECTION\"\n",
    "where_clause = \"Status = 'Designated'\"\n",
    "\n",
    "aoi_designated = arcpy.management.SelectLayerByAttribute(in_layer_or_view = in_layer, \n",
    "                                        selection_type = selection_type, \n",
    "                                        where_clause = where_clause)"
   ]
  },
  {
   "cell_type": "code",
   "execution_count": 45,
   "metadata": {},
   "outputs": [
    {
     "data": {
      "text/html": [
       "<div class='gpresult'><h2>Messages</h2><div id='messages' data-messages='[\"Start Time: Wednesday, July 19, 2023 2:40:37 PM\",\"Assembling Features...\",\"Reading Features...\",\"Cracking Features...\",\"Succeeded at Wednesday, July 19, 2023 2:40:43 PM (Elapsed Time: 5.39 seconds)\"]' data-show='true'><div id = 'default' /></div></div>"
      ],
      "text/plain": [
       "<Result 'C:\\\\Users\\\\kathr\\\\Documents\\\\outdoor-alliance\\\\mt-hood\\\\mt-hood-analysis\\\\mh_output.gdb\\\\mh_designated_trails'>"
      ]
     },
     "execution_count": 45,
     "metadata": {},
     "output_type": "execute_result"
    }
   ],
   "source": [
    "# Trails\n",
    "arcpy.analysis.Clip(\"trails_clipped\", aoi_designated, \"mh_designated_trails\")"
   ]
  },
  {
   "cell_type": "code",
   "execution_count": 46,
   "metadata": {},
   "outputs": [
    {
     "data": {
      "text/html": [
       "<div class='gpresult'><h2>Messages</h2><div id='messages' data-messages='[\"Start Time: Wednesday, July 19, 2023 2:40:44 PM\",\"Succeeded at Wednesday, July 19, 2023 2:40:46 PM (Elapsed Time: 1.88 seconds)\"]' data-show='true'><div id = 'default' /></div></div>"
      ],
      "text/plain": [
       "<Result 'mh_designated_trails'>"
      ]
     },
     "execution_count": 46,
     "metadata": {},
     "output_type": "execute_result"
    }
   ],
   "source": [
    "# Recalculate length field after clipping\n",
    "arcpy.management.CalculateGeometryAttributes(in_features = \"mh_designated_trails\",\n",
    "                                             geometry_property = [[\"Length_Miles\", \"LENGTH_GEODESIC\"]],\n",
    "                                             length_unit = \"MILES_INT\")"
   ]
  },
  {
   "cell_type": "code",
   "execution_count": 47,
   "metadata": {},
   "outputs": [
    {
     "data": {
      "text/html": [
       "<div class='gpresult'><h2>Messages</h2><div id='messages' data-messages='[\"Start Time: Wednesday, July 19, 2023 2:40:48 PM\",\"Assembling Features...\",\"Reading Features...\",\"Cracking Features...\",\"Succeeded at Wednesday, July 19, 2023 2:40:50 PM (Elapsed Time: 2.00 seconds)\"]' data-show='true'><div id = 'default' /></div></div>"
      ],
      "text/plain": [
       "<Result 'C:\\\\Users\\\\kathr\\\\Documents\\\\outdoor-alliance\\\\mt-hood\\\\mt-hood-analysis\\\\mh_output.gdb\\\\designated_whitewater'>"
      ]
     },
     "execution_count": 47,
     "metadata": {},
     "output_type": "execute_result"
    }
   ],
   "source": [
    "# Paddling\n",
    "arcpy.analysis.Clip(\"mh_whitewater\", aoi_designated, \"designated_whitewater\")"
   ]
  },
  {
   "cell_type": "code",
   "execution_count": 48,
   "metadata": {},
   "outputs": [
    {
     "data": {
      "text/html": [
       "<div class='gpresult'><h2>Messages</h2><div id='messages' data-messages='[\"Start Time: Wednesday, July 19, 2023 2:40:51 PM\",\"Succeeded at Wednesday, July 19, 2023 2:40:53 PM (Elapsed Time: 1.93 seconds)\"]' data-show='true'><div id = 'default' /></div></div>"
      ],
      "text/plain": [
       "<Result 'designated_whitewater'>"
      ]
     },
     "execution_count": 48,
     "metadata": {},
     "output_type": "execute_result"
    }
   ],
   "source": [
    "# Recalculate length field after clipping\n",
    "arcpy.management.CalculateGeometryAttributes(in_features = \"designated_whitewater\",\n",
    "                                             geometry_property = [[\"Length_Miles\", \"LENGTH\"]],\n",
    "                                             length_unit = \"MILES_INT\")"
   ]
  },
  {
   "cell_type": "code",
   "execution_count": 49,
   "metadata": {},
   "outputs": [
    {
     "data": {
      "text/html": [
       "<div class='gpresult'><h2>Messages</h2><div id='messages' data-messages='[\"Start Time: Wednesday, July 19, 2023 2:40:59 PM\",\"Succeeded at Wednesday, July 19, 2023 2:41:00 PM (Elapsed Time: 1.72 seconds)\"]' data-show='true'><div id = 'default' /></div></div>"
      ],
      "text/plain": [
       "<Result 'C:\\\\Users\\\\kathr\\\\Documents\\\\outdoor-alliance\\\\mt-hood\\\\mt-hood-analysis\\\\mh_output.gdb\\\\designated_river'>"
      ]
     },
     "execution_count": 49,
     "metadata": {},
     "output_type": "execute_result"
    }
   ],
   "source": [
    "in_layer = \"mh_river_access\"\n",
    "overlap_type = \"INTERSECT\"\n",
    "selection_type = \"SUBSET_SELECTION\"\n",
    "selecting_features = aoi_designated\n",
    "\n",
    "designated_river = arcpy.management.SelectLayerByLocation(in_layer = in_layer, \n",
    "                                                       overlap_type = overlap_type, \n",
    "                                                       select_features = selecting_features,\n",
    "                                                       selection_type = selection_type)\n",
    "arcpy.management.CopyFeatures(designated_river, \"designated_river\")"
   ]
  },
  {
   "cell_type": "code",
   "execution_count": 50,
   "metadata": {},
   "outputs": [
    {
     "data": {
      "text/html": [
       "<div class='gpresult'><h2>Messages</h2><div id='messages' data-messages='[\"Start Time: Wednesday, July 19, 2023 2:41:03 PM\",\"Succeeded at Wednesday, July 19, 2023 2:41:04 PM (Elapsed Time: 1.79 seconds)\"]' data-show='true'><div id = 'default' /></div></div>"
      ],
      "text/plain": [
       "<Result 'C:\\\\Users\\\\kathr\\\\Documents\\\\outdoor-alliance\\\\mt-hood\\\\mt-hood-analysis\\\\mh_output.gdb\\\\designated_climbing'>"
      ]
     },
     "execution_count": 50,
     "metadata": {},
     "output_type": "execute_result"
    }
   ],
   "source": [
    "# Climbing\n",
    "in_layer = \"climbing_clipped\"\n",
    "overlap_type = \"INTERSECT\"\n",
    "selection_type = \"SUBSET_SELECTION\"\n",
    "selecting_features = aoi_designated\n",
    "\n",
    "designated_climbing = arcpy.management.SelectLayerByLocation(in_layer = in_layer, \n",
    "                                                            overlap_type = overlap_type,\n",
    "                                                            select_features = selecting_features,\n",
    "                                                            selection_type = selection_type)\n",
    "arcpy.management.CopyFeatures(designated_climbing, \"designated_climbing\")"
   ]
  },
  {
   "cell_type": "code",
   "execution_count": 117,
   "metadata": {},
   "outputs": [
    {
     "data": {
      "text/html": [
       "<div class='gpresult'><h2>Messages</h2><div id='messages' data-messages='[\"Start Time: Wednesday, July 19, 2023 2:57:40 PM\",\"Succeeded at Wednesday, July 19, 2023 2:57:42 PM (Elapsed Time: 1.62 seconds)\"]' data-show='true'><div id = 'default' /></div></div>"
      ],
      "text/plain": [
       "<Result 'C:\\\\Users\\\\kathr\\\\Documents\\\\outdoor-alliance\\\\mt-hood\\\\mt-hood-analysis\\\\mh_output.gdb\\\\designated_picnic'>"
      ]
     },
     "execution_count": 117,
     "metadata": {},
     "output_type": "execute_result"
    }
   ],
   "source": [
    "# Picnicking\n",
    "in_layer = \"mh_picnic\"\n",
    "selection_type = \"SUBSET_SELECTION\"\n",
    "overlap_type = \"WITHIN_A_DISTANCE\"\n",
    "search_distance = \"75 Meters\"\n",
    "selecting_features = aoi_designated\n",
    "\n",
    "designated_picnic = arcpy.management.SelectLayerByLocation(in_layer = in_layer, \n",
    "                                                           overlap_type = overlap_type,\n",
    "                                                           search_distance = search_distance,\n",
    "                                                           select_features = selecting_features,\n",
    "                                                           selection_type = selection_type)\n",
    "arcpy.management.CopyFeatures(designated_picnic, \"designated_picnic\")"
   ]
  },
  {
   "cell_type": "code",
   "execution_count": 118,
   "metadata": {},
   "outputs": [
    {
     "data": {
      "text/html": [
       "<div class='gpresult'><h2>Messages</h2><div id='messages' data-messages='[\"Start Time: Wednesday, July 19, 2023 2:57:43 PM\",\"Succeeded at Wednesday, July 19, 2023 2:57:44 PM (Elapsed Time: 1.49 seconds)\"]' data-show='true'><div id = 'default' /></div></div>"
      ],
      "text/plain": [
       "<Result 'C:\\\\Users\\\\kathr\\\\Documents\\\\outdoor-alliance\\\\mt-hood\\\\mt-hood-analysis\\\\mh_output.gdb\\\\designated_camping'>"
      ]
     },
     "execution_count": 118,
     "metadata": {},
     "output_type": "execute_result"
    }
   ],
   "source": [
    "# Camping\n",
    "# https://pro.arcgis.com/en/pro-app/latest/tool-reference/data-management/select-layer-by-location.htm\n",
    "in_layer = \"mh_camping\"\n",
    "selection_type = \"SUBSET_SELECTION\"\n",
    "overlap_type = \"INTERSECT\"\n",
    "selecting_features = aoi_designated\n",
    "\n",
    "designated_camping = arcpy.management.SelectLayerByLocation(in_layer = in_layer, \n",
    "                                                           overlap_type = overlap_type, \n",
    "                                                            search_distance = search_distance,\n",
    "                                                           select_features = selecting_features,\n",
    "                                                           selection_type = selection_type)\n",
    "arcpy.management.CopyFeatures(designated_camping, \"designated_camping\")"
   ]
  },
  {
   "cell_type": "markdown",
   "metadata": {
    "heading_collapsed": true
   },
   "source": [
    "## Expansion Rec"
   ]
  },
  {
   "cell_type": "code",
   "execution_count": 113,
   "metadata": {
    "hidden": true
   },
   "outputs": [],
   "source": [
    "# Select AOI by attribute: Status = Proposed\n",
    "# https://pro.arcgis.com/en/pro-app/latest/tool-reference/data-management/select-layer-by-attribute.htm\n",
    "in_layer = \"mh_aoi\"\n",
    "selection_type = \"NEW_SELECTION\"\n",
    "where_clause = \"Status = 'Proposed'\"\n",
    "\n",
    "aoi_proposed = arcpy.management.SelectLayerByAttribute(in_layer_or_view = in_layer, \n",
    "                                        selection_type = selection_type, \n",
    "                                        where_clause = where_clause)"
   ]
  },
  {
   "cell_type": "code",
   "execution_count": 54,
   "metadata": {
    "hidden": true
   },
   "outputs": [
    {
     "data": {
      "text/html": [
       "<div class='gpresult'><h2>Messages</h2><div id='messages' data-messages='[\"Start Time: Wednesday, July 19, 2023 2:41:16 PM\",\"Assembling Features...\",\"Reading Features...\",\"Cracking Features...\",\"Succeeded at Wednesday, July 19, 2023 2:41:21 PM (Elapsed Time: 4.22 seconds)\"]' data-show='true'><div id = 'default' /></div></div>"
      ],
      "text/plain": [
       "<Result 'C:\\\\Users\\\\kathr\\\\Documents\\\\outdoor-alliance\\\\mt-hood\\\\mt-hood-analysis\\\\mh_output.gdb\\\\proposed_trails'>"
      ]
     },
     "execution_count": 54,
     "metadata": {},
     "output_type": "execute_result"
    }
   ],
   "source": [
    "# Trails\n",
    "arcpy.analysis.Clip(\"trails_clipped\", aoi_proposed, \"proposed_trails\")"
   ]
  },
  {
   "cell_type": "code",
   "execution_count": 55,
   "metadata": {
    "hidden": true
   },
   "outputs": [
    {
     "data": {
      "text/html": [
       "<div class='gpresult'><h2>Messages</h2><div id='messages' data-messages='[\"Start Time: Wednesday, July 19, 2023 2:41:21 PM\",\"Succeeded at Wednesday, July 19, 2023 2:41:24 PM (Elapsed Time: 2.42 seconds)\"]' data-show='true'><div id = 'default' /></div></div>"
      ],
      "text/plain": [
       "<Result 'proposed_trails'>"
      ]
     },
     "execution_count": 55,
     "metadata": {},
     "output_type": "execute_result"
    }
   ],
   "source": [
    "# Recalculate length field after clipping\n",
    "arcpy.management.CalculateGeometryAttributes(in_features = \"proposed_trails\",\n",
    "                                             geometry_property = [[\"Length_Miles\", \"LENGTH_GEODESIC\"]],\n",
    "                                             length_unit = \"MILES_INT\")"
   ]
  },
  {
   "cell_type": "code",
   "execution_count": 56,
   "metadata": {
    "hidden": true
   },
   "outputs": [
    {
     "data": {
      "text/html": [
       "<div class='gpresult'><h2>Messages</h2><div id='messages' data-messages='[\"Start Time: Wednesday, July 19, 2023 2:41:37 PM\",\"Assembling Features...\",\"Reading Features...\",\"Cracking Features...\",\"Succeeded at Wednesday, July 19, 2023 2:41:38 PM (Elapsed Time: 1.84 seconds)\"]' data-show='true'><div id = 'default' /></div></div>"
      ],
      "text/plain": [
       "<Result 'C:\\\\Users\\\\kathr\\\\Documents\\\\outdoor-alliance\\\\mt-hood\\\\mt-hood-analysis\\\\mh_output.gdb\\\\proposed_whitewater'>"
      ]
     },
     "execution_count": 56,
     "metadata": {},
     "output_type": "execute_result"
    }
   ],
   "source": [
    "# Paddling\n",
    "arcpy.analysis.Clip(\"mh_whitewater\", aoi_proposed, \"proposed_whitewater\")"
   ]
  },
  {
   "cell_type": "code",
   "execution_count": 57,
   "metadata": {
    "hidden": true
   },
   "outputs": [
    {
     "data": {
      "text/html": [
       "<div class='gpresult'><h2>Messages</h2><div id='messages' data-messages='[\"Start Time: Wednesday, July 19, 2023 2:41:39 PM\",\"Succeeded at Wednesday, July 19, 2023 2:41:42 PM (Elapsed Time: 2.27 seconds)\"]' data-show='true'><div id = 'default' /></div></div>"
      ],
      "text/plain": [
       "<Result 'proposed_whitewater'>"
      ]
     },
     "execution_count": 57,
     "metadata": {},
     "output_type": "execute_result"
    }
   ],
   "source": [
    "# Recalculate length field after clipping\n",
    "arcpy.management.CalculateGeometryAttributes(in_features = \"proposed_whitewater\",\n",
    "                                             geometry_property = [[\"Length_Miles\", \"LENGTH\"]],\n",
    "                                             length_unit = \"MILES_INT\")"
   ]
  },
  {
   "cell_type": "code",
   "execution_count": 58,
   "metadata": {
    "hidden": true
   },
   "outputs": [
    {
     "data": {
      "text/html": [
       "<div class='gpresult'><h2>Messages</h2><div id='messages' data-messages='[\"Start Time: Wednesday, July 19, 2023 2:41:43 PM\",\"WARNING 000117: Warning empty output generated.\",\"Succeeded at Wednesday, July 19, 2023 2:41:45 PM (Elapsed Time: 1.56 seconds)\"]' data-show='true'><div id = 'default' /></div></div>"
      ],
      "text/plain": [
       "<Result 'C:\\\\Users\\\\kathr\\\\Documents\\\\outdoor-alliance\\\\mt-hood\\\\mt-hood-analysis\\\\mh_output.gdb\\\\proposed_river'>"
      ]
     },
     "execution_count": 58,
     "metadata": {},
     "output_type": "execute_result"
    }
   ],
   "source": [
    "in_layer = \"mh_river_access\"\n",
    "overlap_type = \"INTERSECT\"\n",
    "selection_type = \"SUBSET_SELECTION\"\n",
    "selecting_features = aoi_proposed\n",
    "\n",
    "proposed_river = arcpy.management.SelectLayerByLocation(in_layer = in_layer, \n",
    "                                                       overlap_type = overlap_type, \n",
    "                                                       select_features = selecting_features,\n",
    "                                                       selection_type = selection_type)\n",
    "arcpy.management.CopyFeatures(proposed_river, \"proposed_river\")"
   ]
  },
  {
   "cell_type": "code",
   "execution_count": 59,
   "metadata": {
    "hidden": true
   },
   "outputs": [
    {
     "data": {
      "text/html": [
       "<div class='gpresult'><h2>Messages</h2><div id='messages' data-messages='[\"Start Time: Wednesday, July 19, 2023 2:41:46 PM\",\"Succeeded at Wednesday, July 19, 2023 2:41:50 PM (Elapsed Time: 4.49 seconds)\"]' data-show='true'><div id = 'default' /></div></div>"
      ],
      "text/plain": [
       "<Result 'C:\\\\Users\\\\kathr\\\\Documents\\\\outdoor-alliance\\\\mt-hood\\\\mt-hood-analysis\\\\mh_output.gdb\\\\proposed_climbing'>"
      ]
     },
     "execution_count": 59,
     "metadata": {},
     "output_type": "execute_result"
    }
   ],
   "source": [
    "# Climbing\n",
    "in_layer = \"climbing_clipped\"\n",
    "overlap_type = \"INTERSECT\"\n",
    "selection_type = \"SUBSET_SELECTION\"\n",
    "selecting_features = aoi_proposed\n",
    "\n",
    "proposed_climbing = arcpy.management.SelectLayerByLocation(in_layer = in_layer, \n",
    "                                                       overlap_type = overlap_type, \n",
    "                                                       select_features = selecting_features,\n",
    "                                                       selection_type = selection_type)\n",
    "arcpy.management.CopyFeatures(proposed_climbing, \"proposed_climbing\")"
   ]
  },
  {
   "cell_type": "code",
   "execution_count": 114,
   "metadata": {
    "hidden": true
   },
   "outputs": [
    {
     "data": {
      "text/html": [
       "<div class='gpresult'><h2>Messages</h2><div id='messages' data-messages='[\"Start Time: Wednesday, July 19, 2023 2:56:57 PM\",\"Succeeded at Wednesday, July 19, 2023 2:56:59 PM (Elapsed Time: 1.53 seconds)\"]' data-show='true'><div id = 'default' /></div></div>"
      ],
      "text/plain": [
       "<Result 'C:\\\\Users\\\\kathr\\\\Documents\\\\outdoor-alliance\\\\mt-hood\\\\mt-hood-analysis\\\\mh_output.gdb\\\\proposed_picnic'>"
      ]
     },
     "execution_count": 114,
     "metadata": {},
     "output_type": "execute_result"
    }
   ],
   "source": [
    "# Picnicking\n",
    "in_layer = \"mh_picnic\"\n",
    "overlap_type = \"INTERSECT\"\n",
    "selection_type = \"SUBSET_SELECTION\"\n",
    "selecting_features = aoi_proposed\n",
    "\n",
    "proposed_picnic = arcpy.management.SelectLayerByLocation(in_layer = in_layer, \n",
    "                                                       overlap_type = overlap_type, \n",
    "                                                       select_features = selecting_features,\n",
    "                                                       selection_type = selection_type)\n",
    "arcpy.management.CopyFeatures(proposed_picnic, \"proposed_picnic\")"
   ]
  },
  {
   "cell_type": "code",
   "execution_count": 115,
   "metadata": {
    "hidden": true
   },
   "outputs": [
    {
     "data": {
      "text/html": [
       "<div class='gpresult'><h2>Messages</h2><div id='messages' data-messages='[\"Start Time: Wednesday, July 19, 2023 2:57:02 PM\",\"Succeeded at Wednesday, July 19, 2023 2:57:04 PM (Elapsed Time: 1.83 seconds)\"]' data-show='true'><div id = 'default' /></div></div>"
      ],
      "text/plain": [
       "<Result 'C:\\\\Users\\\\kathr\\\\Documents\\\\outdoor-alliance\\\\mt-hood\\\\mt-hood-analysis\\\\mh_output.gdb\\\\proposed_camping'>"
      ]
     },
     "execution_count": 115,
     "metadata": {},
     "output_type": "execute_result"
    }
   ],
   "source": [
    "# Camping\n",
    "# https://pro.arcgis.com/en/pro-app/latest/tool-reference/data-management/select-layer-by-location.htm\n",
    "in_layer = \"mh_camping\"\n",
    "overlap_type = \"INTERSECT\"\n",
    "selection_type = \"SUBSET_SELECTION\"\n",
    "selecting_features = aoi_proposed\n",
    "\n",
    "proposed_camping = arcpy.management.SelectLayerByLocation(in_layer = in_layer, \n",
    "                                                       overlap_type = overlap_type, \n",
    "                                                       select_features = selecting_features,\n",
    "                                                       selection_type = selection_type)\n",
    "arcpy.management.CopyFeatures(proposed_camping, \"proposed_camping\")"
   ]
  },
  {
   "cell_type": "markdown",
   "metadata": {
    "heading_collapsed": true
   },
   "source": [
    "## Comparison"
   ]
  },
  {
   "cell_type": "code",
   "execution_count": 67,
   "metadata": {
    "hidden": true
   },
   "outputs": [],
   "source": [
    "# Define function to do comparison\n",
    "def compare(designated, proposed):\n",
    "    return (proposed / designated) * 100"
   ]
  },
  {
   "cell_type": "markdown",
   "metadata": {
    "hidden": true
   },
   "source": [
    "### Trails"
   ]
  },
  {
   "cell_type": "code",
   "execution_count": 62,
   "metadata": {
    "hidden": true
   },
   "outputs": [],
   "source": [
    "# Trails\n",
    "designated_trails = pd.DataFrame.spatial.from_featureclass(\"mh_designated_trails\")\n",
    "proposed_trails = pd.DataFrame.spatial.from_featureclass(\"proposed_trails\")"
   ]
  },
  {
   "cell_type": "code",
   "execution_count": 63,
   "metadata": {
    "hidden": true
   },
   "outputs": [
    {
     "name": "stdout",
     "output_type": "stream",
     "text": [
      "709\n",
      "361\n"
     ]
    }
   ],
   "source": [
    "# Hiking multiuse\n",
    "hiking_trails_d = designated_trails[designated_trails[\"hikerpedestrian\"] == \"Y\"]\n",
    "print(hiking_trails_d.shape[0])\n",
    "\n",
    "hiking_trails_p = proposed_trails[proposed_trails[\"hikerpedestrian\"] == \"Y\"]\n",
    "print(hiking_trails_p.shape[0])"
   ]
  },
  {
   "cell_type": "code",
   "execution_count": 64,
   "metadata": {
    "hidden": true
   },
   "outputs": [
    {
     "name": "stdout",
     "output_type": "stream",
     "text": [
      "984.2673556245902\n",
      "352.3032555055467\n"
     ]
    }
   ],
   "source": [
    "# Total miles of trails multiuse\n",
    "print(np.sum(hiking_trails_d[\"Length_Miles\"]))\n",
    "print(np.sum(hiking_trails_p[\"Length_Miles\"]))"
   ]
  },
  {
   "cell_type": "code",
   "execution_count": 68,
   "metadata": {
    "hidden": true
   },
   "outputs": [
    {
     "data": {
      "text/plain": [
       "35.79345118908107"
      ]
     },
     "execution_count": 68,
     "metadata": {},
     "output_type": "execute_result"
    }
   ],
   "source": [
    "# % increase\n",
    "compare(np.sum(hiking_trails_d[\"Length_Miles\"]), np.sum(hiking_trails_p[\"Length_Miles\"]))"
   ]
  },
  {
   "cell_type": "code",
   "execution_count": 69,
   "metadata": {
    "hidden": true
   },
   "outputs": [
    {
     "name": "stdout",
     "output_type": "stream",
     "text": [
      "706.4269312724043\n",
      "544\n",
      "336.78659048160085\n",
      "331\n"
     ]
    }
   ],
   "source": [
    "# Hiking only designated\n",
    "hike_only_d = hiking_trails_d[(hiking_trails_d[\"bicycle\"] != \"Y\") & (hiking_trails_d[\"packsaddle\"] != \"Y\") & (hiking_trails_d[\"atv\"] != \"Y\") & (hiking_trails_d[\"motorcycle\"] != \"Y\") & (hiking_trails_d[\"ohvover50inches\"] != \"Y\") & (hiking_trails_d[\"dogsled\"] != \"Y\") & (hiking_trails_d[\"snowmobile\"] != \"Y\")]\n",
    "print(np.sum(hike_only_d[\"Length_Miles\"]))\n",
    "print(hike_only_d.shape[0])\n",
    "\n",
    "# Hiking only proposed\n",
    "hike_only_p = hiking_trails_p[(hiking_trails_p[\"bicycle\"] != \"Y\") & (hiking_trails_p[\"packsaddle\"] != \"Y\") & (hiking_trails_p[\"atv\"] != \"Y\") & (hiking_trails_p[\"motorcycle\"] != \"Y\") & (hiking_trails_p[\"ohvover50inches\"] != \"Y\") & (hiking_trails_p[\"dogsled\"] != \"Y\") & (hiking_trails_p[\"snowmobile\"] != \"Y\")]\n",
    "print(np.sum(hike_only_p[\"Length_Miles\"]))\n",
    "print(hike_only_p.shape[0])"
   ]
  },
  {
   "cell_type": "code",
   "execution_count": 70,
   "metadata": {
    "hidden": true
   },
   "outputs": [
    {
     "data": {
      "text/plain": [
       "47.674653325431194"
      ]
     },
     "execution_count": 70,
     "metadata": {},
     "output_type": "execute_result"
    }
   ],
   "source": [
    "# % increase\n",
    "compare(np.sum(hike_only_d[\"Length_Miles\"]), np.sum(hike_only_p[\"Length_Miles\"]))"
   ]
  },
  {
   "cell_type": "code",
   "execution_count": 71,
   "metadata": {
    "hidden": true
   },
   "outputs": [
    {
     "name": "stdout",
     "output_type": "stream",
     "text": [
      "21.73446385151827\n",
      "24\n",
      "14.988265195012442\n",
      "29\n"
     ]
    }
   ],
   "source": [
    "# MTB designated\n",
    "mtb_trails_d = designated_trails[designated_trails[\"bicycle\"] == \"Y\"]\n",
    "print(np.sum(mtb_trails_d[\"Length_Miles\"]))\n",
    "print(mtb_trails_d.shape[0])\n",
    "\n",
    "# MTB proposed\n",
    "mtb_trails_p = proposed_trails[proposed_trails[\"bicycle\"] == \"Y\"]\n",
    "print(np.sum(mtb_trails_p[\"Length_Miles\"]))\n",
    "print(mtb_trails_p.shape[0])"
   ]
  },
  {
   "cell_type": "code",
   "execution_count": 72,
   "metadata": {
    "hidden": true
   },
   "outputs": [
    {
     "data": {
      "text/plain": [
       "68.96082322254031"
      ]
     },
     "execution_count": 72,
     "metadata": {},
     "output_type": "execute_result"
    }
   ],
   "source": [
    "# % increase\n",
    "compare(np.sum(mtb_trails_d[\"Length_Miles\"]), np.sum(mtb_trails_p[\"Length_Miles\"]))"
   ]
  },
  {
   "cell_type": "code",
   "execution_count": 73,
   "metadata": {
    "hidden": true
   },
   "outputs": [
    {
     "name": "stdout",
     "output_type": "stream",
     "text": [
      "277.84042435218583\n",
      "165\n",
      "11.312551411599708\n",
      "29\n"
     ]
    }
   ],
   "source": [
    "# Equestrian proposed\n",
    "eq_trails_d = designated_trails[designated_trails[\"packsaddle\"] == \"Y\"]\n",
    "print(np.sum(eq_trails_d[\"Length_Miles\"]))\n",
    "print(eq_trails_d.shape[0])\n",
    "\n",
    "# Equestrian proposed\n",
    "eq_trails_p = proposed_trails[proposed_trails[\"packsaddle\"] == \"Y\"]\n",
    "print(np.sum(eq_trails_p[\"Length_Miles\"]))\n",
    "print(eq_trails_p.shape[0])"
   ]
  },
  {
   "cell_type": "code",
   "execution_count": 48,
   "metadata": {
    "hidden": true
   },
   "outputs": [
    {
     "data": {
      "text/plain": [
       "4.071600249667092"
      ]
     },
     "execution_count": 48,
     "metadata": {},
     "output_type": "execute_result"
    }
   ],
   "source": [
    "# % increase\n",
    "compare(np.sum(eq_trails_d[\"Length_Miles\"]), np.sum(eq_trails_p[\"Length_Miles\"]))"
   ]
  },
  {
   "cell_type": "markdown",
   "metadata": {
    "hidden": true
   },
   "source": [
    "### Waterways"
   ]
  },
  {
   "cell_type": "code",
   "execution_count": 74,
   "metadata": {
    "hidden": true
   },
   "outputs": [],
   "source": [
    "# Whitewater paddling\n",
    "designated_whitewater = pd.DataFrame.spatial.from_featureclass(\"designated_whitewater\")\n",
    "proposed_whitewater = pd.DataFrame.spatial.from_featureclass(\"proposed_whitewater\")"
   ]
  },
  {
   "cell_type": "code",
   "execution_count": 76,
   "metadata": {
    "hidden": true
   },
   "outputs": [
    {
     "name": "stdout",
     "output_type": "stream",
     "text": [
      "42.1917419397345\n",
      "40.18922250947508\n"
     ]
    }
   ],
   "source": [
    "print(np.sum(designated_whitewater[\"Length_Miles\"]))\n",
    "print(np.sum(proposed_whitewater[\"Length_Miles\"]))"
   ]
  },
  {
   "cell_type": "code",
   "execution_count": 77,
   "metadata": {
    "hidden": true
   },
   "outputs": [
    {
     "data": {
      "text/plain": [
       "95.25376450889426"
      ]
     },
     "execution_count": 77,
     "metadata": {},
     "output_type": "execute_result"
    }
   ],
   "source": [
    "# % increase\n",
    "compare(np.sum(designated_whitewater[\"Length_Miles\"]), np.sum(proposed_whitewater[\"Length_Miles\"]))"
   ]
  },
  {
   "cell_type": "code",
   "execution_count": 79,
   "metadata": {
    "hidden": true
   },
   "outputs": [],
   "source": [
    "# River access\n",
    "designated_river = pd.DataFrame.spatial.from_featureclass(\"designated_river\")\n",
    "proposed_river = pd.DataFrame.spatial.from_featureclass(\"proposed_river\")"
   ]
  },
  {
   "cell_type": "code",
   "execution_count": 80,
   "metadata": {
    "hidden": true
   },
   "outputs": [
    {
     "name": "stdout",
     "output_type": "stream",
     "text": [
      "15\n",
      "0\n"
     ]
    }
   ],
   "source": [
    "print(designated_river.shape[0])\n",
    "print(proposed_river.shape[0])"
   ]
  },
  {
   "cell_type": "code",
   "execution_count": 54,
   "metadata": {
    "hidden": true
   },
   "outputs": [
    {
     "data": {
      "text/plain": [
       "133.33333333333331"
      ]
     },
     "execution_count": 54,
     "metadata": {},
     "output_type": "execute_result"
    }
   ],
   "source": [
    "# % increase\n",
    "compare(designated_river.shape[0], proposed_river.shape[0])"
   ]
  },
  {
   "cell_type": "markdown",
   "metadata": {
    "hidden": true
   },
   "source": [
    "### Climbing"
   ]
  },
  {
   "cell_type": "code",
   "execution_count": 55,
   "metadata": {
    "hidden": true
   },
   "outputs": [],
   "source": [
    "# Climbing\n",
    "designated_climbing = pd.DataFrame.spatial.from_featureclass(\"designated_climbing\")\n",
    "proposed_climbing = pd.DataFrame.spatial.from_featureclass(\"proposed_climbing\")"
   ]
  },
  {
   "cell_type": "code",
   "execution_count": 56,
   "metadata": {
    "hidden": true
   },
   "outputs": [
    {
     "name": "stdout",
     "output_type": "stream",
     "text": [
      "103\n",
      "61\n"
     ]
    }
   ],
   "source": [
    "print(len(designated_climbing[\"area_name\"].unique()))\n",
    "print(len(proposed_climbing[\"area_name\"].unique()))"
   ]
  },
  {
   "cell_type": "code",
   "execution_count": 57,
   "metadata": {
    "hidden": true
   },
   "outputs": [
    {
     "data": {
      "text/plain": [
       "59.22330097087378"
      ]
     },
     "execution_count": 57,
     "metadata": {},
     "output_type": "execute_result"
    }
   ],
   "source": [
    "# % increase\n",
    "compare(len(designated_climbing[\"area_name\"].unique()), len(proposed_climbing[\"area_name\"].unique()))"
   ]
  },
  {
   "cell_type": "markdown",
   "metadata": {
    "heading_collapsed": true,
    "hidden": true
   },
   "source": [
    "### Picnic"
   ]
  },
  {
   "cell_type": "code",
   "execution_count": 71,
   "metadata": {
    "hidden": true
   },
   "outputs": [],
   "source": [
    "# Picnic\n",
    "designated_picnic = pd.DataFrame.spatial.from_featureclass(\"designated_picnic\")\n",
    "proposed_picnic = pd.DataFrame.spatial.from_featureclass(\"proposed_picnic\")"
   ]
  },
  {
   "cell_type": "code",
   "execution_count": 72,
   "metadata": {
    "hidden": true
   },
   "outputs": [
    {
     "name": "stdout",
     "output_type": "stream",
     "text": [
      "2\n",
      "5\n"
     ]
    }
   ],
   "source": [
    "print(len(designated_picnic[\"RECAREANAM\"].unique()))\n",
    "print(len(proposed_picnic[\"RECAREANAM\"].unique()))"
   ]
  },
  {
   "cell_type": "code",
   "execution_count": 73,
   "metadata": {
    "hidden": true
   },
   "outputs": [
    {
     "data": {
      "text/plain": [
       "125.0"
      ]
     },
     "execution_count": 73,
     "metadata": {},
     "output_type": "execute_result"
    }
   ],
   "source": [
    "# % increase\n",
    "# manually inspected map - there are 2 picnic areas in designated spots that are just a bit outside of the boundary due to gps inaccuracy\n",
    "compare(4, len(proposed_picnic[\"RECAREANAM\"].unique()))"
   ]
  },
  {
   "cell_type": "markdown",
   "metadata": {
    "hidden": true
   },
   "source": [
    "### Camping"
   ]
  },
  {
   "cell_type": "code",
   "execution_count": 119,
   "metadata": {
    "hidden": true
   },
   "outputs": [],
   "source": [
    "# Camping\n",
    "designated_camping = pd.DataFrame.spatial.from_featureclass(\"designated_camping\")\n",
    "proposed_camping = pd.DataFrame.spatial.from_featureclass(\"proposed_camping\")"
   ]
  },
  {
   "cell_type": "code",
   "execution_count": 120,
   "metadata": {
    "hidden": true
   },
   "outputs": [
    {
     "name": "stdout",
     "output_type": "stream",
     "text": [
      "1\n",
      "39\n"
     ]
    }
   ],
   "source": [
    "print(len(designated_camping[\"RECAREANAM\"].unique()))\n",
    "print(len(proposed_camping[\"RECAREANAM\"].unique()))"
   ]
  },
  {
   "cell_type": "code",
   "execution_count": 121,
   "metadata": {
    "hidden": true
   },
   "outputs": [
    {
     "data": {
      "text/plain": [
       "3900.0"
      ]
     },
     "execution_count": 121,
     "metadata": {},
     "output_type": "execute_result"
    }
   ],
   "source": [
    "# % increase\n",
    "compare(len(designated_camping[\"RECAREANAM\"].unique()), len(proposed_camping[\"RECAREANAM\"].unique()))"
   ]
  },
  {
   "cell_type": "markdown",
   "metadata": {
    "heading_collapsed": true
   },
   "source": [
    "# Clustering Analysis"
   ]
  },
  {
   "cell_type": "code",
   "execution_count": 34,
   "metadata": {
    "hidden": true
   },
   "outputs": [
    {
     "data": {
      "text/html": [
       "<div class='gpresult'><h2>Messages</h2><div id='messages' data-messages='[\"Start Time: Thursday, June 29, 2023 11:22:19 AM\",\"Succeeded at Thursday, June 29, 2023 11:22:20 AM (Elapsed Time: 0.61 seconds)\"]' data-show='true'><div id = 'default' /></div></div>"
      ],
      "text/plain": [
       "<Result 'C:\\\\Users\\\\kathr\\\\Documents\\\\outdoor-alliance\\\\mt-hood\\\\mt-hood-analysis\\\\mh_output.gdb\\\\trail_points'>"
      ]
     },
     "execution_count": 34,
     "metadata": {},
     "output_type": "execute_result"
    }
   ],
   "source": [
    "# Get point features for the start/end of trails\n",
    "# https://pro.arcgis.com/en/pro-app/latest/tool-reference/data-management/feature-vertices-to-points.htm\n",
    "arcpy.management.FeatureVerticesToPoints(in_features = \"trails_clipped\",\n",
    "                                         out_feature_class = \"trail_points\",\n",
    "                                         point_location = \"START\")"
   ]
  },
  {
   "cell_type": "code",
   "execution_count": 36,
   "metadata": {
    "hidden": true
   },
   "outputs": [],
   "source": [
    "# Merge all the rec points together into one layer\n",
    "# Define layers\n",
    "rec_sites = os.path.join(gdb_path, r\"Recreation_Sites\\Recreation_Sites\")\n",
    "mh_picnic = os.path.join(gdb_path, \"mh_picnic\")\n",
    "mh_camping = os.path.join(gdb_path, \"mh_camping\")\n",
    "river_access = os.path.join(gdb_path, r\"River_Access\\River_Access\")\n",
    "climbing = os.path.join(gdb_path, \"climbing_clipped\")"
   ]
  },
  {
   "cell_type": "code",
   "execution_count": 38,
   "metadata": {
    "hidden": true
   },
   "outputs": [],
   "source": [
    "# Create field mapping object\n",
    "field_mappings = arcpy.FieldMappings()\n",
    "\n",
    "# Add input field for rec area name into new output field\n",
    "map_name = arcpy.FieldMap()\n",
    "map_name.addInputField(rec_sites, \"NAME\")\n",
    "map_name.addInputField(climbing, \"area_name\")\n",
    "map_name.addInputField(river_access, \"name\")\n",
    "map_name.addInputField(mh_picnic, \"RECAREANAM\")\n",
    "map_name.addInputField(mh_camping, \"RECAREANAM\")\n",
    "\n",
    "# Set name of new output field for site name\n",
    "rec_name = map_name.outputField\n",
    "rec_name.name = \"Rec_Name\"\n",
    "map_name.outputField = rec_name\n",
    "\n",
    "# Add output fields to field mappings object\n",
    "field_mappings.addFieldMap(map_name)"
   ]
  },
  {
   "cell_type": "code",
   "execution_count": 39,
   "metadata": {
    "hidden": true
   },
   "outputs": [
    {
     "data": {
      "text/html": [
       "<div class='gpresult'><h2>Messages</h2><div id='messages' data-messages='[\"Start Time: Thursday, June 29, 2023 11:26:55 AM\",\"Succeeded at Thursday, June 29, 2023 11:26:57 AM (Elapsed Time: 2.02 seconds)\"]' data-show='true'><div id = 'default' /></div></div>"
      ],
      "text/plain": [
       "<Result 'C:\\\\Users\\\\kathr\\\\Documents\\\\outdoor-alliance\\\\mt-hood\\\\mt-hood-analysis\\\\mh_output.gdb\\\\all_rec'>"
      ]
     },
     "execution_count": 39,
     "metadata": {},
     "output_type": "execute_result"
    }
   ],
   "source": [
    "# Merge\n",
    "arcpy.management.Merge([rec_sites, river_access, climbing, mh_picnic, mh_camping], \n",
    "                       \"all_rec\", \n",
    "                       field_mappings,\n",
    "                      add_source = \"ADD_SOURCE_INFO\")"
   ]
  },
  {
   "cell_type": "code",
   "execution_count": null,
   "metadata": {
    "hidden": true
   },
   "outputs": [],
   "source": [
    "# Run the Density-Based Clustering analysis\n",
    "# https://pro.arcgis.com/en/pro-app/latest/tool-reference/spatial-statistics/densitybasedclustering.htm\n",
    "\n",
    "arcpy.stats.DensityBasedClustering(in_features = \"all_rec\", \n",
    "                                   output_features = \"rec_density\", \n",
    "                                   cluster_method = \"HDBSCAN\", # TODO try OPTICS\n",
    "                                   min_features_cluster = 10)"
   ]
  },
  {
   "cell_type": "markdown",
   "metadata": {},
   "source": [
    "# Maps"
   ]
  },
  {
   "cell_type": "markdown",
   "metadata": {},
   "source": [
    "## Map all recreation types"
   ]
  },
  {
   "cell_type": "code",
   "execution_count": 247,
   "metadata": {},
   "outputs": [],
   "source": [
    "# Set up environment\n",
    "aprx = arcpy.mp.ArcGISProject(\"CURRENT\")\n",
    "aprx.defaultGeodatabase = gdb_path"
   ]
  },
  {
   "cell_type": "code",
   "execution_count": 249,
   "metadata": {},
   "outputs": [],
   "source": [
    "# all_rec = aprx.createMap(name = \"Recreation\",\n",
    "#                         map_type = \"MAP\")\n",
    "all_rec = aprx.listMaps(\"Recreation\")[0] "
   ]
  },
  {
   "cell_type": "code",
   "execution_count": 250,
   "metadata": {},
   "outputs": [
    {
     "data": {
      "text/plain": [
       "<arcpy._mp.Layer object at 0x0000020907CAB9D0>"
      ]
     },
     "execution_count": 250,
     "metadata": {},
     "output_type": "execute_result"
    }
   ],
   "source": [
    "# Add recreation data\n",
    "all_rec.addDataFromPath(os.path.join(gdb_path, \"mh_aoi\"))\n",
    "all_rec.addDataFromPath(os.path.join(gdb_path, \"trails_clipped\"))\n",
    "all_rec.addDataFromPath(os.path.join(gdb_path, \"mh_whitewater\"))\n",
    "all_rec.addDataFromPath(os.path.join(gdb_path, \"climbing_clipped\"))\n",
    "all_rec.addDataFromPath(os.path.join(gdb_path, \"mh_picnic\"))\n",
    "all_rec.addDataFromPath(os.path.join(gdb_path, \"mh_camping\"))"
   ]
  },
  {
   "cell_type": "code",
   "execution_count": 251,
   "metadata": {},
   "outputs": [],
   "source": [
    "aoi = all_rec.listLayers(\"mh_aoi\")[0]\n",
    "trails = all_rec.listLayers(\"trails_clipped\")[0]\n",
    "paddle = all_rec.listLayers(\"mh_whitewater\")[0]\n",
    "picnic = all_rec.listLayers(\"mh_picnic\")[0]\n",
    "camp = all_rec.listLayers(\"mh_camping\")[0]\n",
    "climb = all_rec.listLayers(\"climbing_clipped\")[0]\n",
    "\n",
    "\n",
    "all_lyr = [trails, paddle, picnic, camp, climb, aoi]"
   ]
  },
  {
   "cell_type": "code",
   "execution_count": 264,
   "metadata": {},
   "outputs": [],
   "source": [
    "for lyr in all_lyr:\n",
    "    sym = lyr.symbology\n",
    "    # Update symbology for recreation types\n",
    "    if(lyr.name == \"trails_clipped\"):\n",
    "        sym.renderer.symbol.color = {\"RGB\": [0, 0, 0, 100]}\n",
    "    elif(lyr.name == \"mh_whitewater\"):\n",
    "        sym.renderer.symbol.color = {\"RGB\": [0, 92, 230, 100]}\n",
    "    elif(lyr.name == \"mh_picnic\"):\n",
    "        sym.renderer.symbol.color = {\"RGB\": [255, 0, 197, 100]}\n",
    "    elif(lyr.name == \"mh_camping\"):\n",
    "        sym.renderer.symbol.color = {\"RGB\": [58, 45, 168, 100]}\n",
    "    elif(lyr.name == \"climbing_clipped\"):\n",
    "        sym.renderer.symbol.color = {\"RGB\": [166, 216, 84, 100]}\n",
    "    \n",
    "    # Update symbology for AOI polygons\n",
    "    elif(lyr.name == \"mh_aoi\"):\n",
    "        sym.updateRenderer(\"UniqueValueRenderer\")\n",
    "        #sym.renderer.fields = [\"Layer\"]\n",
    "        #sym.renderer.colorRamp = aprx.listColorRamps(\"Set 2 (3 classes)\")[0]\n",
    "        for grp in sym.renderer.groups:\n",
    "            for itm in grp.items:\n",
    "                myVal = itm.values[0][0]\n",
    "                #print(\"myVal: {0}\".format(myVal))\n",
    "                if \"Prop\" in myVal:\n",
    "                    itm.symbol.color = {\"RGB\": [252, 141, 98, 100]}\n",
    "                else: \n",
    "                    itm.symbol.color = {\"RGB\": [102, 194, 164, 100]}\n",
    "        \n",
    "    lyr.symbology = sym"
   ]
  }
 ],
 "metadata": {
  "kernelspec": {
   "display_name": "ArcGISPro",
   "language": "Python",
   "name": "python3"
  },
  "language_info": {
   "file_extension": ".py",
   "name": "python",
   "version": "3"
  }
 },
 "nbformat": 4,
 "nbformat_minor": 2
}
