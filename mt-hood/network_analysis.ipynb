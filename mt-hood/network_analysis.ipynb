{
 "cells": [
  {
   "cell_type": "markdown",
   "metadata": {},
   "source": [
    "# Overview\n",
    "\n",
    "This notebook creates the network dataset and runs the service area analysis."
   ]
  },
  {
   "cell_type": "markdown",
   "metadata": {},
   "source": [
    "# Setup"
   ]
  },
  {
   "cell_type": "code",
   "execution_count": 45,
   "metadata": {},
   "outputs": [],
   "source": [
    "# Import libraries\n",
    "import arcpy, pandas as pd, numpy as np, os"
   ]
  },
  {
   "cell_type": "code",
   "execution_count": 61,
   "metadata": {},
   "outputs": [],
   "source": [
    "# Set workspace settings\n",
    "arcpy.env.workspace  = r\"C:\\Users\\kathr\\Documents\\outdoor-alliance\\mt-hood\\mt-hood-analysis\\mh_output.gdb\"\n",
    "arcpy.env.overwriteOutput = True"
   ]
  },
  {
   "cell_type": "code",
   "execution_count": 47,
   "metadata": {},
   "outputs": [],
   "source": [
    "# Set path to gdb\n",
    "gdb_path =  r\"C:\\Users\\kathr\\Documents\\outdoor-alliance\\mt-hood\\mt-hood-analysis\\mh_output.gdb\""
   ]
  },
  {
   "cell_type": "markdown",
   "metadata": {},
   "source": [
    "# Create Network Dataset"
   ]
  },
  {
   "cell_type": "code",
   "execution_count": 48,
   "metadata": {},
   "outputs": [],
   "source": [
    "nd_location = os.path.join(gdb_path, \"mh_roads\") # target feature dataset, must contain \"all_roads_merge\"\n",
    "template = r\"C:\\Users\\kathr\\Documents\\outdoor-alliance\\san-gabriel\\nd_template.xml\" # manually generated template with network settings\n",
    "nd_name = \"network_dataset\" # set by the template - don't change\n",
    "nd_path = os.path.join(nd_location, nd_name)"
   ]
  },
  {
   "cell_type": "code",
   "execution_count": 49,
   "metadata": {},
   "outputs": [],
   "source": [
    "# Create network dataset from template\n",
    "# This requires the feature class \"all_roads_merge\" to be present in the target feature dataset\n",
    "if not arcpy.Exists(nd_path):\n",
    "    arcpy.nax.CreateNetworkDatasetFromTemplate(network_dataset_template = template,\n",
    "                                               output_feature_dataset = nd_location)"
   ]
  },
  {
   "cell_type": "code",
   "execution_count": 50,
   "metadata": {},
   "outputs": [
    {
     "data": {
      "text/html": [
       "<div class='gpresult'><h2>Messages</h2><div id='messages' data-messages='[\"Start Time: Monday, June 26, 2023 12:38:40 PM\",\"Succeeded at Monday, June 26, 2023 12:40:32 PM (Elapsed Time: 1 minutes 52 seconds)\"]' data-show='true'><div id = 'default' /></div></div>"
      ],
      "text/plain": [
       "<Result 'C:\\\\Users\\\\kathr\\\\Documents\\\\outdoor-alliance\\\\mt-hood\\\\mt-hood-analysis\\\\mh_output.gdb\\\\mh_roads\\\\network_dataset'>"
      ]
     },
     "execution_count": 50,
     "metadata": {},
     "output_type": "execute_result"
    }
   ],
   "source": [
    "# Build the network dataset\n",
    "arcpy.nax.BuildNetwork(nd_path)"
   ]
  },
  {
   "cell_type": "markdown",
   "metadata": {},
   "source": [
    "# Service Area Analysis"
   ]
  },
  {
   "cell_type": "code",
   "execution_count": 51,
   "metadata": {},
   "outputs": [
    {
     "data": {
      "text/html": [
       "<div class='gpresult'><h2>Messages</h2><div id='messages' data-messages='[\"Start Time: Monday, June 26, 2023 12:40:54 PM\",\"Succeeded at Monday, June 26, 2023 12:40:54 PM (Elapsed Time: 0.25 seconds)\"]' data-show='true'><div id = 'default' /></div></div>"
      ],
      "text/plain": [
       "<Result 'Mt_Hood_ND'>"
      ]
     },
     "execution_count": 51,
     "metadata": {},
     "output_type": "execute_result"
    }
   ],
   "source": [
    "# Create network dataset layer - improves performance (rather than referencing network dataset multiple times)\n",
    "nd_layer_name = \"Mt_Hood_ND\"\n",
    "arcpy.nax.MakeNetworkDatasetLayer(nd_path, nd_layer_name)"
   ]
  },
  {
   "cell_type": "code",
   "execution_count": 52,
   "metadata": {},
   "outputs": [],
   "source": [
    "# Instantiate a ServiceArea analysis object\n",
    "service_area = arcpy.nax.ServiceArea(nd_layer_name)"
   ]
  },
  {
   "cell_type": "markdown",
   "metadata": {},
   "source": [
    "## Rings"
   ]
  },
  {
   "cell_type": "code",
   "execution_count": 53,
   "metadata": {},
   "outputs": [],
   "source": [
    "# Set properties for the analysis\n",
    "# Available properties: https://pro.arcgis.com/en/pro-app/latest/arcpy/network-analyst/servicearea.htm\n",
    "\n",
    "service_area.travelMode = arcpy.nax.GetTravelModes(nd_layer_name)[\"Automobile\"] # distance-based\n",
    "service_area.distanceUnits = arcpy.nax.DistanceUnits.Miles\n",
    "service_area.defaultImpedanceCutoffs = [5, 30, 90]\n",
    "service_area.geometryAtCutoff = arcpy.nax.ServiceAreaPolygonCutoffGeometry.Rings # outer service areas do not include inner\n",
    "service_area.outputType = arcpy.nax.ServiceAreaOutputType.Polygons\n",
    "service_area.geometryAtOverlap = arcpy.nax.ServiceAreaOverlapGeometry.Dissolve\n",
    "service_area.polygonDetail = arcpy.nax.ServiceAreaPolygonDetail.High"
   ]
  },
  {
   "cell_type": "code",
   "execution_count": 54,
   "metadata": {},
   "outputs": [],
   "source": [
    "# Load facilities\n",
    "input_facilities = os.path.join(gdb_path, \"visitor_centers\")\n",
    "service_area.load(arcpy.nax.ServiceAreaInputDataType.Facilities, input_facilities)"
   ]
  },
  {
   "cell_type": "code",
   "execution_count": 55,
   "metadata": {},
   "outputs": [],
   "source": [
    "# Solve the analysis\n",
    "result = service_area.solve()"
   ]
  },
  {
   "cell_type": "code",
   "execution_count": 56,
   "metadata": {},
   "outputs": [],
   "source": [
    "# Export the results to a feature class. If the analysis failed print all the messages.\n",
    "output_feature_class = os.path.join(gdb_path, \"nd_output_rings\")\n",
    "if result.solveSucceeded:\n",
    "    result.export(arcpy.nax.ServiceAreaOutputDataType.Polygons, output_feature_class)\n",
    "else:\n",
    "    arcpy.AddError(\"Analysis failed\")\n",
    "    # Print all the warning messages.\n",
    "    for message in result.solverMessages(arcpy.nax.MessageSeverity.Warning):\n",
    "        arcpy.AddWarning(message[-1])\n",
    "    # Print all the error messages.\n",
    "    for message in result.solverMessages(arcpy.nax.MessageSeverity.Error):\n",
    "        arcpy.AddError(message[-1])"
   ]
  },
  {
   "cell_type": "markdown",
   "metadata": {},
   "source": [
    "## Disks"
   ]
  },
  {
   "cell_type": "code",
   "execution_count": 57,
   "metadata": {},
   "outputs": [],
   "source": [
    "# Set properties for the analysis\n",
    "# Available properties: https://pro.arcgis.com/en/pro-app/latest/arcpy/network-analyst/servicearea.htm\n",
    "\n",
    "service_area.travelMode = arcpy.nax.GetTravelModes(nd_layer_name)[\"Automobile\"] # distance-based\n",
    "service_area.distanceUnits = arcpy.nax.DistanceUnits.Miles\n",
    "service_area.defaultImpedanceCutoffs = [5, 30, 90]\n",
    "service_area.geometryAtCutoff = arcpy.nax.ServiceAreaPolygonCutoffGeometry.Disks # outer service areas do include inner\n",
    "service_area.outputType = arcpy.nax.ServiceAreaOutputType.Polygons\n",
    "service_area.geometryAtOverlap = arcpy.nax.ServiceAreaOverlapGeometry.Dissolve\n",
    "service_area.polygonDetail = arcpy.nax.ServiceAreaPolygonDetail.High"
   ]
  },
  {
   "cell_type": "code",
   "execution_count": 58,
   "metadata": {},
   "outputs": [],
   "source": [
    "# Re-load facilities\n",
    "service_area.load(arcpy.nax.ServiceAreaInputDataType.Facilities, input_facilities)"
   ]
  },
  {
   "cell_type": "code",
   "execution_count": 59,
   "metadata": {},
   "outputs": [],
   "source": [
    "# Re-solve the analysis\n",
    "result = service_area.solve()"
   ]
  },
  {
   "cell_type": "code",
   "execution_count": 63,
   "metadata": {},
   "outputs": [],
   "source": [
    "# Re-export the results to a feature class. If the analysis failed print all the messages.\n",
    "output_feature_class = os.path.join(gdb_path, \"nd_output_disks\")\n",
    "if result.solveSucceeded:\n",
    "    result.export(arcpy.nax.ServiceAreaOutputDataType.Polygons, output_feature_class)\n",
    "else:\n",
    "    arcpy.AddError(\"Analysis failed\")\n",
    "    # Print all the warning messages.\n",
    "    for message in result.solverMessages(arcpy.nax.MessageSeverity.Warning):\n",
    "        arcpy.AddWarning(message[-1])\n",
    "    # Print all the error messages.\n",
    "    for message in result.solverMessages(arcpy.nax.MessageSeverity.Error):\n",
    "        arcpy.AddError(message[-1])"
   ]
  }
 ],
 "metadata": {
  "kernelspec": {
   "display_name": "ArcGISPro",
   "language": "Python",
   "name": "python3"
  },
  "language_info": {
   "file_extension": ".py",
   "name": "python",
   "version": "3"
  }
 },
 "nbformat": 4,
 "nbformat_minor": 2
}
