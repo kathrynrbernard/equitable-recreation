{
 "cells": [
  {
   "cell_type": "markdown",
   "metadata": {
    "heading_collapsed": true
   },
   "source": [
    "# Overview\n",
    "\n",
    "This notebook does the initial processing and areal interpolation of census data for each of the three service areas around the San Gabriel National Monument."
   ]
  },
  {
   "cell_type": "markdown",
   "metadata": {
    "heading_collapsed": true
   },
   "source": [
    "# Setup"
   ]
  },
  {
   "cell_type": "code",
   "execution_count": 97,
   "metadata": {
    "hidden": true
   },
   "outputs": [],
   "source": [
    "# Import libraries\n",
    "import arcpy, pandas as pd, numpy as np, arcgis, os\n",
    "from arcgis.features import GeoAccessor, GeoSeriesAccessor"
   ]
  },
  {
   "cell_type": "code",
   "execution_count": 98,
   "metadata": {
    "hidden": true
   },
   "outputs": [],
   "source": [
    "# Set workspace settings\n",
    "arcpy.env.workspace  = r\"C:\\Users\\kathr\\Documents\\outdoor-alliance\\san-gabriel\\san-gabriel-analysis\\sg_output.gdb\"\n",
    "arcpy.env.overwriteOutput = True"
   ]
  },
  {
   "cell_type": "code",
   "execution_count": 99,
   "metadata": {
    "hidden": true
   },
   "outputs": [],
   "source": [
    "# Set gdb path\n",
    "gdb_path = r\"C:\\Users\\kathr\\Documents\\outdoor-alliance\\san-gabriel\\san-gabriel-analysis\\sg_output.gdb\""
   ]
  },
  {
   "cell_type": "code",
   "execution_count": 100,
   "metadata": {
    "hidden": true
   },
   "outputs": [],
   "source": [
    "# Set path to folder where all data files are stored\n",
    "data_folder = r\"C:\\Users\\kathr\\Documents\\outdoor-alliance\\san-gabriel\\data\""
   ]
  },
  {
   "cell_type": "markdown",
   "metadata": {},
   "source": [
    "# Define functions for areal interpolation"
   ]
  },
  {
   "cell_type": "code",
   "execution_count": 101,
   "metadata": {},
   "outputs": [],
   "source": [
    "# census_df (pd.DataFrame) : dataframe for the service area with census information\n",
    "# int_df (pd.DataFrame) : calculated intersection for the service area\n",
    "# returns updated census_df (pd.DataFrame)\n",
    "\n",
    "def interpolate_racial(census_df, int_df):\n",
    "    # By default, the datatype of most columns in the census DF is \"object\" - need to convert to types like int/float/string for the multiplication\n",
    "    census_df = census_df.convert_dtypes()\n",
    "    \n",
    "    # Get column names of numeric data\n",
    "    num_cols = census_df.select_dtypes([np.number]).columns\n",
    "    \n",
    "    # Remove OBJECTID from the list of columns\n",
    "    num_cols = np.delete(num_cols, np.where(num_cols == \"OBJECTID\"))\n",
    "    \n",
    "    # Sort both dataframes by GEOID so they will align\n",
    "    census_df = census_df.sort_values(by = [\"GEOID\"]).reset_index(drop = True)\n",
    "    int_df = int_df.sort_values(by = [\"GEOID\"]).reset_index(drop = True)\n",
    "    \n",
    "    # Multiply each numeric column by the percent of the census tract that is in the service area and save the result back into the same column\n",
    "    for col in num_cols:\n",
    "        census_df[col] = census_df[col] * (int_df[\"PERCENTAGE\"] / 100)\n",
    "        \n",
    "    return census_df"
   ]
  },
  {
   "cell_type": "code",
   "execution_count": 102,
   "metadata": {},
   "outputs": [],
   "source": [
    "# census_df (pd.DataFrame) : dataframe for the service area with census information\n",
    "# int_df (pd.DataFrame) : calculated intersection for the service area\n",
    "# nhgis_edu (pd.DataFrame) : educational attainment data\n",
    "# returns subset of updated education information (pd.DataFrame)\n",
    "\n",
    "def interpolate_edu(census_df, int_df, nhgis_edu):\n",
    "    # Filter to tracts in this service area\n",
    "    edu_sub = nhgis_edu[nhgis_edu[\"GEOID\"].str[-11:].isin(census_df[\"GEOID\"])]\n",
    "\n",
    "    # Reformat GEOID column to the last 11 digits instead of full code (to match existing data)\n",
    "    edu_sub[\"GEOID\"] = edu_sub[\"GEOID\"].str[-11:]\n",
    "\n",
    "    # Sort by GEOID\n",
    "    edu_sub = edu_sub.sort_values(by = [\"GEOID\"]).reset_index(drop = True)\n",
    "    \n",
    "    # Subset to columns of interest\n",
    "    edu_cols = [\"GEOID\", # tract ID\n",
    "                \"AMRZE001\", # Total count\n",
    "                \"AMRZE022\", # Bachelor's degree \n",
    "                \"AMRZE023\", # Master's degree \n",
    "                \"AMRZE024\", # Professional school degree \n",
    "                \"AMRZE025\"] # Doctorate degree \n",
    "\n",
    "    edu_sub = edu_sub[edu_cols]\n",
    "    \n",
    "    # Multiply each numeric column by the percent of the census tract that is in the service area and save the result back into the same column\n",
    "    for col in edu_cols[1:]:\n",
    "        edu_sub[col] = edu_sub[col] * (int_df[\"PERCENTAGE\"] / 100)\n",
    "        \n",
    "    return edu_sub"
   ]
  },
  {
   "cell_type": "code",
   "execution_count": 103,
   "metadata": {},
   "outputs": [],
   "source": [
    "# census_df (pd.DataFrame) : dataframe for the service area with census information\n",
    "# int_df (pd.DataFrame) : calculated intersection for the service area\n",
    "# nhgis_inc (pd.DataFrame) : income data\n",
    "# returns subset of updated education information (pd.DataFrame)\n",
    "\n",
    "def interpolate_inc(census_df, int_df, nhgis_inc):\n",
    "    # Filter to tracts in this service area\n",
    "    inc_sub = nhgis_inc[nhgis_inc[\"GEOID\"].str[-11:].isin(census_df[\"GEOID\"])]\n",
    "\n",
    "    # Reformat GEOID column to the last 11 digits instead of full code (to match existing data)\n",
    "    inc_sub[\"GEOID\"] = inc_sub[\"GEOID\"].str[-11:]\n",
    "\n",
    "    # Sort by GEOID\n",
    "    inc_sub = inc_sub.sort_values(by = [\"GEOID\"]).reset_index(drop = True)\n",
    "    \n",
    "    # Subset to columns of interest\n",
    "    inc_cols = [\"GEOID\", # tract ID\n",
    "                \"AMZME001\", # Total count\n",
    "                \"AMZME002\", # Under .50\n",
    "                \"AMZME003\"] # .50 - .99 \n",
    "\n",
    "    inc_sub = inc_sub[inc_cols]\n",
    "    \n",
    "    # Multiply each numeric column by the percent of the census tract that is in the service area and save the result back into the same column\n",
    "    for col in inc_cols[1:]:\n",
    "        inc_sub[col] = inc_sub[col] * (int_df[\"PERCENTAGE\"] / 100)\n",
    "        \n",
    "    return inc_sub"
   ]
  },
  {
   "cell_type": "markdown",
   "metadata": {},
   "source": [
    "# State of CA"
   ]
  },
  {
   "cell_type": "code",
   "execution_count": 104,
   "metadata": {},
   "outputs": [],
   "source": [
    "# Read in educational attainment data\n",
    "nhgis_edu = pd.read_csv(os.path.join(data_folder, r\"nhgis0001_shapefile_tl2020_us_tract_2020\\nhgis0001_ds249_20205_tract.csv\"), encoding = \"latin1\")\n",
    "\n",
    "# Make a copy to modify\n",
    "edu_df = nhgis_edu.copy()"
   ]
  },
  {
   "cell_type": "code",
   "execution_count": 105,
   "metadata": {},
   "outputs": [],
   "source": [
    "# Read in income data \n",
    "nhgis_inc = pd.read_csv(os.path.join(data_folder, r\"nhgis0001_shapefile_tl2020_us_tract_2020\\nhgis0002_ds249_20205_tract.csv\"), encoding = \"latin1\")\n",
    "\n",
    "# Make a copy to modify\n",
    "inc_df = nhgis_inc.copy()"
   ]
  },
  {
   "cell_type": "code",
   "execution_count": 106,
   "metadata": {},
   "outputs": [],
   "source": [
    "# Read in census data for all of CA\n",
    "ca_census = pd.DataFrame.spatial.from_featureclass(\"ca_census\")"
   ]
  },
  {
   "cell_type": "code",
   "execution_count": 107,
   "metadata": {},
   "outputs": [],
   "source": [
    "# Trim GEOID from NHGIS data to match other census data\n",
    "edu_df[\"GEOID\"] = edu_df[\"GEOID\"].str[-11:]\n",
    "inc_df[\"GEOID\"] = inc_df[\"GEOID\"].str[-11:]"
   ]
  },
  {
   "cell_type": "code",
   "execution_count": 108,
   "metadata": {},
   "outputs": [],
   "source": [
    "# Select columns of interest from NHGIS data\n",
    "edu_cols = [\"GEOID\", # tract ID\n",
    "            \"AMRZE001\", # Total count\n",
    "            \"AMRZE022\", # Bachelor's degree \n",
    "            \"AMRZE023\", # Master's degree \n",
    "            \"AMRZE024\", # Professional school degree \n",
    "            \"AMRZE025\"] # Doctorate degree \n",
    "\n",
    "edu_df = edu_df[edu_cols]\n",
    "    \n",
    "inc_cols = [\"GEOID\", # tract ID\n",
    "            \"AMZME001\", # Total count\n",
    "            \"AMZME002\", # Under .50\n",
    "            \"AMZME003\"] # .50 - .99 \n",
    "\n",
    "inc_df = inc_df[inc_cols]"
   ]
  },
  {
   "cell_type": "code",
   "execution_count": 109,
   "metadata": {},
   "outputs": [],
   "source": [
    "# Cast GEOID to int to facilitate joining with other census data\n",
    "ca_census = ca_census.astype({\"GEOID\": \"int64\"})\n",
    "edu_df = edu_df.astype({\"GEOID\": \"int64\"})\n",
    "inc_df = inc_df.astype({\"GEOID\": \"int64\"})"
   ]
  },
  {
   "cell_type": "code",
   "execution_count": 110,
   "metadata": {},
   "outputs": [],
   "source": [
    "ca_census = ca_census.merge(edu_df, on = \"GEOID\", how = \"left\")\n",
    "ca_census = ca_census.merge(inc_df, on = \"GEOID\", how = \"left\")"
   ]
  },
  {
   "cell_type": "code",
   "execution_count": 111,
   "metadata": {},
   "outputs": [
    {
     "data": {
      "text/plain": [
       "'C:\\\\Users\\\\kathr\\\\Documents\\\\outdoor-alliance\\\\san-gabriel\\\\san-gabriel-analysis\\\\sg_output.gdb\\\\combined_ca_census'"
      ]
     },
     "execution_count": 111,
     "metadata": {},
     "output_type": "execute_result"
    }
   ],
   "source": [
    "# Write combined df back to feature class\n",
    "ca_census.copy().spatial.to_featureclass(location = os.path.join(gdb_path, \"combined_ca_census\"), \n",
    "                                        sanitize_columns = False)"
   ]
  },
  {
   "cell_type": "markdown",
   "metadata": {},
   "source": [
    "# Service Area with Rings\n",
    "\n",
    "\"Rings\" means that the inner service areas are not included in the outer service areas. For example, the 5-30 mile service area does not include the 0-5 mile service area."
   ]
  },
  {
   "cell_type": "markdown",
   "metadata": {},
   "source": [
    "## Split network dataset"
   ]
  },
  {
   "cell_type": "code",
   "execution_count": 3,
   "metadata": {},
   "outputs": [],
   "source": [
    "# Create pandas dataframe from the network dataset layer (rings)\n",
    "network_df = pd.DataFrame.spatial.from_featureclass(\"nd_output_rings\")"
   ]
  },
  {
   "cell_type": "code",
   "execution_count": 4,
   "metadata": {},
   "outputs": [
    {
     "data": {
      "text/html": [
       "<div>\n",
       "<style scoped>\n",
       "    .dataframe tbody tr th:only-of-type {\n",
       "        vertical-align: middle;\n",
       "    }\n",
       "\n",
       "    .dataframe tbody tr th {\n",
       "        vertical-align: top;\n",
       "    }\n",
       "\n",
       "    .dataframe thead th {\n",
       "        text-align: right;\n",
       "    }\n",
       "</style>\n",
       "<table border=\"1\" class=\"dataframe\">\n",
       "  <thead>\n",
       "    <tr style=\"text-align: right;\">\n",
       "      <th></th>\n",
       "      <th>ObjectID</th>\n",
       "      <th>Name</th>\n",
       "      <th>FromBreak</th>\n",
       "      <th>ToBreak</th>\n",
       "      <th>FacilityOID</th>\n",
       "      <th>FacilityID</th>\n",
       "      <th>SHAPE</th>\n",
       "    </tr>\n",
       "  </thead>\n",
       "  <tbody>\n",
       "    <tr>\n",
       "      <th>0</th>\n",
       "      <td>1</td>\n",
       "      <td>30 - 90</td>\n",
       "      <td>30.0</td>\n",
       "      <td>90.0</td>\n",
       "      <td>None</td>\n",
       "      <td>None</td>\n",
       "      <td>{\"rings\": [[[-13089225.466699999, 4236206.6894...</td>\n",
       "    </tr>\n",
       "    <tr>\n",
       "      <th>1</th>\n",
       "      <td>2</td>\n",
       "      <td>5 - 30</td>\n",
       "      <td>5.0</td>\n",
       "      <td>30.0</td>\n",
       "      <td>None</td>\n",
       "      <td>None</td>\n",
       "      <td>{\"rings\": [[[-13103400.466699999, 4128411.6894...</td>\n",
       "    </tr>\n",
       "    <tr>\n",
       "      <th>2</th>\n",
       "      <td>3</td>\n",
       "      <td>0 - 5</td>\n",
       "      <td>0.0</td>\n",
       "      <td>5.0</td>\n",
       "      <td>None</td>\n",
       "      <td>None</td>\n",
       "      <td>{\"rings\": [[[-13138670.466699999, 4096601.6894...</td>\n",
       "    </tr>\n",
       "  </tbody>\n",
       "</table>\n",
       "</div>"
      ],
      "text/plain": [
       "   ObjectID  ...                                              SHAPE\n",
       "0         1  ...  {\"rings\": [[[-13089225.466699999, 4236206.6894...\n",
       "1         2  ...  {\"rings\": [[[-13103400.466699999, 4128411.6894...\n",
       "2         3  ...  {\"rings\": [[[-13138670.466699999, 4096601.6894...\n",
       "\n",
       "[3 rows x 7 columns]"
      ]
     },
     "execution_count": 4,
     "metadata": {},
     "output_type": "execute_result"
    }
   ],
   "source": [
    "# View the dataframe\n",
    "network_df"
   ]
  },
  {
   "cell_type": "code",
   "execution_count": 5,
   "metadata": {},
   "outputs": [],
   "source": [
    "# Split service area output into 3 separate polygons based on service area\n",
    "sa_1 = network_df[network_df[\"FromBreak\"] == 0.0]\n",
    "sa_2 = network_df[network_df[\"FromBreak\"] == 5.0]\n",
    "sa_3 = network_df[network_df[\"FromBreak\"] == 30.0]"
   ]
  },
  {
   "cell_type": "code",
   "execution_count": 43,
   "metadata": {},
   "outputs": [
    {
     "data": {
      "text/plain": [
       "'C:\\\\Users\\\\kathr\\\\Documents\\\\outdoor-alliance\\\\san-gabriel\\\\san-gabriel-analysis\\\\sg_output.gdb\\\\service_area_3_rings'"
      ]
     },
     "execution_count": 43,
     "metadata": {},
     "output_type": "execute_result"
    }
   ],
   "source": [
    "# Write the service areas back to feature classes\n",
    "sa_1.copy().spatial.to_featureclass(location = os.path.join(gdb_path, \"service_area_1_rings\"), \n",
    "                                        sanitize_columns = False)\n",
    "sa_2.copy().spatial.to_featureclass(location = os.path.join(gdb_path, \"service_area_2_rings\"), \n",
    "                                        sanitize_columns = False)\n",
    "sa_3.copy().spatial.to_featureclass(location = os.path.join(gdb_path, \"service_area_3_rings\"), \n",
    "                                        sanitize_columns = False)"
   ]
  },
  {
   "cell_type": "markdown",
   "metadata": {},
   "source": [
    "## Calculate intersection of tracts in each service area"
   ]
  },
  {
   "cell_type": "code",
   "execution_count": null,
   "metadata": {},
   "outputs": [],
   "source": [
    "# Census\n",
    "# Set variables\n",
    "in_features = \"census_clipped\"\n",
    "clip_features = \"nd_output_rings\"\n",
    "out_feature_class = \"nd_rings_census\""
   ]
  },
  {
   "cell_type": "code",
   "execution_count": null,
   "metadata": {},
   "outputs": [],
   "source": [
    "# Run clip\n",
    "arcpy.analysis.Clip(in_features, clip_features, out_feature_class)"
   ]
  },
  {
   "cell_type": "code",
   "execution_count": null,
   "metadata": {},
   "outputs": [],
   "source": [
    "# https://pro.arcgis.com/en/pro-app/latest/tool-reference/analysis/tabulate-intersection.htm\n",
    "arcpy.analysis.TabulateIntersection(in_zone_features = \"nd_rings_census\", \n",
    "                                    zone_fields = \"GEOID\", # tract identifier\n",
    "                                    in_class_features = \"nd_output_rings\", \n",
    "                                    out_table = \"rings_census_intersection\", \n",
    "                                    class_fields = \"Name\" # service area name\n",
    "                                    )"
   ]
  },
  {
   "cell_type": "code",
   "execution_count": null,
   "metadata": {},
   "outputs": [],
   "source": [
    "# The output PERCENTAGE field records the percentage of the zone feature that is intersected by the class\n",
    "# Zone feature = census tracts\n",
    "# Class = service area\n",
    "# Percent of the census tract that is intersected by a particular service area"
   ]
  },
  {
   "cell_type": "markdown",
   "metadata": {},
   "source": [
    "## 0 - 5 mile service area"
   ]
  },
  {
   "cell_type": "code",
   "execution_count": 4,
   "metadata": {},
   "outputs": [],
   "source": [
    "# Census tracts\n",
    "# Set variables\n",
    "in_features = \"census_clipped\"\n",
    "clip_features = \"service_area_1_rings\"\n",
    "out_feature_class = \"sa_1_rings_census\""
   ]
  },
  {
   "cell_type": "code",
   "execution_count": 5,
   "metadata": {
    "scrolled": true
   },
   "outputs": [
    {
     "data": {
      "text/html": [
       "<div class='gpresult'><h2>Messages</h2><div id='messages' data-messages='[\"Start Time: Monday, June 12, 2023 3:06:35 PM\",\"Reading Features...\",\"Cracking Features...\",\"Assembling Features...\",\"Succeeded at Monday, June 12, 2023 3:06:36 PM (Elapsed Time: 0.76 seconds)\"]' data-show='true'><div id = 'default' /></div></div>"
      ],
      "text/plain": [
       "<Result 'C:\\\\Users\\\\kathr\\\\Documents\\\\outdoor-alliance\\\\san-gabriel\\\\san-gabriel-analysis\\\\sg_output.gdb\\\\sa_1_rings_census'>"
      ]
     },
     "execution_count": 5,
     "metadata": {},
     "output_type": "execute_result"
    }
   ],
   "source": [
    "# Run clip\n",
    "arcpy.analysis.Clip(in_features, clip_features, out_feature_class)"
   ]
  },
  {
   "cell_type": "markdown",
   "metadata": {},
   "source": [
    "### Areal interpolation of census attributes"
   ]
  },
  {
   "cell_type": "code",
   "execution_count": 112,
   "metadata": {},
   "outputs": [],
   "source": [
    "# Create pandas dataframe from census feature class\n",
    "sa_1_census_df = pd.DataFrame.spatial.from_featureclass(\"sa_1_rings_census\")\n",
    "\n",
    "# Create pandas dataframe from intersection table\n",
    "rings_census_int_df = pd.DataFrame.spatial.from_table(\"rings_census_intersection\")\n",
    "\n",
    "# Subset intersection table to only the service area of interest\n",
    "sa_1_int = rings_census_int_df[rings_census_int_df[\"Name\"] == \"0 - 5\"].reset_index(drop = True)"
   ]
  },
  {
   "cell_type": "code",
   "execution_count": 113,
   "metadata": {},
   "outputs": [],
   "source": [
    "# Calculate racial attributes\n",
    "sa_1_census_df = interpolate_racial(sa_1_census_df, sa_1_int)"
   ]
  },
  {
   "cell_type": "code",
   "execution_count": 114,
   "metadata": {},
   "outputs": [
    {
     "name": "stderr",
     "output_type": "stream",
     "text": [
      "[102]:11: SettingWithCopyWarning: \n",
      "A value is trying to be set on a copy of a slice from a DataFrame.\n",
      "Try using .loc[row_indexer,col_indexer] = value instead\n",
      "\n",
      "See the caveats in the documentation: https://pandas.pydata.org/pandas-docs/stable/user_guide/indexing.html#returning-a-view-versus-a-copy\n"
     ]
    }
   ],
   "source": [
    "# Calculate education attributes\n",
    "sa_1_edu = interpolate_edu(sa_1_census_df, sa_1_int, nhgis_edu)"
   ]
  },
  {
   "cell_type": "code",
   "execution_count": 115,
   "metadata": {},
   "outputs": [
    {
     "name": "stderr",
     "output_type": "stream",
     "text": [
      "[103]:11: SettingWithCopyWarning: \n",
      "A value is trying to be set on a copy of a slice from a DataFrame.\n",
      "Try using .loc[row_indexer,col_indexer] = value instead\n",
      "\n",
      "See the caveats in the documentation: https://pandas.pydata.org/pandas-docs/stable/user_guide/indexing.html#returning-a-view-versus-a-copy\n"
     ]
    }
   ],
   "source": [
    "# Calculate income attributes\n",
    "sa_1_inc = interpolate_inc(sa_1_census_df, sa_1_int, nhgis_inc)"
   ]
  },
  {
   "cell_type": "code",
   "execution_count": 116,
   "metadata": {},
   "outputs": [],
   "source": [
    "# Cast GEOID to int to facilitate joining with other census data\n",
    "sa_1_census_df = sa_1_census_df.astype({\"GEOID\": \"int64\"})\n",
    "sa_1_edu = sa_1_edu.astype({\"GEOID\": \"int64\"})\n",
    "sa_1_inc = sa_1_inc.astype({\"GEOID\": \"int64\"})\n",
    "\n",
    "# Join edited columns to the service area dataframe\n",
    "sa_1_census_df = sa_1_census_df.merge(sa_1_edu, on = \"GEOID\", how = \"left\")\n",
    "sa_1_census_df = sa_1_census_df.merge(sa_1_inc, on = \"GEOID\", how = \"left\")"
   ]
  },
  {
   "cell_type": "code",
   "execution_count": 117,
   "metadata": {},
   "outputs": [
    {
     "data": {
      "text/plain": [
       "'C:\\\\Users\\\\kathr\\\\Documents\\\\outdoor-alliance\\\\san-gabriel\\\\san-gabriel-analysis\\\\sg_output.gdb\\\\combined_census_sa_1_rings'"
      ]
     },
     "execution_count": 117,
     "metadata": {},
     "output_type": "execute_result"
    }
   ],
   "source": [
    "# Write combined df back to feature class\n",
    "sa_1_census_df.copy().spatial.to_featureclass(location = os.path.join(gdb_path, \"combined_census_sa_1_rings\"), \n",
    "                                        sanitize_columns = False)"
   ]
  },
  {
   "cell_type": "markdown",
   "metadata": {},
   "source": [
    "## 5 - 30 mile service area"
   ]
  },
  {
   "cell_type": "code",
   "execution_count": 6,
   "metadata": {},
   "outputs": [],
   "source": [
    "# Census tracts\n",
    "# Set variables\n",
    "in_features = \"census_clipped\"\n",
    "clip_features = \"service_area_2_rings\"\n",
    "out_feature_class = \"sa_2_rings_census\""
   ]
  },
  {
   "cell_type": "code",
   "execution_count": 7,
   "metadata": {
    "scrolled": true
   },
   "outputs": [
    {
     "data": {
      "text/html": [
       "<div class='gpresult'><h2>Messages</h2><div id='messages' data-messages='[\"Start Time: Monday, June 12, 2023 3:11:00 PM\",\"Reading Features...\",\"Cracking Features...\",\"Assembling Features...\",\"Succeeded at Monday, June 12, 2023 3:11:02 PM (Elapsed Time: 2.39 seconds)\"]' data-show='true'><div id = 'default' /></div></div>"
      ],
      "text/plain": [
       "<Result 'C:\\\\Users\\\\kathr\\\\Documents\\\\outdoor-alliance\\\\san-gabriel\\\\san-gabriel-analysis\\\\sg_output.gdb\\\\sa_2_rings_census'>"
      ]
     },
     "execution_count": 7,
     "metadata": {},
     "output_type": "execute_result"
    }
   ],
   "source": [
    "# Run clip\n",
    "arcpy.analysis.Clip(in_features, clip_features, out_feature_class)"
   ]
  },
  {
   "cell_type": "markdown",
   "metadata": {},
   "source": [
    "### Areal interpolation of census attributes"
   ]
  },
  {
   "cell_type": "code",
   "execution_count": 118,
   "metadata": {},
   "outputs": [],
   "source": [
    "# Create pandas dataframe from census feature class\n",
    "sa_2_census_df = pd.DataFrame.spatial.from_featureclass(\"sa_2_rings_census\")\n",
    "\n",
    "# Create pandas dataframe from intersection table\n",
    "rings_census_int_df = pd.DataFrame.spatial.from_table(\"rings_census_intersection\")\n",
    "\n",
    "# Subset intersection table to only the service area of interest\n",
    "sa_2_int = rings_census_int_df[rings_census_int_df[\"Name\"] == \"5 - 30\"].reset_index(drop = True)"
   ]
  },
  {
   "cell_type": "code",
   "execution_count": 119,
   "metadata": {
    "scrolled": true
   },
   "outputs": [],
   "source": [
    "# Calculate racial attributes\n",
    "sa_2_census_df = interpolate_racial(sa_2_census_df, sa_2_int)"
   ]
  },
  {
   "cell_type": "code",
   "execution_count": 120,
   "metadata": {},
   "outputs": [
    {
     "name": "stderr",
     "output_type": "stream",
     "text": [
      "[102]:11: SettingWithCopyWarning: \n",
      "A value is trying to be set on a copy of a slice from a DataFrame.\n",
      "Try using .loc[row_indexer,col_indexer] = value instead\n",
      "\n",
      "See the caveats in the documentation: https://pandas.pydata.org/pandas-docs/stable/user_guide/indexing.html#returning-a-view-versus-a-copy\n"
     ]
    }
   ],
   "source": [
    "# Calculate education attributes\n",
    "sa_2_edu = interpolate_edu(sa_2_census_df, sa_2_int, nhgis_edu)"
   ]
  },
  {
   "cell_type": "code",
   "execution_count": 121,
   "metadata": {},
   "outputs": [
    {
     "name": "stderr",
     "output_type": "stream",
     "text": [
      "[103]:11: SettingWithCopyWarning: \n",
      "A value is trying to be set on a copy of a slice from a DataFrame.\n",
      "Try using .loc[row_indexer,col_indexer] = value instead\n",
      "\n",
      "See the caveats in the documentation: https://pandas.pydata.org/pandas-docs/stable/user_guide/indexing.html#returning-a-view-versus-a-copy\n"
     ]
    }
   ],
   "source": [
    "# Calculate income attributes\n",
    "sa_2_inc = interpolate_inc(sa_2_census_df, sa_2_int, nhgis_inc)"
   ]
  },
  {
   "cell_type": "code",
   "execution_count": 122,
   "metadata": {},
   "outputs": [],
   "source": [
    "# Cast GEOID to int to facilitate joining with other census data\n",
    "sa_2_census_df = sa_2_census_df.astype({\"GEOID\": \"int64\"})\n",
    "sa_2_edu = sa_2_edu.astype({\"GEOID\": \"int64\"})\n",
    "sa_2_inc = sa_2_inc.astype({\"GEOID\": \"int64\"})\n",
    "\n",
    "# Join edited columns to the service area dataframe\n",
    "sa_2_census_df = sa_2_census_df.merge(sa_2_edu, on = \"GEOID\", how = \"left\")\n",
    "sa_2_census_df = sa_2_census_df.merge(sa_2_inc, on = \"GEOID\", how = \"left\")"
   ]
  },
  {
   "cell_type": "code",
   "execution_count": 123,
   "metadata": {},
   "outputs": [
    {
     "data": {
      "text/plain": [
       "'C:\\\\Users\\\\kathr\\\\Documents\\\\outdoor-alliance\\\\san-gabriel\\\\san-gabriel-analysis\\\\sg_output.gdb\\\\combined_census_sa_2_rings'"
      ]
     },
     "execution_count": 123,
     "metadata": {},
     "output_type": "execute_result"
    }
   ],
   "source": [
    "# Write combined df back to feature class\n",
    "sa_2_census_df.copy().spatial.to_featureclass(location = os.path.join(gdb_path, \"combined_census_sa_2_rings\"), \n",
    "                                        sanitize_columns = False)"
   ]
  },
  {
   "cell_type": "markdown",
   "metadata": {},
   "source": [
    "## 30 - 90 mile service area"
   ]
  },
  {
   "cell_type": "code",
   "execution_count": 8,
   "metadata": {},
   "outputs": [],
   "source": [
    "# Census tracts\n",
    "# Set variables\n",
    "in_features = \"census_clipped\"\n",
    "clip_features = \"service_area_3_rings\"\n",
    "out_feature_class = \"sa_3_rings_census\""
   ]
  },
  {
   "cell_type": "code",
   "execution_count": 9,
   "metadata": {},
   "outputs": [
    {
     "data": {
      "text/html": [
       "<div class='gpresult'><h2>Messages</h2><div id='messages' data-messages='[\"Start Time: Monday, June 12, 2023 3:11:08 PM\",\"Reading Features...\",\"Cracking Features...\",\"Assembling Features...\",\"Succeeded at Monday, June 12, 2023 3:11:13 PM (Elapsed Time: 5.16 seconds)\"]' data-show='true'><div id = 'default' /></div></div>"
      ],
      "text/plain": [
       "<Result 'C:\\\\Users\\\\kathr\\\\Documents\\\\outdoor-alliance\\\\san-gabriel\\\\san-gabriel-analysis\\\\sg_output.gdb\\\\sa_3_rings_census'>"
      ]
     },
     "execution_count": 9,
     "metadata": {},
     "output_type": "execute_result"
    }
   ],
   "source": [
    "# Run clip\n",
    "arcpy.analysis.Clip(in_features, clip_features, out_feature_class)"
   ]
  },
  {
   "cell_type": "markdown",
   "metadata": {},
   "source": [
    "### Areal interpolation of census attributes"
   ]
  },
  {
   "cell_type": "code",
   "execution_count": 124,
   "metadata": {},
   "outputs": [],
   "source": [
    "# Create pandas dataframe from census feature class\n",
    "sa_3_census_df = pd.DataFrame.spatial.from_featureclass(\"sa_3_rings_census\")\n",
    "\n",
    "# Create pandas dataframe from intersection table\n",
    "rings_census_int_df = pd.DataFrame.spatial.from_table(\"rings_census_intersection\")\n",
    "\n",
    "# Subset intersection table to only the service area of interest\n",
    "sa_3_int = rings_census_int_df[rings_census_int_df[\"Name\"] == \"30 - 90\"].reset_index(drop = True)"
   ]
  },
  {
   "cell_type": "code",
   "execution_count": 125,
   "metadata": {},
   "outputs": [],
   "source": [
    "# Calculate racial attributes\n",
    "sa_3_census_df = interpolate_racial(sa_3_census_df, sa_3_int)"
   ]
  },
  {
   "cell_type": "code",
   "execution_count": 126,
   "metadata": {},
   "outputs": [
    {
     "name": "stderr",
     "output_type": "stream",
     "text": [
      "[102]:11: SettingWithCopyWarning: \n",
      "A value is trying to be set on a copy of a slice from a DataFrame.\n",
      "Try using .loc[row_indexer,col_indexer] = value instead\n",
      "\n",
      "See the caveats in the documentation: https://pandas.pydata.org/pandas-docs/stable/user_guide/indexing.html#returning-a-view-versus-a-copy\n"
     ]
    }
   ],
   "source": [
    "# Calculate education attributes\n",
    "sa_3_edu = interpolate_edu(sa_3_census_df, sa_3_int, nhgis_edu)"
   ]
  },
  {
   "cell_type": "code",
   "execution_count": 127,
   "metadata": {},
   "outputs": [
    {
     "name": "stderr",
     "output_type": "stream",
     "text": [
      "[103]:11: SettingWithCopyWarning: \n",
      "A value is trying to be set on a copy of a slice from a DataFrame.\n",
      "Try using .loc[row_indexer,col_indexer] = value instead\n",
      "\n",
      "See the caveats in the documentation: https://pandas.pydata.org/pandas-docs/stable/user_guide/indexing.html#returning-a-view-versus-a-copy\n"
     ]
    }
   ],
   "source": [
    "# Calculate income attributes\n",
    "sa_3_inc = interpolate_inc(sa_3_census_df, sa_3_int, nhgis_inc)"
   ]
  },
  {
   "cell_type": "code",
   "execution_count": 128,
   "metadata": {},
   "outputs": [],
   "source": [
    "# Cast GEOID to int to facilitate joining with other census data\n",
    "sa_3_census_df = sa_3_census_df.astype({\"GEOID\": \"int64\"})\n",
    "sa_3_edu = sa_3_edu.astype({\"GEOID\": \"int64\"})\n",
    "sa_3_inc = sa_3_inc.astype({\"GEOID\": \"int64\"})\n",
    "\n",
    "# Join edited columns to the service area dataframe\n",
    "sa_3_census_df = sa_3_census_df.merge(sa_3_edu, on = \"GEOID\", how = \"left\")\n",
    "sa_3_census_df = sa_3_census_df.merge(sa_3_inc, on = \"GEOID\", how = \"left\")"
   ]
  },
  {
   "cell_type": "code",
   "execution_count": 129,
   "metadata": {},
   "outputs": [
    {
     "data": {
      "text/plain": [
       "'C:\\\\Users\\\\kathr\\\\Documents\\\\outdoor-alliance\\\\san-gabriel\\\\san-gabriel-analysis\\\\sg_output.gdb\\\\combined_census_sa_3_rings'"
      ]
     },
     "execution_count": 129,
     "metadata": {},
     "output_type": "execute_result"
    }
   ],
   "source": [
    "# Write combined df back to feature class\n",
    "sa_3_census_df.copy().spatial.to_featureclass(location = os.path.join(gdb_path, \"combined_census_sa_3_rings\"), \n",
    "                                        sanitize_columns = False)"
   ]
  },
  {
   "cell_type": "markdown",
   "metadata": {},
   "source": [
    "# Service Area with Disks\n",
    "\n",
    "\"Disks\" means that the inner service areas are included in the outer service areas. For example, the 30 mile service area includes the 0-5 mile service area and the 5-30 mile service area."
   ]
  },
  {
   "cell_type": "markdown",
   "metadata": {},
   "source": [
    "## Split Network Dataset"
   ]
  },
  {
   "cell_type": "code",
   "execution_count": 166,
   "metadata": {},
   "outputs": [],
   "source": [
    "# Create pandas dataframea from feature class\n",
    "network_df = pd.DataFrame.spatial.from_featureclass(\"nd_output_disks\")"
   ]
  },
  {
   "cell_type": "code",
   "execution_count": 172,
   "metadata": {},
   "outputs": [],
   "source": [
    "# Split service area output into 3 separate polygons\n",
    "sa_1 = network_df[network_df[\"ToBreak\"] == 5.0]\n",
    "sa_2 = network_df[network_df[\"ToBreak\"] == 30.0]\n",
    "sa_3 = network_df[network_df[\"ToBreak\"] == 90.0]"
   ]
  },
  {
   "cell_type": "code",
   "execution_count": 174,
   "metadata": {},
   "outputs": [
    {
     "data": {
      "text/plain": [
       "'C:\\\\Users\\\\kathr\\\\Documents\\\\outdoor-alliance\\\\san-gabriel\\\\san-gabriel-analysis\\\\sg_output.gdb\\\\service_area_3_disks'"
      ]
     },
     "execution_count": 174,
     "metadata": {},
     "output_type": "execute_result"
    }
   ],
   "source": [
    "# Write back to feature classes\n",
    "sa_1.copy().spatial.to_featureclass(location = os.path.join(gdb_path, \"service_area_1_disks\"), \n",
    "                                        sanitize_columns = False)\n",
    "sa_2.copy().spatial.to_featureclass(location = os.path.join(gdb_path, \"service_area_2_disks\"), \n",
    "                                        sanitize_columns = False)\n",
    "sa_3.copy().spatial.to_featureclass(location = os.path.join(gdb_path, \"service_area_3_disks\"), \n",
    "                                        sanitize_columns = False)"
   ]
  },
  {
   "cell_type": "markdown",
   "metadata": {
    "heading_collapsed": true
   },
   "source": [
    "## Calculate intersection of tracts in each service area"
   ]
  },
  {
   "cell_type": "code",
   "execution_count": 50,
   "metadata": {
    "hidden": true
   },
   "outputs": [],
   "source": [
    "# Set variables\n",
    "in_features = \"census_clipped\"\n",
    "clip_features = \"nd_output_disks\"\n",
    "out_feature_class = \"nd_disks_census\""
   ]
  },
  {
   "cell_type": "code",
   "execution_count": 51,
   "metadata": {
    "hidden": true
   },
   "outputs": [
    {
     "data": {
      "text/html": [
       "<div class='gpresult'><h2>Messages</h2><div id='messages' data-messages='[\"Start Time: Thursday, June 22, 2023 1:48:05 PM\",\"Reading Features...\",\"Cracking Features...\",\"Assembling Features...\",\"Succeeded at Thursday, June 22, 2023 1:48:12 PM (Elapsed Time: 7.03 seconds)\"]' data-show='true'><div id = 'default' /></div></div>"
      ],
      "text/plain": [
       "<Result 'C:\\\\Users\\\\kathr\\\\Documents\\\\outdoor-alliance\\\\san-gabriel\\\\san-gabriel-analysis\\\\sg_output.gdb\\\\nd_disks_census'>"
      ]
     },
     "execution_count": 51,
     "metadata": {},
     "output_type": "execute_result"
    }
   ],
   "source": [
    "# Run clip\n",
    "arcpy.analysis.Clip(in_features, clip_features, out_feature_class)"
   ]
  },
  {
   "cell_type": "code",
   "execution_count": 52,
   "metadata": {
    "hidden": true
   },
   "outputs": [
    {
     "data": {
      "text/html": [
       "<div class='gpresult'><h2>Messages</h2><div id='messages' data-messages='[\"Start Time: Thursday, June 22, 2023 1:48:22 PM\",\"Reading Features...\",\"Cracking Features...\",\"Assembling Features...\",\"Succeeded at Thursday, June 22, 2023 1:48:27 PM (Elapsed Time: 5.19 seconds)\"]' data-show='true'><div id = 'default' /></div></div>"
      ],
      "text/plain": [
       "<Result 'C:\\\\Users\\\\kathr\\\\Documents\\\\outdoor-alliance\\\\san-gabriel\\\\san-gabriel-analysis\\\\sg_output.gdb\\\\disks_census_intersection'>"
      ]
     },
     "execution_count": 52,
     "metadata": {},
     "output_type": "execute_result"
    }
   ],
   "source": [
    "# https://pro.arcgis.com/en/pro-app/latest/tool-reference/analysis/tabulate-intersection.htm\n",
    "arcpy.analysis.TabulateIntersection(in_zone_features = \"nd_disks_census\", \n",
    "                                    zone_fields = \"GEOID\", # tract identifier\n",
    "                                    in_class_features = \"nd_output_disks\", \n",
    "                                    out_table = \"disks_census_intersection\", \n",
    "                                    class_fields = \"Name\" # service area name\n",
    "                                    )"
   ]
  },
  {
   "cell_type": "markdown",
   "metadata": {},
   "source": [
    "## 5 mile service area"
   ]
  },
  {
   "cell_type": "code",
   "execution_count": 175,
   "metadata": {},
   "outputs": [],
   "source": [
    "# Set variables\n",
    "in_features = \"census_clipped\"\n",
    "clip_features = \"service_area_1_disks\"\n",
    "out_feature_class = \"sa_1_disks_census\""
   ]
  },
  {
   "cell_type": "code",
   "execution_count": 176,
   "metadata": {
    "scrolled": true
   },
   "outputs": [
    {
     "data": {
      "text/html": [
       "<div class='gpresult'><h2>Messages</h2><div id='messages' data-messages='[\"Start Time: Wednesday, June 14, 2023 2:07:21 PM\",\"Reading Features...\",\"Cracking Features...\",\"Assembling Features...\",\"Succeeded at Wednesday, June 14, 2023 2:07:22 PM (Elapsed Time: 0.94 seconds)\"]' data-show='true'><div id = 'default' /></div></div>"
      ],
      "text/plain": [
       "<Result 'C:\\\\Users\\\\kathr\\\\Documents\\\\outdoor-alliance\\\\san-gabriel\\\\san-gabriel-analysis\\\\sg_output.gdb\\\\sa_1_disks_census'>"
      ]
     },
     "execution_count": 176,
     "metadata": {},
     "output_type": "execute_result"
    }
   ],
   "source": [
    "# Run clip\n",
    "arcpy.analysis.Clip(in_features, clip_features, out_feature_class)"
   ]
  },
  {
   "cell_type": "markdown",
   "metadata": {},
   "source": [
    "### Areal interpolation of census attributes"
   ]
  },
  {
   "cell_type": "code",
   "execution_count": 130,
   "metadata": {},
   "outputs": [],
   "source": [
    "# Create pandas dataframe from census feature class\n",
    "sa_1_census_df = pd.DataFrame.spatial.from_featureclass(\"sa_1_disks_census\")\n",
    "\n",
    "# Create pandas dataframe from intersection table\n",
    "disks_census_int_df = pd.DataFrame.spatial.from_table(\"disks_census_intersection\")\n",
    "\n",
    "# Subset intersection table to only the service area of interest\n",
    "sa_1_int = disks_census_int_df[disks_census_int_df[\"Name\"] == \"0 - 5\"].reset_index(drop = True)"
   ]
  },
  {
   "cell_type": "code",
   "execution_count": 131,
   "metadata": {},
   "outputs": [],
   "source": [
    "# Calculate racial attributes\n",
    "sa_1_census_df = interpolate_racial(sa_1_census_df, sa_1_int)"
   ]
  },
  {
   "cell_type": "code",
   "execution_count": 132,
   "metadata": {},
   "outputs": [
    {
     "name": "stderr",
     "output_type": "stream",
     "text": [
      "[102]:11: SettingWithCopyWarning: \n",
      "A value is trying to be set on a copy of a slice from a DataFrame.\n",
      "Try using .loc[row_indexer,col_indexer] = value instead\n",
      "\n",
      "See the caveats in the documentation: https://pandas.pydata.org/pandas-docs/stable/user_guide/indexing.html#returning-a-view-versus-a-copy\n"
     ]
    }
   ],
   "source": [
    "# Calculate education attributes\n",
    "sa_1_edu = interpolate_edu(sa_1_census_df, sa_1_int, nhgis_edu)"
   ]
  },
  {
   "cell_type": "code",
   "execution_count": 133,
   "metadata": {},
   "outputs": [
    {
     "name": "stderr",
     "output_type": "stream",
     "text": [
      "[103]:11: SettingWithCopyWarning: \n",
      "A value is trying to be set on a copy of a slice from a DataFrame.\n",
      "Try using .loc[row_indexer,col_indexer] = value instead\n",
      "\n",
      "See the caveats in the documentation: https://pandas.pydata.org/pandas-docs/stable/user_guide/indexing.html#returning-a-view-versus-a-copy\n"
     ]
    }
   ],
   "source": [
    "# Calculate income attributes\n",
    "sa_1_inc = interpolate_inc(sa_1_census_df, sa_1_int, nhgis_inc)"
   ]
  },
  {
   "cell_type": "code",
   "execution_count": 134,
   "metadata": {},
   "outputs": [],
   "source": [
    "# Cast GEOID to int to facilitate joining with other census data\n",
    "sa_1_census_df = sa_1_census_df.astype({\"GEOID\": \"int64\"})\n",
    "sa_1_edu = sa_1_edu.astype({\"GEOID\": \"int64\"})\n",
    "sa_1_inc = sa_1_inc.astype({\"GEOID\": \"int64\"})\n",
    "\n",
    "# Join edited columns to the service area dataframe\n",
    "sa_1_census_df = sa_1_census_df.merge(sa_1_edu, on = \"GEOID\", how = \"left\")\n",
    "sa_1_census_df = sa_1_census_df.merge(sa_1_inc, on = \"GEOID\", how = \"left\")"
   ]
  },
  {
   "cell_type": "code",
   "execution_count": 135,
   "metadata": {},
   "outputs": [
    {
     "data": {
      "text/plain": [
       "'C:\\\\Users\\\\kathr\\\\Documents\\\\outdoor-alliance\\\\san-gabriel\\\\san-gabriel-analysis\\\\sg_output.gdb\\\\combined_census_sa_1_disks'"
      ]
     },
     "execution_count": 135,
     "metadata": {},
     "output_type": "execute_result"
    }
   ],
   "source": [
    "# Write combined df back to feature class\n",
    "sa_1_census_df.copy().spatial.to_featureclass(location = os.path.join(gdb_path, \"combined_census_sa_1_disks\"), \n",
    "                                        sanitize_columns = False)"
   ]
  },
  {
   "cell_type": "markdown",
   "metadata": {},
   "source": [
    "## 30 mile service area"
   ]
  },
  {
   "cell_type": "code",
   "execution_count": 177,
   "metadata": {},
   "outputs": [],
   "source": [
    "# Set variables\n",
    "in_features = \"census_clipped\"\n",
    "clip_features = \"service_area_2_disks\"\n",
    "out_feature_class = \"sa_2_disks_census\""
   ]
  },
  {
   "cell_type": "code",
   "execution_count": 178,
   "metadata": {},
   "outputs": [
    {
     "data": {
      "text/html": [
       "<div class='gpresult'><h2>Messages</h2><div id='messages' data-messages='[\"Start Time: Wednesday, June 14, 2023 2:07:29 PM\",\"Reading Features...\",\"Cracking Features...\",\"Assembling Features...\",\"Succeeded at Wednesday, June 14, 2023 2:07:32 PM (Elapsed Time: 2.41 seconds)\"]' data-show='true'><div id = 'default' /></div></div>"
      ],
      "text/plain": [
       "<Result 'C:\\\\Users\\\\kathr\\\\Documents\\\\outdoor-alliance\\\\san-gabriel\\\\san-gabriel-analysis\\\\sg_output.gdb\\\\sa_2_disks_census'>"
      ]
     },
     "execution_count": 178,
     "metadata": {},
     "output_type": "execute_result"
    }
   ],
   "source": [
    "# Run clip\n",
    "arcpy.analysis.Clip(in_features, clip_features, out_feature_class)"
   ]
  },
  {
   "cell_type": "markdown",
   "metadata": {},
   "source": [
    "### Areal interpolation of census attributes"
   ]
  },
  {
   "cell_type": "code",
   "execution_count": 136,
   "metadata": {},
   "outputs": [],
   "source": [
    "# Create pandas dataframe from census feature class\n",
    "sa_2_census_df = pd.DataFrame.spatial.from_featureclass(\"sa_2_disks_census\")\n",
    "\n",
    "# Create pandas dataframe from intersection table\n",
    "disks_census_int_df = pd.DataFrame.spatial.from_table(\"disks_census_intersection\")\n",
    "\n",
    "# Subset intersection table to only the service area of interest\n",
    "sa_2_int = disks_census_int_df[disks_census_int_df[\"Name\"] == \"0 - 30\"].reset_index(drop = True)"
   ]
  },
  {
   "cell_type": "code",
   "execution_count": 137,
   "metadata": {},
   "outputs": [],
   "source": [
    "# Calculate racial attributes\n",
    "sa_2_census_df = interpolate_racial(sa_2_census_df, sa_2_int)"
   ]
  },
  {
   "cell_type": "code",
   "execution_count": 138,
   "metadata": {},
   "outputs": [
    {
     "name": "stderr",
     "output_type": "stream",
     "text": [
      "[102]:11: SettingWithCopyWarning: \n",
      "A value is trying to be set on a copy of a slice from a DataFrame.\n",
      "Try using .loc[row_indexer,col_indexer] = value instead\n",
      "\n",
      "See the caveats in the documentation: https://pandas.pydata.org/pandas-docs/stable/user_guide/indexing.html#returning-a-view-versus-a-copy\n"
     ]
    }
   ],
   "source": [
    "# Calculate education attributes\n",
    "sa_2_edu = interpolate_edu(sa_2_census_df, sa_2_int, nhgis_edu)"
   ]
  },
  {
   "cell_type": "code",
   "execution_count": 139,
   "metadata": {},
   "outputs": [
    {
     "name": "stderr",
     "output_type": "stream",
     "text": [
      "[103]:11: SettingWithCopyWarning: \n",
      "A value is trying to be set on a copy of a slice from a DataFrame.\n",
      "Try using .loc[row_indexer,col_indexer] = value instead\n",
      "\n",
      "See the caveats in the documentation: https://pandas.pydata.org/pandas-docs/stable/user_guide/indexing.html#returning-a-view-versus-a-copy\n"
     ]
    }
   ],
   "source": [
    "# Calculate income attributes\n",
    "sa_2_inc = interpolate_inc(sa_2_census_df, sa_2_int, nhgis_inc)"
   ]
  },
  {
   "cell_type": "code",
   "execution_count": 140,
   "metadata": {},
   "outputs": [],
   "source": [
    "# Cast GEOID to int to facilitate joining with other census data\n",
    "sa_2_census_df = sa_2_census_df.astype({\"GEOID\": \"int64\"})\n",
    "sa_2_edu = sa_2_edu.astype({\"GEOID\": \"int64\"})\n",
    "sa_2_inc = sa_2_inc.astype({\"GEOID\": \"int64\"})\n",
    "\n",
    "# Join edited columns to the service area dataframe\n",
    "sa_2_census_df = sa_2_census_df.merge(sa_2_edu, on = \"GEOID\", how = \"left\")\n",
    "sa_2_census_df = sa_2_census_df.merge(sa_2_inc, on = \"GEOID\", how = \"left\")"
   ]
  },
  {
   "cell_type": "code",
   "execution_count": 141,
   "metadata": {},
   "outputs": [
    {
     "data": {
      "text/plain": [
       "'C:\\\\Users\\\\kathr\\\\Documents\\\\outdoor-alliance\\\\san-gabriel\\\\san-gabriel-analysis\\\\sg_output.gdb\\\\combined_census_sa_2_disks'"
      ]
     },
     "execution_count": 141,
     "metadata": {},
     "output_type": "execute_result"
    }
   ],
   "source": [
    "# Write combined df back to feature class\n",
    "sa_2_census_df.copy().spatial.to_featureclass(location = os.path.join(gdb_path, \"combined_census_sa_2_disks\"), \n",
    "                                        sanitize_columns = False)"
   ]
  },
  {
   "cell_type": "markdown",
   "metadata": {},
   "source": [
    "##  90 mile service area"
   ]
  },
  {
   "cell_type": "code",
   "execution_count": 155,
   "metadata": {},
   "outputs": [],
   "source": [
    "# Set variables\n",
    "in_features = \"census_clipped\"\n",
    "clip_features = \"service_area_3_disks\"\n",
    "out_feature_class = \"sa_3_disks_census\""
   ]
  },
  {
   "cell_type": "code",
   "execution_count": 156,
   "metadata": {},
   "outputs": [
    {
     "data": {
      "text/html": [
       "<div class='gpresult'><h2>Messages</h2><div id='messages' data-messages='[\"Start Time: Thursday, June 22, 2023 2:48:42 PM\",\"Reading Features...\",\"Cracking Features...\",\"Assembling Features...\",\"Succeeded at Thursday, June 22, 2023 2:48:50 PM (Elapsed Time: 7.50 seconds)\"]' data-show='true'><div id = 'default' /></div></div>"
      ],
      "text/plain": [
       "<Result 'C:\\\\Users\\\\kathr\\\\Documents\\\\outdoor-alliance\\\\san-gabriel\\\\san-gabriel-analysis\\\\sg_output.gdb\\\\sa_3_disks_census'>"
      ]
     },
     "execution_count": 156,
     "metadata": {},
     "output_type": "execute_result"
    }
   ],
   "source": [
    "# Run clip\n",
    "arcpy.analysis.Clip(in_features, clip_features, out_feature_class)"
   ]
  },
  {
   "cell_type": "markdown",
   "metadata": {},
   "source": [
    "### Areal interpolation of census attributes"
   ]
  },
  {
   "cell_type": "code",
   "execution_count": 142,
   "metadata": {},
   "outputs": [],
   "source": [
    "# Create pandas dataframe from census feature class\n",
    "sa_3_census_df = pd.DataFrame.spatial.from_featureclass(\"sa_3_disks_census\")\n",
    "\n",
    "# Create pandas dataframe from intersection table\n",
    "disks_census_int_df = pd.DataFrame.spatial.from_table(\"disks_census_intersection\")\n",
    "\n",
    "# Subset intersection table to only the service area of interest\n",
    "sa_3_int = disks_census_int_df[disks_census_int_df[\"Name\"] == \"0 - 90\"].reset_index(drop = True)"
   ]
  },
  {
   "cell_type": "code",
   "execution_count": 143,
   "metadata": {},
   "outputs": [],
   "source": [
    "# Calculate racial attributes\n",
    "sa_3_census_df = interpolate_racial(sa_3_census_df, sa_3_int)"
   ]
  },
  {
   "cell_type": "code",
   "execution_count": 144,
   "metadata": {},
   "outputs": [
    {
     "name": "stderr",
     "output_type": "stream",
     "text": [
      "[102]:11: SettingWithCopyWarning: \n",
      "A value is trying to be set on a copy of a slice from a DataFrame.\n",
      "Try using .loc[row_indexer,col_indexer] = value instead\n",
      "\n",
      "See the caveats in the documentation: https://pandas.pydata.org/pandas-docs/stable/user_guide/indexing.html#returning-a-view-versus-a-copy\n"
     ]
    }
   ],
   "source": [
    "# Calculate education attributes\n",
    "sa_3_edu = interpolate_edu(sa_3_census_df, sa_3_int, nhgis_edu)"
   ]
  },
  {
   "cell_type": "code",
   "execution_count": 145,
   "metadata": {},
   "outputs": [
    {
     "name": "stderr",
     "output_type": "stream",
     "text": [
      "[103]:11: SettingWithCopyWarning: \n",
      "A value is trying to be set on a copy of a slice from a DataFrame.\n",
      "Try using .loc[row_indexer,col_indexer] = value instead\n",
      "\n",
      "See the caveats in the documentation: https://pandas.pydata.org/pandas-docs/stable/user_guide/indexing.html#returning-a-view-versus-a-copy\n"
     ]
    }
   ],
   "source": [
    "# Calculate income attributes\n",
    "sa_3_inc = interpolate_inc(sa_3_census_df, sa_3_int, nhgis_inc)"
   ]
  },
  {
   "cell_type": "code",
   "execution_count": 146,
   "metadata": {},
   "outputs": [],
   "source": [
    "# Cast GEOID to int to facilitate joining with other census data\n",
    "sa_3_census_df = sa_3_census_df.astype({\"GEOID\": \"int64\"})\n",
    "sa_3_edu = sa_3_edu.astype({\"GEOID\": \"int64\"})\n",
    "sa_3_inc = sa_3_inc.astype({\"GEOID\": \"int64\"})\n",
    "\n",
    "# Join edited columns to the service area dataframe\n",
    "sa_3_census_df = sa_3_census_df.merge(sa_3_edu, on = \"GEOID\", how = \"left\")\n",
    "sa_3_census_df = sa_3_census_df.merge(sa_3_inc, on = \"GEOID\", how = \"left\")"
   ]
  },
  {
   "cell_type": "code",
   "execution_count": 147,
   "metadata": {},
   "outputs": [
    {
     "data": {
      "text/plain": [
       "'C:\\\\Users\\\\kathr\\\\Documents\\\\outdoor-alliance\\\\san-gabriel\\\\san-gabriel-analysis\\\\sg_output.gdb\\\\combined_census_sa_3_disks'"
      ]
     },
     "execution_count": 147,
     "metadata": {},
     "output_type": "execute_result"
    }
   ],
   "source": [
    "# Write combined df back to feature class\n",
    "sa_3_census_df.copy().spatial.to_featureclass(location = os.path.join(gdb_path, \"combined_census_sa_3_disks\"), \n",
    "                                        sanitize_columns = False)"
   ]
  },
  {
   "cell_type": "code",
   "execution_count": null,
   "metadata": {},
   "outputs": [],
   "source": []
  }
 ],
 "metadata": {
  "kernelspec": {
   "display_name": "ArcGISPro",
   "language": "Python",
   "name": "python3"
  },
  "language_info": {
   "file_extension": ".py",
   "name": "python",
   "version": "3"
  }
 },
 "nbformat": 4,
 "nbformat_minor": 2
}
