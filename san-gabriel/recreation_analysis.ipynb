{
 "cells": [
  {
   "cell_type": "markdown",
   "metadata": {},
   "source": [
    "# Overview\n",
    "\n",
    "This notebook processes and visualizes the recreation data for the San Gabriel Mountains National Monument."
   ]
  },
  {
   "cell_type": "markdown",
   "metadata": {},
   "source": [
    "# Setup"
   ]
  },
  {
   "cell_type": "code",
   "execution_count": 9,
   "metadata": {},
   "outputs": [],
   "source": [
    "# Import libraries\n",
    "import arcpy, pandas as pd, numpy as np, arcgis, os\n",
    "from arcgis.features import GeoAccessor, GeoSeriesAccessor"
   ]
  },
  {
   "cell_type": "code",
   "execution_count": 10,
   "metadata": {},
   "outputs": [],
   "source": [
    "# Set up workspace\n",
    "arcpy.env.workspace  = r\"C:\\Users\\kathr\\Documents\\outdoor-alliance\\san-gabriel\\san-gabriel-analysis\\sg_output.gdb\"\n",
    "arcpy.env.overwriteOutput = True"
   ]
  },
  {
   "cell_type": "code",
   "execution_count": 11,
   "metadata": {},
   "outputs": [],
   "source": [
    "# Set gdb path\n",
    "gdb_path = r\"C:\\Users\\kathr\\Documents\\outdoor-alliance\\san-gabriel\\san-gabriel-analysis\\sg_output.gdb\""
   ]
  },
  {
   "cell_type": "markdown",
   "metadata": {},
   "source": [
    "# Trails"
   ]
  },
  {
   "cell_type": "code",
   "execution_count": 67,
   "metadata": {},
   "outputs": [],
   "source": [
    "# Create pandas dataframe from feature class\n",
    "trails_df = pd.DataFrame.spatial.from_featureclass(\"sg_trails\")"
   ]
  },
  {
   "cell_type": "code",
   "execution_count": 68,
   "metadata": {},
   "outputs": [
    {
     "data": {
      "text/html": [
       "<div>\n",
       "<style scoped>\n",
       "    .dataframe tbody tr th:only-of-type {\n",
       "        vertical-align: middle;\n",
       "    }\n",
       "\n",
       "    .dataframe tbody tr th {\n",
       "        vertical-align: top;\n",
       "    }\n",
       "\n",
       "    .dataframe thead th {\n",
       "        text-align: right;\n",
       "    }\n",
       "</style>\n",
       "<table border=\"1\" class=\"dataframe\">\n",
       "  <thead>\n",
       "    <tr style=\"text-align: right;\">\n",
       "      <th></th>\n",
       "      <th>OBJECTID</th>\n",
       "      <th>Entity</th>\n",
       "      <th>Handle</th>\n",
       "      <th>Layer</th>\n",
       "      <th>LyrColor</th>\n",
       "      <th>LyrLnType</th>\n",
       "      <th>LyrLineWt</th>\n",
       "      <th>Color</th>\n",
       "      <th>Linetype</th>\n",
       "      <th>Elevation</th>\n",
       "      <th>LineWt</th>\n",
       "      <th>RefName</th>\n",
       "      <th>TRAIL_NO</th>\n",
       "      <th>TRAIL_NAME</th>\n",
       "      <th>TRAIL_TYPE</th>\n",
       "      <th>Length_Miles</th>\n",
       "      <th>Data_Source</th>\n",
       "      <th>Weblink</th>\n",
       "      <th>Trail_Use</th>\n",
       "      <th>Length_Miles_Calc</th>\n",
       "      <th>SHAPE</th>\n",
       "    </tr>\n",
       "  </thead>\n",
       "  <tbody>\n",
       "    <tr>\n",
       "      <th>0</th>\n",
       "      <td>1</td>\n",
       "      <td>3DPolyline</td>\n",
       "      <td>2BBA</td>\n",
       "      <td>Trails</td>\n",
       "      <td>13</td>\n",
       "      <td>Continuous</td>\n",
       "      <td>-3</td>\n",
       "      <td>13</td>\n",
       "      <td>Continuous</td>\n",
       "      <td>0.00</td>\n",
       "      <td>25</td>\n",
       "      <td></td>\n",
       "      <td>5367848</td>\n",
       "      <td>Marshall Canyon Trail - Alternate parking entr...</td>\n",
       "      <td>Singletrack</td>\n",
       "      <td>0.502409</td>\n",
       "      <td>MTB Project</td>\n",
       "      <td>https://www.mtbproject.com/trail/5367848/marsh...</td>\n",
       "      <td>Hiking | Mountain Biking</td>\n",
       "      <td>0.502409</td>\n",
       "      <td>{\"hasZ\": true, \"paths\": [[[207864.02299999818,...</td>\n",
       "    </tr>\n",
       "    <tr>\n",
       "      <th>1</th>\n",
       "      <td>2</td>\n",
       "      <td>3DPolyline</td>\n",
       "      <td>92</td>\n",
       "      <td>Trails</td>\n",
       "      <td>13</td>\n",
       "      <td>Continuous</td>\n",
       "      <td>-3</td>\n",
       "      <td>13</td>\n",
       "      <td>Continuous</td>\n",
       "      <td>0.00</td>\n",
       "      <td>25</td>\n",
       "      <td></td>\n",
       "      <td>5220588</td>\n",
       "      <td>Middle Sam Merrill Trail</td>\n",
       "      <td>Singletrack</td>\n",
       "      <td>2.404354</td>\n",
       "      <td>MTB Project</td>\n",
       "      <td>https://www.mtbproject.com/trail/5220588/middl...</td>\n",
       "      <td>Hiking | Mountain Biking</td>\n",
       "      <td>2.404354</td>\n",
       "      <td>{\"hasZ\": true, \"paths\": [[[174085.69060000032,...</td>\n",
       "    </tr>\n",
       "    <tr>\n",
       "      <th>2</th>\n",
       "      <td>3</td>\n",
       "      <td>3DPolyline</td>\n",
       "      <td>31C3</td>\n",
       "      <td>Trails</td>\n",
       "      <td>13</td>\n",
       "      <td>Continuous</td>\n",
       "      <td>-3</td>\n",
       "      <td>13</td>\n",
       "      <td>Continuous</td>\n",
       "      <td>197.97</td>\n",
       "      <td>25</td>\n",
       "      <td></td>\n",
       "      <td></td>\n",
       "      <td>Steep, dirt access road</td>\n",
       "      <td>Doubletrack</td>\n",
       "      <td>0.265695</td>\n",
       "      <td>MTB Project</td>\n",
       "      <td>https://www.mtbproject.com/trail/5496635/steep...</td>\n",
       "      <td>Hiking | Mountain Biking</td>\n",
       "      <td>0.328990</td>\n",
       "      <td>{\"hasZ\": true, \"paths\": [[[192463.02490000054,...</td>\n",
       "    </tr>\n",
       "    <tr>\n",
       "      <th>3</th>\n",
       "      <td>4</td>\n",
       "      <td>3DPolyline</td>\n",
       "      <td>3801</td>\n",
       "      <td>Trails</td>\n",
       "      <td>13</td>\n",
       "      <td>Continuous</td>\n",
       "      <td>-3</td>\n",
       "      <td>13</td>\n",
       "      <td>Continuous</td>\n",
       "      <td>252.98</td>\n",
       "      <td>25</td>\n",
       "      <td></td>\n",
       "      <td></td>\n",
       "      <td>Skyline Spur - shaded dirt road</td>\n",
       "      <td>Doubletrack</td>\n",
       "      <td>0.383627</td>\n",
       "      <td>Hiking Project</td>\n",
       "      <td>https://www.hikingproject.com/trail/7005087/sk...</td>\n",
       "      <td>Hiking</td>\n",
       "      <td>0.383627</td>\n",
       "      <td>{\"hasZ\": true, \"paths\": [[[186841.5364000015, ...</td>\n",
       "    </tr>\n",
       "    <tr>\n",
       "      <th>4</th>\n",
       "      <td>5</td>\n",
       "      <td>3DPolyline</td>\n",
       "      <td>2B8C</td>\n",
       "      <td>Trails</td>\n",
       "      <td>13</td>\n",
       "      <td>Continuous</td>\n",
       "      <td>-3</td>\n",
       "      <td>13</td>\n",
       "      <td>Continuous</td>\n",
       "      <td>0.00</td>\n",
       "      <td>25</td>\n",
       "      <td></td>\n",
       "      <td>7021814</td>\n",
       "      <td>Eaton Canyon Trail</td>\n",
       "      <td>Singletrack</td>\n",
       "      <td>0.486425</td>\n",
       "      <td>Hiking Project</td>\n",
       "      <td>https://www.hikingproject.com/trail/7021814/ea...</td>\n",
       "      <td>Hiking</td>\n",
       "      <td>0.488879</td>\n",
       "      <td>{\"hasZ\": true, \"paths\": [[[174682.6387999989, ...</td>\n",
       "    </tr>\n",
       "  </tbody>\n",
       "</table>\n",
       "</div>"
      ],
      "text/plain": [
       "   OBJECTID  ...                                              SHAPE\n",
       "0         1  ...  {\"hasZ\": true, \"paths\": [[[207864.02299999818,...\n",
       "1         2  ...  {\"hasZ\": true, \"paths\": [[[174085.69060000032,...\n",
       "2         3  ...  {\"hasZ\": true, \"paths\": [[[192463.02490000054,...\n",
       "3         4  ...  {\"hasZ\": true, \"paths\": [[[186841.5364000015, ...\n",
       "4         5  ...  {\"hasZ\": true, \"paths\": [[[174682.6387999989, ...\n",
       "\n",
       "[5 rows x 21 columns]"
      ]
     },
     "execution_count": 68,
     "metadata": {},
     "output_type": "execute_result"
    }
   ],
   "source": [
    "# View the dataframe\n",
    "trails_df.head()"
   ]
  },
  {
   "cell_type": "code",
   "execution_count": 69,
   "metadata": {},
   "outputs": [
    {
     "data": {
      "text/plain": [
       "171"
      ]
     },
     "execution_count": 69,
     "metadata": {},
     "output_type": "execute_result"
    }
   ],
   "source": [
    "# Total number of trails - all uses\n",
    "trails_df.shape[0]"
   ]
  },
  {
   "cell_type": "code",
   "execution_count": 70,
   "metadata": {},
   "outputs": [
    {
     "data": {
      "text/plain": [
       "381.7430448206554"
      ]
     },
     "execution_count": 70,
     "metadata": {},
     "output_type": "execute_result"
    }
   ],
   "source": [
    "# Total miles of trails - all uses\n",
    "np.sum(trails_df[\"Length_Miles\"])"
   ]
  },
  {
   "cell_type": "code",
   "execution_count": 72,
   "metadata": {},
   "outputs": [
    {
     "data": {
      "text/plain": [
       "array(['Hiking | Mountain Biking', 'Hiking', 'Hiking | Equestrian'],\n",
       "      dtype=object)"
      ]
     },
     "execution_count": 72,
     "metadata": {},
     "output_type": "execute_result"
    }
   ],
   "source": [
    "# Get possible uses for trails\n",
    "trails_df.Trail_Use.unique()"
   ]
  },
  {
   "cell_type": "markdown",
   "metadata": {},
   "source": [
    "## Mountain Biking Trails"
   ]
  },
  {
   "cell_type": "code",
   "execution_count": 73,
   "metadata": {},
   "outputs": [],
   "source": [
    "# Subset to all trails that allow mountain biking\n",
    "mtb_mask = trails_df.Trail_Use.apply(lambda x: 'Mountain Biking' in x)\n",
    "mtb_trails = trails_df[mtb_mask]"
   ]
  },
  {
   "cell_type": "code",
   "execution_count": 74,
   "metadata": {},
   "outputs": [
    {
     "data": {
      "text/plain": [
       "183.07249477543388"
      ]
     },
     "execution_count": 74,
     "metadata": {},
     "output_type": "execute_result"
    }
   ],
   "source": [
    "# Total miles of trails - mtb (multi-use)\n",
    "np.sum(mtb_trails[\"Length_Miles\"])"
   ]
  },
  {
   "cell_type": "code",
   "execution_count": 75,
   "metadata": {},
   "outputs": [
    {
     "data": {
      "text/plain": [
       "95"
      ]
     },
     "execution_count": 75,
     "metadata": {},
     "output_type": "execute_result"
    }
   ],
   "source": [
    "# Total number of trails - mtb (multi-use)\n",
    "mtb_trails.shape[0]"
   ]
  },
  {
   "cell_type": "markdown",
   "metadata": {},
   "source": [
    "## Hiking Trails"
   ]
  },
  {
   "cell_type": "code",
   "execution_count": 76,
   "metadata": {},
   "outputs": [],
   "source": [
    "# Subset to all trails that allow hiking\n",
    "hike_mask = trails_df.Trail_Use.apply(lambda x: 'Hiking' in x)\n",
    "hiking_trails = trails_df[hike_mask]"
   ]
  },
  {
   "cell_type": "code",
   "execution_count": 77,
   "metadata": {},
   "outputs": [
    {
     "data": {
      "text/plain": [
       "381.7430448206554"
      ]
     },
     "execution_count": 77,
     "metadata": {},
     "output_type": "execute_result"
    }
   ],
   "source": [
    "# Total miles of trails - hiking (multi-use)\n",
    "np.sum(hiking_trails[\"Length_Miles\"])"
   ]
  },
  {
   "cell_type": "code",
   "execution_count": 78,
   "metadata": {},
   "outputs": [
    {
     "data": {
      "text/plain": [
       "171"
      ]
     },
     "execution_count": 78,
     "metadata": {},
     "output_type": "execute_result"
    }
   ],
   "source": [
    "# Total number of trails - hiking (multi-use)\n",
    "hiking_trails.shape[0]"
   ]
  },
  {
   "cell_type": "code",
   "execution_count": 79,
   "metadata": {},
   "outputs": [],
   "source": [
    "# Subset to trails that are only hiking, no other activities\n",
    "hike_only_mask = hiking_trails.Trail_Use.apply(lambda x: x == 'Hiking')\n",
    "hike_only = hiking_trails[hike_only_mask]"
   ]
  },
  {
   "cell_type": "code",
   "execution_count": 80,
   "metadata": {},
   "outputs": [
    {
     "data": {
      "text/plain": [
       "193.794954128001"
      ]
     },
     "execution_count": 80,
     "metadata": {},
     "output_type": "execute_result"
    }
   ],
   "source": [
    "# Total miles of trails - hiking (hiking only)\n",
    "np.sum(hike_only[\"Length_Miles\"])"
   ]
  },
  {
   "cell_type": "code",
   "execution_count": 81,
   "metadata": {},
   "outputs": [
    {
     "data": {
      "text/plain": [
       "72"
      ]
     },
     "execution_count": 81,
     "metadata": {},
     "output_type": "execute_result"
    }
   ],
   "source": [
    "# Total number of trails - hiking (hiking only)\n",
    "hike_only.shape[0]"
   ]
  },
  {
   "cell_type": "markdown",
   "metadata": {},
   "source": [
    "## Equestrian Trails"
   ]
  },
  {
   "cell_type": "code",
   "execution_count": 82,
   "metadata": {},
   "outputs": [],
   "source": [
    "# Subset to all trails that allow equestrian use\n",
    "eq_mask = trails_df.Trail_Use.apply(lambda x: 'Equestrian' in x)\n",
    "eq_trails = trails_df[eq_mask]"
   ]
  },
  {
   "cell_type": "code",
   "execution_count": 83,
   "metadata": {},
   "outputs": [
    {
     "data": {
      "text/plain": [
       "4.875595917220547"
      ]
     },
     "execution_count": 83,
     "metadata": {},
     "output_type": "execute_result"
    }
   ],
   "source": [
    "# Total miles of trails - equestrian (multi-use)\n",
    "np.sum(eq_trails[\"Length_Miles\"])"
   ]
  },
  {
   "cell_type": "code",
   "execution_count": 84,
   "metadata": {},
   "outputs": [
    {
     "data": {
      "text/plain": [
       "4"
      ]
     },
     "execution_count": 84,
     "metadata": {},
     "output_type": "execute_result"
    }
   ],
   "source": [
    "# Total number of trails - equestrian (multi-use)\n",
    "eq_trails.shape[0]"
   ]
  },
  {
   "cell_type": "markdown",
   "metadata": {},
   "source": [
    "# Paddling"
   ]
  },
  {
   "cell_type": "markdown",
   "metadata": {},
   "source": [
    "## River Access Sites"
   ]
  },
  {
   "cell_type": "code",
   "execution_count": 33,
   "metadata": {},
   "outputs": [],
   "source": [
    "# Create pandas dataframe from feature class\n",
    "river_access_df = pd.DataFrame.spatial.from_featureclass(\"sg_river_access\")"
   ]
  },
  {
   "cell_type": "code",
   "execution_count": 34,
   "metadata": {},
   "outputs": [
    {
     "data": {
      "text/plain": [
       "7"
      ]
     },
     "execution_count": 34,
     "metadata": {},
     "output_type": "execute_result"
    }
   ],
   "source": [
    "# Number of access sites\n",
    "river_access_df.shape[0]"
   ]
  },
  {
   "cell_type": "markdown",
   "metadata": {},
   "source": [
    "## Waterways"
   ]
  },
  {
   "cell_type": "code",
   "execution_count": 85,
   "metadata": {},
   "outputs": [],
   "source": [
    "# Create pandas dataframe from feature class\n",
    "paddle_df = pd.DataFrame.spatial.from_featureclass(\"sg_whitewater\")"
   ]
  },
  {
   "cell_type": "code",
   "execution_count": 86,
   "metadata": {},
   "outputs": [
    {
     "data": {
      "text/plain": [
       "10.900379796297953"
      ]
     },
     "execution_count": 86,
     "metadata": {},
     "output_type": "execute_result"
    }
   ],
   "source": [
    "# Total number of miles of whitewater paddling\n",
    "np.sum(paddle_df[\"Length_Miles\"])"
   ]
  },
  {
   "cell_type": "code",
   "execution_count": 37,
   "metadata": {},
   "outputs": [
    {
     "data": {
      "text/plain": [
       "II-III+       2\n",
       "IV            1\n",
       "III-IV+(V)    1\n",
       "I-II          1\n",
       "Name: difficulty, dtype: int64"
      ]
     },
     "execution_count": 37,
     "metadata": {},
     "output_type": "execute_result"
    }
   ],
   "source": [
    "# Available difficulties\n",
    "paddle_df[\"difficulty\"].value_counts()"
   ]
  },
  {
   "cell_type": "markdown",
   "metadata": {},
   "source": [
    "# Rock Climbing"
   ]
  },
  {
   "cell_type": "code",
   "execution_count": 38,
   "metadata": {},
   "outputs": [],
   "source": [
    "# Create pandas dataframe from feature class\n",
    "climbing_df = pd.DataFrame.spatial.from_featureclass(\"sg_climbing\")"
   ]
  },
  {
   "cell_type": "code",
   "execution_count": 39,
   "metadata": {},
   "outputs": [
    {
     "data": {
      "text/plain": [
       "172"
      ]
     },
     "execution_count": 39,
     "metadata": {},
     "output_type": "execute_result"
    }
   ],
   "source": [
    "# Total number of climbing sites\n",
    "len(climbing_df[\"Climbing_Site\"].unique())"
   ]
  },
  {
   "cell_type": "code",
   "execution_count": 40,
   "metadata": {},
   "outputs": [
    {
     "data": {
      "text/plain": [
       "25"
      ]
     },
     "execution_count": 40,
     "metadata": {},
     "output_type": "execute_result"
    }
   ],
   "source": [
    "# Number of different areas\n",
    "len(climbing_df[\"Parent_Site\"].unique())"
   ]
  },
  {
   "cell_type": "markdown",
   "metadata": {},
   "source": [
    "# Picnic Areas"
   ]
  },
  {
   "cell_type": "code",
   "execution_count": 181,
   "metadata": {},
   "outputs": [],
   "source": [
    "# Create pandas dataframe from feature class\n",
    "picnic_df = pd.DataFrame.spatial.from_featureclass(\"sg_picnic\")"
   ]
  },
  {
   "cell_type": "code",
   "execution_count": 182,
   "metadata": {},
   "outputs": [
    {
     "data": {
      "text/plain": [
       "25"
      ]
     },
     "execution_count": 182,
     "metadata": {},
     "output_type": "execute_result"
    }
   ],
   "source": [
    "# Total number of picnic sites\n",
    "len(picnic_df[\"RECAREANAM\"].unique())"
   ]
  },
  {
   "cell_type": "markdown",
   "metadata": {
    "heading_collapsed": true
   },
   "source": [
    "# Camping"
   ]
  },
  {
   "cell_type": "code",
   "execution_count": 183,
   "metadata": {
    "hidden": true
   },
   "outputs": [],
   "source": [
    "# Create pandas dataframe from feature class\n",
    "camping_df = pd.DataFrame.spatial.from_featureclass(\"sg_camping\")"
   ]
  },
  {
   "cell_type": "code",
   "execution_count": 185,
   "metadata": {
    "hidden": true
   },
   "outputs": [
    {
     "data": {
      "text/plain": [
       "25"
      ]
     },
     "execution_count": 185,
     "metadata": {},
     "output_type": "execute_result"
    }
   ],
   "source": [
    "# Total number of camping sites\n",
    "len(camping_df[\"RECAREANAM\"].unique())"
   ]
  },
  {
   "cell_type": "markdown",
   "metadata": {},
   "source": [
    "# Impact of Expansion"
   ]
  },
  {
   "cell_type": "code",
   "execution_count": null,
   "metadata": {},
   "outputs": [],
   "source": [
    "# Goal: see which rec sites are in current monument and which are in expansion - calculate #/% increase with expansion"
   ]
  },
  {
   "cell_type": "markdown",
   "metadata": {},
   "source": [
    "## Current Rec"
   ]
  },
  {
   "cell_type": "code",
   "execution_count": 41,
   "metadata": {},
   "outputs": [],
   "source": [
    "# Select AOI by attribute: Status = Designated\n",
    "# https://pro.arcgis.com/en/pro-app/latest/tool-reference/data-management/select-layer-by-attribute.htm\n",
    "in_layer = r\"Prop_SG_Monument_Expansion\\Proposed_San_Gabriel_National_Monument_Expansion\"\n",
    "selection_type = \"NEW_SELECTION\"\n",
    "where_clause = \"Status = 'Designated'\"\n",
    "\n",
    "aoi_designated = arcpy.management.SelectLayerByAttribute(in_layer_or_view = in_layer, \n",
    "                                        selection_type = selection_type, \n",
    "                                        where_clause = where_clause)"
   ]
  },
  {
   "cell_type": "code",
   "execution_count": 42,
   "metadata": {
    "scrolled": true
   },
   "outputs": [
    {
     "data": {
      "text/html": [
       "<div class='gpresult'><h2>Messages</h2><div id='messages' data-messages='[\"Start Time: Wednesday, July 19, 2023 1:36:21 PM\",\"Assembling Features...\",\"Reading Features...\",\"Cracking Features...\",\"Succeeded at Wednesday, July 19, 2023 1:36:22 PM (Elapsed Time: 1.40 seconds)\"]' data-show='true'><div id = 'default' /></div></div>"
      ],
      "text/plain": [
       "<Result 'C:\\\\Users\\\\kathr\\\\Documents\\\\outdoor-alliance\\\\san-gabriel\\\\san-gabriel-analysis\\\\sg_output.gdb\\\\designated_trails'>"
      ]
     },
     "execution_count": 42,
     "metadata": {},
     "output_type": "execute_result"
    }
   ],
   "source": [
    "# Trails\n",
    "arcpy.analysis.Clip(\"sg_trails\", aoi_designated, \"designated_trails\")"
   ]
  },
  {
   "cell_type": "code",
   "execution_count": 43,
   "metadata": {},
   "outputs": [
    {
     "data": {
      "text/html": [
       "<div class='gpresult'><h2>Messages</h2><div id='messages' data-messages='[\"Start Time: Wednesday, July 19, 2023 1:36:25 PM\",\"Succeeded at Wednesday, July 19, 2023 1:36:27 PM (Elapsed Time: 1.60 seconds)\"]' data-show='true'><div id = 'default' /></div></div>"
      ],
      "text/plain": [
       "<Result 'designated_trails'>"
      ]
     },
     "execution_count": 43,
     "metadata": {},
     "output_type": "execute_result"
    }
   ],
   "source": [
    "# Recalculate length field after clipping\n",
    "arcpy.management.CalculateGeometryAttributes(in_features = \"designated_trails\",\n",
    "                                             geometry_property = [[\"Length_Miles\", \"LENGTH\"]],\n",
    "                                             length_unit = \"MILES_INT\")"
   ]
  },
  {
   "cell_type": "code",
   "execution_count": 44,
   "metadata": {},
   "outputs": [
    {
     "data": {
      "text/html": [
       "<div class='gpresult'><h2>Messages</h2><div id='messages' data-messages='[\"Start Time: Wednesday, July 19, 2023 1:36:29 PM\",\"Analyzing input features...\",\"Dissolving clip features...\",\"Clipping input features...\",\"Succeeded at Wednesday, July 19, 2023 1:36:31 PM (Elapsed Time: 1.57 seconds)\"]' data-show='true'><div id = 'default' /></div></div>"
      ],
      "text/plain": [
       "<Result 'C:\\\\Users\\\\kathr\\\\Documents\\\\outdoor-alliance\\\\san-gabriel\\\\san-gabriel-analysis\\\\sg_output.gdb\\\\designated_whitewater'>"
      ]
     },
     "execution_count": 44,
     "metadata": {},
     "output_type": "execute_result"
    }
   ],
   "source": [
    "# Paddling\n",
    "arcpy.analysis.Clip(\"sg_whitewater\", aoi_designated, \"designated_whitewater\")"
   ]
  },
  {
   "cell_type": "code",
   "execution_count": 45,
   "metadata": {},
   "outputs": [
    {
     "data": {
      "text/html": [
       "<div class='gpresult'><h2>Messages</h2><div id='messages' data-messages='[\"Start Time: Wednesday, July 19, 2023 1:36:32 PM\",\"Succeeded at Wednesday, July 19, 2023 1:36:33 PM (Elapsed Time: 1.67 seconds)\"]' data-show='true'><div id = 'default' /></div></div>"
      ],
      "text/plain": [
       "<Result 'designated_whitewater'>"
      ]
     },
     "execution_count": 45,
     "metadata": {},
     "output_type": "execute_result"
    }
   ],
   "source": [
    "# Recalculate length field after clipping\n",
    "arcpy.management.CalculateGeometryAttributes(in_features = \"designated_whitewater\",\n",
    "                                             geometry_property = [[\"Length_Miles\", \"LENGTH\"]],\n",
    "                                             length_unit = \"MILES_INT\")"
   ]
  },
  {
   "cell_type": "code",
   "execution_count": 46,
   "metadata": {},
   "outputs": [
    {
     "data": {
      "text/html": [
       "<div class='gpresult'><h2>Messages</h2><div id='messages' data-messages='[\"Start Time: Wednesday, July 19, 2023 1:36:34 PM\",\"Succeeded at Wednesday, July 19, 2023 1:36:36 PM (Elapsed Time: 1.31 seconds)\"]' data-show='true'><div id = 'default' /></div></div>"
      ],
      "text/plain": [
       "<Result 'C:\\\\Users\\\\kathr\\\\Documents\\\\outdoor-alliance\\\\san-gabriel\\\\san-gabriel-analysis\\\\sg_output.gdb\\\\designated_river'>"
      ]
     },
     "execution_count": 46,
     "metadata": {},
     "output_type": "execute_result"
    }
   ],
   "source": [
    "in_layer = \"sg_river_access\"\n",
    "overlap_type = \"INTERSECT\"\n",
    "selection_type = \"SUBSET_SELECTION\"\n",
    "selecting_features = aoi_designated\n",
    "\n",
    "designated_river = arcpy.management.SelectLayerByLocation(in_layer = in_layer, \n",
    "                                                       overlap_type = overlap_type, \n",
    "                                                       select_features = selecting_features,\n",
    "                                                       selection_type = selection_type)\n",
    "arcpy.management.CopyFeatures(designated_river, \"designated_river\")"
   ]
  },
  {
   "cell_type": "code",
   "execution_count": 47,
   "metadata": {},
   "outputs": [
    {
     "data": {
      "text/html": [
       "<div class='gpresult'><h2>Messages</h2><div id='messages' data-messages='[\"Start Time: Wednesday, July 19, 2023 1:36:38 PM\",\"Succeeded at Wednesday, July 19, 2023 1:36:39 PM (Elapsed Time: 1.38 seconds)\"]' data-show='true'><div id = 'default' /></div></div>"
      ],
      "text/plain": [
       "<Result 'C:\\\\Users\\\\kathr\\\\Documents\\\\outdoor-alliance\\\\san-gabriel\\\\san-gabriel-analysis\\\\sg_output.gdb\\\\designated_climbing'>"
      ]
     },
     "execution_count": 47,
     "metadata": {},
     "output_type": "execute_result"
    }
   ],
   "source": [
    "# Climbing\n",
    "in_layer = \"sg_climbing\"\n",
    "overlap_type = \"INTERSECT\"\n",
    "selection_type = \"SUBSET_SELECTION\"\n",
    "selecting_features = aoi_designated\n",
    "\n",
    "designated_climbing = arcpy.management.SelectLayerByLocation(in_layer = in_layer, \n",
    "                                                       overlap_type = overlap_type, \n",
    "                                                       select_features = selecting_features,\n",
    "                                                       selection_type = selection_type)\n",
    "arcpy.management.CopyFeatures(designated_climbing, \"designated_climbing\")"
   ]
  },
  {
   "cell_type": "code",
   "execution_count": 48,
   "metadata": {},
   "outputs": [
    {
     "data": {
      "text/html": [
       "<div class='gpresult'><h2>Messages</h2><div id='messages' data-messages='[\"Start Time: Wednesday, July 19, 2023 1:36:43 PM\",\"Succeeded at Wednesday, July 19, 2023 1:36:44 PM (Elapsed Time: 1.30 seconds)\"]' data-show='true'><div id = 'default' /></div></div>"
      ],
      "text/plain": [
       "<Result 'C:\\\\Users\\\\kathr\\\\Documents\\\\outdoor-alliance\\\\san-gabriel\\\\san-gabriel-analysis\\\\sg_output.gdb\\\\designated_picnic'>"
      ]
     },
     "execution_count": 48,
     "metadata": {},
     "output_type": "execute_result"
    }
   ],
   "source": [
    "# Picnicking\n",
    "in_layer = \"sg_picnic\"\n",
    "overlap_type = \"INTERSECT\"\n",
    "selection_type = \"SUBSET_SELECTION\"\n",
    "selecting_features = aoi_designated\n",
    "\n",
    "designated_picnic = arcpy.management.SelectLayerByLocation(in_layer = in_layer, \n",
    "                                                       overlap_type = overlap_type, \n",
    "                                                       select_features = selecting_features,\n",
    "                                                       selection_type = selection_type)\n",
    "arcpy.management.CopyFeatures(designated_picnic, \"designated_picnic\")"
   ]
  },
  {
   "cell_type": "code",
   "execution_count": 49,
   "metadata": {},
   "outputs": [
    {
     "data": {
      "text/html": [
       "<div class='gpresult'><h2>Messages</h2><div id='messages' data-messages='[\"Start Time: Wednesday, July 19, 2023 1:36:45 PM\",\"Succeeded at Wednesday, July 19, 2023 1:36:46 PM (Elapsed Time: 1.31 seconds)\"]' data-show='true'><div id = 'default' /></div></div>"
      ],
      "text/plain": [
       "<Result 'C:\\\\Users\\\\kathr\\\\Documents\\\\outdoor-alliance\\\\san-gabriel\\\\san-gabriel-analysis\\\\sg_output.gdb\\\\designated_camping'>"
      ]
     },
     "execution_count": 49,
     "metadata": {},
     "output_type": "execute_result"
    }
   ],
   "source": [
    "# Camping\n",
    "# https://pro.arcgis.com/en/pro-app/latest/tool-reference/data-management/select-layer-by-location.htm\n",
    "in_layer = \"sg_camping\"\n",
    "overlap_type = \"INTERSECT\"\n",
    "selection_type = \"SUBSET_SELECTION\"\n",
    "selecting_features = aoi_designated\n",
    "\n",
    "designated_camping = arcpy.management.SelectLayerByLocation(in_layer = in_layer, \n",
    "                                                       overlap_type = overlap_type, \n",
    "                                                       select_features = selecting_features,\n",
    "                                                       selection_type = selection_type)\n",
    "arcpy.management.CopyFeatures(designated_camping, \"designated_camping\")"
   ]
  },
  {
   "cell_type": "markdown",
   "metadata": {},
   "source": [
    "## Expansion Rec"
   ]
  },
  {
   "cell_type": "code",
   "execution_count": 50,
   "metadata": {},
   "outputs": [],
   "source": [
    "# Select AOI by attribute: Status = Designated\n",
    "# https://pro.arcgis.com/en/pro-app/latest/tool-reference/data-management/select-layer-by-attribute.htm\n",
    "in_layer = r\"Prop_SG_Monument_Expansion\\Proposed_San_Gabriel_National_Monument_Expansion\"\n",
    "selection_type = \"NEW_SELECTION\"\n",
    "where_clause = \"Status = 'Proposed'\"\n",
    "\n",
    "aoi_proposed = arcpy.management.SelectLayerByAttribute(in_layer_or_view = in_layer, \n",
    "                                        selection_type = selection_type, \n",
    "                                        where_clause = where_clause)"
   ]
  },
  {
   "cell_type": "code",
   "execution_count": 52,
   "metadata": {},
   "outputs": [
    {
     "data": {
      "text/html": [
       "<div class='gpresult'><h2>Messages</h2><div id='messages' data-messages='[\"Start Time: Wednesday, July 19, 2023 1:37:16 PM\",\"Assembling Features...\",\"Reading Features...\",\"Cracking Features...\",\"Succeeded at Wednesday, July 19, 2023 1:37:17 PM (Elapsed Time: 1.55 seconds)\"]' data-show='true'><div id = 'default' /></div></div>"
      ],
      "text/plain": [
       "<Result 'C:\\\\Users\\\\kathr\\\\Documents\\\\outdoor-alliance\\\\san-gabriel\\\\san-gabriel-analysis\\\\sg_output.gdb\\\\proposed_trails'>"
      ]
     },
     "execution_count": 52,
     "metadata": {},
     "output_type": "execute_result"
    }
   ],
   "source": [
    "# Trails\n",
    "arcpy.analysis.Clip(\"sg_trails\", aoi_proposed, \"proposed_trails\")"
   ]
  },
  {
   "cell_type": "code",
   "execution_count": 53,
   "metadata": {},
   "outputs": [
    {
     "data": {
      "text/html": [
       "<div class='gpresult'><h2>Messages</h2><div id='messages' data-messages='[\"Start Time: Wednesday, July 19, 2023 1:37:19 PM\",\"Succeeded at Wednesday, July 19, 2023 1:37:21 PM (Elapsed Time: 2.05 seconds)\"]' data-show='true'><div id = 'default' /></div></div>"
      ],
      "text/plain": [
       "<Result 'proposed_trails'>"
      ]
     },
     "execution_count": 53,
     "metadata": {},
     "output_type": "execute_result"
    }
   ],
   "source": [
    "# Recalculate length field after clipping\n",
    "arcpy.management.CalculateGeometryAttributes(in_features = \"proposed_trails\",\n",
    "                                             geometry_property = [[\"Length_Miles\", \"LENGTH\"]],\n",
    "                                             length_unit = \"MILES_INT\")"
   ]
  },
  {
   "cell_type": "code",
   "execution_count": 54,
   "metadata": {},
   "outputs": [
    {
     "data": {
      "text/html": [
       "<div class='gpresult'><h2>Messages</h2><div id='messages' data-messages='[\"Start Time: Wednesday, July 19, 2023 1:37:23 PM\",\"Analyzing input features...\",\"Dissolving clip features...\",\"Clipping input features...\",\"Succeeded at Wednesday, July 19, 2023 1:37:24 PM (Elapsed Time: 1.23 seconds)\"]' data-show='true'><div id = 'default' /></div></div>"
      ],
      "text/plain": [
       "<Result 'C:\\\\Users\\\\kathr\\\\Documents\\\\outdoor-alliance\\\\san-gabriel\\\\san-gabriel-analysis\\\\sg_output.gdb\\\\proposed_whitewater'>"
      ]
     },
     "execution_count": 54,
     "metadata": {},
     "output_type": "execute_result"
    }
   ],
   "source": [
    "# Paddling\n",
    "arcpy.analysis.Clip(\"sg_whitewater\", aoi_proposed, \"proposed_whitewater\")"
   ]
  },
  {
   "cell_type": "code",
   "execution_count": 55,
   "metadata": {},
   "outputs": [
    {
     "data": {
      "text/html": [
       "<div class='gpresult'><h2>Messages</h2><div id='messages' data-messages='[\"Start Time: Wednesday, July 19, 2023 1:37:27 PM\",\"Succeeded at Wednesday, July 19, 2023 1:37:29 PM (Elapsed Time: 2.29 seconds)\"]' data-show='true'><div id = 'default' /></div></div>"
      ],
      "text/plain": [
       "<Result 'proposed_whitewater'>"
      ]
     },
     "execution_count": 55,
     "metadata": {},
     "output_type": "execute_result"
    }
   ],
   "source": [
    "# Recalculate length field after clipping\n",
    "arcpy.management.CalculateGeometryAttributes(in_features = \"proposed_whitewater\",\n",
    "                                             geometry_property = [[\"Length_Miles\", \"LENGTH\"]],\n",
    "                                             length_unit = \"MILES_INT\")"
   ]
  },
  {
   "cell_type": "code",
   "execution_count": 56,
   "metadata": {},
   "outputs": [
    {
     "data": {
      "text/html": [
       "<div class='gpresult'><h2>Messages</h2><div id='messages' data-messages='[\"Start Time: Wednesday, July 19, 2023 1:37:30 PM\",\"Succeeded at Wednesday, July 19, 2023 1:37:31 PM (Elapsed Time: 1.42 seconds)\"]' data-show='true'><div id = 'default' /></div></div>"
      ],
      "text/plain": [
       "<Result 'C:\\\\Users\\\\kathr\\\\Documents\\\\outdoor-alliance\\\\san-gabriel\\\\san-gabriel-analysis\\\\sg_output.gdb\\\\proposed_river'>"
      ]
     },
     "execution_count": 56,
     "metadata": {},
     "output_type": "execute_result"
    }
   ],
   "source": [
    "in_layer = \"sg_river_access\"\n",
    "overlap_type = \"INTERSECT\"\n",
    "selection_type = \"SUBSET_SELECTION\"\n",
    "selecting_features = aoi_proposed\n",
    "\n",
    "proposed_river = arcpy.management.SelectLayerByLocation(in_layer = in_layer, \n",
    "                                                       overlap_type = overlap_type, \n",
    "                                                       select_features = selecting_features,\n",
    "                                                       selection_type = selection_type)\n",
    "arcpy.management.CopyFeatures(proposed_river, \"proposed_river\")"
   ]
  },
  {
   "cell_type": "code",
   "execution_count": 57,
   "metadata": {},
   "outputs": [
    {
     "data": {
      "text/html": [
       "<div class='gpresult'><h2>Messages</h2><div id='messages' data-messages='[\"Start Time: Wednesday, July 19, 2023 1:37:32 PM\",\"WARNING 000117: Warning empty output generated.\",\"Succeeded at Wednesday, July 19, 2023 1:37:33 PM (Elapsed Time: 1.34 seconds)\"]' data-show='true'><div id = 'default' /></div></div>"
      ],
      "text/plain": [
       "<Result 'C:\\\\Users\\\\kathr\\\\Documents\\\\outdoor-alliance\\\\san-gabriel\\\\san-gabriel-analysis\\\\sg_output.gdb\\\\proposed_climbing'>"
      ]
     },
     "execution_count": 57,
     "metadata": {},
     "output_type": "execute_result"
    }
   ],
   "source": [
    "# Climbing\n",
    "in_layer = \"sg_climbing\"\n",
    "overlap_type = \"INTERSECT\"\n",
    "selection_type = \"SUBSET_SELECTION\"\n",
    "selecting_features = aoi_proposed\n",
    "\n",
    "proposed_climbing = arcpy.management.SelectLayerByLocation(in_layer = in_layer, \n",
    "                                                       overlap_type = overlap_type, \n",
    "                                                       select_features = selecting_features,\n",
    "                                                       selection_type = selection_type)\n",
    "arcpy.management.CopyFeatures(proposed_climbing, \"proposed_climbing\")"
   ]
  },
  {
   "cell_type": "code",
   "execution_count": 58,
   "metadata": {},
   "outputs": [
    {
     "data": {
      "text/html": [
       "<div class='gpresult'><h2>Messages</h2><div id='messages' data-messages='[\"Start Time: Wednesday, July 19, 2023 1:37:34 PM\",\"Succeeded at Wednesday, July 19, 2023 1:37:36 PM (Elapsed Time: 1.38 seconds)\"]' data-show='true'><div id = 'default' /></div></div>"
      ],
      "text/plain": [
       "<Result 'C:\\\\Users\\\\kathr\\\\Documents\\\\outdoor-alliance\\\\san-gabriel\\\\san-gabriel-analysis\\\\sg_output.gdb\\\\proposed_picnic'>"
      ]
     },
     "execution_count": 58,
     "metadata": {},
     "output_type": "execute_result"
    }
   ],
   "source": [
    "# Picnicking\n",
    "in_layer = \"sg_picnic\"\n",
    "overlap_type = \"INTERSECT\"\n",
    "selection_type = \"SUBSET_SELECTION\"\n",
    "selecting_features = aoi_proposed\n",
    "\n",
    "proposed_picnic = arcpy.management.SelectLayerByLocation(in_layer = in_layer, \n",
    "                                                       overlap_type = overlap_type, \n",
    "                                                       select_features = selecting_features,\n",
    "                                                       selection_type = selection_type)\n",
    "arcpy.management.CopyFeatures(proposed_picnic, \"proposed_picnic\")"
   ]
  },
  {
   "cell_type": "code",
   "execution_count": 59,
   "metadata": {},
   "outputs": [
    {
     "data": {
      "text/html": [
       "<div class='gpresult'><h2>Messages</h2><div id='messages' data-messages='[\"Start Time: Wednesday, July 19, 2023 1:37:36 PM\",\"Succeeded at Wednesday, July 19, 2023 1:37:38 PM (Elapsed Time: 1.42 seconds)\"]' data-show='true'><div id = 'default' /></div></div>"
      ],
      "text/plain": [
       "<Result 'C:\\\\Users\\\\kathr\\\\Documents\\\\outdoor-alliance\\\\san-gabriel\\\\san-gabriel-analysis\\\\sg_output.gdb\\\\proposed_camping'>"
      ]
     },
     "execution_count": 59,
     "metadata": {},
     "output_type": "execute_result"
    }
   ],
   "source": [
    "# Camping\n",
    "# https://pro.arcgis.com/en/pro-app/latest/tool-reference/data-management/select-layer-by-location.htm\n",
    "in_layer = \"sg_camping\"\n",
    "overlap_type = \"INTERSECT\"\n",
    "selection_type = \"SUBSET_SELECTION\"\n",
    "selecting_features = aoi_proposed\n",
    "\n",
    "proposed_camping = arcpy.management.SelectLayerByLocation(in_layer = in_layer, \n",
    "                                                       overlap_type = overlap_type, \n",
    "                                                       select_features = selecting_features,\n",
    "                                                       selection_type = selection_type)\n",
    "arcpy.management.CopyFeatures(proposed_camping, \"proposed_camping\")"
   ]
  },
  {
   "cell_type": "markdown",
   "metadata": {},
   "source": [
    "## Comparison"
   ]
  },
  {
   "cell_type": "code",
   "execution_count": 60,
   "metadata": {},
   "outputs": [],
   "source": [
    "# Define function to do comparison\n",
    "def compare(designated, proposed):\n",
    "    return (proposed / designated) * 100"
   ]
  },
  {
   "cell_type": "markdown",
   "metadata": {},
   "source": [
    "### Trails"
   ]
  },
  {
   "cell_type": "code",
   "execution_count": 61,
   "metadata": {},
   "outputs": [],
   "source": [
    "# Trails\n",
    "designated_trails = pd.DataFrame.spatial.from_featureclass(\"designated_trails\")\n",
    "proposed_trails = pd.DataFrame.spatial.from_featureclass(\"proposed_trails\")"
   ]
  },
  {
   "cell_type": "code",
   "execution_count": 62,
   "metadata": {},
   "outputs": [
    {
     "name": "stdout",
     "output_type": "stream",
     "text": [
      "62\n",
      "122\n"
     ]
    }
   ],
   "source": [
    "# Total number of trails\n",
    "print(designated_trails.shape[0])\n",
    "print(proposed_trails.shape[0])"
   ]
  },
  {
   "cell_type": "code",
   "execution_count": 63,
   "metadata": {},
   "outputs": [
    {
     "name": "stdout",
     "output_type": "stream",
     "text": [
      "217.94571085837902\n",
      "163.90815454309438\n"
     ]
    }
   ],
   "source": [
    "# Total miles of trails\n",
    "print(np.sum(designated_trails[\"Length_Miles\"]))\n",
    "print(np.sum(proposed_trails[\"Length_Miles\"]))"
   ]
  },
  {
   "cell_type": "code",
   "execution_count": 64,
   "metadata": {},
   "outputs": [
    {
     "data": {
      "text/plain": [
       "75.20595560130192"
      ]
     },
     "execution_count": 64,
     "metadata": {},
     "output_type": "execute_result"
    }
   ],
   "source": [
    "# % increase\n",
    "compare(np.sum(designated_trails[\"Length_Miles\"]), np.sum(proposed_trails[\"Length_Miles\"]))"
   ]
  },
  {
   "cell_type": "code",
   "execution_count": 65,
   "metadata": {},
   "outputs": [
    {
     "name": "stdout",
     "output_type": "stream",
     "text": [
      "148.70426192513256\n",
      "36\n",
      "45.1791247284311\n",
      "41\n"
     ]
    }
   ],
   "source": [
    "# Hiking only designated\n",
    "hike_only_mask = designated_trails.Trail_Use.apply(lambda x: x == 'Hiking')\n",
    "hike_only_d = designated_trails[hike_only_mask]\n",
    "print(np.sum(hike_only_d[\"Length_Miles\"]))\n",
    "print(hike_only_d.shape[0])\n",
    "\n",
    "# Hiking only proposed\n",
    "hike_only_mask = proposed_trails.Trail_Use.apply(lambda x: x == 'Hiking')\n",
    "hike_only_p = proposed_trails[hike_only_mask]\n",
    "print(np.sum(hike_only_p[\"Length_Miles\"]))\n",
    "print(hike_only_p.shape[0])"
   ]
  },
  {
   "cell_type": "code",
   "execution_count": 27,
   "metadata": {},
   "outputs": [
    {
     "data": {
      "text/plain": [
       "30.38186272776477"
      ]
     },
     "execution_count": 27,
     "metadata": {},
     "output_type": "execute_result"
    }
   ],
   "source": [
    "# % increase\n",
    "compare(np.sum(hike_only_d[\"Length_Miles\"]), np.sum(hike_only_p[\"Length_Miles\"]))"
   ]
  },
  {
   "cell_type": "code",
   "execution_count": 28,
   "metadata": {},
   "outputs": [
    {
     "name": "stdout",
     "output_type": "stream",
     "text": [
      "64.36585296647277\n",
      "22\n",
      "118.72902997410607\n",
      "81\n"
     ]
    }
   ],
   "source": [
    "# MTB designated\n",
    "mtb_mask = designated_trails.Trail_Use.apply(lambda x: 'Mountain Biking' in x)\n",
    "mtb_trails_d = designated_trails[mtb_mask]\n",
    "print(np.sum(mtb_trails_d[\"Length_Miles\"]))\n",
    "print(mtb_trails_d.shape[0])\n",
    "\n",
    "# MTB proposed\n",
    "mtb_mask = proposed_trails.Trail_Use.apply(lambda x: 'Mountain Biking' in x)\n",
    "mtb_trails_p = proposed_trails[mtb_mask]\n",
    "print(np.sum(mtb_trails_p[\"Length_Miles\"]))\n",
    "print(mtb_trails_p.shape[0])"
   ]
  },
  {
   "cell_type": "code",
   "execution_count": 29,
   "metadata": {},
   "outputs": [
    {
     "data": {
      "text/plain": [
       "184.45965446298098"
      ]
     },
     "execution_count": 29,
     "metadata": {},
     "output_type": "execute_result"
    }
   ],
   "source": [
    "# % increase\n",
    "compare(np.sum(mtb_trails_d[\"Length_Miles\"]), np.sum(mtb_trails_p[\"Length_Miles\"]))"
   ]
  },
  {
   "cell_type": "code",
   "execution_count": 30,
   "metadata": {},
   "outputs": [
    {
     "name": "stdout",
     "output_type": "stream",
     "text": [
      "4.875595917220547\n",
      "4\n",
      "0.0\n",
      "0\n"
     ]
    }
   ],
   "source": [
    "# Equestrian proposed\n",
    "eq_mask = designated_trails.Trail_Use.apply(lambda x: 'Equestrian' in x)\n",
    "eq_trails_d = designated_trails[eq_mask]\n",
    "print(np.sum(eq_trails_d[\"Length_Miles\"]))\n",
    "print(eq_trails_d.shape[0])\n",
    "\n",
    "# Equestrian proposed\n",
    "eq_mask = proposed_trails.Trail_Use.apply(lambda x: 'Equestrian' in x)\n",
    "eq_trails_p = proposed_trails[eq_mask]\n",
    "print(np.sum(eq_trails_p[\"Length_Miles\"]))\n",
    "print(eq_trails_p.shape[0])"
   ]
  },
  {
   "cell_type": "code",
   "execution_count": 32,
   "metadata": {},
   "outputs": [
    {
     "data": {
      "text/plain": [
       "0.0"
      ]
     },
     "execution_count": 32,
     "metadata": {},
     "output_type": "execute_result"
    }
   ],
   "source": [
    "# % increase\n",
    "compare(np.sum(eq_trails_d[\"Length_Miles\"]), np.sum(eq_trails_p[\"Length_Miles\"]))"
   ]
  },
  {
   "cell_type": "markdown",
   "metadata": {},
   "source": [
    "### Waterways"
   ]
  },
  {
   "cell_type": "code",
   "execution_count": 14,
   "metadata": {},
   "outputs": [],
   "source": [
    "# Whitewater paddling\n",
    "designated_whitewater = pd.DataFrame.spatial.from_featureclass(\"designated_whitewater\")\n",
    "proposed_whitewater = pd.DataFrame.spatial.from_featureclass(\"proposed_whitewater\")"
   ]
  },
  {
   "cell_type": "code",
   "execution_count": 15,
   "metadata": {},
   "outputs": [
    {
     "name": "stdout",
     "output_type": "stream",
     "text": [
      "8.376249732588741\n",
      "2.524130063709214\n"
     ]
    }
   ],
   "source": [
    "print(np.sum(designated_whitewater[\"Length_Miles\"]))\n",
    "print(np.sum(proposed_whitewater[\"Length_Miles\"]))"
   ]
  },
  {
   "cell_type": "code",
   "execution_count": 33,
   "metadata": {},
   "outputs": [
    {
     "data": {
      "text/plain": [
       "30.13436972740679"
      ]
     },
     "execution_count": 33,
     "metadata": {},
     "output_type": "execute_result"
    }
   ],
   "source": [
    "# % increase\n",
    "compare(np.sum(designated_whitewater[\"Length_Miles\"]), np.sum(proposed_whitewater[\"Length_Miles\"]))"
   ]
  },
  {
   "cell_type": "code",
   "execution_count": 16,
   "metadata": {},
   "outputs": [],
   "source": [
    "# River access\n",
    "designated_river = pd.DataFrame.spatial.from_featureclass(\"designated_river\")\n",
    "proposed_river = pd.DataFrame.spatial.from_featureclass(\"proposed_river\")"
   ]
  },
  {
   "cell_type": "code",
   "execution_count": 17,
   "metadata": {},
   "outputs": [
    {
     "name": "stdout",
     "output_type": "stream",
     "text": [
      "5\n",
      "2\n"
     ]
    }
   ],
   "source": [
    "print(designated_river.shape[0])\n",
    "print(proposed_river.shape[0])"
   ]
  },
  {
   "cell_type": "code",
   "execution_count": 34,
   "metadata": {},
   "outputs": [
    {
     "data": {
      "text/plain": [
       "40.0"
      ]
     },
     "execution_count": 34,
     "metadata": {},
     "output_type": "execute_result"
    }
   ],
   "source": [
    "# % increase\n",
    "compare(designated_river.shape[0], proposed_river.shape[0])"
   ]
  },
  {
   "cell_type": "markdown",
   "metadata": {},
   "source": [
    "### Climbing"
   ]
  },
  {
   "cell_type": "code",
   "execution_count": 18,
   "metadata": {},
   "outputs": [],
   "source": [
    "# Climbing\n",
    "designated_climbing = pd.DataFrame.spatial.from_featureclass(\"designated_climbing\")\n",
    "proposed_climbing = pd.DataFrame.spatial.from_featureclass(\"proposed_climbing\")"
   ]
  },
  {
   "cell_type": "code",
   "execution_count": 19,
   "metadata": {},
   "outputs": [
    {
     "name": "stdout",
     "output_type": "stream",
     "text": [
      "167\n",
      "3\n"
     ]
    }
   ],
   "source": [
    "print(len(designated_climbing[\"Climbing_Site\"].unique()))\n",
    "print(len(proposed_climbing[\"Climbing_Site\"].unique()))"
   ]
  },
  {
   "cell_type": "code",
   "execution_count": 35,
   "metadata": {},
   "outputs": [
    {
     "data": {
      "text/plain": [
       "1.7964071856287425"
      ]
     },
     "execution_count": 35,
     "metadata": {},
     "output_type": "execute_result"
    }
   ],
   "source": [
    "# % increase\n",
    "compare(len(designated_climbing[\"Climbing_Site\"].unique()), len(proposed_climbing[\"Climbing_Site\"].unique()))"
   ]
  },
  {
   "cell_type": "markdown",
   "metadata": {},
   "source": [
    "### Picnic"
   ]
  },
  {
   "cell_type": "code",
   "execution_count": 37,
   "metadata": {},
   "outputs": [],
   "source": [
    "# Picnic\n",
    "designated_picnic = pd.DataFrame.spatial.from_featureclass(\"designated_picnic\")\n",
    "proposed_picnic = pd.DataFrame.spatial.from_featureclass(\"proposed_picnic\")"
   ]
  },
  {
   "cell_type": "code",
   "execution_count": 38,
   "metadata": {},
   "outputs": [
    {
     "name": "stdout",
     "output_type": "stream",
     "text": [
      "15\n",
      "10\n"
     ]
    }
   ],
   "source": [
    "print(len(designated_picnic[\"RECAREANAM\"].unique()))\n",
    "print(len(proposed_picnic[\"RECAREANAM\"].unique()))"
   ]
  },
  {
   "cell_type": "code",
   "execution_count": 39,
   "metadata": {},
   "outputs": [
    {
     "data": {
      "text/plain": [
       "66.66666666666666"
      ]
     },
     "execution_count": 39,
     "metadata": {},
     "output_type": "execute_result"
    }
   ],
   "source": [
    "# % increase\n",
    "compare(len(designated_picnic[\"RECAREANAM\"].unique()), len(proposed_picnic[\"RECAREANAM\"].unique()))"
   ]
  },
  {
   "cell_type": "markdown",
   "metadata": {},
   "source": [
    "### Camping"
   ]
  },
  {
   "cell_type": "code",
   "execution_count": 41,
   "metadata": {},
   "outputs": [],
   "source": [
    "# Camping\n",
    "designated_camping = pd.DataFrame.spatial.from_featureclass(\"designated_camping\")\n",
    "proposed_camping = pd.DataFrame.spatial.from_featureclass(\"proposed_camping\")"
   ]
  },
  {
   "cell_type": "code",
   "execution_count": 42,
   "metadata": {},
   "outputs": [
    {
     "name": "stdout",
     "output_type": "stream",
     "text": [
      "22\n",
      "3\n"
     ]
    }
   ],
   "source": [
    "print(len(designated_camping[\"RECAREANAM\"].unique()))\n",
    "print(len(proposed_camping[\"RECAREANAM\"].unique()))"
   ]
  },
  {
   "cell_type": "code",
   "execution_count": 43,
   "metadata": {},
   "outputs": [
    {
     "data": {
      "text/plain": [
       "13.636363636363635"
      ]
     },
     "execution_count": 43,
     "metadata": {},
     "output_type": "execute_result"
    }
   ],
   "source": [
    "# % increase\n",
    "compare(len(designated_camping[\"RECAREANAM\"].unique()), len(proposed_camping[\"RECAREANAM\"].unique()))"
   ]
  },
  {
   "cell_type": "markdown",
   "metadata": {
    "heading_collapsed": true
   },
   "source": [
    "# Clustering Analysis"
   ]
  },
  {
   "cell_type": "code",
   "execution_count": 194,
   "metadata": {
    "hidden": true
   },
   "outputs": [
    {
     "data": {
      "text/html": [
       "<div class='gpresult'><h2>Messages</h2><div id='messages' data-messages='[\"Start Time: Tuesday, June 13, 2023 11:42:23 AM\",\"Succeeded at Tuesday, June 13, 2023 11:42:24 AM (Elapsed Time: 0.71 seconds)\"]' data-show='true'><div id = 'default' /></div></div>"
      ],
      "text/plain": [
       "<Result 'C:\\\\Users\\\\kathr\\\\Documents\\\\outdoor-alliance\\\\san-gabriel\\\\san-gabriel-analysis\\\\sg_output.gdb\\\\trail_points'>"
      ]
     },
     "execution_count": 194,
     "metadata": {},
     "output_type": "execute_result"
    }
   ],
   "source": [
    "# Get point features for the start/end of trails\n",
    "# https://pro.arcgis.com/en/pro-app/latest/tool-reference/data-management/feature-vertices-to-points.htm\n",
    "arcpy.management.FeatureVerticesToPoints(in_features = \"Trails\\Trails\",\n",
    "                                         out_feature_class = \"trail_points\",\n",
    "                                         point_location = \"BOTH_ENDS\")"
   ]
  },
  {
   "cell_type": "code",
   "execution_count": 212,
   "metadata": {
    "hidden": true
   },
   "outputs": [],
   "source": [
    "# Merge all the rec points together into one layer\n",
    "# Define layers\n",
    "trail_points = os.path.join(gdb_path, \"trail_points\")\n",
    "sg_picnic = os.path.join(gdb_path, \"sg_picnic\")\n",
    "sg_camping = os.path.join(gdb_path, \"sg_camping\")\n",
    "river_access = os.path.join(gdb_path, \"River_Access\\River_Access\")\n",
    "climbing = os.path.join(gdb_path, \"Rock_Climbing\\Rock_Climbing_Site\")"
   ]
  },
  {
   "cell_type": "code",
   "execution_count": 213,
   "metadata": {
    "hidden": true
   },
   "outputs": [],
   "source": [
    "# Create field mapping object\n",
    "field_mappings = arcpy.FieldMappings()\n",
    "\n",
    "# Add input field for rec area name into new output field\n",
    "map_name = arcpy.FieldMap()\n",
    "map_name.addInputField(trail_points, \"TRAIL_NAME\")\n",
    "map_name.addInputField(climbing, \"Parent_Site\")\n",
    "map_name.addInputField(river_access, \"Section_Name\")\n",
    "map_name.addInputField(sg_picnic, \"RECAREANAM\")\n",
    "map_name.addInputField(sg_camping, \"RECAREANAM\")\n",
    "\n",
    "# Set name of new output field for site name\n",
    "rec_name = map_name.outputField\n",
    "rec_name.name = \"Rec_Name\"\n",
    "map_name.outputField = rec_name\n",
    "\n",
    "# Add output fields to field mappings object\n",
    "field_mappings.addFieldMap(map_name)"
   ]
  },
  {
   "cell_type": "code",
   "execution_count": 214,
   "metadata": {
    "hidden": true
   },
   "outputs": [
    {
     "data": {
      "text/html": [
       "<div class='gpresult'><h2>Messages</h2><div id='messages' data-messages='[\"Start Time: Tuesday, June 13, 2023 12:48:50 PM\",\"Succeeded at Tuesday, June 13, 2023 12:48:53 PM (Elapsed Time: 2.90 seconds)\"]' data-show='true'><div id = 'default' /></div></div>"
      ],
      "text/plain": [
       "<Result 'C:\\\\Users\\\\kathr\\\\Documents\\\\outdoor-alliance\\\\san-gabriel\\\\san-gabriel-analysis\\\\sg_output.gdb\\\\all_rec'>"
      ]
     },
     "execution_count": 214,
     "metadata": {},
     "output_type": "execute_result"
    }
   ],
   "source": [
    "# Merge\n",
    "arcpy.management.Merge([trail_points, river_access, climbing, sg_picnic, sg_camping], \n",
    "                       \"all_rec\", \n",
    "                       field_mappings,\n",
    "                      add_source = \"ADD_SOURCE_INFO\")"
   ]
  },
  {
   "cell_type": "code",
   "execution_count": 211,
   "metadata": {
    "hidden": true
   },
   "outputs": [
    {
     "data": {
      "text/html": [
       "<div class='gpresult'><h2>Messages</h2><div id='messages' data-messages='[\"Start Time: Tuesday, June 13, 2023 12:42:09 PM\",\"Number of Clusters 14\",\"Noise features 102\",\"Succeeded at Tuesday, June 13, 2023 12:42:13 PM (Elapsed Time: 3.29 seconds)\"]' data-show='true'><div id = 'default' /></div></div>"
      ],
      "text/plain": [
       "<Result 'C:\\\\Users\\\\kathr\\\\Documents\\\\outdoor-alliance\\\\san-gabriel\\\\san-gabriel-analysis\\\\sg_output.gdb\\\\rec_density'>"
      ]
     },
     "execution_count": 211,
     "metadata": {},
     "output_type": "execute_result"
    }
   ],
   "source": [
    "# Run the Density-Based Clustering analysis\n",
    "# https://pro.arcgis.com/en/pro-app/latest/tool-reference/spatial-statistics/densitybasedclustering.htm\n",
    "\n",
    "arcpy.stats.DensityBasedClustering(in_features = \"all_rec\", \n",
    "                                   output_features = \"rec_density\", \n",
    "                                   cluster_method = \"HDBSCAN\", # TODO try OPTICS\n",
    "                                   min_features_cluster = 10)"
   ]
  },
  {
   "cell_type": "code",
   "execution_count": null,
   "metadata": {
    "hidden": true
   },
   "outputs": [],
   "source": []
  },
  {
   "cell_type": "markdown",
   "metadata": {
    "heading_collapsed": true
   },
   "source": [
    "# Maps"
   ]
  },
  {
   "cell_type": "markdown",
   "metadata": {
    "hidden": true
   },
   "source": [
    "## Map all recreation types"
   ]
  },
  {
   "cell_type": "code",
   "execution_count": 91,
   "metadata": {
    "hidden": true
   },
   "outputs": [],
   "source": [
    "# Set up environment\n",
    "aprx = arcpy.mp.ArcGISProject(\"CURRENT\")\n",
    "aprx.defaultGeodatabase = gdb_path"
   ]
  },
  {
   "cell_type": "code",
   "execution_count": 92,
   "metadata": {
    "hidden": true
   },
   "outputs": [],
   "source": [
    "# all_rec = aprx.createMap(name = \"Recreation\",\n",
    "#                         map_type = \"MAP\")\n",
    "all_rec = aprx.listMaps(\"Recreation\")[0] "
   ]
  },
  {
   "cell_type": "code",
   "execution_count": 96,
   "metadata": {
    "hidden": true
   },
   "outputs": [
    {
     "data": {
      "text/plain": [
       "<arcpy._mp.Layer object at 0x00000169537CD130>"
      ]
     },
     "execution_count": 96,
     "metadata": {},
     "output_type": "execute_result"
    }
   ],
   "source": [
    "# Add recreation data\n",
    "all_rec.addDataFromPath(os.path.join(gdb_path, r\"Prop_SG_Monument_Expansion\\Proposed_San_Gabriel_National_Monument_Expansion\"))\n",
    "all_rec.addDataFromPath(os.path.join(gdb_path, r\"Trails\\Trails\"))\n",
    "all_rec.addDataFromPath(os.path.join(gdb_path, r\"Whitewater_Paddling\\Whitewater_Paddling\"))\n",
    "all_rec.addDataFromPath(os.path.join(gdb_path, r\"Rock_Climbing\\Rock_Climbing_Site\"))\n",
    "all_rec.addDataFromPath(os.path.join(gdb_path, \"sg_picnic\"))\n",
    "all_rec.addDataFromPath(os.path.join(gdb_path, \"sg_camping\"))"
   ]
  },
  {
   "cell_type": "code",
   "execution_count": 98,
   "metadata": {
    "hidden": true
   },
   "outputs": [],
   "source": [
    "aoi = all_rec.listLayers(\"Proposed_San_Gabriel_National_Monument_Expansion\")[0]\n",
    "trails = all_rec.listLayers(\"Trails\")[0]\n",
    "paddle = all_rec.listLayers(\"Whitewater_Paddling\")[0]\n",
    "picnic = all_rec.listLayers(\"sg_picnic\")[0]\n",
    "camp = all_rec.listLayers(\"sg_camping\")[0]\n",
    "climb = all_rec.listLayers(\"Rock_Climbing_Site\")[0]\n",
    "\n",
    "all_lyr = [trails, paddle, picnic, camp, climb, aoi]"
   ]
  },
  {
   "cell_type": "code",
   "execution_count": 104,
   "metadata": {
    "hidden": true
   },
   "outputs": [],
   "source": [
    "for lyr in all_lyr:\n",
    "    sym = lyr.symbology\n",
    "    # Update symbology for recreation types\n",
    "    if(lyr.name == \"Trails\"):\n",
    "        sym.renderer.symbol.color = {\"RGB\": [0, 0, 0, 100]}\n",
    "    elif(lyr.name == \"Whitewater_Paddling\"):\n",
    "        sym.renderer.symbol.color = {\"RGB\": [0, 92, 230, 100]}\n",
    "    elif(lyr.name == \"sg_picnic\"):\n",
    "        sym.renderer.symbol.color = {\"RGB\": [255, 0, 197, 100]}\n",
    "    elif(lyr.name == \"sg_camping\"):\n",
    "        sym.renderer.symbol.color = {\"RGB\": [58, 45, 168, 100]}\n",
    "    elif(lyr.name == \"Rock_Climbing_Site\"):\n",
    "        sym.renderer.symbol.color = {\"RGB\": [166, 216, 84, 100]}\n",
    "    \n",
    "    # Update symbology for AOI polygons\n",
    "    elif(lyr.name == \"Proposed_San_Gabriel_National_Monument_Expansion\"):\n",
    "        sym.updateRenderer(\"UniqueValueRenderer\")\n",
    "        sym.renderer.fields = [\"Status\"]\n",
    "        sym.renderer.colorRamp = aprx.listColorRamps(\"Set 2 (3 classes)\")[0]\n",
    "        \n",
    "    lyr.symbology = sym"
   ]
  }
 ],
 "metadata": {
  "kernelspec": {
   "display_name": "ArcGISPro",
   "language": "Python",
   "name": "python3"
  },
  "language_info": {
   "file_extension": ".py",
   "name": "python",
   "version": "3"
  }
 },
 "nbformat": 4,
 "nbformat_minor": 2
}
