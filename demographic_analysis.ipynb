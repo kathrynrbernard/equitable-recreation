{
 "cells": [
  {
   "cell_type": "markdown",
   "metadata": {},
   "source": [
    "# Overview\n",
    "\n",
    "This notebook processes and visualizes the demographic (census) data for each of the three service areas around the San Gabriel National Monument."
   ]
  },
  {
   "cell_type": "markdown",
   "metadata": {},
   "source": [
    "# Setup"
   ]
  },
  {
   "cell_type": "code",
   "execution_count": 1,
   "metadata": {},
   "outputs": [],
   "source": [
    "# Import libraries\n",
    "import arcpy, pandas as pd, numpy as np, arcgis, os\n",
    "import matplotlib.pyplot as plt, seaborn as sns\n",
    "from arcgis.features import GeoAccessor, GeoSeriesAccessor"
   ]
  },
  {
   "cell_type": "code",
   "execution_count": 2,
   "metadata": {},
   "outputs": [],
   "source": [
    "# Magic commands\n",
    "%matplotlib inline"
   ]
  },
  {
   "cell_type": "code",
   "execution_count": 3,
   "metadata": {},
   "outputs": [],
   "source": [
    "# Set workspace settings\n",
    "arcpy.env.workspace  = r\"C:\\Users\\kathr\\Documents\\outdoor-alliance\\san-gabriel\\san-gabriel-analysis\\sg_output.gdb\"\n",
    "arcpy.env.overwriteOutput = True"
   ]
  },
  {
   "cell_type": "code",
   "execution_count": 4,
   "metadata": {},
   "outputs": [],
   "source": [
    "# Set gdb path\n",
    "gdb_path = r\"C:\\Users\\kathr\\Documents\\outdoor-alliance\\san-gabriel\\san-gabriel-analysis\\sg_output.gdb\"\n",
    "\n",
    "# Set visualization folder\n",
    "viz_path = r\"C:\\Users\\kathr\\Documents\\outdoor-alliance\\san-gabriel\\viz\""
   ]
  },
  {
   "cell_type": "markdown",
   "metadata": {},
   "source": [
    "# Service Area with Rings\n",
    "\n",
    "\"Rings\" means that the inner service areas are not included in the outer service areas. For example, the 5-30 mile service area does not include the 0-5 mile service area."
   ]
  },
  {
   "cell_type": "markdown",
   "metadata": {},
   "source": [
    "## Demographic Profiles - Race/Ethnicity"
   ]
  },
  {
   "cell_type": "markdown",
   "metadata": {},
   "source": [
    "### 0 - 5 mile service area"
   ]
  },
  {
   "cell_type": "code",
   "execution_count": 21,
   "metadata": {},
   "outputs": [],
   "source": [
    "# Create pandas dataframe from feature class\n",
    "sa_1_census_df = pd.DataFrame.spatial.from_featureclass(\"combined_census_sa_1_rings\")"
   ]
  },
  {
   "cell_type": "code",
   "execution_count": 22,
   "metadata": {},
   "outputs": [
    {
     "data": {
      "text/html": [
       "<div>\n",
       "<style scoped>\n",
       "    .dataframe tbody tr th:only-of-type {\n",
       "        vertical-align: middle;\n",
       "    }\n",
       "\n",
       "    .dataframe tbody tr th {\n",
       "        vertical-align: top;\n",
       "    }\n",
       "\n",
       "    .dataframe thead th {\n",
       "        text-align: right;\n",
       "    }\n",
       "</style>\n",
       "<table border=\"1\" class=\"dataframe\">\n",
       "  <thead>\n",
       "    <tr style=\"text-align: right;\">\n",
       "      <th></th>\n",
       "      <th>OBJECTID</th>\n",
       "      <th>GEOID</th>\n",
       "      <th>NAME</th>\n",
       "      <th>County_Name</th>\n",
       "      <th>State_Name</th>\n",
       "      <th>P0010001</th>\n",
       "      <th>P0010002</th>\n",
       "      <th>P0010003</th>\n",
       "      <th>P0010004</th>\n",
       "      <th>P0010005</th>\n",
       "      <th>P0010006</th>\n",
       "      <th>P0010007</th>\n",
       "      <th>P0010008</th>\n",
       "      <th>P0010009</th>\n",
       "      <th>P0010010</th>\n",
       "      <th>P0010011</th>\n",
       "      <th>P0010012</th>\n",
       "      <th>P0010013</th>\n",
       "      <th>P0010014</th>\n",
       "      <th>P0010015</th>\n",
       "      <th>P0010016</th>\n",
       "      <th>P0010017</th>\n",
       "      <th>P0010018</th>\n",
       "      <th>P0010019</th>\n",
       "      <th>P0010020</th>\n",
       "      <th>P0010021</th>\n",
       "      <th>P0010022</th>\n",
       "      <th>P0010023</th>\n",
       "      <th>P0010024</th>\n",
       "      <th>P0010025</th>\n",
       "      <th>P0010026</th>\n",
       "      <th>P0010027</th>\n",
       "      <th>P0010028</th>\n",
       "      <th>P0010029</th>\n",
       "      <th>P0010030</th>\n",
       "      <th>P0010031</th>\n",
       "      <th>P0010032</th>\n",
       "      <th>P0010033</th>\n",
       "      <th>P0010034</th>\n",
       "      <th>P0010035</th>\n",
       "      <th>...</th>\n",
       "      <th>NMEMI</th>\n",
       "      <th>CNECTA</th>\n",
       "      <th>NECTADIV</th>\n",
       "      <th>CBSAPCI</th>\n",
       "      <th>NECTAPCI</th>\n",
       "      <th>UA</th>\n",
       "      <th>UATYPE</th>\n",
       "      <th>UR</th>\n",
       "      <th>CD116</th>\n",
       "      <th>SLDU18</th>\n",
       "      <th>SLDL18</th>\n",
       "      <th>VTD</th>\n",
       "      <th>VTDI</th>\n",
       "      <th>ZCTA</th>\n",
       "      <th>SDELM</th>\n",
       "      <th>SDSEC</th>\n",
       "      <th>SDUNI</th>\n",
       "      <th>PUMA</th>\n",
       "      <th>AREALAND</th>\n",
       "      <th>AREAWATR</th>\n",
       "      <th>AWATER</th>\n",
       "      <th>ALAND</th>\n",
       "      <th>INTPTLON</th>\n",
       "      <th>INTPTLAT</th>\n",
       "      <th>BASENAME</th>\n",
       "      <th>FUNCSTAT</th>\n",
       "      <th>GCUNI</th>\n",
       "      <th>POP100</th>\n",
       "      <th>HU100</th>\n",
       "      <th>PARTFLAG</th>\n",
       "      <th>UGA</th>\n",
       "      <th>AMRZE001</th>\n",
       "      <th>AMRZE022</th>\n",
       "      <th>AMRZE023</th>\n",
       "      <th>AMRZE024</th>\n",
       "      <th>AMRZE025</th>\n",
       "      <th>AMZME001</th>\n",
       "      <th>AMZME002</th>\n",
       "      <th>AMZME003</th>\n",
       "      <th>SHAPE</th>\n",
       "    </tr>\n",
       "  </thead>\n",
       "  <tbody>\n",
       "    <tr>\n",
       "      <th>0</th>\n",
       "      <td>1</td>\n",
       "      <td>6.037400e+09</td>\n",
       "      <td>Census Tract 4004.04</td>\n",
       "      <td>Los Angeles County</td>\n",
       "      <td>California</td>\n",
       "      <td>363.913926</td>\n",
       "      <td>311.343139</td>\n",
       "      <td>240.568493</td>\n",
       "      <td>4.816268</td>\n",
       "      <td>1.061212</td>\n",
       "      <td>47.754519</td>\n",
       "      <td>0.081632</td>\n",
       "      <td>17.061016</td>\n",
       "      <td>52.570787</td>\n",
       "      <td>50.285101</td>\n",
       "      <td>1.469370</td>\n",
       "      <td>3.265266</td>\n",
       "      <td>8.734587</td>\n",
       "      <td>0.408158</td>\n",
       "      <td>34.285296</td>\n",
       "      <td>0.081632</td>\n",
       "      <td>0.408158</td>\n",
       "      <td>0.0</td>\n",
       "      <td>0.244895</td>\n",
       "      <td>0.000000</td>\n",
       "      <td>0.000000</td>\n",
       "      <td>0.244895</td>\n",
       "      <td>0.489790</td>\n",
       "      <td>0.571422</td>\n",
       "      <td>0.081632</td>\n",
       "      <td>2.204055</td>\n",
       "      <td>0.000000</td>\n",
       "      <td>0.081632</td>\n",
       "      <td>0.000000</td>\n",
       "      <td>0.000000</td>\n",
       "      <td>0.244895</td>\n",
       "      <td>0.000000</td>\n",
       "      <td>0.816317</td>\n",
       "      <td>0.571422</td>\n",
       "      <td>0.489790</td>\n",
       "      <td>...</td>\n",
       "      <td>None</td>\n",
       "      <td>None</td>\n",
       "      <td>None</td>\n",
       "      <td>None</td>\n",
       "      <td>None</td>\n",
       "      <td>None</td>\n",
       "      <td>None</td>\n",
       "      <td>None</td>\n",
       "      <td>None</td>\n",
       "      <td>None</td>\n",
       "      <td>None</td>\n",
       "      <td>None</td>\n",
       "      <td>None</td>\n",
       "      <td>None</td>\n",
       "      <td>None</td>\n",
       "      <td>None</td>\n",
       "      <td>None</td>\n",
       "      <td>None</td>\n",
       "      <td>15832137</td>\n",
       "      <td>330968</td>\n",
       "      <td>27017.466179</td>\n",
       "      <td>1.292404e+06</td>\n",
       "      <td>-117.8289250</td>\n",
       "      <td>+34.1534341</td>\n",
       "      <td>4004.04</td>\n",
       "      <td>S</td>\n",
       "      <td>None</td>\n",
       "      <td>4458</td>\n",
       "      <td>1531</td>\n",
       "      <td>None</td>\n",
       "      <td>None</td>\n",
       "      <td>254.527506</td>\n",
       "      <td>87.100978</td>\n",
       "      <td>33.142453</td>\n",
       "      <td>8.244797</td>\n",
       "      <td>4.571373</td>\n",
       "      <td>342.934590</td>\n",
       "      <td>4.571373</td>\n",
       "      <td>13.469223</td>\n",
       "      <td>{\"rings\": [[[-13118591.6018, 4047671.689400002...</td>\n",
       "    </tr>\n",
       "    <tr>\n",
       "      <th>1</th>\n",
       "      <td>2</td>\n",
       "      <td>6.037401e+09</td>\n",
       "      <td>Census Tract 4005.01</td>\n",
       "      <td>Los Angeles County</td>\n",
       "      <td>California</td>\n",
       "      <td>1703.078072</td>\n",
       "      <td>1469.745582</td>\n",
       "      <td>1114.349475</td>\n",
       "      <td>19.928754</td>\n",
       "      <td>9.134012</td>\n",
       "      <td>232.502126</td>\n",
       "      <td>2.491094</td>\n",
       "      <td>91.340121</td>\n",
       "      <td>233.332491</td>\n",
       "      <td>221.707384</td>\n",
       "      <td>9.964377</td>\n",
       "      <td>23.250213</td>\n",
       "      <td>39.857507</td>\n",
       "      <td>0.000000</td>\n",
       "      <td>145.313829</td>\n",
       "      <td>0.830365</td>\n",
       "      <td>0.000000</td>\n",
       "      <td>0.0</td>\n",
       "      <td>0.000000</td>\n",
       "      <td>0.000000</td>\n",
       "      <td>0.000000</td>\n",
       "      <td>1.660729</td>\n",
       "      <td>0.000000</td>\n",
       "      <td>0.000000</td>\n",
       "      <td>0.830365</td>\n",
       "      <td>9.964377</td>\n",
       "      <td>0.000000</td>\n",
       "      <td>0.830365</td>\n",
       "      <td>0.000000</td>\n",
       "      <td>0.000000</td>\n",
       "      <td>0.000000</td>\n",
       "      <td>0.000000</td>\n",
       "      <td>2.491094</td>\n",
       "      <td>0.000000</td>\n",
       "      <td>5.812553</td>\n",
       "      <td>...</td>\n",
       "      <td>None</td>\n",
       "      <td>None</td>\n",
       "      <td>None</td>\n",
       "      <td>None</td>\n",
       "      <td>None</td>\n",
       "      <td>None</td>\n",
       "      <td>None</td>\n",
       "      <td>None</td>\n",
       "      <td>None</td>\n",
       "      <td>None</td>\n",
       "      <td>None</td>\n",
       "      <td>None</td>\n",
       "      <td>None</td>\n",
       "      <td>None</td>\n",
       "      <td>None</td>\n",
       "      <td>None</td>\n",
       "      <td>None</td>\n",
       "      <td>None</td>\n",
       "      <td>11741511</td>\n",
       "      <td>10499</td>\n",
       "      <td>8717.999358</td>\n",
       "      <td>9.749737e+06</td>\n",
       "      <td>-117.8642089</td>\n",
       "      <td>+34.1610929</td>\n",
       "      <td>4005.01</td>\n",
       "      <td>S</td>\n",
       "      <td>None</td>\n",
       "      <td>2051</td>\n",
       "      <td>740</td>\n",
       "      <td>None</td>\n",
       "      <td>None</td>\n",
       "      <td>1337.717589</td>\n",
       "      <td>391.101790</td>\n",
       "      <td>180.189148</td>\n",
       "      <td>108.777780</td>\n",
       "      <td>23.250213</td>\n",
       "      <td>1679.827860</td>\n",
       "      <td>30.723495</td>\n",
       "      <td>49.821884</td>\n",
       "      <td>{\"rings\": [[[-13119670.466699999, 4050051.6894...</td>\n",
       "    </tr>\n",
       "    <tr>\n",
       "      <th>2</th>\n",
       "      <td>3</td>\n",
       "      <td>6.037401e+09</td>\n",
       "      <td>Census Tract 4006.02</td>\n",
       "      <td>Los Angeles County</td>\n",
       "      <td>California</td>\n",
       "      <td>4816.919897</td>\n",
       "      <td>3703.938405</td>\n",
       "      <td>1383.976985</td>\n",
       "      <td>123.997938</td>\n",
       "      <td>153.997439</td>\n",
       "      <td>393.993448</td>\n",
       "      <td>4.999917</td>\n",
       "      <td>1642.972678</td>\n",
       "      <td>1112.981492</td>\n",
       "      <td>1059.982373</td>\n",
       "      <td>18.999684</td>\n",
       "      <td>51.999135</td>\n",
       "      <td>30.999484</td>\n",
       "      <td>2.999950</td>\n",
       "      <td>890.985183</td>\n",
       "      <td>0.000000</td>\n",
       "      <td>0.000000</td>\n",
       "      <td>0.0</td>\n",
       "      <td>17.999701</td>\n",
       "      <td>1.999967</td>\n",
       "      <td>0.000000</td>\n",
       "      <td>36.999385</td>\n",
       "      <td>0.999983</td>\n",
       "      <td>5.999900</td>\n",
       "      <td>0.000000</td>\n",
       "      <td>46.999218</td>\n",
       "      <td>1.999967</td>\n",
       "      <td>5.999900</td>\n",
       "      <td>0.000000</td>\n",
       "      <td>2.999950</td>\n",
       "      <td>0.999983</td>\n",
       "      <td>1.999967</td>\n",
       "      <td>25.999568</td>\n",
       "      <td>1.999967</td>\n",
       "      <td>3.999933</td>\n",
       "      <td>...</td>\n",
       "      <td>None</td>\n",
       "      <td>None</td>\n",
       "      <td>None</td>\n",
       "      <td>None</td>\n",
       "      <td>None</td>\n",
       "      <td>None</td>\n",
       "      <td>None</td>\n",
       "      <td>None</td>\n",
       "      <td>None</td>\n",
       "      <td>None</td>\n",
       "      <td>None</td>\n",
       "      <td>None</td>\n",
       "      <td>None</td>\n",
       "      <td>None</td>\n",
       "      <td>None</td>\n",
       "      <td>None</td>\n",
       "      <td>None</td>\n",
       "      <td>None</td>\n",
       "      <td>1541334</td>\n",
       "      <td>1766</td>\n",
       "      <td>1765.970633</td>\n",
       "      <td>1.541308e+06</td>\n",
       "      <td>-117.9091006</td>\n",
       "      <td>+34.1381275</td>\n",
       "      <td>4006.02</td>\n",
       "      <td>S</td>\n",
       "      <td>None</td>\n",
       "      <td>4817</td>\n",
       "      <td>1544</td>\n",
       "      <td>None</td>\n",
       "      <td>None</td>\n",
       "      <td>2876.952158</td>\n",
       "      <td>465.992251</td>\n",
       "      <td>130.997822</td>\n",
       "      <td>63.998936</td>\n",
       "      <td>4.999917</td>\n",
       "      <td>4434.926249</td>\n",
       "      <td>234.996092</td>\n",
       "      <td>179.997007</td>\n",
       "      <td>{\"rings\": [[[-13124839.2653, 4046735.460699998...</td>\n",
       "    </tr>\n",
       "    <tr>\n",
       "      <th>3</th>\n",
       "      <td>4</td>\n",
       "      <td>6.037401e+09</td>\n",
       "      <td>Census Tract 4006.03</td>\n",
       "      <td>Los Angeles County</td>\n",
       "      <td>California</td>\n",
       "      <td>4775.705156</td>\n",
       "      <td>3854.169014</td>\n",
       "      <td>1708.825947</td>\n",
       "      <td>246.840038</td>\n",
       "      <td>69.288432</td>\n",
       "      <td>930.197196</td>\n",
       "      <td>8.661054</td>\n",
       "      <td>890.356348</td>\n",
       "      <td>921.536142</td>\n",
       "      <td>868.703713</td>\n",
       "      <td>10.393265</td>\n",
       "      <td>37.242532</td>\n",
       "      <td>63.225694</td>\n",
       "      <td>0.000000</td>\n",
       "      <td>691.152106</td>\n",
       "      <td>11.259370</td>\n",
       "      <td>19.054319</td>\n",
       "      <td>0.0</td>\n",
       "      <td>6.928843</td>\n",
       "      <td>0.000000</td>\n",
       "      <td>0.000000</td>\n",
       "      <td>10.393265</td>\n",
       "      <td>0.866105</td>\n",
       "      <td>18.188213</td>\n",
       "      <td>0.000000</td>\n",
       "      <td>47.635797</td>\n",
       "      <td>6.928843</td>\n",
       "      <td>0.866105</td>\n",
       "      <td>0.000000</td>\n",
       "      <td>1.732211</td>\n",
       "      <td>4.330527</td>\n",
       "      <td>0.000000</td>\n",
       "      <td>14.723792</td>\n",
       "      <td>5.196632</td>\n",
       "      <td>10.393265</td>\n",
       "      <td>...</td>\n",
       "      <td>None</td>\n",
       "      <td>None</td>\n",
       "      <td>None</td>\n",
       "      <td>None</td>\n",
       "      <td>None</td>\n",
       "      <td>None</td>\n",
       "      <td>None</td>\n",
       "      <td>None</td>\n",
       "      <td>None</td>\n",
       "      <td>None</td>\n",
       "      <td>None</td>\n",
       "      <td>None</td>\n",
       "      <td>None</td>\n",
       "      <td>None</td>\n",
       "      <td>None</td>\n",
       "      <td>None</td>\n",
       "      <td>None</td>\n",
       "      <td>None</td>\n",
       "      <td>9178408</td>\n",
       "      <td>8684</td>\n",
       "      <td>7521.259262</td>\n",
       "      <td>7.949469e+06</td>\n",
       "      <td>-117.9217301</td>\n",
       "      <td>+34.1546148</td>\n",
       "      <td>4006.03</td>\n",
       "      <td>S</td>\n",
       "      <td>None</td>\n",
       "      <td>5514</td>\n",
       "      <td>2040</td>\n",
       "      <td>None</td>\n",
       "      <td>None</td>\n",
       "      <td>2960.348245</td>\n",
       "      <td>569.897351</td>\n",
       "      <td>333.450578</td>\n",
       "      <td>155.898971</td>\n",
       "      <td>30.313689</td>\n",
       "      <td>4277.694553</td>\n",
       "      <td>130.781915</td>\n",
       "      <td>109.995385</td>\n",
       "      <td>{\"rings\": [[[-13129000.466699999, 4047546.6894...</td>\n",
       "    </tr>\n",
       "    <tr>\n",
       "      <th>4</th>\n",
       "      <td>5</td>\n",
       "      <td>6.037401e+09</td>\n",
       "      <td>Census Tract 4006.05</td>\n",
       "      <td>Los Angeles County</td>\n",
       "      <td>California</td>\n",
       "      <td>7160.774906</td>\n",
       "      <td>6132.807220</td>\n",
       "      <td>2209.930533</td>\n",
       "      <td>235.992582</td>\n",
       "      <td>63.997988</td>\n",
       "      <td>2639.917016</td>\n",
       "      <td>14.999529</td>\n",
       "      <td>967.969573</td>\n",
       "      <td>1027.967687</td>\n",
       "      <td>952.970044</td>\n",
       "      <td>38.998774</td>\n",
       "      <td>50.998397</td>\n",
       "      <td>131.995851</td>\n",
       "      <td>0.999969</td>\n",
       "      <td>663.979128</td>\n",
       "      <td>3.999874</td>\n",
       "      <td>4.999843</td>\n",
       "      <td>0.0</td>\n",
       "      <td>11.999623</td>\n",
       "      <td>6.999780</td>\n",
       "      <td>0.999969</td>\n",
       "      <td>9.999686</td>\n",
       "      <td>13.999560</td>\n",
       "      <td>10.999654</td>\n",
       "      <td>1.999937</td>\n",
       "      <td>72.997705</td>\n",
       "      <td>3.999874</td>\n",
       "      <td>7.999749</td>\n",
       "      <td>0.999969</td>\n",
       "      <td>11.999623</td>\n",
       "      <td>0.000000</td>\n",
       "      <td>0.000000</td>\n",
       "      <td>30.999026</td>\n",
       "      <td>2.999906</td>\n",
       "      <td>13.999560</td>\n",
       "      <td>...</td>\n",
       "      <td>None</td>\n",
       "      <td>None</td>\n",
       "      <td>None</td>\n",
       "      <td>None</td>\n",
       "      <td>None</td>\n",
       "      <td>None</td>\n",
       "      <td>None</td>\n",
       "      <td>None</td>\n",
       "      <td>None</td>\n",
       "      <td>None</td>\n",
       "      <td>None</td>\n",
       "      <td>None</td>\n",
       "      <td>None</td>\n",
       "      <td>None</td>\n",
       "      <td>None</td>\n",
       "      <td>None</td>\n",
       "      <td>None</td>\n",
       "      <td>None</td>\n",
       "      <td>4967383</td>\n",
       "      <td>1887</td>\n",
       "      <td>1886.940685</td>\n",
       "      <td>4.967227e+06</td>\n",
       "      <td>-117.8945884</td>\n",
       "      <td>+34.1519934</td>\n",
       "      <td>4006.05</td>\n",
       "      <td>S</td>\n",
       "      <td>None</td>\n",
       "      <td>7161</td>\n",
       "      <td>2646</td>\n",
       "      <td>None</td>\n",
       "      <td>None</td>\n",
       "      <td>4122.870401</td>\n",
       "      <td>978.969227</td>\n",
       "      <td>981.969133</td>\n",
       "      <td>90.997140</td>\n",
       "      <td>162.994876</td>\n",
       "      <td>5388.830606</td>\n",
       "      <td>353.988873</td>\n",
       "      <td>285.991010</td>\n",
       "      <td>{\"rings\": [[[-13123461.9091, 4048730.583400003...</td>\n",
       "    </tr>\n",
       "  </tbody>\n",
       "</table>\n",
       "<p>5 rows × 397 columns</p>\n",
       "</div>"
      ],
      "text/plain": [
       "   OBJECTID  ...                                              SHAPE\n",
       "0         1  ...  {\"rings\": [[[-13118591.6018, 4047671.689400002...\n",
       "1         2  ...  {\"rings\": [[[-13119670.466699999, 4050051.6894...\n",
       "2         3  ...  {\"rings\": [[[-13124839.2653, 4046735.460699998...\n",
       "3         4  ...  {\"rings\": [[[-13129000.466699999, 4047546.6894...\n",
       "4         5  ...  {\"rings\": [[[-13123461.9091, 4048730.583400003...\n",
       "\n",
       "[5 rows x 397 columns]"
      ]
     },
     "execution_count": 22,
     "metadata": {},
     "output_type": "execute_result"
    }
   ],
   "source": [
    "# View the dataframe\n",
    "sa_1_census_df.head()"
   ]
  },
  {
   "cell_type": "code",
   "execution_count": 23,
   "metadata": {},
   "outputs": [],
   "source": [
    "# Caculate percentages of each race for each census tract\n",
    "sa_1_census_df[\"PCT_P0020002\"] = np.round(100 * (sa_1_census_df[\"P0020002\"] / sa_1_census_df[\"P0010001\"]), 2) # pct hispanic or latino\n",
    "sa_1_census_df[\"PCT_P0020005\"] = np.round(100 * (sa_1_census_df[\"P0020005\"] / sa_1_census_df[\"P0010001\"]), 2) # pct white\n",
    "sa_1_census_df[\"PCT_P0020006\"] = np.round(100 * (sa_1_census_df[\"P0020006\"] / sa_1_census_df[\"P0010001\"]), 2) # pct Black\n",
    "sa_1_census_df[\"PCT_P0020007\"] = np.round(100 * (sa_1_census_df[\"P0020007\"] / sa_1_census_df[\"P0010001\"]), 2) # pct american indian/alaska native\n",
    "sa_1_census_df[\"PCT_P0020008\"] = np.round(100 * (sa_1_census_df[\"P0020008\"] / sa_1_census_df[\"P0010001\"]), 2) # pct asian\n",
    "sa_1_census_df[\"PCT_P0020009\"] = np.round(100 * (sa_1_census_df[\"P0020009\"] / sa_1_census_df[\"P0010001\"]), 2) # pct native hawaiian/pacific islander\n",
    "sa_1_census_df[\"PCT_P0020010\"] = np.round(100 * (sa_1_census_df[\"P0020010\"] / sa_1_census_df[\"P0010001\"]), 2) # pct other\n",
    "sa_1_census_df[\"PCT_P0020011\"] = np.round(100 * (sa_1_census_df[\"P0020011\"] / sa_1_census_df[\"P0010001\"]), 2) # pct two+ races"
   ]
  },
  {
   "cell_type": "code",
   "execution_count": 24,
   "metadata": {},
   "outputs": [],
   "source": [
    "# Calculate total pct of each race for the entire service area\n",
    "cols = [\"P0020002\", # hispanic/latino - not included in the remaining categories\n",
    "        \"P0020005\", # white\n",
    "        \"P0020006\", # Black\n",
    "        \"P0020007\", # american indian/alaska native\n",
    "        \"P0020008\", # asian\n",
    "        \"P0020009\", # native hawaiian\n",
    "        \"P0020010\", # other\n",
    "        \"P0020011\"] # two+ races\n",
    "col_names = [\"Hispanic/Latino\",\n",
    "            \"White\",\n",
    "            \"Black\",\n",
    "            \"American Indian/Alaska Native\",\n",
    "            \"Asian\",\n",
    "            \"Native Hawaiian/Pacific Islander\",\n",
    "            \"Other Race\",\n",
    "            \"Multiracial (2+ Races)\"]\n",
    "\n",
    "summary_df = pd.DataFrame()\n",
    "summary_df[\"Race\"] = col_names\n",
    "\n",
    "total_pop = sum(sa_1_census_df[\"P0010001\"])\n",
    "summary_df[\"PCT_SA_1\"] = [np.round(100 * (sum(sa_1_census_df[col])/total_pop), 2) for col in cols]"
   ]
  },
  {
   "cell_type": "code",
   "execution_count": 25,
   "metadata": {},
   "outputs": [],
   "source": [
    "# Most prevalent race/ethnic group\n",
    "# https://www.census.gov/newsroom/blogs/random-samplings/2021/08/measuring-racial-ethnic-diversity-2020-census.html\n",
    "\n",
    "pct_cols = [\"PCT_P0020002\", # hispanic/latino - not included in the remaining categories\n",
    "        \"PCT_P0020005\", # white\n",
    "        \"PCT_P0020006\", # Black\n",
    "        \"PCT_P0020007\", # american indian/alaska native\n",
    "        \"PCT_P0020008\", # asian\n",
    "        \"PCT_P0020009\", # native hawaiian\n",
    "        \"PCT_P0020010\", # other\n",
    "        \"PCT_P0020011\"] # two+ races\n",
    "\n",
    "max_cols = sa_1_census_df[pct_cols].idxmax(axis=1)\n",
    "\n",
    "# Replace column names with readable values\n",
    "max_cols = max_cols.replace(\"PCT_P0020002\", \"Hispanic/Latino\")\n",
    "max_cols = max_cols.replace(\"PCT_P0020005\", \"White\")\n",
    "max_cols = max_cols.replace(\"PCT_P0020006\", \"Black\")\n",
    "max_cols = max_cols.replace(\"PCT_P0020007\", \"American Indian/Alaska Native\")\n",
    "max_cols = max_cols.replace(\"PCT_P0020008\", \"Asian\")\n",
    "max_cols = max_cols.replace(\"PCT_P0020009\", \"Native Hawaiian/Pacific Islander\")\n",
    "max_cols = max_cols.replace(\"PCT_P0020010\", \"Other Race\")\n",
    "max_cols = max_cols.replace(\"PCT_P0020011\", \"Two or More Races\")"
   ]
  },
  {
   "cell_type": "code",
   "execution_count": 26,
   "metadata": {},
   "outputs": [],
   "source": [
    "# Add column to original census df for most prevalent race/ethnicity\n",
    "sa_1_census_df[\"Prevalent_Race\"] = max_cols"
   ]
  },
  {
   "cell_type": "markdown",
   "metadata": {},
   "source": [
    "### 5 - 30 mile service area"
   ]
  },
  {
   "cell_type": "code",
   "execution_count": 27,
   "metadata": {},
   "outputs": [],
   "source": [
    "# Create pandas dataframe from feature class\n",
    "sa_2_census_df = pd.DataFrame.spatial.from_featureclass(\"combined_census_sa_2_rings\")"
   ]
  },
  {
   "cell_type": "code",
   "execution_count": 28,
   "metadata": {},
   "outputs": [],
   "source": [
    "# Caculate percentages of each race for each census tract\n",
    "sa_2_census_df[\"PCT_P0020002\"] = np.round(100 * (sa_2_census_df[\"P0020002\"] / sa_2_census_df[\"P0010001\"]), 2) # pct hispanic or latino\n",
    "sa_2_census_df[\"PCT_P0020005\"] = np.round(100 * (sa_2_census_df[\"P0020005\"] / sa_2_census_df[\"P0010001\"]), 2) # pct white\n",
    "sa_2_census_df[\"PCT_P0020006\"] = np.round(100 * (sa_2_census_df[\"P0020006\"] / sa_2_census_df[\"P0010001\"]), 2) # pct Black\n",
    "sa_2_census_df[\"PCT_P0020007\"] = np.round(100 * (sa_2_census_df[\"P0020007\"] / sa_2_census_df[\"P0010001\"]), 2) # pct american indian/alaska native\n",
    "sa_2_census_df[\"PCT_P0020008\"] = np.round(100 * (sa_2_census_df[\"P0020008\"] / sa_2_census_df[\"P0010001\"]), 2) # pct asian\n",
    "sa_2_census_df[\"PCT_P0020009\"] = np.round(100 * (sa_2_census_df[\"P0020009\"] / sa_2_census_df[\"P0010001\"]), 2) # pct native hawaiian/pacific islander\n",
    "sa_2_census_df[\"PCT_P0020010\"] = np.round(100 * (sa_2_census_df[\"P0020010\"] / sa_2_census_df[\"P0010001\"]), 2) # pct other\n",
    "sa_2_census_df[\"PCT_P0020011\"] = np.round(100 * (sa_2_census_df[\"P0020011\"] / sa_2_census_df[\"P0010001\"]), 2) # pct two+ races"
   ]
  },
  {
   "cell_type": "code",
   "execution_count": 29,
   "metadata": {},
   "outputs": [],
   "source": [
    "# Calculate total pct of each race for the entire service area\n",
    "total_pop = sum(sa_2_census_df[\"P0010001\"])\n",
    "\n",
    "summary_df[\"PCT_SA_2\"] = [np.round(100 * (sum(sa_2_census_df[col])/total_pop), 2) for col in cols]"
   ]
  },
  {
   "cell_type": "code",
   "execution_count": 30,
   "metadata": {},
   "outputs": [],
   "source": [
    "# Most prevalent race/ethnic group\n",
    "# https://www.census.gov/newsroom/blogs/random-samplings/2021/08/measuring-racial-ethnic-diversity-2020-census.html\n",
    "\n",
    "max_cols = sa_2_census_df[pct_cols].idxmax(axis=1)\n",
    "\n",
    "# Replace column names with readable values\n",
    "max_cols = max_cols.replace(\"PCT_P0020002\", \"Hispanic/Latino\")\n",
    "max_cols = max_cols.replace(\"PCT_P0020005\", \"White\")\n",
    "max_cols = max_cols.replace(\"PCT_P0020006\", \"Black\")\n",
    "max_cols = max_cols.replace(\"PCT_P0020007\", \"American Indian/Alaska Native\")\n",
    "max_cols = max_cols.replace(\"PCT_P0020008\", \"Asian\")\n",
    "max_cols = max_cols.replace(\"PCT_P0020009\", \"Native Hawaiian/Pacific Islander\")\n",
    "max_cols = max_cols.replace(\"PCT_P0020010\", \"Other Race\")\n",
    "max_cols = max_cols.replace(\"PCT_P0020011\", \"Two or More Races\")"
   ]
  },
  {
   "cell_type": "code",
   "execution_count": 31,
   "metadata": {},
   "outputs": [],
   "source": [
    "# Add column to original census df for most prevalent race/ethnicity\n",
    "sa_2_census_df[\"Prevalent_Race\"] = max_cols"
   ]
  },
  {
   "cell_type": "markdown",
   "metadata": {},
   "source": [
    "### 30 - 90 mile service area"
   ]
  },
  {
   "cell_type": "code",
   "execution_count": 32,
   "metadata": {},
   "outputs": [],
   "source": [
    "# Create pandas dataframe from feature class\n",
    "sa_3_census_df = pd.DataFrame.spatial.from_featureclass(\"combined_census_sa_3_rings\") "
   ]
  },
  {
   "cell_type": "code",
   "execution_count": 33,
   "metadata": {},
   "outputs": [],
   "source": [
    "# Caculate percentages of each race for each census tract\n",
    "sa_3_census_df[\"PCT_P0020002\"] = np.round(100 * (sa_3_census_df[\"P0020002\"] / sa_3_census_df[\"P0010001\"]), 2) # pct hispanic or latino\n",
    "sa_3_census_df[\"PCT_P0020005\"] = np.round(100 * (sa_3_census_df[\"P0020005\"] / sa_3_census_df[\"P0010001\"]), 2) # pct white\n",
    "sa_3_census_df[\"PCT_P0020006\"] = np.round(100 * (sa_3_census_df[\"P0020006\"] / sa_3_census_df[\"P0010001\"]), 2) # pct Black\n",
    "sa_3_census_df[\"PCT_P0020007\"] = np.round(100 * (sa_3_census_df[\"P0020007\"] / sa_3_census_df[\"P0010001\"]), 2) # pct american indian/alaska native\n",
    "sa_3_census_df[\"PCT_P0020008\"] = np.round(100 * (sa_3_census_df[\"P0020008\"] / sa_3_census_df[\"P0010001\"]), 2) # pct asian\n",
    "sa_3_census_df[\"PCT_P0020009\"] = np.round(100 * (sa_3_census_df[\"P0020009\"] / sa_3_census_df[\"P0010001\"]), 2) # pct native hawaiian/pacific islander\n",
    "sa_3_census_df[\"PCT_P0020010\"] = np.round(100 * (sa_3_census_df[\"P0020010\"] / sa_3_census_df[\"P0010001\"]), 2) # pct other\n",
    "sa_3_census_df[\"PCT_P0020011\"] = np.round(100 * (sa_3_census_df[\"P0020011\"] / sa_3_census_df[\"P0010001\"]), 2) # pct two+ races"
   ]
  },
  {
   "cell_type": "code",
   "execution_count": 34,
   "metadata": {},
   "outputs": [],
   "source": [
    "# Calculate total pct of each race for the entire service area\n",
    "total_pop = sum(sa_3_census_df[\"P0010001\"])\n",
    "\n",
    "summary_df[\"PCT_SA_3\"] = [np.round(100 * (sum(sa_3_census_df[col])/total_pop), 2) for col in cols]"
   ]
  },
  {
   "cell_type": "code",
   "execution_count": 35,
   "metadata": {},
   "outputs": [],
   "source": [
    "# Most prevalent race/ethnic group\n",
    "# https://www.census.gov/newsroom/blogs/random-samplings/2021/08/measuring-racial-ethnic-diversity-2020-census.html\n",
    "\n",
    "max_cols = sa_3_census_df[pct_cols].idxmax(axis=1)\n",
    "\n",
    "# Replace column names with readable values\n",
    "max_cols = max_cols.replace(\"PCT_P0020002\", \"Hispanic/Latino\")\n",
    "max_cols = max_cols.replace(\"PCT_P0020005\", \"White\")\n",
    "max_cols = max_cols.replace(\"PCT_P0020006\", \"Black\")\n",
    "max_cols = max_cols.replace(\"PCT_P0020007\", \"American Indian/Alaska Native\")\n",
    "max_cols = max_cols.replace(\"PCT_P0020008\", \"Asian\")\n",
    "max_cols = max_cols.replace(\"PCT_P0020009\", \"Native Hawaiian/Pacific Islander\")\n",
    "max_cols = max_cols.replace(\"PCT_P0020010\", \"Other Race\")\n",
    "max_cols = max_cols.replace(\"PCT_P0020011\", \"Two or More Races\")"
   ]
  },
  {
   "cell_type": "code",
   "execution_count": 36,
   "metadata": {},
   "outputs": [],
   "source": [
    "# Add column to original census df for most prevalent race/ethnicity\n",
    "sa_3_census_df[\"Prevalent_Race\"] = max_cols"
   ]
  },
  {
   "cell_type": "markdown",
   "metadata": {},
   "source": [
    "### Entire state of CA"
   ]
  },
  {
   "cell_type": "code",
   "execution_count": 37,
   "metadata": {},
   "outputs": [],
   "source": [
    "# Create pandas dataframe from feature class\n",
    "ca_census_df = pd.DataFrame.spatial.from_featureclass(\"ca_census\")"
   ]
  },
  {
   "cell_type": "code",
   "execution_count": 38,
   "metadata": {},
   "outputs": [],
   "source": [
    "# Caculate percentages of each race for each census tract\n",
    "ca_census_df[\"PCT_P0020002\"] = np.round(100 * (ca_census_df[\"P0020002\"] / ca_census_df[\"P0010001\"]), 2) # pct hispanic or latino\n",
    "ca_census_df[\"PCT_P0020005\"] = np.round(100 * (ca_census_df[\"P0020005\"] / ca_census_df[\"P0010001\"]), 2) # pct white\n",
    "ca_census_df[\"PCT_P0020006\"] = np.round(100 * (ca_census_df[\"P0020006\"] / ca_census_df[\"P0010001\"]), 2) # pct Black\n",
    "ca_census_df[\"PCT_P0020007\"] = np.round(100 * (ca_census_df[\"P0020007\"] / ca_census_df[\"P0010001\"]), 2) # pct american indian/alaska native\n",
    "ca_census_df[\"PCT_P0020008\"] = np.round(100 * (ca_census_df[\"P0020008\"] / ca_census_df[\"P0010001\"]), 2) # pct asian\n",
    "ca_census_df[\"PCT_P0020009\"] = np.round(100 * (ca_census_df[\"P0020009\"] / ca_census_df[\"P0010001\"]), 2) # pct native hawaiian/pacific islander\n",
    "ca_census_df[\"PCT_P0020010\"] = np.round(100 * (ca_census_df[\"P0020010\"] / ca_census_df[\"P0010001\"]), 2) # pct other\n",
    "ca_census_df[\"PCT_P0020011\"] = np.round(100 * (ca_census_df[\"P0020011\"] / ca_census_df[\"P0010001\"]), 2) # pct two+ races"
   ]
  },
  {
   "cell_type": "code",
   "execution_count": 39,
   "metadata": {},
   "outputs": [],
   "source": [
    "# Calculate total pct of each race for the entire state\n",
    "total_pop = sum(ca_census_df[\"P0010001\"])\n",
    "\n",
    "summary_df[\"PCT_CA\"] = [np.round(100 * (sum(ca_census_df[col])/total_pop), 2) for col in cols]"
   ]
  },
  {
   "cell_type": "code",
   "execution_count": 40,
   "metadata": {
    "scrolled": false
   },
   "outputs": [
    {
     "data": {
      "text/html": [
       "<div>\n",
       "<style scoped>\n",
       "    .dataframe tbody tr th:only-of-type {\n",
       "        vertical-align: middle;\n",
       "    }\n",
       "\n",
       "    .dataframe tbody tr th {\n",
       "        vertical-align: top;\n",
       "    }\n",
       "\n",
       "    .dataframe thead th {\n",
       "        text-align: right;\n",
       "    }\n",
       "</style>\n",
       "<table border=\"1\" class=\"dataframe\">\n",
       "  <thead>\n",
       "    <tr style=\"text-align: right;\">\n",
       "      <th></th>\n",
       "      <th>Race</th>\n",
       "      <th>PCT_SA_1</th>\n",
       "      <th>PCT_SA_2</th>\n",
       "      <th>PCT_SA_3</th>\n",
       "      <th>PCT_CA</th>\n",
       "    </tr>\n",
       "  </thead>\n",
       "  <tbody>\n",
       "    <tr>\n",
       "      <th>0</th>\n",
       "      <td>Hispanic/Latino</td>\n",
       "      <td>57.23</td>\n",
       "      <td>53.54</td>\n",
       "      <td>40.21</td>\n",
       "      <td>39.40</td>\n",
       "    </tr>\n",
       "    <tr>\n",
       "      <th>1</th>\n",
       "      <td>White</td>\n",
       "      <td>23.27</td>\n",
       "      <td>20.27</td>\n",
       "      <td>36.54</td>\n",
       "      <td>34.69</td>\n",
       "    </tr>\n",
       "    <tr>\n",
       "      <th>2</th>\n",
       "      <td>Black</td>\n",
       "      <td>2.74</td>\n",
       "      <td>5.39</td>\n",
       "      <td>6.74</td>\n",
       "      <td>5.36</td>\n",
       "    </tr>\n",
       "    <tr>\n",
       "      <th>3</th>\n",
       "      <td>American Indian/Alaska Native</td>\n",
       "      <td>0.25</td>\n",
       "      <td>0.19</td>\n",
       "      <td>0.30</td>\n",
       "      <td>0.39</td>\n",
       "    </tr>\n",
       "    <tr>\n",
       "      <th>4</th>\n",
       "      <td>Asian</td>\n",
       "      <td>13.42</td>\n",
       "      <td>17.37</td>\n",
       "      <td>11.31</td>\n",
       "      <td>15.12</td>\n",
       "    </tr>\n",
       "    <tr>\n",
       "      <th>5</th>\n",
       "      <td>Native Hawaiian/Pacific Islander</td>\n",
       "      <td>0.09</td>\n",
       "      <td>0.19</td>\n",
       "      <td>0.28</td>\n",
       "      <td>0.35</td>\n",
       "    </tr>\n",
       "    <tr>\n",
       "      <th>6</th>\n",
       "      <td>Other Race</td>\n",
       "      <td>0.49</td>\n",
       "      <td>0.50</td>\n",
       "      <td>0.59</td>\n",
       "      <td>0.57</td>\n",
       "    </tr>\n",
       "    <tr>\n",
       "      <th>7</th>\n",
       "      <td>Multiracial (2+ Races)</td>\n",
       "      <td>2.51</td>\n",
       "      <td>2.55</td>\n",
       "      <td>4.04</td>\n",
       "      <td>4.12</td>\n",
       "    </tr>\n",
       "  </tbody>\n",
       "</table>\n",
       "</div>"
      ],
      "text/plain": [
       "                               Race  PCT_SA_1  PCT_SA_2  PCT_SA_3  PCT_CA\n",
       "0                   Hispanic/Latino     57.23     53.54     40.21   39.40\n",
       "1                             White     23.27     20.27     36.54   34.69\n",
       "2                             Black      2.74      5.39      6.74    5.36\n",
       "3     American Indian/Alaska Native      0.25      0.19      0.30    0.39\n",
       "4                             Asian     13.42     17.37     11.31   15.12\n",
       "5  Native Hawaiian/Pacific Islander      0.09      0.19      0.28    0.35\n",
       "6                        Other Race      0.49      0.50      0.59    0.57\n",
       "7            Multiracial (2+ Races)      2.51      2.55      4.04    4.12"
      ]
     },
     "execution_count": 40,
     "metadata": {},
     "output_type": "execute_result"
    }
   ],
   "source": [
    "# View the summary dataframe\n",
    "summary_df"
   ]
  },
  {
   "cell_type": "markdown",
   "metadata": {},
   "source": [
    "### Plots"
   ]
  },
  {
   "cell_type": "code",
   "execution_count": 41,
   "metadata": {
    "scrolled": false
   },
   "outputs": [
    {
     "data": {
      "text/html": [
       "<div>\n",
       "<style scoped>\n",
       "    .dataframe tbody tr th:only-of-type {\n",
       "        vertical-align: middle;\n",
       "    }\n",
       "\n",
       "    .dataframe tbody tr th {\n",
       "        vertical-align: top;\n",
       "    }\n",
       "\n",
       "    .dataframe thead th {\n",
       "        text-align: right;\n",
       "    }\n",
       "</style>\n",
       "<table border=\"1\" class=\"dataframe\">\n",
       "  <thead>\n",
       "    <tr style=\"text-align: right;\">\n",
       "      <th></th>\n",
       "      <th>Race</th>\n",
       "      <th>variable</th>\n",
       "      <th>value</th>\n",
       "    </tr>\n",
       "  </thead>\n",
       "  <tbody>\n",
       "    <tr>\n",
       "      <th>0</th>\n",
       "      <td>Hispanic/Latino</td>\n",
       "      <td>PCT_SA_1</td>\n",
       "      <td>57.23</td>\n",
       "    </tr>\n",
       "    <tr>\n",
       "      <th>1</th>\n",
       "      <td>White</td>\n",
       "      <td>PCT_SA_1</td>\n",
       "      <td>23.27</td>\n",
       "    </tr>\n",
       "    <tr>\n",
       "      <th>2</th>\n",
       "      <td>Black</td>\n",
       "      <td>PCT_SA_1</td>\n",
       "      <td>2.74</td>\n",
       "    </tr>\n",
       "    <tr>\n",
       "      <th>3</th>\n",
       "      <td>American Indian/Alaska Native</td>\n",
       "      <td>PCT_SA_1</td>\n",
       "      <td>0.25</td>\n",
       "    </tr>\n",
       "    <tr>\n",
       "      <th>4</th>\n",
       "      <td>Asian</td>\n",
       "      <td>PCT_SA_1</td>\n",
       "      <td>13.42</td>\n",
       "    </tr>\n",
       "  </tbody>\n",
       "</table>\n",
       "</div>"
      ],
      "text/plain": [
       "                            Race  variable  value\n",
       "0                Hispanic/Latino  PCT_SA_1  57.23\n",
       "1                          White  PCT_SA_1  23.27\n",
       "2                          Black  PCT_SA_1   2.74\n",
       "3  American Indian/Alaska Native  PCT_SA_1   0.25\n",
       "4                          Asian  PCT_SA_1  13.42"
      ]
     },
     "execution_count": 41,
     "metadata": {},
     "output_type": "execute_result"
    }
   ],
   "source": [
    "# Reshape summary_df to long format\n",
    "summary_long = pd.melt(summary_df, id_vars = [\"Race\"])\n",
    "summary_long.head()"
   ]
  },
  {
   "cell_type": "code",
   "execution_count": 42,
   "metadata": {},
   "outputs": [],
   "source": [
    "# Sort dataframe to get the correct plotting order\n",
    "summary_sorted = summary_df.sort_values(by = \"PCT_SA_1\", ascending = False)"
   ]
  },
  {
   "cell_type": "code",
   "execution_count": 43,
   "metadata": {},
   "outputs": [
    {
     "data": {
      "image/png": "[encoded data removed]",
      "text/plain": [
       "<Figure size 2000x500 with 4 Axes>"
      ]
     },
     "metadata": {},
     "output_type": "display_data"
    }
   ],
   "source": [
    "# Plot pct of each race for each service area - summary_df\n",
    "\n",
    "# Create plot\n",
    "p = sns.catplot(data = summary_long,\n",
    "                x = \"value\",\n",
    "                y = \"Race\",\n",
    "                col = \"variable\",\n",
    "                kind = \"bar\",\n",
    "                palette = \"Set2\",\n",
    "                order = summary_sorted[\"Race\"].values) # most prevalent at the top\n",
    "\n",
    "# Change individual plot titles\n",
    "axes = p.axes.flatten()\n",
    "axes[0].set_title(\"0-5 Miles\")\n",
    "axes[1].set_title(\"5-30 Miles\")\n",
    "axes[2].set_title(\"30-90 Miles\")\n",
    "axes[3].set_title(\"State of California\")\n",
    "\n",
    "# Change axis labels\n",
    "p.set_axis_labels(x_var = \"\", # or Percent\n",
    "                 y_var = \"\")\n",
    "\n",
    "# Export plot\n",
    "plt.savefig(os.path.join(viz_path, \"race_pct.png\"))"
   ]
  },
  {
   "cell_type": "markdown",
   "metadata": {
    "heading_collapsed": true
   },
   "source": [
    "### Write updated dfs back to feature classes"
   ]
  },
  {
   "cell_type": "code",
   "execution_count": 164,
   "metadata": {
    "hidden": true
   },
   "outputs": [
    {
     "data": {
      "text/plain": [
       "'C:\\\\Users\\\\kathr\\\\Documents\\\\outdoor-alliance\\\\san-gabriel\\\\san-gabriel-analysis\\\\sg_output.gdb\\\\updated_sa_3_rings_census'"
      ]
     },
     "execution_count": 164,
     "metadata": {},
     "output_type": "execute_result"
    }
   ],
   "source": [
    "# Write dataframes back to feature class so the updated columns can be mapped\n",
    "sa_1_census_df.copy().spatial.to_featureclass(location=os.path.join(gdb_path, \"updated_sa_1_rings_census\"), \n",
    "                                        sanitize_columns=False)\n",
    "sa_2_census_df.copy().spatial.to_featureclass(location=os.path.join(gdb_path, \"updated_sa_2_rings_census\"), \n",
    "                                        sanitize_columns=False)\n",
    "sa_3_census_df.copy().spatial.to_featureclass(location=os.path.join(gdb_path, \"updated_sa_3_rings_census\"), \n",
    "                                        sanitize_columns=False)"
   ]
  },
  {
   "cell_type": "markdown",
   "metadata": {},
   "source": [
    "## Demographic Profiles - Education"
   ]
  },
  {
   "cell_type": "markdown",
   "metadata": {},
   "source": [
    "### Summary Table"
   ]
  },
  {
   "cell_type": "code",
   "execution_count": 62,
   "metadata": {},
   "outputs": [],
   "source": [
    "# Create dataframes from feature classes\n",
    "sa_1_census_df = pd.DataFrame.spatial.from_featureclass(\"updated_sa_1_rings_census\")\n",
    "sa_2_census_df = pd.DataFrame.spatial.from_featureclass(\"updated_sa_2_rings_census\")\n",
    "sa_3_census_df = pd.DataFrame.spatial.from_featureclass(\"updated_sa_3_rings_census\")\n",
    "ca_census_df = pd.DataFrame.spatial.from_featureclass(\"combined_ca_census\")"
   ]
  },
  {
   "cell_type": "code",
   "execution_count": 63,
   "metadata": {},
   "outputs": [],
   "source": [
    "# Create empty dataframe to hold summary information\n",
    "summary_df = pd.DataFrame()"
   ]
  },
  {
   "cell_type": "code",
   "execution_count": 64,
   "metadata": {},
   "outputs": [],
   "source": [
    "edu_cols = [\"AMRZE022\", # Bachelor's degree \n",
    "            \"AMRZE023\", # Master's degree \n",
    "            \"AMRZE024\", # Professional school degree \n",
    "            \"AMRZE025\"] # Doctorate degree "
   ]
  },
  {
   "cell_type": "code",
   "execution_count": 65,
   "metadata": {},
   "outputs": [],
   "source": [
    "sa_1_census_df[\"Bach_Higher_Count\"] = sa_1_census_df[edu_cols].sum(axis = 1)\n",
    "sa_2_census_df[\"Bach_Higher_Count\"] = sa_2_census_df[edu_cols].sum(axis = 1)\n",
    "sa_3_census_df[\"Bach_Higher_Count\"] = sa_3_census_df[edu_cols].sum(axis = 1)\n",
    "ca_census_df[\"Bach_Higher_Count\"] = ca_census_df[edu_cols].sum(axis = 1)"
   ]
  },
  {
   "cell_type": "code",
   "execution_count": 66,
   "metadata": {},
   "outputs": [],
   "source": [
    "sa_1_census_df[\"Bach_Higher_Pct\"] = 100 * (sa_1_census_df[\"Bach_Higher_Count\"] / sa_1_census_df[\"AMRZE001\"])\n",
    "sa_2_census_df[\"Bach_Higher_Pct\"] = 100 * (sa_2_census_df[\"Bach_Higher_Count\"] / sa_2_census_df[\"AMRZE001\"])\n",
    "sa_3_census_df[\"Bach_Higher_Pct\"] = 100 * (sa_3_census_df[\"Bach_Higher_Count\"] / sa_3_census_df[\"AMRZE001\"])"
   ]
  },
  {
   "cell_type": "code",
   "execution_count": 67,
   "metadata": {},
   "outputs": [],
   "source": [
    "summary_df[\"PCT_SA_1\"] = [np.round(100 * (sum(sa_1_census_df[\"Bach_Higher_Count\"])/sum(sa_1_census_df[\"AMRZE001\"])), 2)]\n",
    "summary_df[\"PCT_SA_2\"] = [np.round(100 * (sum(sa_2_census_df[\"Bach_Higher_Count\"])/sum(sa_2_census_df[\"AMRZE001\"])), 2)]\n",
    "summary_df[\"PCT_SA_3\"] = [np.round(100 * (sum(sa_3_census_df[\"Bach_Higher_Count\"])/sum(sa_3_census_df[\"AMRZE001\"])), 2)]\n",
    "summary_df[\"PCT_CA\"] = [np.round(100 * (sum(ca_census_df[\"Bach_Higher_Count\"])/sum(ca_census_df[\"AMRZE001\"])), 2)]"
   ]
  },
  {
   "cell_type": "code",
   "execution_count": 68,
   "metadata": {},
   "outputs": [
    {
     "data": {
      "text/html": [
       "<div>\n",
       "<style scoped>\n",
       "    .dataframe tbody tr th:only-of-type {\n",
       "        vertical-align: middle;\n",
       "    }\n",
       "\n",
       "    .dataframe tbody tr th {\n",
       "        vertical-align: top;\n",
       "    }\n",
       "\n",
       "    .dataframe thead th {\n",
       "        text-align: right;\n",
       "    }\n",
       "</style>\n",
       "<table border=\"1\" class=\"dataframe\">\n",
       "  <thead>\n",
       "    <tr style=\"text-align: right;\">\n",
       "      <th></th>\n",
       "      <th>PCT_SA_1</th>\n",
       "      <th>PCT_SA_2</th>\n",
       "      <th>PCT_SA_3</th>\n",
       "      <th>PCT_CA</th>\n",
       "    </tr>\n",
       "  </thead>\n",
       "  <tbody>\n",
       "    <tr>\n",
       "      <th>0</th>\n",
       "      <td>28.96</td>\n",
       "      <td>28.77</td>\n",
       "      <td>35.14</td>\n",
       "      <td>34.72</td>\n",
       "    </tr>\n",
       "  </tbody>\n",
       "</table>\n",
       "</div>"
      ],
      "text/plain": [
       "   PCT_SA_1  PCT_SA_2  PCT_SA_3  PCT_CA\n",
       "0     28.96     28.77     35.14   34.72"
      ]
     },
     "execution_count": 68,
     "metadata": {},
     "output_type": "execute_result"
    }
   ],
   "source": [
    "summary_df"
   ]
  },
  {
   "cell_type": "markdown",
   "metadata": {},
   "source": [
    "### Plots"
   ]
  },
  {
   "cell_type": "code",
   "execution_count": 69,
   "metadata": {},
   "outputs": [
    {
     "data": {
      "text/html": [
       "<div>\n",
       "<style scoped>\n",
       "    .dataframe tbody tr th:only-of-type {\n",
       "        vertical-align: middle;\n",
       "    }\n",
       "\n",
       "    .dataframe tbody tr th {\n",
       "        vertical-align: top;\n",
       "    }\n",
       "\n",
       "    .dataframe thead th {\n",
       "        text-align: right;\n",
       "    }\n",
       "</style>\n",
       "<table border=\"1\" class=\"dataframe\">\n",
       "  <thead>\n",
       "    <tr style=\"text-align: right;\">\n",
       "      <th></th>\n",
       "      <th>variable</th>\n",
       "      <th>value</th>\n",
       "    </tr>\n",
       "  </thead>\n",
       "  <tbody>\n",
       "    <tr>\n",
       "      <th>0</th>\n",
       "      <td>PCT_SA_1</td>\n",
       "      <td>28.96</td>\n",
       "    </tr>\n",
       "    <tr>\n",
       "      <th>1</th>\n",
       "      <td>PCT_SA_2</td>\n",
       "      <td>28.77</td>\n",
       "    </tr>\n",
       "    <tr>\n",
       "      <th>2</th>\n",
       "      <td>PCT_SA_3</td>\n",
       "      <td>35.14</td>\n",
       "    </tr>\n",
       "    <tr>\n",
       "      <th>3</th>\n",
       "      <td>PCT_CA</td>\n",
       "      <td>34.72</td>\n",
       "    </tr>\n",
       "  </tbody>\n",
       "</table>\n",
       "</div>"
      ],
      "text/plain": [
       "   variable  value\n",
       "0  PCT_SA_1  28.96\n",
       "1  PCT_SA_2  28.77\n",
       "2  PCT_SA_3  35.14\n",
       "3    PCT_CA  34.72"
      ]
     },
     "execution_count": 69,
     "metadata": {},
     "output_type": "execute_result"
    }
   ],
   "source": [
    "# Reshape summary_df to long format\n",
    "summary_long = pd.melt(summary_df)\n",
    "summary_long.head()"
   ]
  },
  {
   "cell_type": "code",
   "execution_count": 70,
   "metadata": {},
   "outputs": [
    {
     "data": {
      "image/png": "[encoded data removed]",
      "text/plain": [
       "<Figure size 640x480 with 1 Axes>"
      ]
     },
     "metadata": {},
     "output_type": "display_data"
    }
   ],
   "source": [
    "# Create barplot\n",
    "p = sns.barplot(data = summary_long,\n",
    "           x = \"variable\",\n",
    "           y = \"value\",\n",
    "           palette = \"Set2\")\n",
    "\n",
    "# Change axis labels\n",
    "p.set_xlabel(\"\")\n",
    "p.set_ylabel(\"Percent Population with Bachelors or Higher\")\n",
    "\n",
    "# Change tick labels\n",
    "p.set_xticklabels([\"0-5 Miles\", \"5-30 Miles\", \"30-90 Miles\", \"State of California\"])\n",
    "\n",
    "# Export plot\n",
    "plt.savefig(os.path.join(viz_path, \"edu_pct.png\"))"
   ]
  },
  {
   "cell_type": "markdown",
   "metadata": {},
   "source": [
    "### Write updated dfs back to feature classes"
   ]
  },
  {
   "cell_type": "code",
   "execution_count": 171,
   "metadata": {},
   "outputs": [
    {
     "data": {
      "text/plain": [
       "'C:\\\\Users\\\\kathr\\\\Documents\\\\outdoor-alliance\\\\san-gabriel\\\\san-gabriel-analysis\\\\sg_output.gdb\\\\updated_sa_3_rings_census'"
      ]
     },
     "execution_count": 171,
     "metadata": {},
     "output_type": "execute_result"
    }
   ],
   "source": [
    "# Write dataframes back to feature class so the updated columns can be mapped\n",
    "sa_1_census_df.copy().spatial.to_featureclass(location=os.path.join(gdb_path, \"updated_sa_1_rings_census\"), \n",
    "                                        sanitize_columns=False)\n",
    "sa_2_census_df.copy().spatial.to_featureclass(location=os.path.join(gdb_path, \"updated_sa_2_rings_census\"), \n",
    "                                        sanitize_columns=False)\n",
    "sa_3_census_df.copy().spatial.to_featureclass(location=os.path.join(gdb_path, \"updated_sa_3_rings_census\"), \n",
    "                                        sanitize_columns=False)"
   ]
  },
  {
   "cell_type": "markdown",
   "metadata": {},
   "source": [
    "## Demographic Profiles - Income"
   ]
  },
  {
   "cell_type": "markdown",
   "metadata": {},
   "source": [
    "### Summary Table"
   ]
  },
  {
   "cell_type": "code",
   "execution_count": 71,
   "metadata": {},
   "outputs": [],
   "source": [
    "# Create dataframes from feature classes\n",
    "sa_1_census_df = pd.DataFrame.spatial.from_featureclass(\"updated_sa_1_rings_census\")\n",
    "sa_2_census_df = pd.DataFrame.spatial.from_featureclass(\"updated_sa_2_rings_census\")\n",
    "sa_3_census_df = pd.DataFrame.spatial.from_featureclass(\"updated_sa_3_rings_census\")\n",
    "ca_census_df = pd.DataFrame.spatial.from_featureclass(\"combined_ca_census\")"
   ]
  },
  {
   "cell_type": "code",
   "execution_count": 72,
   "metadata": {},
   "outputs": [],
   "source": [
    "# Create empty dataframe to hold summary information\n",
    "summary_df = pd.DataFrame()"
   ]
  },
  {
   "cell_type": "code",
   "execution_count": 73,
   "metadata": {},
   "outputs": [],
   "source": [
    "inc_cols = [\"AMZME002\", # Under .50\n",
    "            \"AMZME003\"] # .50 - .99 "
   ]
  },
  {
   "cell_type": "code",
   "execution_count": 74,
   "metadata": {},
   "outputs": [],
   "source": [
    "sa_1_census_df[\"Below_Pov_Line_Count\"] = sa_1_census_df[inc_cols].sum(axis = 1)\n",
    "sa_2_census_df[\"Below_Pov_Line_Count\"] = sa_2_census_df[inc_cols].sum(axis = 1)\n",
    "sa_3_census_df[\"Below_Pov_Line_Count\"] = sa_3_census_df[inc_cols].sum(axis = 1)\n",
    "ca_census_df[\"Below_Pov_Line_Count\"] = ca_census_df[inc_cols].sum(axis = 1)"
   ]
  },
  {
   "cell_type": "code",
   "execution_count": 75,
   "metadata": {},
   "outputs": [],
   "source": [
    "sa_1_census_df[\"Below_Pov_Line_Pct\"] = 100 * (sa_1_census_df[\"Below_Pov_Line_Count\"] / sa_1_census_df[\"AMZME001\"])\n",
    "sa_2_census_df[\"Below_Pov_Line_Pct\"] = 100 * (sa_2_census_df[\"Below_Pov_Line_Count\"] / sa_2_census_df[\"AMZME001\"])\n",
    "sa_3_census_df[\"Below_Pov_Line_Pct\"] = 100 * (sa_3_census_df[\"Below_Pov_Line_Count\"] / sa_3_census_df[\"AMZME001\"])"
   ]
  },
  {
   "cell_type": "code",
   "execution_count": 76,
   "metadata": {},
   "outputs": [],
   "source": [
    "summary_df[\"PCT_SA_1\"] = [np.round(100 * (sum(sa_1_census_df[\"Below_Pov_Line_Count\"])/sum(sa_1_census_df[\"AMZME001\"])), 2)]\n",
    "summary_df[\"PCT_SA_2\"] = [np.round(100 * (sum(sa_2_census_df[\"Below_Pov_Line_Count\"])/sum(sa_2_census_df[\"AMZME001\"])), 2)]\n",
    "summary_df[\"PCT_SA_3\"] = [np.round(100 * (sum(sa_3_census_df[\"Below_Pov_Line_Count\"])/sum(sa_3_census_df[\"AMZME001\"])), 2)]\n",
    "summary_df[\"PCT_CA\"] = [np.round(100 * (sum(ca_census_df[\"Below_Pov_Line_Count\"])/sum(ca_census_df[\"AMZME001\"])), 2)]"
   ]
  },
  {
   "cell_type": "code",
   "execution_count": 77,
   "metadata": {},
   "outputs": [
    {
     "data": {
      "text/html": [
       "<div>\n",
       "<style scoped>\n",
       "    .dataframe tbody tr th:only-of-type {\n",
       "        vertical-align: middle;\n",
       "    }\n",
       "\n",
       "    .dataframe tbody tr th {\n",
       "        vertical-align: top;\n",
       "    }\n",
       "\n",
       "    .dataframe thead th {\n",
       "        text-align: right;\n",
       "    }\n",
       "</style>\n",
       "<table border=\"1\" class=\"dataframe\">\n",
       "  <thead>\n",
       "    <tr style=\"text-align: right;\">\n",
       "      <th></th>\n",
       "      <th>PCT_SA_1</th>\n",
       "      <th>PCT_SA_2</th>\n",
       "      <th>PCT_SA_3</th>\n",
       "      <th>PCT_CA</th>\n",
       "    </tr>\n",
       "  </thead>\n",
       "  <tbody>\n",
       "    <tr>\n",
       "      <th>0</th>\n",
       "      <td>10.43</td>\n",
       "      <td>14.3</td>\n",
       "      <td>12.06</td>\n",
       "      <td>12.58</td>\n",
       "    </tr>\n",
       "  </tbody>\n",
       "</table>\n",
       "</div>"
      ],
      "text/plain": [
       "   PCT_SA_1  PCT_SA_2  PCT_SA_3  PCT_CA\n",
       "0     10.43      14.3     12.06   12.58"
      ]
     },
     "execution_count": 77,
     "metadata": {},
     "output_type": "execute_result"
    }
   ],
   "source": [
    "summary_df"
   ]
  },
  {
   "cell_type": "markdown",
   "metadata": {},
   "source": [
    "### Plots"
   ]
  },
  {
   "cell_type": "code",
   "execution_count": 78,
   "metadata": {},
   "outputs": [
    {
     "data": {
      "text/html": [
       "<div>\n",
       "<style scoped>\n",
       "    .dataframe tbody tr th:only-of-type {\n",
       "        vertical-align: middle;\n",
       "    }\n",
       "\n",
       "    .dataframe tbody tr th {\n",
       "        vertical-align: top;\n",
       "    }\n",
       "\n",
       "    .dataframe thead th {\n",
       "        text-align: right;\n",
       "    }\n",
       "</style>\n",
       "<table border=\"1\" class=\"dataframe\">\n",
       "  <thead>\n",
       "    <tr style=\"text-align: right;\">\n",
       "      <th></th>\n",
       "      <th>variable</th>\n",
       "      <th>value</th>\n",
       "    </tr>\n",
       "  </thead>\n",
       "  <tbody>\n",
       "    <tr>\n",
       "      <th>0</th>\n",
       "      <td>PCT_SA_1</td>\n",
       "      <td>10.43</td>\n",
       "    </tr>\n",
       "    <tr>\n",
       "      <th>1</th>\n",
       "      <td>PCT_SA_2</td>\n",
       "      <td>14.30</td>\n",
       "    </tr>\n",
       "    <tr>\n",
       "      <th>2</th>\n",
       "      <td>PCT_SA_3</td>\n",
       "      <td>12.06</td>\n",
       "    </tr>\n",
       "    <tr>\n",
       "      <th>3</th>\n",
       "      <td>PCT_CA</td>\n",
       "      <td>12.58</td>\n",
       "    </tr>\n",
       "  </tbody>\n",
       "</table>\n",
       "</div>"
      ],
      "text/plain": [
       "   variable  value\n",
       "0  PCT_SA_1  10.43\n",
       "1  PCT_SA_2  14.30\n",
       "2  PCT_SA_3  12.06\n",
       "3    PCT_CA  12.58"
      ]
     },
     "execution_count": 78,
     "metadata": {},
     "output_type": "execute_result"
    }
   ],
   "source": [
    "# Reshape summary_df to long format\n",
    "summary_long = pd.melt(summary_df)\n",
    "summary_long.head()"
   ]
  },
  {
   "cell_type": "code",
   "execution_count": 79,
   "metadata": {},
   "outputs": [
    {
     "data": {
      "image/png": "[encoded data removed]",
      "text/plain": [
       "<Figure size 640x480 with 1 Axes>"
      ]
     },
     "metadata": {},
     "output_type": "display_data"
    }
   ],
   "source": [
    "# Create barplot\n",
    "p = sns.barplot(data = summary_long,\n",
    "           x = \"variable\",\n",
    "           y = \"value\",\n",
    "           palette = \"Set2\")\n",
    "\n",
    "# Change axis labels\n",
    "p.set_xlabel(\"\")\n",
    "p.set_ylabel(\"Percent Population Below Poverty Level\")\n",
    "\n",
    "# Change tick labels\n",
    "p.set_xticklabels([\"0-5 Miles\", \"5-30 Miles\", \"30-90 Miles\", \"State of California\"])\n",
    "\n",
    "# Export plot\n",
    "plt.savefig(os.path.join(viz_path, \"inc_pct.png\"))"
   ]
  },
  {
   "cell_type": "markdown",
   "metadata": {
    "heading_collapsed": true
   },
   "source": [
    "### Write updated dfs back to feature class"
   ]
  },
  {
   "cell_type": "code",
   "execution_count": 222,
   "metadata": {
    "hidden": true
   },
   "outputs": [
    {
     "data": {
      "text/plain": [
       "'C:\\\\Users\\\\kathr\\\\Documents\\\\outdoor-alliance\\\\san-gabriel\\\\san-gabriel-analysis\\\\sg_output.gdb\\\\updated_sa_3_rings_census'"
      ]
     },
     "execution_count": 222,
     "metadata": {},
     "output_type": "execute_result"
    }
   ],
   "source": [
    "# Write dataframes back to feature class so the updated columns can be mapped\n",
    "sa_1_census_df.copy().spatial.to_featureclass(location=os.path.join(gdb_path, \"updated_sa_1_rings_census\"), \n",
    "                                        sanitize_columns=False)\n",
    "sa_2_census_df.copy().spatial.to_featureclass(location=os.path.join(gdb_path, \"updated_sa_2_rings_census\"), \n",
    "                                        sanitize_columns=False)\n",
    "sa_3_census_df.copy().spatial.to_featureclass(location=os.path.join(gdb_path, \"updated_sa_3_rings_census\"), \n",
    "                                        sanitize_columns=False)"
   ]
  },
  {
   "cell_type": "markdown",
   "metadata": {},
   "source": [
    "# Maps"
   ]
  },
  {
   "cell_type": "markdown",
   "metadata": {},
   "source": [
    "## Race/Ethnicity"
   ]
  },
  {
   "cell_type": "code",
   "execution_count": 172,
   "metadata": {},
   "outputs": [],
   "source": [
    "# Set up environment\n",
    "aprx = arcpy.mp.ArcGISProject(\"CURRENT\")\n",
    "aprx.defaultGeodatabase = gdb_path"
   ]
  },
  {
   "cell_type": "markdown",
   "metadata": {},
   "source": [
    "### Most Prevalent Race for Each Census Tract"
   ]
  },
  {
   "cell_type": "code",
   "execution_count": 223,
   "metadata": {},
   "outputs": [],
   "source": [
    "# Create map\n",
    "# https://pro.arcgis.com/en/pro-app/latest/arcpy/mapping/arcgisproject-class.htm\n",
    "# prev_race = aprx.createMap(name = \"Most Prevalent Race\", \n",
    "#                            map_type = \"MAP\")\n",
    "prev_race = aprx.listMaps(\"Most Prevalent Race\")[0]"
   ]
  },
  {
   "cell_type": "code",
   "execution_count": 224,
   "metadata": {},
   "outputs": [
    {
     "data": {
      "text/plain": [
       "<arcpy._mp.Layer object at 0x0000024F87688070>"
      ]
     },
     "execution_count": 224,
     "metadata": {},
     "output_type": "execute_result"
    }
   ],
   "source": [
    "# Add updated census data for all 3 service areas\n",
    "prev_race.addDataFromPath(os.path.join(gdb_path, \"updated_sa_1_rings_census\"))\n",
    "prev_race.addDataFromPath(os.path.join(gdb_path, \"updated_sa_2_rings_census\"))\n",
    "prev_race.addDataFromPath(os.path.join(gdb_path, \"updated_sa_3_rings_census\"))"
   ]
  },
  {
   "cell_type": "code",
   "execution_count": 225,
   "metadata": {},
   "outputs": [],
   "source": [
    "# Get layers on map\n",
    "sa_1 = prev_race.listLayers(\"updated_sa_1_rings_census\")[0]\n",
    "sa_2 = prev_race.listLayers(\"updated_sa_2_rings_census\")[0]\n",
    "sa_3 = prev_race.listLayers(\"updated_sa_3_rings_census\")[0]\n",
    "all_sa = [sa_1, sa_2, sa_3]"
   ]
  },
  {
   "cell_type": "code",
   "execution_count": 226,
   "metadata": {},
   "outputs": [],
   "source": [
    "# Map all service areas with same alpha\n",
    "for lyr in all_sa:\n",
    "    sym = lyr.symbology\n",
    "    sym.updateRenderer(\"UniqueValueRenderer\") \n",
    "    sym.renderer.fields = [\"Prevalent_Race\"]\n",
    "\n",
    "    for grp in sym.renderer.groups:\n",
    "        for itm in grp.items:\n",
    "            myVal = itm.values[0][0]\n",
    "            #print(\"myVal: {0}\".format(myVal))\n",
    "            # RGB values taken from colors in the Set 2 (8 classes) color ramp\n",
    "            # https://colorbrewer2.org/#type=qualitative&scheme=Set2&n=8\n",
    "            if myVal == \"Hispanic/Latino\":\n",
    "                itm.symbol.color = {\"RGB\": [252, 141, 98, 100]} \n",
    "            elif myVal == \"White\":\n",
    "                itm.symbol.color = {\"RGB\": [141, 160, 203, 100]} \n",
    "            elif myVal == \"Asian\":\n",
    "                itm.symbol.color = {\"RGB\": [166, 216, 84, 100]} \n",
    "            elif myVal == \"Black\":\n",
    "                itm.symbol.color = {\"RGB\": [255, 217, 47, 100]} \n",
    "            elif myVal == \"Two or More Races\":\n",
    "                itm.symbol.color = {\"RGB\": [213, 138, 195, 100]} \n",
    "            elif myVal == \"American Indian/Alaska Native\":\n",
    "                itm.symbol.color = {\"RGB\": [102, 194, 165, 100]} \n",
    "            elif myVal == \"Native Hawaiian/Pacific Islander\":\n",
    "                itm.symbol.color = {\"RGB\": [229, 196, 148, 100]}\n",
    "            elif myVal == \"Other Race\":\n",
    "                itm.symbol.color = {\"RGB\": [179, 179, 179, 100]}\n",
    "            elif myVal == \"<Null>\":\n",
    "                itm.symbol.color = {\"RGB\": [0, 0, 0, 0]}\n",
    "            \n",
    "            lyr.symbology = sym"
   ]
  },
  {
   "cell_type": "code",
   "execution_count": 177,
   "metadata": {},
   "outputs": [],
   "source": [
    "# Mapping with different alphas to emphasize different service areas"
   ]
  },
  {
   "cell_type": "code",
   "execution_count": 178,
   "metadata": {},
   "outputs": [],
   "source": [
    "# Define list of maps to create\n",
    "map_names = [\"SA1 Prev Race\", \"SA2 Prev Race\", \"SA3 Prev Race\"]\n",
    "\n",
    "# Create each map\n",
    "# for name in map_names:\n",
    "#     aprx.createMap(name = name,\n",
    "#                   map_type = \"MAP\")"
   ]
  },
  {
   "cell_type": "code",
   "execution_count": 235,
   "metadata": {},
   "outputs": [],
   "source": [
    "# Define which map to update\n",
    "#prev_race = aprx.listMaps(\"SA1 Prev Race\")[0]\n",
    "#prev_race = aprx.listMaps(\"SA2 Prev Race\")[0]\n",
    "prev_race = aprx.listMaps(\"SA3 Prev Race\")[0]"
   ]
  },
  {
   "cell_type": "code",
   "execution_count": 236,
   "metadata": {},
   "outputs": [
    {
     "data": {
      "text/plain": [
       "<arcpy._mp.Layer object at 0x0000024F870878E0>"
      ]
     },
     "execution_count": 236,
     "metadata": {},
     "output_type": "execute_result"
    }
   ],
   "source": [
    "# Add updated census data for all 3 service areas\n",
    "prev_race.addDataFromPath(os.path.join(gdb_path, \"updated_sa_1_rings_census\"))\n",
    "prev_race.addDataFromPath(os.path.join(gdb_path, \"updated_sa_2_rings_census\"))\n",
    "prev_race.addDataFromPath(os.path.join(gdb_path, \"updated_sa_3_rings_census\"))"
   ]
  },
  {
   "cell_type": "code",
   "execution_count": 237,
   "metadata": {},
   "outputs": [],
   "source": [
    "# Get layers on map\n",
    "sa_1 = prev_race.listLayers(\"updated_sa_1_rings_census\")[0]\n",
    "sa_2 = prev_race.listLayers(\"updated_sa_2_rings_census\")[0]\n",
    "sa_3 = prev_race.listLayers(\"updated_sa_3_rings_census\")[0]\n",
    "all_sa = [sa_1, sa_2, sa_3]"
   ]
  },
  {
   "cell_type": "code",
   "execution_count": 238,
   "metadata": {},
   "outputs": [],
   "source": [
    "# Iterate through the three service areas and add each to the map with updated symbology\n",
    "for lyr in all_sa:\n",
    "    alpha = 30\n",
    "    # Update alpha for the service area that is being highlighted\n",
    "    #if lyr.name == \"updated_sa_1_rings_census\":\n",
    "    #if lyr.name == \"updated_sa_2_rings_census\":\n",
    "    if lyr.name == \"updated_sa_3_rings_census\":\n",
    "        alpha = 100\n",
    "    sym = lyr.symbology\n",
    "    sym.updateRenderer(\"UniqueValueRenderer\")\n",
    "    sym.renderer.fields = [\"Prevalent_Race\"]\n",
    "\n",
    "    for grp in sym.renderer.groups:\n",
    "        for itm in grp.items:\n",
    "            myVal = itm.values[0][0]\n",
    "            #print(\"myVal: {0}\".format(myVal))\n",
    "            # RGB values taken from colors in the Set 2 (8 classes) color ramp\n",
    "            # https://colorbrewer2.org/#type=qualitative&scheme=Set2&n=8\n",
    "            if myVal == \"Hispanic/Latino\":\n",
    "                itm.symbol.color = {\"RGB\": [252, 141, 98, alpha]} \n",
    "            elif myVal == \"White\":\n",
    "                itm.symbol.color = {\"RGB\": [141, 160, 203, alpha]} \n",
    "            elif myVal == \"Asian\":\n",
    "                itm.symbol.color = {\"RGB\": [166, 216, 84, alpha]} \n",
    "            elif myVal == \"Black\":\n",
    "                itm.symbol.color = {\"RGB\": [255, 217, 47, alpha]} \n",
    "            elif myVal == \"Two or More Races\":\n",
    "                itm.symbol.color = {\"RGB\": [213, 138, 195, alpha]} \n",
    "            elif myVal == \"American Indian/Alaska Native\":\n",
    "                itm.symbol.color = {\"RGB\": [102, 194, 165, alpha]} \n",
    "            elif myVal == \"Native Hawaiian/Pacific Islander\":\n",
    "                itm.symbol.color = {\"RGB\": [229, 196, 148, alpha]}\n",
    "            elif myVal == \"Other Race\":\n",
    "                itm.symbol.color = {\"RGB\": [179, 179, 179, alpha]}\n",
    "            elif myVal == \"<Null>\":\n",
    "                itm.symbol.color = {\"RGB\": [0, 0, 0, 0]}\n",
    "            \n",
    "            lyr.symbology = sym"
   ]
  },
  {
   "cell_type": "markdown",
   "metadata": {},
   "source": [
    "### Race densities"
   ]
  },
  {
   "cell_type": "code",
   "execution_count": 18,
   "metadata": {},
   "outputs": [],
   "source": [
    "# Define list of maps to create\n",
    "map_names = [\"Pct Hispanic or Latino\",\n",
    "            \"Pct White\",\n",
    "            \"Pct Black\",\n",
    "            \"Pct American Indian or Alaska Native\",\n",
    "            \"Pct Asian\", \n",
    "            \"Pct Native Hawaiian or Pacific Islander\",\n",
    "            \"Pct Other\",\n",
    "            \"Pct Two+\"]\n",
    "\n",
    "# Create each map\n",
    "# for name in map_names:\n",
    "#     aprx.createMap(name = name,\n",
    "#                   map_type = \"MAP\")"
   ]
  },
  {
   "cell_type": "code",
   "execution_count": 16,
   "metadata": {},
   "outputs": [],
   "source": [
    "# Define columns to use for mapping\n",
    "pct_cols = [\"PCT_P0020002\", # hispanic/latino\n",
    "        \"PCT_P0020005\", # white\n",
    "        \"PCT_P0020006\", # Black\n",
    "        \"PCT_P0020007\", # american indian/alaska native\n",
    "        \"PCT_P0020008\", # asian\n",
    "        \"PCT_P0020009\", # native hawaiian\n",
    "        \"PCT_P0020010\", # other\n",
    "        \"PCT_P0020011\"] # two+ races"
   ]
  },
  {
   "cell_type": "code",
   "execution_count": 15,
   "metadata": {},
   "outputs": [
    {
     "data": {
      "text/plain": [
       "<arcpy._mp.Map object at 0x0000025167E17790>"
      ]
     },
     "execution_count": 15,
     "metadata": {},
     "output_type": "execute_result"
    }
   ],
   "source": [
    "# Map with Graduated Colors / manually specified breaks\n",
    "# Iterate over all maps and symbolize based on each racial/ethnic group one by one\n",
    "for i in range(len(map_names)):\n",
    "    # Get the current map\n",
    "    cur_map = aprx.listMaps(map_names[i])[0]\n",
    "    \n",
    "    # Add census data to the map\n",
    "    cur_map.addDataFromPath(os.path.join(gdb_path, \"nd_rings_census\"))\n",
    "    \n",
    "    # Get the map layer\n",
    "    lyr = cur_map.listLayers(\"nd_rings_census\")[0]\n",
    "    \n",
    "    # Update symbology\n",
    "    sym = lyr.symbology\n",
    "    sym.updateRenderer(\"GraduatedColorsRenderer\")\n",
    "    sym.renderer.classificationField = pct_cols[i] \n",
    "    sym.renderer.breakCount = 5\n",
    "    sym.renderer.colorRamp = aprx.listColorRamps(\"Viridis\")[0]\n",
    "\n",
    "    break_val = 20\n",
    "    for brk in sym.renderer.classBreaks:\n",
    "        brk.upperBound = break_val\n",
    "        brk.label = str(break_val - 20) + \" - \" + str(break_val)\n",
    "        break_val += 20\n",
    "\n",
    "    lyr.symbology = sym"
   ]
  },
  {
   "cell_type": "code",
   "execution_count": 19,
   "metadata": {},
   "outputs": [],
   "source": [
    "# Map with Unclassed Colors\n",
    "# Iterate over all maps and symbolize based on each racial/ethnic group one by one\n",
    "for i in range(len(map_names)):\n",
    "    # Get the current map\n",
    "    cur_map = aprx.listMaps(map_names[i])[0]\n",
    "    \n",
    "    # Add census data to the map\n",
    "    cur_map.addDataFromPath(os.path.join(gdb_path, \"nd_rings_census\"))\n",
    "    \n",
    "    # Get the map layer\n",
    "    lyr = cur_map.listLayers(\"nd_rings_census\")[0]\n",
    "    \n",
    "    # Update symbology\n",
    "    sym = lyr.symbology\n",
    "    sym.updateRenderer(\"UnclassedColorsRenderer\")\n",
    "    sym.renderer.field = pct_cols[i] \n",
    "    sym.renderer.colorRamp = aprx.listColorRamps(\"Viridis\")[0]\n",
    "\n",
    "    lyr.symbology = sym"
   ]
  },
  {
   "cell_type": "code",
   "execution_count": 240,
   "metadata": {},
   "outputs": [],
   "source": [
    "# https://pro.arcgis.com/en/pro-app/latest/arcpy/charts/histogram.htm\n",
    "chart = arcpy.charts.Histogram(\"PCT_P0020002\", binCount=10, showMedian=True, dataSource=lyr, title=\"Histogram P0020002\")\n",
    "\n",
    "chart.addToLayer(lyr)"
   ]
  },
  {
   "cell_type": "code",
   "execution_count": 241,
   "metadata": {},
   "outputs": [],
   "source": [
    "#TODO bar charts?\n",
    "bar = arcpy.charts.Bar(x=\"NAME\", y = \"PCT_P0020002\", title=\"Bar P0020002\", dataSource=lyr)\n",
    "bar.yAxis.sort = \"DESC\"\n",
    "bar.addToLayer(lyr)"
   ]
  },
  {
   "cell_type": "markdown",
   "metadata": {},
   "source": [
    "## Education"
   ]
  },
  {
   "cell_type": "code",
   "execution_count": 239,
   "metadata": {},
   "outputs": [
    {
     "data": {
      "text/plain": [
       "<arcpy._mp.Layer object at 0x0000024F87688070>"
      ]
     },
     "execution_count": 239,
     "metadata": {},
     "output_type": "execute_result"
    }
   ],
   "source": [
    "# Define map\n",
    "# edu = aprx.createMap(name = \"Education\",\n",
    "#                     map_type = \"MAP\")\n",
    "edu = aprx.listMaps(\"Education\")[0] \n",
    "\n",
    "# Add education census data for all 3 service areas\n",
    "edu.addDataFromPath(os.path.join(gdb_path, \"updated_sa_1_rings_census\"))\n",
    "edu.addDataFromPath(os.path.join(gdb_path, \"updated_sa_2_rings_census\"))\n",
    "edu.addDataFromPath(os.path.join(gdb_path, \"updated_sa_3_rings_census\"))"
   ]
  },
  {
   "cell_type": "code",
   "execution_count": 240,
   "metadata": {},
   "outputs": [],
   "source": [
    "# Get layers on map\n",
    "sa_1 = edu.listLayers(\"updated_sa_1_rings_census\")[0]\n",
    "sa_2 = edu.listLayers(\"updated_sa_2_rings_census\")[0]\n",
    "sa_3 = edu.listLayers(\"updated_sa_3_rings_census\")[0]\n",
    "\n",
    "all_sa = [sa_1, sa_2, sa_3]"
   ]
  },
  {
   "cell_type": "code",
   "execution_count": 241,
   "metadata": {},
   "outputs": [],
   "source": [
    "# Mapping with all the same alpha\n",
    "for lyr in all_sa:\n",
    "    sym = lyr.symbology\n",
    "    #sym.updateRenderer(\"UnclassedColorsRenderer\")\n",
    "    sym.updateRenderer(\"GraduatedColorsRenderer\")\n",
    "    sym.renderer.classificationField = \"Bach_Higher_Pct\"\n",
    "    #sym.renderer.field = \"Bach_Higher_Pct\"\n",
    "    sym.renderer.breakCount = 5\n",
    "    sym.renderer.colorRamp = aprx.listColorRamps(\"Viridis\")[0]\n",
    "    \n",
    "    break_val = 20\n",
    "    i = 0\n",
    "    for brk in sym.renderer.classBreaks:\n",
    "        brk.upperBound = break_val\n",
    "        brk.label = str(break_val - 20) + \" - \" + str(break_val)\n",
    "        break_val += 20\n",
    "            \n",
    "    lyr.symbology = sym"
   ]
  },
  {
   "cell_type": "code",
   "execution_count": 194,
   "metadata": {},
   "outputs": [],
   "source": [
    "# Mapping with different alphas to emphasize different service areas"
   ]
  },
  {
   "cell_type": "code",
   "execution_count": 195,
   "metadata": {},
   "outputs": [],
   "source": [
    "# Define list of maps to create\n",
    "map_names = [\"SA1 Education\", \"SA2 Education\", \"SA3 Education\"]\n",
    "\n",
    "# Create each map\n",
    "# for name in map_names:\n",
    "#     aprx.createMap(name = name,\n",
    "#                   map_type = \"MAP\")"
   ]
  },
  {
   "cell_type": "code",
   "execution_count": 252,
   "metadata": {},
   "outputs": [],
   "source": [
    "# Define which map to update\n",
    "#edu = aprx.listMaps(\"SA1 Education\")[0]\n",
    "#edu = aprx.listMaps(\"SA2 Education\")[0]\n",
    "edu = aprx.listMaps(\"SA3 Education\")[0]"
   ]
  },
  {
   "cell_type": "code",
   "execution_count": 253,
   "metadata": {},
   "outputs": [
    {
     "data": {
      "text/plain": [
       "<arcpy._mp.Layer object at 0x0000024F876B5610>"
      ]
     },
     "execution_count": 253,
     "metadata": {},
     "output_type": "execute_result"
    }
   ],
   "source": [
    "# Add census data to the map\n",
    "edu.addDataFromPath(os.path.join(gdb_path, \"updated_sa_1_rings_census\"))\n",
    "edu.addDataFromPath(os.path.join(gdb_path, \"updated_sa_2_rings_census\"))\n",
    "edu.addDataFromPath(os.path.join(gdb_path, \"updated_sa_3_rings_census\"))"
   ]
  },
  {
   "cell_type": "code",
   "execution_count": 254,
   "metadata": {},
   "outputs": [],
   "source": [
    "# Get layers from map\n",
    "sa_1 = edu.listLayers(\"updated_sa_1_rings_census\")[0]\n",
    "sa_2 = edu.listLayers(\"updated_sa_2_rings_census\")[0]\n",
    "sa_3 = edu.listLayers(\"updated_sa_3_rings_census\")[0]\n",
    "all_sa = [sa_1, sa_2, sa_3]"
   ]
  },
  {
   "cell_type": "code",
   "execution_count": 255,
   "metadata": {},
   "outputs": [],
   "source": [
    "# Manually specify colors from breaking the Viridis color ramp into 5 blocks\n",
    "colors = [[68, 1, 84], # purple\n",
    "          [59, 82, 140], # dark blue\n",
    "          [33, 145, 141], # teal\n",
    "          [93, 201, 99], # green\n",
    "          [254, 232, 37] # yellow\n",
    "         ]"
   ]
  },
  {
   "cell_type": "code",
   "execution_count": 256,
   "metadata": {},
   "outputs": [],
   "source": [
    "# Iterate through the three service areas and add each to the map with updated symbology\n",
    "for lyr in all_sa:\n",
    "    alpha = 30\n",
    "    # Update alpha for the service area that is being highlighted\n",
    "    #if lyr.name == \"updated_sa_1_rings_census\":\n",
    "    #if lyr.name == \"updated_sa_2_rings_census\":\n",
    "    if lyr.name == \"updated_sa_3_rings_census\":\n",
    "        alpha = 100\n",
    "    sym = lyr.symbology\n",
    "    sym.updateRenderer(\"GraduatedColorsRenderer\") \n",
    "    sym.renderer.classificationField = \"Bach_Higher_Pct\"\n",
    "    sym.renderer.breakCount = 5\n",
    "    \n",
    "    break_val = 20\n",
    "    i = 0\n",
    "    for brk in sym.renderer.classBreaks:\n",
    "        brk.upperBound = break_val\n",
    "        brk.label = str(break_val - 20) + \" - \" + str(break_val)\n",
    "        break_val += 20\n",
    "        brk.symbol.color = {\"RGB\" : [colors[i][0], colors[i][1], colors[i][2], alpha]}\n",
    "        i += 1\n",
    "            \n",
    "    lyr.symbology = sym"
   ]
  },
  {
   "cell_type": "markdown",
   "metadata": {},
   "source": [
    "## Income"
   ]
  },
  {
   "cell_type": "code",
   "execution_count": 261,
   "metadata": {},
   "outputs": [
    {
     "data": {
      "text/plain": [
       "<arcpy._mp.Layer object at 0x0000025028EFDAC0>"
      ]
     },
     "execution_count": 261,
     "metadata": {},
     "output_type": "execute_result"
    }
   ],
   "source": [
    "# Define map\n",
    "# income = aprx.createMap(name = \"Income\",\n",
    "#                     map_type = \"MAP\")\n",
    "income = aprx.listMaps(\"Income\")[0]\n",
    "\n",
    "# Add census data to the map\n",
    "income.addDataFromPath(os.path.join(gdb_path, \"updated_sa_1_rings_census\"))\n",
    "income.addDataFromPath(os.path.join(gdb_path, \"updated_sa_2_rings_census\"))\n",
    "income.addDataFromPath(os.path.join(gdb_path, \"updated_sa_3_rings_census\"))"
   ]
  },
  {
   "cell_type": "code",
   "execution_count": 262,
   "metadata": {},
   "outputs": [],
   "source": [
    "# Get layers on map\n",
    "sa_1 = income.listLayers(\"updated_sa_1_rings_census\")[0]\n",
    "sa_2 = income.listLayers(\"updated_sa_2_rings_census\")[0]\n",
    "sa_3 = income.listLayers(\"updated_sa_3_rings_census\")[0]\n",
    "\n",
    "all_sa = [sa_1, sa_2, sa_3]"
   ]
  },
  {
   "cell_type": "code",
   "execution_count": 263,
   "metadata": {},
   "outputs": [],
   "source": [
    "# Map entire service area with unclassed colors to see the range of the data\n",
    "# sa 1 = 1-25\n",
    "# sa 2 = 0-80\n",
    "# sa 3 = 0-100\n",
    "for lyr in all_sa:\n",
    "    sym = lyr.symbology\n",
    "    sym.updateRenderer(\"UnclassedColorsRenderer\")\n",
    "    sym.renderer.field = \"Below_Pov_Line_Pct\"\n",
    "    sym.renderer.colorRamp = aprx.listColorRamps(\"Viridis\")[0]\n",
    "    lyr.symbology = sym"
   ]
  },
  {
   "cell_type": "code",
   "execution_count": 264,
   "metadata": {},
   "outputs": [],
   "source": [
    "# Mapping with all the same alpha\n",
    "for lyr in all_sa:\n",
    "    sym = lyr.symbology\n",
    "    sym.updateRenderer(\"GraduatedColorsRenderer\")\n",
    "    sym.renderer.classificationField = \"Below_Pov_Line_Pct\"\n",
    "    sym.renderer.breakCount = 5\n",
    "    sym.renderer.colorRamp = aprx.listColorRamps(\"Viridis\")[0]\n",
    "    \n",
    "    break_val = 20\n",
    "    i = 0\n",
    "    for brk in sym.renderer.classBreaks:\n",
    "        brk.upperBound = break_val\n",
    "        brk.label = str(break_val - 20) + \" - \" + str(break_val)\n",
    "        break_val += 20\n",
    "            \n",
    "    lyr.symbology = sym"
   ]
  },
  {
   "cell_type": "code",
   "execution_count": 48,
   "metadata": {},
   "outputs": [],
   "source": [
    "# Mapping with different alphas to emphasize different service areas"
   ]
  },
  {
   "cell_type": "code",
   "execution_count": 49,
   "metadata": {},
   "outputs": [],
   "source": [
    "# Define list of maps to create\n",
    "map_names = [\"SA1 Income\", \"SA2 Income\", \"SA3 Income\"]\n",
    "\n",
    "# Create each map\n",
    "# for name in map_names:\n",
    "#     aprx.createMap(name = name,\n",
    "#                   map_type = \"MAP\")"
   ]
  },
  {
   "cell_type": "code",
   "execution_count": 280,
   "metadata": {},
   "outputs": [],
   "source": [
    "# Define which map to update\n",
    "#income = aprx.listMaps(\"SA1 Income\")[0]\n",
    "#income = aprx.listMaps(\"SA2 Income\")[0]\n",
    "income = aprx.listMaps(\"SA3 Income\")[0]"
   ]
  },
  {
   "cell_type": "code",
   "execution_count": 281,
   "metadata": {},
   "outputs": [
    {
     "data": {
      "text/plain": [
       "<arcpy._mp.Layer object at 0x0000024F876B5700>"
      ]
     },
     "execution_count": 281,
     "metadata": {},
     "output_type": "execute_result"
    }
   ],
   "source": [
    "# Add census data to the map\n",
    "income.addDataFromPath(os.path.join(gdb_path, \"updated_sa_1_rings_census\"))\n",
    "income.addDataFromPath(os.path.join(gdb_path, \"updated_sa_2_rings_census\"))\n",
    "income.addDataFromPath(os.path.join(gdb_path, \"updated_sa_3_rings_census\"))"
   ]
  },
  {
   "cell_type": "code",
   "execution_count": 282,
   "metadata": {},
   "outputs": [],
   "source": [
    "# Get layers from map\n",
    "sa_1 = income.listLayers(\"updated_sa_1_rings_census\")[0]\n",
    "sa_2 = income.listLayers(\"updated_sa_2_rings_census\")[0]\n",
    "sa_3 = income.listLayers(\"updated_sa_3_rings_census\")[0]\n",
    "\n",
    "all_sa = [sa_1, sa_2, sa_3]"
   ]
  },
  {
   "cell_type": "code",
   "execution_count": 283,
   "metadata": {},
   "outputs": [],
   "source": [
    "# Manually specify colors from breaking the Viridis color ramp into 5 blocks\n",
    "colors = [[68, 1, 84], # purple\n",
    "          [59, 82, 140], # dark blue\n",
    "          [33, 145, 141], # teal\n",
    "          [93, 201, 99], # green\n",
    "          [254, 232, 37] # yellow\n",
    "         ]"
   ]
  },
  {
   "cell_type": "code",
   "execution_count": 284,
   "metadata": {},
   "outputs": [],
   "source": [
    "# Iterate through the three service areas and add each to the map with updated symbology\n",
    "for lyr in all_sa:\n",
    "    alpha = 30\n",
    "    # Update alpha for the service area that is being highlighted\n",
    "    #if lyr.name == \"updated_sa_1_rings_census\":\n",
    "    #if lyr.name == \"updated_sa_2_rings_census\":\n",
    "    if lyr.name == \"updated_sa_3_rings_census\":\n",
    "        alpha = 100\n",
    "    sym = lyr.symbology\n",
    "    sym.updateRenderer(\"GraduatedColorsRenderer\") \n",
    "    sym.renderer.classificationField = \"Below_Pov_Line_Pct\"\n",
    "    sym.renderer.breakCount = 5\n",
    "    \n",
    "    break_val = 20\n",
    "    i = 0\n",
    "    for brk in sym.renderer.classBreaks:\n",
    "        brk.upperBound = break_val\n",
    "        brk.label = str(break_val - 15) + \" - \" + str(break_val)\n",
    "        break_val += 20\n",
    "        brk.symbol.color = {\"RGB\" : [colors[i][0], colors[i][1], colors[i][2], alpha]}\n",
    "        i += 1\n",
    "            \n",
    "    lyr.symbology = sym"
   ]
  },
  {
   "cell_type": "code",
   "execution_count": null,
   "metadata": {},
   "outputs": [],
   "source": []
  },
  {
   "cell_type": "markdown",
   "metadata": {
    "heading_collapsed": true
   },
   "source": [
    "# Service Area with Disks\n",
    "\n",
    "\"Disks\" means that the inner service areas are included in the outer service areas. For example, the 30 mile service area includes the 0-5 mile service area and the 5-30 mile service area."
   ]
  },
  {
   "cell_type": "markdown",
   "metadata": {
    "hidden": true
   },
   "source": [
    "## Demographic Profiles - Race/Ethnicity"
   ]
  },
  {
   "cell_type": "markdown",
   "metadata": {
    "hidden": true
   },
   "source": [
    "### 5 mile service area"
   ]
  },
  {
   "cell_type": "code",
   "execution_count": 285,
   "metadata": {
    "hidden": true
   },
   "outputs": [],
   "source": [
    "# Create pandas dataframe from feature class\n",
    "sa_1_census_df = pd.DataFrame.spatial.from_featureclass(\"combined_census_sa_1_disks\")"
   ]
  },
  {
   "cell_type": "code",
   "execution_count": 286,
   "metadata": {
    "hidden": true
   },
   "outputs": [],
   "source": [
    "# Caculate percentages of each race for each census tract\n",
    "sa_1_census_df[\"PCT_P0020002\"] = np.round(100 * (sa_1_census_df[\"P0020002\"] / sa_1_census_df[\"P0010001\"]), 2) # pct hispanic or latino\n",
    "sa_1_census_df[\"PCT_P0020005\"] = np.round(100 * (sa_1_census_df[\"P0020005\"] / sa_1_census_df[\"P0010001\"]), 2) # pct white\n",
    "sa_1_census_df[\"PCT_P0020006\"] = np.round(100 * (sa_1_census_df[\"P0020006\"] / sa_1_census_df[\"P0010001\"]), 2) # pct Black\n",
    "sa_1_census_df[\"PCT_P0020007\"] = np.round(100 * (sa_1_census_df[\"P0020007\"] / sa_1_census_df[\"P0010001\"]), 2) # pct american indian/alaska native\n",
    "sa_1_census_df[\"PCT_P0020008\"] = np.round(100 * (sa_1_census_df[\"P0020008\"] / sa_1_census_df[\"P0010001\"]), 2) # pct asian\n",
    "sa_1_census_df[\"PCT_P0020009\"] = np.round(100 * (sa_1_census_df[\"P0020009\"] / sa_1_census_df[\"P0010001\"]), 2) # pct native hawaiian/pacific islander\n",
    "sa_1_census_df[\"PCT_P0020010\"] = np.round(100 * (sa_1_census_df[\"P0020010\"] / sa_1_census_df[\"P0010001\"]), 2) # pct other\n",
    "sa_1_census_df[\"PCT_P0020011\"] = np.round(100 * (sa_1_census_df[\"P0020011\"] / sa_1_census_df[\"P0010001\"]), 2) # pct two+ races"
   ]
  },
  {
   "cell_type": "code",
   "execution_count": 287,
   "metadata": {
    "hidden": true
   },
   "outputs": [],
   "source": [
    "# Calculate total pct of each race for the entire service area\n",
    "cols = [\"P0020002\", # hispanic/latino - not included in the remaining categories\n",
    "        \"P0020005\", # white\n",
    "        \"P0020006\", # Black\n",
    "        \"P0020007\", # american indian/alaska native\n",
    "        \"P0020008\", # asian\n",
    "        \"P0020009\", # native hawaiian\n",
    "        \"P0020010\", # other\n",
    "        \"P0020011\"] # two+ races\n",
    "col_names = [\"Hispanic/Latino\",\n",
    "            \"White\",\n",
    "            \"Black\",\n",
    "            \"American Indian/Alaska Native\",\n",
    "            \"Asian\",\n",
    "            \"Native Hawaiian/Pacific Islander\",\n",
    "            \"Other Race\",\n",
    "            \"Multiracial (2+ Races)\"]\n",
    "\n",
    "summary_df = pd.DataFrame()\n",
    "summary_df[\"Race\"] = col_names\n",
    "\n",
    "total_pop = sum(sa_1_census_df[\"P0010001\"])\n",
    "summary_df[\"PCT_SA_1\"] = [np.round(100 * (sum(sa_1_census_df[col])/total_pop), 2) for col in cols]"
   ]
  },
  {
   "cell_type": "markdown",
   "metadata": {
    "hidden": true
   },
   "source": [
    "### 30 mile service area"
   ]
  },
  {
   "cell_type": "code",
   "execution_count": 288,
   "metadata": {
    "hidden": true
   },
   "outputs": [],
   "source": [
    "# Create pandas dataframe from feature class\n",
    "sa_2_census_df = pd.DataFrame.spatial.from_featureclass(\"sa_2_disks_census\")"
   ]
  },
  {
   "cell_type": "code",
   "execution_count": 289,
   "metadata": {
    "hidden": true
   },
   "outputs": [],
   "source": [
    "# Caculate percentages of each race for each census tract\n",
    "sa_2_census_df[\"PCT_P0020002\"] = np.round(100 * (sa_2_census_df[\"P0020002\"] / sa_2_census_df[\"P0010001\"]), 2) # pct hispanic or latino\n",
    "sa_2_census_df[\"PCT_P0020005\"] = np.round(100 * (sa_2_census_df[\"P0020005\"] / sa_2_census_df[\"P0010001\"]), 2) # pct white\n",
    "sa_2_census_df[\"PCT_P0020006\"] = np.round(100 * (sa_2_census_df[\"P0020006\"] / sa_2_census_df[\"P0010001\"]), 2) # pct Black\n",
    "sa_2_census_df[\"PCT_P0020007\"] = np.round(100 * (sa_2_census_df[\"P0020007\"] / sa_2_census_df[\"P0010001\"]), 2) # pct american indian/alaska native\n",
    "sa_2_census_df[\"PCT_P0020008\"] = np.round(100 * (sa_2_census_df[\"P0020008\"] / sa_2_census_df[\"P0010001\"]), 2) # pct asian\n",
    "sa_2_census_df[\"PCT_P0020009\"] = np.round(100 * (sa_2_census_df[\"P0020009\"] / sa_2_census_df[\"P0010001\"]), 2) # pct native hawaiian/pacific islander\n",
    "sa_2_census_df[\"PCT_P0020010\"] = np.round(100 * (sa_2_census_df[\"P0020010\"] / sa_2_census_df[\"P0010001\"]), 2) # pct other\n",
    "sa_2_census_df[\"PCT_P0020011\"] = np.round(100 * (sa_2_census_df[\"P0020011\"] / sa_2_census_df[\"P0010001\"]), 2) # pct two+ races"
   ]
  },
  {
   "cell_type": "code",
   "execution_count": 290,
   "metadata": {
    "hidden": true
   },
   "outputs": [],
   "source": [
    "# Calculate total pct of each race for the entire service area\n",
    "total_pop = sum(sa_2_census_df[\"P0010001\"])\n",
    "\n",
    "summary_df[\"PCT_SA_2\"] = [np.round(100 * (sum(sa_2_census_df[col])/total_pop), 2) for col in cols]"
   ]
  },
  {
   "cell_type": "markdown",
   "metadata": {
    "hidden": true
   },
   "source": [
    "### 90 mile service area"
   ]
  },
  {
   "cell_type": "code",
   "execution_count": 291,
   "metadata": {
    "hidden": true
   },
   "outputs": [],
   "source": [
    "# Create pandas dataframe from feature class\n",
    "sa_3_census_df = pd.DataFrame.spatial.from_featureclass(\"sa_3_disks_census\") "
   ]
  },
  {
   "cell_type": "code",
   "execution_count": 292,
   "metadata": {
    "hidden": true
   },
   "outputs": [],
   "source": [
    "# Caculate percentages of each race for each census tract\n",
    "sa_3_census_df[\"PCT_P0020002\"] = np.round(100 * (sa_3_census_df[\"P0020002\"] / sa_3_census_df[\"P0010001\"]), 2) # pct hispanic or latino\n",
    "sa_3_census_df[\"PCT_P0020005\"] = np.round(100 * (sa_3_census_df[\"P0020005\"] / sa_3_census_df[\"P0010001\"]), 2) # pct white\n",
    "sa_3_census_df[\"PCT_P0020006\"] = np.round(100 * (sa_3_census_df[\"P0020006\"] / sa_3_census_df[\"P0010001\"]), 2) # pct Black\n",
    "sa_3_census_df[\"PCT_P0020007\"] = np.round(100 * (sa_3_census_df[\"P0020007\"] / sa_3_census_df[\"P0010001\"]), 2) # pct american indian/alaska native\n",
    "sa_3_census_df[\"PCT_P0020008\"] = np.round(100 * (sa_3_census_df[\"P0020008\"] / sa_3_census_df[\"P0010001\"]), 2) # pct asian\n",
    "sa_3_census_df[\"PCT_P0020009\"] = np.round(100 * (sa_3_census_df[\"P0020009\"] / sa_3_census_df[\"P0010001\"]), 2) # pct native hawaiian/pacific islander\n",
    "sa_3_census_df[\"PCT_P0020010\"] = np.round(100 * (sa_3_census_df[\"P0020010\"] / sa_3_census_df[\"P0010001\"]), 2) # pct other\n",
    "sa_3_census_df[\"PCT_P0020011\"] = np.round(100 * (sa_3_census_df[\"P0020011\"] / sa_3_census_df[\"P0010001\"]), 2) # pct two+ races"
   ]
  },
  {
   "cell_type": "code",
   "execution_count": 293,
   "metadata": {
    "hidden": true
   },
   "outputs": [],
   "source": [
    "# Calculate total pct of each race for the entire service area\n",
    "total_pop = sum(sa_3_census_df[\"P0010001\"])\n",
    "\n",
    "summary_df[\"PCT_SA_3\"] = [np.round(100 * (sum(sa_3_census_df[col])/total_pop), 2) for col in cols]"
   ]
  },
  {
   "cell_type": "markdown",
   "metadata": {
    "hidden": true
   },
   "source": [
    "### Entire state of CA"
   ]
  },
  {
   "cell_type": "code",
   "execution_count": 294,
   "metadata": {
    "hidden": true
   },
   "outputs": [],
   "source": [
    "# Create pandas dataframe from feature class\n",
    "ca_census_df = pd.DataFrame.spatial.from_featureclass(\"ca_census\")"
   ]
  },
  {
   "cell_type": "code",
   "execution_count": 295,
   "metadata": {
    "hidden": true
   },
   "outputs": [],
   "source": [
    "# Caculate percentages of each race for each census tract\n",
    "ca_census_df[\"PCT_P0020002\"] = np.round(100 * (ca_census_df[\"P0020002\"] / ca_census_df[\"P0010001\"]), 2) # pct hispanic or latino\n",
    "ca_census_df[\"PCT_P0020005\"] = np.round(100 * (ca_census_df[\"P0020005\"] / ca_census_df[\"P0010001\"]), 2) # pct white\n",
    "ca_census_df[\"PCT_P0020006\"] = np.round(100 * (ca_census_df[\"P0020006\"] / ca_census_df[\"P0010001\"]), 2) # pct Black\n",
    "ca_census_df[\"PCT_P0020007\"] = np.round(100 * (ca_census_df[\"P0020007\"] / ca_census_df[\"P0010001\"]), 2) # pct american indian/alaska native\n",
    "ca_census_df[\"PCT_P0020008\"] = np.round(100 * (ca_census_df[\"P0020008\"] / ca_census_df[\"P0010001\"]), 2) # pct asian\n",
    "ca_census_df[\"PCT_P0020009\"] = np.round(100 * (ca_census_df[\"P0020009\"] / ca_census_df[\"P0010001\"]), 2) # pct native hawaiian/pacific islander\n",
    "ca_census_df[\"PCT_P0020010\"] = np.round(100 * (ca_census_df[\"P0020010\"] / ca_census_df[\"P0010001\"]), 2) # pct other\n",
    "ca_census_df[\"PCT_P0020011\"] = np.round(100 * (ca_census_df[\"P0020011\"] / ca_census_df[\"P0010001\"]), 2) # pct two+ races"
   ]
  },
  {
   "cell_type": "code",
   "execution_count": 296,
   "metadata": {
    "hidden": true
   },
   "outputs": [],
   "source": [
    "# Calculate total pct of each race for the entire state\n",
    "total_pop = sum(ca_census_df[\"P0010001\"])\n",
    "\n",
    "summary_df[\"PCT_CA\"] = [np.round(100 * (sum(ca_census_df[col])/total_pop), 2) for col in cols]"
   ]
  },
  {
   "cell_type": "code",
   "execution_count": 297,
   "metadata": {
    "hidden": true
   },
   "outputs": [
    {
     "data": {
      "text/html": [
       "<div>\n",
       "<style scoped>\n",
       "    .dataframe tbody tr th:only-of-type {\n",
       "        vertical-align: middle;\n",
       "    }\n",
       "\n",
       "    .dataframe tbody tr th {\n",
       "        vertical-align: top;\n",
       "    }\n",
       "\n",
       "    .dataframe thead th {\n",
       "        text-align: right;\n",
       "    }\n",
       "</style>\n",
       "<table border=\"1\" class=\"dataframe\">\n",
       "  <thead>\n",
       "    <tr style=\"text-align: right;\">\n",
       "      <th></th>\n",
       "      <th>Race</th>\n",
       "      <th>PCT_SA_1</th>\n",
       "      <th>PCT_SA_2</th>\n",
       "      <th>PCT_SA_3</th>\n",
       "      <th>PCT_CA</th>\n",
       "    </tr>\n",
       "  </thead>\n",
       "  <tbody>\n",
       "    <tr>\n",
       "      <th>0</th>\n",
       "      <td>Hispanic/Latino</td>\n",
       "      <td>57.23</td>\n",
       "      <td>53.34</td>\n",
       "      <td>45.82</td>\n",
       "      <td>39.40</td>\n",
       "    </tr>\n",
       "    <tr>\n",
       "      <th>1</th>\n",
       "      <td>White</td>\n",
       "      <td>23.27</td>\n",
       "      <td>20.57</td>\n",
       "      <td>29.74</td>\n",
       "      <td>34.69</td>\n",
       "    </tr>\n",
       "    <tr>\n",
       "      <th>2</th>\n",
       "      <td>Black</td>\n",
       "      <td>2.74</td>\n",
       "      <td>5.71</td>\n",
       "      <td>6.16</td>\n",
       "      <td>5.36</td>\n",
       "    </tr>\n",
       "    <tr>\n",
       "      <th>3</th>\n",
       "      <td>American Indian/Alaska Native</td>\n",
       "      <td>0.25</td>\n",
       "      <td>0.20</td>\n",
       "      <td>0.26</td>\n",
       "      <td>0.39</td>\n",
       "    </tr>\n",
       "    <tr>\n",
       "      <th>4</th>\n",
       "      <td>Asian</td>\n",
       "      <td>13.42</td>\n",
       "      <td>16.89</td>\n",
       "      <td>13.82</td>\n",
       "      <td>15.12</td>\n",
       "    </tr>\n",
       "    <tr>\n",
       "      <th>5</th>\n",
       "      <td>Native Hawaiian/Pacific Islander</td>\n",
       "      <td>0.09</td>\n",
       "      <td>0.20</td>\n",
       "      <td>0.24</td>\n",
       "      <td>0.35</td>\n",
       "    </tr>\n",
       "    <tr>\n",
       "      <th>6</th>\n",
       "      <td>Other Race</td>\n",
       "      <td>0.49</td>\n",
       "      <td>0.51</td>\n",
       "      <td>0.55</td>\n",
       "      <td>0.57</td>\n",
       "    </tr>\n",
       "    <tr>\n",
       "      <th>7</th>\n",
       "      <td>Multiracial (2+ Races)</td>\n",
       "      <td>2.51</td>\n",
       "      <td>2.58</td>\n",
       "      <td>3.41</td>\n",
       "      <td>4.12</td>\n",
       "    </tr>\n",
       "  </tbody>\n",
       "</table>\n",
       "</div>"
      ],
      "text/plain": [
       "                               Race  PCT_SA_1  PCT_SA_2  PCT_SA_3  PCT_CA\n",
       "0                   Hispanic/Latino     57.23     53.34     45.82   39.40\n",
       "1                             White     23.27     20.57     29.74   34.69\n",
       "2                             Black      2.74      5.71      6.16    5.36\n",
       "3     American Indian/Alaska Native      0.25      0.20      0.26    0.39\n",
       "4                             Asian     13.42     16.89     13.82   15.12\n",
       "5  Native Hawaiian/Pacific Islander      0.09      0.20      0.24    0.35\n",
       "6                        Other Race      0.49      0.51      0.55    0.57\n",
       "7            Multiracial (2+ Races)      2.51      2.58      3.41    4.12"
      ]
     },
     "execution_count": 297,
     "metadata": {},
     "output_type": "execute_result"
    }
   ],
   "source": [
    "# View summary dataframe\n",
    "summary_df"
   ]
  },
  {
   "cell_type": "markdown",
   "metadata": {
    "hidden": true
   },
   "source": [
    "## Demographic Profiles - Education"
   ]
  },
  {
   "cell_type": "code",
   "execution_count": 298,
   "metadata": {
    "hidden": true
   },
   "outputs": [],
   "source": [
    "# Create dataframes from feature classes\n",
    "sa_1_census_df = pd.DataFrame.spatial.from_featureclass(\"combined_census_sa_1_disks\")\n",
    "sa_2_census_df = pd.DataFrame.spatial.from_featureclass(\"combined_census_sa_2_disks\")\n",
    "sa_3_census_df = pd.DataFrame.spatial.from_featureclass(\"combined_census_sa_3_disks\")\n",
    "ca_census_df = pd.DataFrame.spatial.from_featureclass(\"combined_ca_census\")"
   ]
  },
  {
   "cell_type": "code",
   "execution_count": 299,
   "metadata": {
    "hidden": true
   },
   "outputs": [],
   "source": [
    "# Create empty dataframe to hold summary information\n",
    "summary_df = pd.DataFrame()"
   ]
  },
  {
   "cell_type": "code",
   "execution_count": 300,
   "metadata": {
    "hidden": true
   },
   "outputs": [],
   "source": [
    "edu_cols = [\"AMRZE022\", # Bachelor's degree \n",
    "            \"AMRZE023\", # Master's degree \n",
    "            \"AMRZE024\", # Professional school degree \n",
    "            \"AMRZE025\"] # Doctorate degree "
   ]
  },
  {
   "cell_type": "code",
   "execution_count": 301,
   "metadata": {
    "hidden": true
   },
   "outputs": [],
   "source": [
    "sa_1_census_df[\"Bach_Higher_Count\"] = sa_1_census_df[edu_cols].sum(axis = 1)\n",
    "sa_2_census_df[\"Bach_Higher_Count\"] = sa_2_census_df[edu_cols].sum(axis = 1)\n",
    "sa_3_census_df[\"Bach_Higher_Count\"] = sa_3_census_df[edu_cols].sum(axis = 1)\n",
    "ca_census_df[\"Bach_Higher_Count\"] = ca_census_df[edu_cols].sum(axis = 1)"
   ]
  },
  {
   "cell_type": "code",
   "execution_count": 302,
   "metadata": {
    "hidden": true
   },
   "outputs": [],
   "source": [
    "summary_df[\"PCT_SA_1\"] = [np.round(100 * (sum(sa_1_census_df[\"Bach_Higher_Count\"])/sum(sa_1_census_df[\"AMRZE001\"])), 2)]\n",
    "summary_df[\"PCT_SA_2\"] = [np.round(100 * (sum(sa_2_census_df[\"Bach_Higher_Count\"])/sum(sa_2_census_df[\"AMRZE001\"])), 2)]\n",
    "summary_df[\"PCT_SA_3\"] = [np.round(100 * (sum(sa_3_census_df[\"Bach_Higher_Count\"])/sum(sa_3_census_df[\"AMRZE001\"])), 2)]\n",
    "summary_df[\"PCT_CA\"] = [np.round(100 * (sum(ca_census_df[\"Bach_Higher_Count\"])/sum(ca_census_df[\"AMRZE001\"])), 2)]"
   ]
  },
  {
   "cell_type": "code",
   "execution_count": 303,
   "metadata": {
    "hidden": true
   },
   "outputs": [
    {
     "data": {
      "text/html": [
       "<div>\n",
       "<style scoped>\n",
       "    .dataframe tbody tr th:only-of-type {\n",
       "        vertical-align: middle;\n",
       "    }\n",
       "\n",
       "    .dataframe tbody tr th {\n",
       "        vertical-align: top;\n",
       "    }\n",
       "\n",
       "    .dataframe thead th {\n",
       "        text-align: right;\n",
       "    }\n",
       "</style>\n",
       "<table border=\"1\" class=\"dataframe\">\n",
       "  <thead>\n",
       "    <tr style=\"text-align: right;\">\n",
       "      <th></th>\n",
       "      <th>PCT_SA_1</th>\n",
       "      <th>PCT_SA_2</th>\n",
       "      <th>PCT_SA_3</th>\n",
       "      <th>PCT_CA</th>\n",
       "    </tr>\n",
       "  </thead>\n",
       "  <tbody>\n",
       "    <tr>\n",
       "      <th>0</th>\n",
       "      <td>28.96</td>\n",
       "      <td>28.77</td>\n",
       "      <td>32.46</td>\n",
       "      <td>34.72</td>\n",
       "    </tr>\n",
       "  </tbody>\n",
       "</table>\n",
       "</div>"
      ],
      "text/plain": [
       "   PCT_SA_1  PCT_SA_2  PCT_SA_3  PCT_CA\n",
       "0     28.96     28.77     32.46   34.72"
      ]
     },
     "execution_count": 303,
     "metadata": {},
     "output_type": "execute_result"
    }
   ],
   "source": [
    "summary_df"
   ]
  },
  {
   "cell_type": "markdown",
   "metadata": {
    "hidden": true
   },
   "source": [
    "## Demographic Profiles - Income"
   ]
  },
  {
   "cell_type": "code",
   "execution_count": 304,
   "metadata": {
    "hidden": true
   },
   "outputs": [],
   "source": [
    "# Create dataframes from feature classes\n",
    "sa_1_census_df = pd.DataFrame.spatial.from_featureclass(\"combined_census_sa_1_disks\")\n",
    "sa_2_census_df = pd.DataFrame.spatial.from_featureclass(\"combined_census_sa_2_disks\")\n",
    "sa_3_census_df = pd.DataFrame.spatial.from_featureclass(\"combined_census_sa_3_disks\")\n",
    "ca_census_df = pd.DataFrame.spatial.from_featureclass(\"combined_ca_census\")"
   ]
  },
  {
   "cell_type": "code",
   "execution_count": 305,
   "metadata": {
    "hidden": true
   },
   "outputs": [],
   "source": [
    "# Create empty dataframe to hold summary information\n",
    "summary_df = pd.DataFrame()"
   ]
  },
  {
   "cell_type": "code",
   "execution_count": 306,
   "metadata": {
    "hidden": true
   },
   "outputs": [],
   "source": [
    "inc_cols = [\"AMZME002\", # Under .50\n",
    "            \"AMZME003\"] # .50 - .99 "
   ]
  },
  {
   "cell_type": "code",
   "execution_count": 307,
   "metadata": {
    "hidden": true
   },
   "outputs": [],
   "source": [
    "sa_1_census_df[\"Below_Pov_Line_Count\"] = sa_1_census_df[inc_cols].sum(axis = 1)\n",
    "sa_2_census_df[\"Below_Pov_Line_Count\"] = sa_2_census_df[inc_cols].sum(axis = 1)\n",
    "sa_3_census_df[\"Below_Pov_Line_Count\"] = sa_3_census_df[inc_cols].sum(axis = 1)\n",
    "ca_census_df[\"Below_Pov_Line_Count\"] = ca_census_df[inc_cols].sum(axis = 1)"
   ]
  },
  {
   "cell_type": "code",
   "execution_count": 308,
   "metadata": {
    "hidden": true
   },
   "outputs": [],
   "source": [
    "sa_1_census_df[\"Below_Pov_Line_Pct\"] = 100 * (sa_1_census_df[\"Below_Pov_Line_Count\"] / sa_1_census_df[\"AMZME001\"])\n",
    "sa_2_census_df[\"Below_Pov_Line_Pct\"] = 100 * (sa_2_census_df[\"Below_Pov_Line_Count\"] / sa_2_census_df[\"AMZME001\"])\n",
    "sa_3_census_df[\"Below_Pov_Line_Pct\"] = 100 * (sa_3_census_df[\"Below_Pov_Line_Count\"] / sa_3_census_df[\"AMZME001\"])"
   ]
  },
  {
   "cell_type": "code",
   "execution_count": 309,
   "metadata": {
    "hidden": true
   },
   "outputs": [],
   "source": [
    "summary_df[\"PCT_SA_1\"] = [np.round(100 * (sum(sa_1_census_df[\"Below_Pov_Line_Count\"])/sum(sa_1_census_df[\"AMZME001\"])), 2)]\n",
    "summary_df[\"PCT_SA_2\"] = [np.round(100 * (sum(sa_2_census_df[\"Below_Pov_Line_Count\"])/sum(sa_2_census_df[\"AMZME001\"])), 2)]\n",
    "summary_df[\"PCT_SA_3\"] = [np.round(100 * (sum(sa_3_census_df[\"Below_Pov_Line_Count\"])/sum(sa_3_census_df[\"AMZME001\"])), 2)]\n",
    "summary_df[\"PCT_CA\"] = [np.round(100 * (sum(ca_census_df[\"Below_Pov_Line_Count\"])/sum(ca_census_df[\"AMZME001\"])), 2)]"
   ]
  },
  {
   "cell_type": "code",
   "execution_count": 310,
   "metadata": {
    "hidden": true
   },
   "outputs": [
    {
     "data": {
      "text/html": [
       "<div>\n",
       "<style scoped>\n",
       "    .dataframe tbody tr th:only-of-type {\n",
       "        vertical-align: middle;\n",
       "    }\n",
       "\n",
       "    .dataframe tbody tr th {\n",
       "        vertical-align: top;\n",
       "    }\n",
       "\n",
       "    .dataframe thead th {\n",
       "        text-align: right;\n",
       "    }\n",
       "</style>\n",
       "<table border=\"1\" class=\"dataframe\">\n",
       "  <thead>\n",
       "    <tr style=\"text-align: right;\">\n",
       "      <th></th>\n",
       "      <th>PCT_SA_1</th>\n",
       "      <th>PCT_SA_2</th>\n",
       "      <th>PCT_SA_3</th>\n",
       "      <th>PCT_CA</th>\n",
       "    </tr>\n",
       "  </thead>\n",
       "  <tbody>\n",
       "    <tr>\n",
       "      <th>0</th>\n",
       "      <td>10.43</td>\n",
       "      <td>14.25</td>\n",
       "      <td>12.99</td>\n",
       "      <td>12.58</td>\n",
       "    </tr>\n",
       "  </tbody>\n",
       "</table>\n",
       "</div>"
      ],
      "text/plain": [
       "   PCT_SA_1  PCT_SA_2  PCT_SA_3  PCT_CA\n",
       "0     10.43     14.25     12.99   12.58"
      ]
     },
     "execution_count": 310,
     "metadata": {},
     "output_type": "execute_result"
    }
   ],
   "source": [
    "summary_df"
   ]
  }
 ],
 "metadata": {
  "kernelspec": {
   "display_name": "ArcGISPro",
   "language": "Python",
   "name": "python3"
  },
  "language_info": {
   "file_extension": ".py",
   "name": "python",
   "version": "3"
  }
 },
 "nbformat": 4,
 "nbformat_minor": 2
}
